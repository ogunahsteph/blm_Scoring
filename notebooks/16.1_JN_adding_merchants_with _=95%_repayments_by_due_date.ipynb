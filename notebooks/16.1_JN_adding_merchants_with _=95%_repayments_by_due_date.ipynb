{
 "cells": [
  {
   "cell_type": "code",
   "execution_count": 1,
   "id": "feb80dd6",
   "metadata": {},
   "outputs": [],
   "source": [
    "import pandas as pd\n",
    "import numpy as np\n",
    "import datetime\n",
    "\n",
    "import psycopg2\n",
    "import pymysql\n",
    "\n",
    "from datetime import timedelta"
   ]
  },
  {
   "cell_type": "code",
   "execution_count": 2,
   "id": "f80ddae1",
   "metadata": {},
   "outputs": [],
   "source": [
    "pd.set_option('display.max_rows', 500)\n",
    "pd.set_option('display.max_columns', 500)\n",
    "pd.set_option('display.width', 1000)\n",
    "\n",
    "pd.set_option('display.float_format', lambda x: '%.3f' % x)"
   ]
  },
  {
   "cell_type": "code",
   "execution_count": 3,
   "id": "f7738dee",
   "metadata": {},
   "outputs": [],
   "source": [
    "host = '157.245.248.249'\n",
    "port = int(5432)\n",
    "dbname = 'ubuntu'\n",
    "user = 'ubuntuuser'\n",
    "password = '97cD8$pt@'\n",
    "\n",
    "\n",
    "def get_query_results_postgres():\n",
    "    with psycopg2.connect(host = host,\n",
    "                          port = port,\n",
    "                          database = dbname,\n",
    "                          user = user,\n",
    "                          password = password) as conn:\n",
    "        sql = \"SELECT * FROM bloomlive.loans_fact_table_materialized_summary_view\"\n",
    "        df = pd.read_sql(sql, conn)\n",
    "        \n",
    "    return df\n",
    "\n",
    "    conn.close()"
   ]
  },
  {
   "cell_type": "code",
   "execution_count": null,
   "id": "c608345f",
   "metadata": {},
   "outputs": [
    {
     "name": "stderr",
     "output_type": "stream",
     "text": [
      "/opt/tljh/user/lib/python3.9/site-packages/pandas/io/sql.py:758: UserWarning: pandas only support SQLAlchemy connectable(engine/connection) ordatabase string URI or sqlite3 DBAPI2 connectionother DBAPI2 objects are not tested, please consider using SQLAlchemy\n",
      "  warnings.warn(\n"
     ]
    }
   ],
   "source": [
    "loans = get_query_results_postgres()\n",
    "\n",
    "loans.head(2)"
   ]
  },
  {
   "cell_type": "code",
   "execution_count": null,
   "id": "62d324b0",
   "metadata": {},
   "outputs": [],
   "source": [
    "loans = loans[loans['bloom_version'] == 2]\n",
    "\n",
    "loans = loans[(loans['loan_status'] == 300) | (loans['loan_status'] == 600)| (loans['loan_status'] == 700)]\n",
    "\n",
    "loans.shape"
   ]
  },
  {
   "cell_type": "code",
   "execution_count": null,
   "id": "49508376",
   "metadata": {},
   "outputs": [],
   "source": [
    "host = '167.71.47.216'\n",
    "port = int(3306)\n",
    "user = 'tableau_reports'\n",
    "password = 'change@123'\n",
    "dbname = 'mifostenant-safaricom'\n",
    "\n",
    "def get_query_results_mysql():\n",
    "    with pymysql.connect(host = host,\n",
    "                         port = port,\n",
    "                         database = dbname,\n",
    "                         user = user,\n",
    "                         password = password) as conn:\n",
    "        sql = \"SELECT * FROM m_loan_transaction\"\n",
    "        df = pd.read_sql(sql, conn)\n",
    "        \n",
    "    return df\n",
    "\n",
    "    conn.close()"
   ]
  },
  {
   "cell_type": "code",
   "execution_count": null,
   "id": "003fe7c5",
   "metadata": {},
   "outputs": [],
   "source": [
    "df_transactions = get_query_results_mysql()\n",
    "\n",
    "df_transactions.head(2)"
   ]
  },
  {
   "cell_type": "code",
   "execution_count": null,
   "id": "377a57f0",
   "metadata": {},
   "outputs": [],
   "source": [
    "# filtering df to only contain repayments\n",
    "df_transactions = df_transactions[(df_transactions['transaction_type_enum'] == 2) & (df_transactions['is_reversed'] == 0)]\n",
    "\n",
    "df_transactions.shape"
   ]
  },
  {
   "cell_type": "code",
   "execution_count": null,
   "id": "37f3a1cb",
   "metadata": {},
   "outputs": [],
   "source": [
    "df_transactions.head(2)"
   ]
  },
  {
   "cell_type": "code",
   "execution_count": null,
   "id": "23c1533b",
   "metadata": {},
   "outputs": [],
   "source": [
    "#renaming loan_id to loan_mifos_id\n",
    "df_transactions.rename(columns = {'loan_id':'loan_mifos_id'}, inplace = True)\n",
    "\n",
    "# grouping loan_mifos_id to find the max transaction date\n",
    "transactions = df_transactions.groupby(['loan_mifos_id'], as_index=False)['transaction_date'].max()\n",
    "transactions = transactions.rename(columns={'transaction_date':'max_transaction_date'})\n",
    "\n",
    "transactions.head(2)"
   ]
  },
  {
   "cell_type": "code",
   "execution_count": null,
   "id": "3b712a22",
   "metadata": {},
   "outputs": [],
   "source": [
    "transactions.shape"
   ]
  },
  {
   "cell_type": "code",
   "execution_count": null,
   "id": "d8ff8de4",
   "metadata": {},
   "outputs": [],
   "source": [
    "#changing the dates column to datetime datatype\n",
    "loans['disbursed_on_date'] = pd.to_datetime(loans['disbursed_on_date'])\n",
    "\n",
    "loans['expected_matured_on_date'] = pd.to_datetime(loans['expected_matured_on_date'])\n",
    "\n",
    "#changing the dates column to datetime datatype\n",
    "transactions['max_transaction_date'] = pd.to_datetime(transactions['max_transaction_date'])"
   ]
  },
  {
   "cell_type": "code",
   "execution_count": null,
   "id": "93fced06",
   "metadata": {},
   "outputs": [],
   "source": [
    "transactions.shape"
   ]
  },
  {
   "cell_type": "code",
   "execution_count": null,
   "id": "eba95da0",
   "metadata": {},
   "outputs": [],
   "source": [
    "# merging df_transactions with defaulters\n",
    "df = pd.merge(loans, transactions, on = \"loan_mifos_id\", how = \"left\")\n",
    "df.head(2)"
   ]
  },
  {
   "cell_type": "code",
   "execution_count": null,
   "id": "2808ba66",
   "metadata": {},
   "outputs": [],
   "source": [
    "df.shape"
   ]
  },
  {
   "cell_type": "code",
   "execution_count": null,
   "id": "e6986d87",
   "metadata": {},
   "outputs": [],
   "source": [
    "#create due_date fixed column to ensure due date tallies with the term frequency for each loan\n",
    "\n",
    "df[\"due_date_fixed\"] = df[\"disbursed_on_date\"] + pd.to_timedelta(df[\"term_frequency\"], unit='d')\n",
    "\n",
    "df['due_date_fixed'] = pd.to_datetime(df['due_date_fixed'], errors = 'coerce')\n",
    "\n",
    "df.head(2)"
   ]
  },
  {
   "cell_type": "code",
   "execution_count": null,
   "id": "70235c91",
   "metadata": {},
   "outputs": [],
   "source": [
    "df['curr_time'] = '2022-08-31'\n",
    "\n",
    "df['curr_time'] = pd.to_datetime(df['curr_time'], errors = 'coerce')\n",
    "\n",
    "df.head()"
   ]
  },
  {
   "cell_type": "code",
   "execution_count": null,
   "id": "de5f3e8f",
   "metadata": {},
   "outputs": [],
   "source": [
    "def calc_days_past_due(df):\n",
    "        \n",
    "    res = 0\n",
    "    loan_status = df['loan_status']\n",
    "    expected_matured_on_date = df['expected_matured_on_date']\n",
    "    max_transaction_date = df['max_transaction_date']\n",
    "    curr_time = df['curr_time']\n",
    "    \n",
    "    if (loan_status == 600) and (max_transaction_date > expected_matured_on_date):\n",
    "        res = (max_transaction_date - expected_matured_on_date).days\n",
    "    elif (loan_status == 700) and (max_transaction_date > expected_matured_on_date):\n",
    "        res = (max_transaction_date - expected_matured_on_date).days\n",
    "    elif (loan_status == 300) and (curr_time > expected_matured_on_date):\n",
    "        res = (curr_time - expected_matured_on_date).days\n",
    "        \n",
    "    return res if res > 0 else res"
   ]
  },
  {
   "cell_type": "code",
   "execution_count": null,
   "id": "1a0e8478",
   "metadata": {},
   "outputs": [],
   "source": [
    "df['days_past_due'] = df.apply(lambda x: calc_days_past_due(x), axis = 1)\n",
    "\n",
    "df.head(2)"
   ]
  },
  {
   "cell_type": "code",
   "execution_count": null,
   "id": "6a6389ef",
   "metadata": {},
   "outputs": [],
   "source": [
    "def calc_end_rollover_date(df):\n",
    "    tenure = df['repay_every']\n",
    "    expected_matured_on_date = df['expected_matured_on_date']\n",
    "    \n",
    "    if tenure == 21:\n",
    "        res = expected_matured_on_date + pd.to_timedelta(5, unit='d')\n",
    "    elif tenure == 7:\n",
    "        res = expected_matured_on_date + pd.to_timedelta(3, unit='d')\n",
    "    elif tenure == 1:\n",
    "        res = expected_matured_on_date + pd.to_timedelta(1, unit='d')\n",
    "        \n",
    "    return res"
   ]
  },
  {
   "cell_type": "code",
   "execution_count": null,
   "id": "87f48881",
   "metadata": {},
   "outputs": [],
   "source": [
    "df['end_rollover_date'] = df.apply(lambda x: calc_end_rollover_date(x), axis = 1)\n",
    "\n",
    "df.head(2)"
   ]
  },
  {
   "cell_type": "code",
   "execution_count": null,
   "id": "3fdecbd8",
   "metadata": {},
   "outputs": [],
   "source": [
    "#create days past due date column to ensure due date tallies with the term frequency for each loan\n",
    "\n",
    "df[\"dpd_90_date\"] = df[\"end_rollover_date\"] + pd.to_timedelta(90, unit='d')\n",
    "\n",
    "df['dpd_90_date'] = pd.to_datetime(df['dpd_90_date'])\n",
    "\n",
    "df.head(2)"
   ]
  },
  {
   "cell_type": "code",
   "execution_count": null,
   "id": "4a935c47",
   "metadata": {},
   "outputs": [],
   "source": [
    "df = df[['loan_mifos_id', 'store_number', 'term_frequency', 'principal_disbursed', 'curr_time', 'disbursed_on_date', 'total_expected_repayment', 'total_repayment', 'due_date_fixed', 'expected_matured_on_date', 'max_transaction_date', 'due_date_fixed', 'end_rollover_date', 'dpd_90_date', 'days_past_due']]\n",
    "\n",
    "df.head(2)"
   ]
  },
  {
   "cell_type": "code",
   "execution_count": null,
   "id": "e3dc7ff7",
   "metadata": {},
   "outputs": [],
   "source": [
    "df_transactions = df_transactions[['loan_mifos_id', 'transaction_date', 'amount']]\n",
    "\n",
    "df_transactions.head(2)"
   ]
  },
  {
   "cell_type": "code",
   "execution_count": null,
   "id": "17d7c50c",
   "metadata": {},
   "outputs": [],
   "source": [
    "df2 = pd.merge(df, df_transactions, on = 'loan_mifos_id', how = 'left')\n",
    "\n",
    "df2.head(2)"
   ]
  },
  {
   "cell_type": "code",
   "execution_count": null,
   "id": "23a59d10",
   "metadata": {},
   "outputs": [],
   "source": [
    "df2.info()"
   ]
  },
  {
   "cell_type": "code",
   "execution_count": null,
   "id": "46c54401",
   "metadata": {
    "scrolled": true
   },
   "outputs": [],
   "source": [
    "df2['transaction_date'] = pd.to_datetime(df2['transaction_date'], errors='coerce')\n",
    "\n",
    "df2['disbursed_on_date'] = pd.to_datetime(df2['disbursed_on_date'], errors='coerce')\n",
    "\n",
    "df2['expected_matured_on_date'] = pd.to_datetime(df2['expected_matured_on_date'], errors='coerce')\n",
    "\n",
    "df2['end_rollover_date'] = pd.to_datetime(df2['end_rollover_date'], errors='coerce')\n",
    "\n",
    "df2['dpd_90_date'] = pd.to_datetime(df2['dpd_90_date'], errors='coerce')\n",
    "\n",
    "df2['curr_time'] = pd.to_datetime(df2['curr_time'], errors='coerce')"
   ]
  },
  {
   "cell_type": "code",
   "execution_count": null,
   "id": "fe807c04",
   "metadata": {},
   "outputs": [],
   "source": [
    "def calc_trans_by_due_date(df):\n",
    "    \n",
    "    expected_matured_on_date = df['expected_matured_on_date']\n",
    "    transaction_date = df['transaction_date']\n",
    "    \n",
    "    if transaction_date <= expected_matured_on_date:\n",
    "        return 'yes'\n",
    "    else:\n",
    "        return 'no'\n",
    "    \n",
    "    \n",
    "def calc_trans_by_end_rollover_date(df):\n",
    "    \n",
    "    end_rollover_date = df['end_rollover_date']\n",
    "    transaction_date = df['transaction_date']\n",
    "    \n",
    "    if transaction_date <= end_rollover_date:\n",
    "        return 'yes'\n",
    "    else:\n",
    "        return 'no'\n",
    "    \n",
    "    \n",
    "def calc_trans_by_dpd_90_date(df):\n",
    "    \n",
    "    dpd_90_date = df['dpd_90_date']\n",
    "    transaction_date = df['transaction_date']\n",
    "    \n",
    "    if transaction_date <= dpd_90_date:\n",
    "        return 'yes'\n",
    "    else:\n",
    "        return 'no'"
   ]
  },
  {
   "cell_type": "code",
   "execution_count": null,
   "id": "8e7bf24e",
   "metadata": {},
   "outputs": [],
   "source": [
    "df2['transaction_by_due_date'] = df2.apply(lambda x: calc_trans_by_due_date(x), axis = 1)\n",
    "df2['transaction_by_end_rollover_date'] = df2.apply(lambda x: calc_trans_by_end_rollover_date(x), axis = 1)\n",
    "df2['transaction_by_dpd_90_date'] = df2.apply(lambda x: calc_trans_by_dpd_90_date(x), axis = 1)\n",
    "\n",
    "\n",
    "df2.head(2)"
   ]
  },
  {
   "cell_type": "code",
   "execution_count": null,
   "id": "a52de4e8",
   "metadata": {},
   "outputs": [],
   "source": [
    "df2.shape"
   ]
  },
  {
   "cell_type": "code",
   "execution_count": null,
   "id": "e85f220c",
   "metadata": {},
   "outputs": [],
   "source": [
    "trans_by_due_date = df2[df2['transaction_by_due_date'] == 'yes']\n",
    "\n",
    "# grouping loan_mifos_id to find amount transacted by due date\n",
    "amount_trans_by_due_date = trans_by_due_date.groupby(['loan_mifos_id'], as_index=False)['amount'].sum()\n",
    "amount_trans_by_due_date = amount_trans_by_due_date.rename(columns={'amount':'amount_trans_by_due_date'})\n",
    "\n",
    "amount_trans_by_due_date.head(2)"
   ]
  },
  {
   "cell_type": "code",
   "execution_count": null,
   "id": "7faa7449",
   "metadata": {},
   "outputs": [],
   "source": [
    "amount_trans_by_due_date.shape"
   ]
  },
  {
   "cell_type": "code",
   "execution_count": null,
   "id": "3691aab7",
   "metadata": {},
   "outputs": [],
   "source": [
    "transaction_by_end_rollover_date = df2[df2['transaction_by_end_rollover_date'] == 'yes']\n",
    "\n",
    "# grouping loan_mifos_id to find amount transacted by due date\n",
    "amount_transaction_by_end_rollover_date = transaction_by_end_rollover_date.groupby(['loan_mifos_id'], as_index=False)['amount'].sum()\n",
    "amount_transaction_by_end_rollover_date = amount_transaction_by_end_rollover_date.rename(columns={'amount':'amount_transaction_by_end_rollover_date'})\n",
    "\n",
    "amount_transaction_by_end_rollover_date.head(2)"
   ]
  },
  {
   "cell_type": "code",
   "execution_count": null,
   "id": "4a030d60",
   "metadata": {},
   "outputs": [],
   "source": [
    "amount_transaction_by_end_rollover_date.shape"
   ]
  },
  {
   "cell_type": "code",
   "execution_count": null,
   "id": "8b41443a",
   "metadata": {},
   "outputs": [],
   "source": [
    "transaction_by_dpd_90_date = df2[df2['transaction_by_dpd_90_date'] == 'yes']\n",
    "\n",
    "# grouping loan_mifos_id to find amount transacted by due date\n",
    "amount_transaction_by_dpd_90_date = transaction_by_dpd_90_date.groupby(['loan_mifos_id'], as_index=False)['amount'].sum()\n",
    "amount_transaction_by_dpd_90_date = amount_transaction_by_dpd_90_date.rename(columns={'amount':'amount_transaction_by_dpd_90_date'})\n",
    "\n",
    "amount_transaction_by_dpd_90_date.head(2)"
   ]
  },
  {
   "cell_type": "code",
   "execution_count": null,
   "id": "b772e69c",
   "metadata": {},
   "outputs": [],
   "source": [
    "amount_transaction_by_dpd_90_date.shape"
   ]
  },
  {
   "cell_type": "code",
   "execution_count": null,
   "id": "bb0d27ec",
   "metadata": {},
   "outputs": [],
   "source": [
    "final_df = pd.merge(amount_trans_by_due_date, amount_transaction_by_end_rollover_date, on = 'loan_mifos_id', how = 'outer')\n",
    "final_df = pd.merge(final_df, amount_transaction_by_dpd_90_date, on = 'loan_mifos_id', how = 'outer')\n",
    "final_df = final_df.fillna(0)\n",
    "\n",
    "final_df.head(2)"
   ]
  },
  {
   "cell_type": "code",
   "execution_count": null,
   "id": "da148b78",
   "metadata": {},
   "outputs": [],
   "source": [
    "df_loans = df[['loan_mifos_id', 'store_number', 'term_frequency', 'principal_disbursed', 'curr_time', 'disbursed_on_date', 'expected_matured_on_date', 'end_rollover_date', 'dpd_90_date', 'total_expected_repayment']]\n",
    "final_df = pd.merge(df_loans, final_df, on = 'loan_mifos_id', how = 'left')\n",
    "final_df = final_df.fillna(0)\n",
    "\n",
    "final_df.head(2)"
   ]
  },
  {
   "cell_type": "code",
   "execution_count": null,
   "id": "8a698645",
   "metadata": {},
   "outputs": [],
   "source": [
    "final_df.shape"
   ]
  },
  {
   "cell_type": "code",
   "execution_count": null,
   "id": "dddf14c7",
   "metadata": {},
   "outputs": [],
   "source": [
    "total_principal_disbursed = final_df.groupby(['store_number'], as_index=False)['principal_disbursed'].sum()\n",
    "total_principal_disbursed = total_principal_disbursed.rename(columns={'principal_disbursed':'total_principal_disbursed'})\n",
    "\n",
    "total_principal_disbursed.head()"
   ]
  },
  {
   "cell_type": "code",
   "execution_count": null,
   "id": "b9e1ce4f",
   "metadata": {},
   "outputs": [],
   "source": [
    "total_principal_disbursed.shape"
   ]
  },
  {
   "cell_type": "code",
   "execution_count": null,
   "id": "16c6cb7b",
   "metadata": {},
   "outputs": [],
   "source": [
    "total_repayments_by_due_date = final_df.groupby(['store_number'], as_index=False)['amount_trans_by_due_date'].sum()\n",
    "total_repayments_by_due_date = total_repayments_by_due_date.rename(columns={'amount_trans_by_due_date':'total_repayments_by_due_date'})\n",
    "\n",
    "total_repayments_by_due_date.head()"
   ]
  },
  {
   "cell_type": "code",
   "execution_count": null,
   "id": "cb6a9f1b",
   "metadata": {},
   "outputs": [],
   "source": [
    "total_repayments_by_due_date.shape"
   ]
  },
  {
   "cell_type": "code",
   "execution_count": null,
   "id": "79b9af28",
   "metadata": {},
   "outputs": [],
   "source": [
    "principal_repayments_by_due_date = pd.merge(total_principal_disbursed, total_repayments_by_due_date, on = 'store_number', how = 'outer')\n",
    "\n",
    "principal_repayments_by_due_date.head()"
   ]
  },
  {
   "cell_type": "code",
   "execution_count": null,
   "id": "4a44bbe4",
   "metadata": {},
   "outputs": [],
   "source": [
    "principal_repayments_by_due_date['repayments_vs_principal'] = principal_repayments_by_due_date['total_repayments_by_due_date'] / principal_repayments_by_due_date['total_principal_disbursed']\n",
    "\n",
    "principal_repayments_by_due_date.head(10)"
   ]
  },
  {
   "cell_type": "code",
   "execution_count": null,
   "id": "0197b812",
   "metadata": {},
   "outputs": [],
   "source": [
    "principal_repayments_by_due_date_95 = principal_repayments_by_due_date[principal_repayments_by_due_date['repayments_vs_principal'] >= 0.95]\n",
    "\n",
    "principal_repayments_by_due_date_95.head(10)"
   ]
  },
  {
   "cell_type": "code",
   "execution_count": null,
   "id": "8d7e953f",
   "metadata": {},
   "outputs": [],
   "source": [
    "principal_repayments_by_due_date_95.shape"
   ]
  },
  {
   "cell_type": "code",
   "execution_count": null,
   "id": "d1c30f71",
   "metadata": {},
   "outputs": [],
   "source": [
    "#get list of all target store numbers\n",
    "\n",
    "principal_repayments_by_due_date_95_list = list(principal_repayments_by_due_date_95[\"store_number\"].unique())\n",
    "len(principal_repayments_by_due_date_95_list)"
   ]
  },
  {
   "cell_type": "code",
   "execution_count": null,
   "id": "430d3df0",
   "metadata": {},
   "outputs": [],
   "source": [
    "principal_repayments_by_due_date_95.info()"
   ]
  },
  {
   "cell_type": "code",
   "execution_count": null,
   "id": "c131e051",
   "metadata": {},
   "outputs": [],
   "source": [
    "previous_limits = pd.read_excel(\"/home/jupyter-ngenia-jackline/Limits_refresh_summary_20220922_multiple_products_1.xlsx\")\n",
    "#previous_limits = previous_limits[['store_number', 'final_21_limit', 'final_7_limit', 'final_1_limit']]\n",
    "previous_limits = previous_limits.rename(columns={'final_21_limit':'bf_final_21_limit', 'final_7_limit':'bf_final_7_limit', 'final_1_limit':'bf_final_1_limit'})\n",
    "\n",
    "previous_limits[['bf_final_21_limit', 'bf_final_7_limit', 'bf_final_1_limit']].sum()"
   ]
  },
  {
   "cell_type": "code",
   "execution_count": null,
   "id": "723a6932",
   "metadata": {},
   "outputs": [],
   "source": [
    "new_limits = pd.read_excel(\"/home/jupyter-ngenia-jackline/final_limits_new.xlsx\")\n",
    "new_limits = new_limits[['store_number', 'final_21_limit', 'final_7_limit', 'final_1_limit']]\n",
    "new_limits['final_21_limit'] = new_limits['final_21_limit'].fillna(0)\n",
    "new_limits = new_limits.rename(columns={'final_21_limit':'af_final_21_limit', 'final_7_limit':'af_final_7_limit', 'final_1_limit':'af_final_1_limit'})\n",
    "\n",
    "new_limits[['af_final_21_limit', 'af_final_7_limit', 'af_final_1_limit']].sum()"
   ]
  },
  {
   "cell_type": "code",
   "execution_count": null,
   "id": "a490c568",
   "metadata": {},
   "outputs": [],
   "source": [
    "all_limits = pd.merge(previous_limits, new_limits, on = 'store_number', how = 'outer')\n",
    "\n",
    "all_limits.head()"
   ]
  },
  {
   "cell_type": "code",
   "execution_count": null,
   "id": "c0c87a96",
   "metadata": {},
   "outputs": [],
   "source": [
    "all_limits[['bf_final_21_limit', 'bf_final_7_limit', 'bf_final_1_limit', 'af_final_21_limit', 'af_final_7_limit', 'af_final_1_limit']].sum()"
   ]
  },
  {
   "cell_type": "code",
   "execution_count": null,
   "id": "e26816ea",
   "metadata": {},
   "outputs": [],
   "source": [
    "all_limits['store_number'] = all_limits['store_number'].astype(str)"
   ]
  },
  {
   "cell_type": "code",
   "execution_count": null,
   "id": "d0effd74",
   "metadata": {},
   "outputs": [],
   "source": [
    "zeroized = all_limits[(all_limits['bf_final_21_limit'] > 0) & (all_limits['af_final_21_limit'] == 0)]\n",
    "\n",
    "zeroized.head()"
   ]
  },
  {
   "cell_type": "code",
   "execution_count": null,
   "id": "d8fe3b16",
   "metadata": {},
   "outputs": [],
   "source": [
    "zeroized['store_number'] = zeroized['store_number'].astype(str)\n",
    "\n",
    "zeroized.info()"
   ]
  },
  {
   "cell_type": "code",
   "execution_count": null,
   "id": "dbd291a5",
   "metadata": {},
   "outputs": [],
   "source": [
    "zeroized.shape"
   ]
  },
  {
   "cell_type": "code",
   "execution_count": null,
   "id": "37503fd6",
   "metadata": {},
   "outputs": [],
   "source": [
    "target_customers_scope = zeroized.loc[zeroized[\"store_number\"].isin(principal_repayments_by_due_date_95_list)]\n",
    "\n",
    "print(target_customers_scope.shape)"
   ]
  },
  {
   "cell_type": "code",
   "execution_count": null,
   "id": "eb1e32d4",
   "metadata": {},
   "outputs": [],
   "source": [
    "target_customers_scope.head()"
   ]
  },
  {
   "cell_type": "code",
   "execution_count": null,
   "id": "576a8e71",
   "metadata": {},
   "outputs": [],
   "source": [
    "target_customers_scope[['bf_final_21_limit', 'af_final_21_limit']].sum()"
   ]
  },
  {
   "cell_type": "code",
   "execution_count": null,
   "id": "a2200d16",
   "metadata": {},
   "outputs": [],
   "source": [
    "target_customers_scope = target_customers_scope[['store_number', 'bf_final_21_limit', 'bf_final_7_limit', 'bf_final_1_limit']]\n",
    "target_customers_scope = target_customers_scope.rename(columns={'bf_final_21_limit':'af95_final_21_limit', 'bf_final_7_limit':'af95_final_7_limit', 'bf_final_1_limit':'af95_final_1_limit'})\n",
    "\n",
    "target_customers_scope.head()"
   ]
  },
  {
   "cell_type": "code",
   "execution_count": null,
   "id": "c38fc4a9",
   "metadata": {},
   "outputs": [],
   "source": [
    "comb_limits = pd.merge(all_limits, target_customers_scope, on = 'store_number', how = 'outer')\n",
    "comb_limits = comb_limits.fillna(0)\n",
    "\n",
    "comb_limits.head()"
   ]
  },
  {
   "cell_type": "code",
   "execution_count": null,
   "id": "8dc357b1",
   "metadata": {},
   "outputs": [],
   "source": [
    "comb_limits[['bf_final_21_limit', 'bf_final_7_limit', 'bf_final_1_limit', 'af_final_21_limit', 'af_final_7_limit', 'af_final_1_limit', 'af95_final_21_limit', 'af95_final_7_limit', 'af95_final_1_limit']].sum()"
   ]
  },
  {
   "cell_type": "code",
   "execution_count": null,
   "id": "36e5e118",
   "metadata": {},
   "outputs": [],
   "source": [
    "def calc_final_21_limits(df):\n",
    "    \n",
    "    bf_final_21_limit = df['bf_final_21_limit']\n",
    "    af_final_21_limit = df['af_final_21_limit']\n",
    "    af95_final_21_limit = df['af95_final_21_limit']\n",
    "    \n",
    "    if (af_final_21_limit == 0) and (af95_final_21_limit > 0):\n",
    "        return af95_final_21_limit\n",
    "    elif (af_final_21_limit > 0) and (af95_final_21_limit == 0):\n",
    "        return af_final_21_limit\n",
    "    elif (af_final_21_limit == 0) and (af95_final_21_limit == 0):\n",
    "        return af_final_21_limit"
   ]
  },
  {
   "cell_type": "code",
   "execution_count": null,
   "id": "ddd1b192",
   "metadata": {},
   "outputs": [],
   "source": [
    "comb_limits['final_21_limits'] = comb_limits.apply(lambda x: calc_final_21_limits(x), axis=1)\n",
    "\n",
    "comb_limits.head(10)"
   ]
  },
  {
   "cell_type": "code",
   "execution_count": null,
   "id": "60161160",
   "metadata": {},
   "outputs": [],
   "source": [
    "comb_limits[['bf_final_21_limit', 'bf_final_7_limit', 'bf_final_1_limit', 'af_final_21_limit', 'af_final_7_limit', 'af_final_1_limit', 'af95_final_21_limit', 'af95_final_7_limit', 'af95_final_1_limit', 'final_21_limits']].sum()"
   ]
  },
  {
   "cell_type": "code",
   "execution_count": null,
   "id": "a0e5d971",
   "metadata": {},
   "outputs": [],
   "source": [
    "#comb_limits = comb_limits[['store_number', 'final_21_limits', 'bf_final_7_limit', 'bf_final_1_limit']]\n",
    "\n",
    "comb_limits[['final_21_limits', 'bf_final_7_limit', 'bf_final_1_limit']].sum()"
   ]
  },
  {
   "cell_type": "code",
   "execution_count": null,
   "id": "1c06e594",
   "metadata": {},
   "outputs": [],
   "source": [
    "comb_limits.to_excel('comb_limits_new.xlsx')"
   ]
  },
  {
   "cell_type": "code",
   "execution_count": null,
   "id": "d674b17a",
   "metadata": {},
   "outputs": [],
   "source": []
  }
 ],
 "metadata": {
  "kernelspec": {
   "display_name": "Python 3 (ipykernel)",
   "language": "python",
   "name": "python3"
  },
  "language_info": {
   "codemirror_mode": {
    "name": "ipython",
    "version": 3
   },
   "file_extension": ".py",
   "mimetype": "text/x-python",
   "name": "python",
   "nbconvert_exporter": "python",
   "pygments_lexer": "ipython3",
   "version": "3.8.13"
  }
 },
 "nbformat": 4,
 "nbformat_minor": 5
}
