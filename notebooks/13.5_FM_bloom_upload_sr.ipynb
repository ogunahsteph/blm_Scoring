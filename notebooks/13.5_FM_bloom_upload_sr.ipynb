{
 "cells": [
  {
   "cell_type": "code",
   "execution_count": 1,
   "metadata": {},
   "outputs": [],
   "source": [
    "# Import modules\n",
    "import sys"
   ]
  },
  {
   "cell_type": "code",
   "execution_count": 2,
   "metadata": {},
   "outputs": [],
   "source": [
    "# Import custom modules\n",
    "sys.path.append('../')\n",
    "\n",
    "from src.models.upload_data import *"
   ]
  },
  {
   "cell_type": "code",
   "execution_count": 3,
   "metadata": {},
   "outputs": [],
   "source": [
    "# Set notebook attributes\n",
    "pd.set_option('display.max_colwidth', 500)\n",
    "pd.set_option('display.max_columns', None)\n",
    "pd.set_option('display.max_rows', 300)\n",
    "pd.set_option('display.float_format', lambda x: '%.2f' % x)"
   ]
  },
  {
   "cell_type": "code",
   "execution_count": 4,
   "metadata": {},
   "outputs": [],
   "source": [
    "# Set magic attributes\n",
    "%matplotlib inline\n",
    "%load_ext autoreload\n",
    "%autoreload 2"
   ]
  },
  {
   "cell_type": "code",
   "execution_count": 5,
   "metadata": {},
   "outputs": [],
   "source": [
    "# Configuration\n",
    "args = argparse.ArgumentParser()\n",
    "args.add_argument(\"--config\", default=\"../params.yaml\")\n",
    "parsed_args = vars(args.parse_args(\"\"))\n",
    "config_path = parsed_args['config']"
   ]
  },
  {
   "cell_type": "markdown",
   "metadata": {},
   "source": [
    "### Approved Limits Upload To SR"
   ]
  },
  {
   "cell_type": "code",
   "execution_count": 6,
   "metadata": {},
   "outputs": [
    {
     "name": "stdout",
     "output_type": "stream",
     "text": [
      "Connection successful\n",
      "The dataframe is NOT inserted to BLOOMLIVE.scoring_results because push_limits flag = False\n",
      "Currently pulling sr_validate_push data set ...\n",
      "Connection successful\n"
     ]
    },
    {
     "data": {
      "text/html": [
       "<div>\n",
       "<style scoped>\n",
       "    .dataframe tbody tr th:only-of-type {\n",
       "        vertical-align: middle;\n",
       "    }\n",
       "\n",
       "    .dataframe tbody tr th {\n",
       "        vertical-align: top;\n",
       "    }\n",
       "\n",
       "    .dataframe thead th {\n",
       "        text-align: right;\n",
       "    }\n",
       "</style>\n",
       "<table border=\"1\" class=\"dataframe\">\n",
       "  <thead>\n",
       "    <tr style=\"text-align: right;\">\n",
       "      <th></th>\n",
       "      <th>latest_model_version</th>\n",
       "      <th>num_of_customers_who_have_been_scored</th>\n",
       "      <th>gross_limit_allocation_for_21_day</th>\n",
       "      <th>gross_limit_allocation_for_7_day</th>\n",
       "      <th>gross_limit_allocation_for_1_day</th>\n",
       "    </tr>\n",
       "  </thead>\n",
       "  <tbody>\n",
       "    <tr>\n",
       "      <th>0</th>\n",
       "      <td>2022-007[2022-10-21, 2022-11-29]</td>\n",
       "      <td>147424</td>\n",
       "      <td>121835300.00</td>\n",
       "      <td>320249600.00</td>\n",
       "      <td>155409900.00</td>\n",
       "    </tr>\n",
       "  </tbody>\n",
       "</table>\n",
       "</div>"
      ],
      "text/plain": [
       "               latest_model_version  num_of_customers_who_have_been_scored  \\\n",
       "0  2022-007[2022-10-21, 2022-11-29]                                 147424   \n",
       "\n",
       "   gross_limit_allocation_for_21_day  gross_limit_allocation_for_7_day  \\\n",
       "0                       121835300.00                      320249600.00   \n",
       "\n",
       "   gross_limit_allocation_for_1_day  \n",
       "0                      155409900.00  "
      ]
     },
     "metadata": {},
     "output_type": "display_data"
    },
    {
     "name": "stdout",
     "output_type": "stream",
     "text": [
      "---------------------------------------------------------------------------------------------------------------------------------------\n",
      "\n",
      "\n"
     ]
    },
    {
     "data": {
      "text/html": [
       "<div>\n",
       "<style scoped>\n",
       "    .dataframe tbody tr th:only-of-type {\n",
       "        vertical-align: middle;\n",
       "    }\n",
       "\n",
       "    .dataframe tbody tr th {\n",
       "        vertical-align: top;\n",
       "    }\n",
       "\n",
       "    .dataframe thead th {\n",
       "        text-align: right;\n",
       "    }\n",
       "</style>\n",
       "<table border=\"1\" class=\"dataframe\">\n",
       "  <thead>\n",
       "    <tr style=\"text-align: right;\">\n",
       "      <th></th>\n",
       "      <th>store_number</th>\n",
       "      <th>national_id</th>\n",
       "      <th>final_21_limit</th>\n",
       "      <th>final_7_limit</th>\n",
       "      <th>final_1_limit</th>\n",
       "      <th>idm_recommendation</th>\n",
       "      <th>limit_factor_21</th>\n",
       "      <th>limit_factor_7</th>\n",
       "      <th>limit_factor_1</th>\n",
       "      <th>model_version</th>\n",
       "      <th>blacklist_flag</th>\n",
       "      <th>created_at</th>\n",
       "      <th>record_added_to_warehouse_on_timestamp</th>\n",
       "      <th>limit_reason</th>\n",
       "    </tr>\n",
       "  </thead>\n",
       "  <tbody>\n",
       "    <tr>\n",
       "      <th>91097</th>\n",
       "      <td>7636937</td>\n",
       "      <td>26953416</td>\n",
       "      <td>0</td>\n",
       "      <td>0</td>\n",
       "      <td>0</td>\n",
       "      <td>Reject</td>\n",
       "      <td>0.35</td>\n",
       "      <td>0.12</td>\n",
       "      <td>0.12</td>\n",
       "      <td>2022-007[2022-10-21, 2022-11-29]</td>\n",
       "      <td>0.00</td>\n",
       "      <td>2022-11-29 11:32:15</td>\n",
       "      <td>2022-11-29 11:32:15:419636</td>\n",
       "      <td>I1</td>\n",
       "    </tr>\n",
       "    <tr>\n",
       "      <th>79844</th>\n",
       "      <td>7317875</td>\n",
       "      <td>1836628</td>\n",
       "      <td>0</td>\n",
       "      <td>0</td>\n",
       "      <td>0</td>\n",
       "      <td>Approve</td>\n",
       "      <td>0.50</td>\n",
       "      <td>0.17</td>\n",
       "      <td>0.17</td>\n",
       "      <td>2022-007[2022-10-21, 2022-11-29]</td>\n",
       "      <td>0.00</td>\n",
       "      <td>2022-11-29 11:32:15</td>\n",
       "      <td>2022-11-29 11:32:15:419636</td>\n",
       "      <td>I1</td>\n",
       "    </tr>\n",
       "  </tbody>\n",
       "</table>\n",
       "</div>"
      ],
      "text/plain": [
       "      store_number national_id  final_21_limit  final_7_limit  final_1_limit  \\\n",
       "91097      7636937    26953416               0              0              0   \n",
       "79844      7317875     1836628               0              0              0   \n",
       "\n",
       "      idm_recommendation  limit_factor_21  limit_factor_7  limit_factor_1  \\\n",
       "91097             Reject             0.35            0.12            0.12   \n",
       "79844            Approve             0.50            0.17            0.17   \n",
       "\n",
       "                          model_version  blacklist_flag           created_at  \\\n",
       "91097  2022-007[2022-10-21, 2022-11-29]            0.00  2022-11-29 11:32:15   \n",
       "79844  2022-007[2022-10-21, 2022-11-29]            0.00  2022-11-29 11:32:15   \n",
       "\n",
       "      record_added_to_warehouse_on_timestamp limit_reason  \n",
       "91097             2022-11-29 11:32:15:419636           I1  \n",
       "79844             2022-11-29 11:32:15:419636           I1  "
      ]
     },
     "metadata": {},
     "output_type": "display_data"
    },
    {
     "name": "stdout",
     "output_type": "stream",
     "text": [
      "---------------------------------------------------------------------------------------------------------------------------------------\n",
      "CPU times: total: 22.8 s\n",
      "Wall time: 46.6 s\n"
     ]
    }
   ],
   "source": [
    "%%time\n",
    "# Approved limits upload\n",
    "df_upload_sr = push_data(config_path, \"DWH\", \"sr\", execution_date, refresh_date, record_added_to_warehouse_on_timestamp, created_at)"
   ]
  },
  {
   "cell_type": "code",
   "execution_count": 7,
   "metadata": {},
   "outputs": [
    {
     "name": "stdout",
     "output_type": "stream",
     "text": [
      "<class 'pandas.core.frame.DataFrame'>\n",
      "RangeIndex: 147351 entries, 0 to 147350\n",
      "Data columns (total 14 columns):\n",
      " #   Column                                  Non-Null Count   Dtype  \n",
      "---  ------                                  --------------   -----  \n",
      " 0   store_number                            147351 non-null  object \n",
      " 1   national_id                             147351 non-null  object \n",
      " 2   final_21_limit                          147351 non-null  int64  \n",
      " 3   final_7_limit                           147351 non-null  int64  \n",
      " 4   final_1_limit                           147351 non-null  int64  \n",
      " 5   idm_recommendation                      115150 non-null  object \n",
      " 6   limit_factor_21                         115150 non-null  float64\n",
      " 7   limit_factor_7                          115150 non-null  float64\n",
      " 8   limit_factor_1                          115150 non-null  float64\n",
      " 9   model_version                           147351 non-null  object \n",
      " 10  blacklist_flag                          147351 non-null  float64\n",
      " 11  created_at                              147351 non-null  object \n",
      " 12  record_added_to_warehouse_on_timestamp  147351 non-null  object \n",
      " 13  limit_reason                            147345 non-null  object \n",
      "dtypes: float64(4), int64(3), object(7)\n",
      "memory usage: 15.7+ MB\n"
     ]
    }
   ],
   "source": [
    "# Final dataset schema\n",
    "df_upload_sr.info()"
   ]
  },
  {
   "cell_type": "code",
   "execution_count": 8,
   "metadata": {},
   "outputs": [
    {
     "data": {
      "text/plain": [
       "final_21_limit    117347600\n",
       "final_7_limit     314401000\n",
       "final_1_limit     150133800\n",
       "dtype: int64"
      ]
     },
     "execution_count": 8,
     "metadata": {},
     "output_type": "execute_result"
    }
   ],
   "source": [
    "# Limits\n",
    "df_upload_sr[['final_21_limit', 'final_7_limit', 'final_1_limit']].sum()"
   ]
  },
  {
   "cell_type": "code",
   "execution_count": null,
   "metadata": {},
   "outputs": [],
   "source": []
  }
 ],
 "metadata": {
  "kernelspec": {
   "display_name": "Python 3 (ipykernel)",
   "language": "python",
   "name": "python3"
  },
  "language_info": {
   "codemirror_mode": {
    "name": "ipython",
    "version": 3
   },
   "file_extension": ".py",
   "mimetype": "text/x-python",
   "name": "python",
   "nbconvert_exporter": "python",
   "pygments_lexer": "ipython3",
   "version": "3.8.13"
  }
 },
 "nbformat": 4,
 "nbformat_minor": 4
}
