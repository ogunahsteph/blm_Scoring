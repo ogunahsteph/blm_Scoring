{
 "cells": [
  {
   "cell_type": "code",
   "execution_count": 1,
   "metadata": {},
   "outputs": [],
   "source": [
    "#import data processing libraries\n",
    "\n",
    "import os\n",
    "import pandas as pd\n",
    "import numpy as np\n",
    "import math as math\n",
    "import datetime as dt\n",
    "from scipy.stats import mode\n",
    "import psycopg2 #reading data from Postgres DB\n",
    "import sys\n",
    "import openpyxl"
   ]
  },
  {
   "cell_type": "code",
   "execution_count": 2,
   "metadata": {},
   "outputs": [],
   "source": [
    "pd.set_option('display.max_colwidth', 500)\n",
    "pd.set_option('display.max_columns', None)\n",
    "pd.set_option('display.max_rows', 300)\n",
    "\n",
    "#suppress scientific notation to 2 decimal places\n",
    "#pd.set_option('display.float_format', lambda x: '%.2f' % x)"
   ]
  },
  {
   "cell_type": "code",
   "execution_count": 3,
   "metadata": {},
   "outputs": [],
   "source": [
    "#import visualization libraries\n",
    "\n",
    "import seaborn as sns\n",
    "import matplotlib.pyplot as plt\n",
    "import matplotlib.ticker as ticker\n",
    "%matplotlib inline"
   ]
  },
  {
   "cell_type": "code",
   "execution_count": 4,
   "metadata": {},
   "outputs": [],
   "source": [
    "# Connection parameters\n",
    "param_dic = {\n",
    "    \"host\"      : \"157.245.248.249\",\n",
    "    \"database\"  : \"ubuntu\",\n",
    "    \"user\"      : \"jacklinengenia\",\n",
    "    \"password\"  : \"x3MX&8#!\"\n",
    "}\n",
    "\n",
    "def connect(params_dic):\n",
    "    \"\"\" Connect to the PostgreSQL database server \"\"\"\n",
    "    conn = None\n",
    "    try:\n",
    "        # connect to the PostgreSQL server\n",
    "        print('Connecting to the PostgreSQL database...')\n",
    "        conn = psycopg2.connect(**params_dic)\n",
    "    except (Exception, psycopg2.DatabaseError) as error:\n",
    "        print(error)\n",
    "        sys.exit(1) \n",
    "    print(\"Connection successful\")\n",
    "    return conn"
   ]
  },
  {
   "cell_type": "code",
   "execution_count": 5,
   "metadata": {},
   "outputs": [],
   "source": [
    "def postgresql_to_dataframe(conn, select_query, column_names):\n",
    "    \"\"\"\n",
    "    Tranform a SELECT query into a pandas dataframe\n",
    "    \"\"\"\n",
    "    cursor = conn.cursor()\n",
    "    try:\n",
    "        cursor.execute(select_query)\n",
    "    except (Exception, psycopg2.DatabaseError) as error:\n",
    "        print(\"Error: %s\" % error)\n",
    "        cursor.close()\n",
    "        return 1\n",
    "    \n",
    "    # Naturally we get a list of tupples\n",
    "    tupples = cursor.fetchall()\n",
    "    cursor.close()\n",
    "    \n",
    "    # Convert the list of tuples in to a pandas dataframe\n",
    "    df = pd.DataFrame(tupples, columns=column_names)\n",
    "    return df"
   ]
  },
  {
   "cell_type": "code",
   "execution_count": 6,
   "metadata": {
    "scrolled": true
   },
   "outputs": [
    {
     "name": "stdout",
     "output_type": "stream",
     "text": [
      "Connecting to the PostgreSQL database...\n",
      "Connection successful\n"
     ]
    }
   ],
   "source": [
    "# Connect to the database and load the scoring data bloomlive table\n",
    "conn = connect(param_dic)\n",
    "\n",
    "columns = \"client_mifos_id,client_mobile_number,loan_status,loan_mifos_id,term_frequency,principal_disbursed,\\\n",
    "principal_repaid,interest_charged,interest_repaid,\\\n",
    "fee_charges_charged,fee_charges_repaid,\\\n",
    "penalty_charges_charged,penalty_charges_repaid,\\\n",
    "total_outstanding,\\\n",
    "disbursed_on_date,expected_matured_on_date,\\\n",
    "closed_on_date,store_number, bloom_version\"\n",
    "\n",
    "column_names = columns.strip().split(\",\")\n",
    "# Execute the \"SELECT cols\" query\n",
    "df = postgresql_to_dataframe(conn,\n",
    "                             \"select \\\n",
    "                             client_mifos_id,client_mobile_number,loan_status,loan_mifos_id,term_frequency,principal_disbursed,\\\n",
    "                             principal_repaid,interest_charged,interest_repaid,\\\n",
    "                             fee_charges_charged,fee_charges_repaid,\\\n",
    "                             penalty_charges_charged,penalty_charges_repaid,\\\n",
    "                             total_outstanding,\\\n",
    "                             disbursed_on_date,expected_matured_on_date,\\\n",
    "                             closed_on_date,store_number, bloom_version\\\n",
    "                             from bloomlive.loans_fact_table_materialized_summary_view\",\n",
    "                             column_names)"
   ]
  },
  {
   "cell_type": "code",
   "execution_count": 7,
   "metadata": {},
   "outputs": [],
   "source": [
    "#replace None type datatype with Nan values across entire df\n",
    "\n",
    "df = df.fillna(value=np.nan)"
   ]
  },
  {
   "cell_type": "code",
   "execution_count": 8,
   "metadata": {},
   "outputs": [],
   "source": [
    "#convert date columns\n",
    "datetime_cols = [\"disbursed_on_date\", \"expected_matured_on_date\", \"closed_on_date\"]\n",
    "\n",
    "df[datetime_cols] = df[datetime_cols].apply(pd.to_datetime, errors='coerce')\n",
    "\n",
    "\n",
    "#convert specific int/float columns to string type\n",
    "int_to_string_cols = [\"client_mifos_id\", \"client_mobile_number\"]\n",
    "\n",
    "df[int_to_string_cols] = df[int_to_string_cols].astype(str)\n",
    "\n",
    "\n",
    "#convert specific string columns to float, first by leaving out the non-targeted columns\n",
    "string_to_float_cols = df.columns.drop([\"client_mifos_id\", \"loan_status\", \"term_frequency\",\n",
    "                                        \"disbursed_on_date\", \"expected_matured_on_date\",\n",
    "                                        \"closed_on_date\"])\n",
    "\n",
    "df[string_to_float_cols] = df[string_to_float_cols].apply(pd.to_numeric, errors='coerce')\n",
    "\n",
    "\n",
    "#replace the in the column headers with underscores & make all column headers in lower case\n",
    "df.columns = df.columns.str.lower().str.replace(' ','')"
   ]
  },
  {
   "cell_type": "code",
   "execution_count": 9,
   "metadata": {},
   "outputs": [],
   "source": [
    "#create new column that concats the bloom version and loan id so as to prevent any loan duplicates from the same mifos instance\n",
    "\n",
    "df[\"loan_id_product_concat\"] = (df[\"loan_mifos_id\"].astype(\"str\")+\"-\"+df[\"bloom_version\"].astype(\"str\")).astype(\"str\")"
   ]
  },
  {
   "cell_type": "code",
   "execution_count": 10,
   "metadata": {},
   "outputs": [
    {
     "name": "stdout",
     "output_type": "stream",
     "text": [
      "<class 'pandas.core.frame.DataFrame'>\n",
      "RangeIndex: 434298 entries, 0 to 434297\n",
      "Data columns (total 20 columns):\n",
      " #   Column                    Non-Null Count   Dtype         \n",
      "---  ------                    --------------   -----         \n",
      " 0   client_mifos_id           434298 non-null  object        \n",
      " 1   client_mobile_number      105067 non-null  float64       \n",
      " 2   loan_status               434298 non-null  int64         \n",
      " 3   loan_mifos_id             434298 non-null  int64         \n",
      " 4   term_frequency            434298 non-null  int64         \n",
      " 5   principal_disbursed       434298 non-null  float64       \n",
      " 6   principal_repaid          434298 non-null  float64       \n",
      " 7   interest_charged          434298 non-null  float64       \n",
      " 8   interest_repaid           434298 non-null  float64       \n",
      " 9   fee_charges_charged       434298 non-null  float64       \n",
      " 10  fee_charges_repaid        434298 non-null  float64       \n",
      " 11  penalty_charges_charged   434298 non-null  float64       \n",
      " 12  penalty_charges_repaid    434298 non-null  float64       \n",
      " 13  total_outstanding         434298 non-null  float64       \n",
      " 14  disbursed_on_date         361124 non-null  datetime64[ns]\n",
      " 15  expected_matured_on_date  434238 non-null  datetime64[ns]\n",
      " 16  closed_on_date            379532 non-null  datetime64[ns]\n",
      " 17  store_number              434290 non-null  float64       \n",
      " 18  bloom_version             434298 non-null  float64       \n",
      " 19  loan_id_product_concat    434298 non-null  object        \n",
      "dtypes: datetime64[ns](3), float64(12), int64(3), object(2)\n",
      "memory usage: 66.3+ MB\n"
     ]
    }
   ],
   "source": [
    "df.info()"
   ]
  },
  {
   "cell_type": "code",
   "execution_count": 11,
   "metadata": {},
   "outputs": [],
   "source": [
    "#drop all loan records that have irrelevant status keys OR were never disbursed\n",
    "df = df.drop(df[\n",
    "    (df[\"loan_status\"] == 0) |\n",
    "    (df[\"loan_status\"] == 100) |\n",
    "    (df[\"loan_status\"] == 400) |\n",
    "    (df[\"loan_status\"] == 500)\n",
    "].index)\n",
    "\n",
    "\n",
    "#drop all rows where loan id is blank\n",
    "df = df.loc[df[\"loan_mifos_id\"].notnull()]\n",
    "\n",
    "\n",
    "#drop all rows with duplicate loan id is blank\n",
    "df = df.loc[~df[\"loan_id_product_concat\"].duplicated()]\n",
    "\n",
    "\n",
    "#drop all rows where disbursement date is blank\n",
    "df = df.loc[df[\"disbursed_on_date\"].notnull()]"
   ]
  },
  {
   "cell_type": "code",
   "execution_count": 12,
   "metadata": {},
   "outputs": [],
   "source": [
    "#clean up mobile number column\n",
    "df[[\"client_mobile_number_2\", \"temp\"]] = df[\"client_mobile_number\"].astype(\"str\").str.split(\".\", expand=True)\n",
    "\n",
    "\n",
    "#drop newly created temp column\n",
    "df.drop([\"temp\",\"client_mobile_number\"], axis=1, inplace=True)\n",
    "\n",
    "df.rename(columns={\"client_mobile_number_2\": \"client_mobile_number\"}, inplace=True)"
   ]
  },
  {
   "cell_type": "code",
   "execution_count": 13,
   "metadata": {},
   "outputs": [],
   "source": [
    "#sort dataframe based on specific columns\n",
    "df.sort_values([\"client_mobile_number\",\"disbursed_on_date\"], ascending=[True, False], inplace=True)\n",
    "\n",
    "\n",
    "#create loan count column i.e adds a new column that captures the num of loans a customer has taken\n",
    "df[\"loan_count\"] = df.groupby(\"store_number\")[\"store_number\"].transform('size')\n",
    "\n",
    "#create loan rank column i.e adds a new column that captures the rank of each loan a customer has taken\n",
    "df[\"loan_rank\"] = df.groupby(\"store_number\")[\"loan_mifos_id\"].rank(ascending=True)\n",
    "\n",
    "##sort out minor Mifos errors relating to loans with status 700\n",
    "df.loc[(df[\"loan_status\"] == 700) & (df[\"closed_on_date\"].isnull()), \"closed_on_date\"] = df[\"expected_matured_on_date\"]"
   ]
  },
  {
   "cell_type": "markdown",
   "metadata": {},
   "source": [
    "## Notes ==> fix issue where loan rank gets messed up because of different Mifos instance"
   ]
  },
  {
   "cell_type": "code",
   "execution_count": 14,
   "metadata": {
    "scrolled": true
   },
   "outputs": [],
   "source": [
    "#create due_date fixed column to ensure due date tallies with the term frequency for each loan\n",
    "\n",
    "df[\"due_date_fixed\"] = df[\"disbursed_on_date\"] + pd.to_timedelta(df[\"term_frequency\"], unit='d')"
   ]
  },
  {
   "cell_type": "code",
   "execution_count": 15,
   "metadata": {},
   "outputs": [],
   "source": [
    "#create a copy of df\n",
    "\n",
    "all_loans = df.copy()"
   ]
  },
  {
   "cell_type": "code",
   "execution_count": 16,
   "metadata": {
    "scrolled": true
   },
   "outputs": [
    {
     "name": "stdout",
     "output_type": "stream",
     "text": [
      "analysis begin date 2017-12-10 00:00:00\n",
      "analysis latest date 2022-09-22 00:00:00\n"
     ]
    }
   ],
   "source": [
    "#analysis period\n",
    "\n",
    "print('analysis begin date {}'.format(all_loans['disbursed_on_date'].min()))\n",
    "print('analysis latest date {}'.format(all_loans['disbursed_on_date'].max()))"
   ]
  },
  {
   "cell_type": "code",
   "execution_count": 17,
   "metadata": {},
   "outputs": [],
   "source": [
    "def calc_days_past_due(df):\n",
    "    \"\"\"\n",
    "    Function to calculate days past due for each loan record. \n",
    "    The function uses pandas.Series vectorized arguments to ensure fast iterations/loops.\n",
    "    Inputs are the arguments passed in the conditions list.\n",
    "    Outputs are the results that are reported based on the choices list.\n",
    "    Each output/choice assigned corresponds to the input/conditions level assigned above i.e.\n",
    "    the first condition corresponds to the first choice etc, as such the rows of conditions & choices need to match.\n",
    "    If the output reported is a string '0', that's an error/edgecase whose conditions, choices were not well declared.\n",
    "    \n",
    "    Inputs: \n",
    "    1) The current status of a loan as captured on corebanking(Mifos),\n",
    "    2) The loans due date, \n",
    "    3) the last repayment date on record for the loan.\n",
    "    \n",
    "    \n",
    "    Outputs:\n",
    "    A calculation of a loan's number of days past due, that is converted from datetime to integer.\n",
    "    \n",
    "    \"\"\"\n",
    "    #subtract one day from today timestamp to ensure evaluation is in-line with Mifos which is Time-1 i.e one day behind\n",
    "    today = (pd.Timestamp.today()).strftime('%Y-%m-%d')\n",
    "    today = pd.Timestamp(today) - dt.timedelta(days=1)\n",
    "        \n",
    "    loan_status = df[\"loan_status\"]\n",
    "    due_date = df[\"due_date_fixed\"]\n",
    "    closed_on_date = df[\"closed_on_date\"]\n",
    "    \n",
    "    #the main input is the loan status id that is used to slice the df\n",
    "    conditions = [\n",
    "        loan_status.eq(300),\n",
    "        loan_status.eq(600),\n",
    "        loan_status.eq(601),\n",
    "        loan_status.eq(700),\n",
    "    ]\n",
    "    \n",
    "    #the other date inputs are used for calculation based on the condition of loan status of a loan at any given point\n",
    "    choices = [\n",
    "        (today - due_date).dt.days,\n",
    "        (closed_on_date - due_date).dt.days,\n",
    "        (closed_on_date - due_date).dt.days,\n",
    "        (closed_on_date - due_date).dt.days,\n",
    "    ]\n",
    "    \n",
    "    days_past_due = np.select(conditions, choices)\n",
    "    \n",
    "    return days_past_due\n",
    "\n",
    "\n",
    "#apply the function to the df to create the days_past_due_column\n",
    "all_loans[\"days_past_due\"] = calc_days_past_due(all_loans)"
   ]
  },
  {
   "cell_type": "code",
   "execution_count": 18,
   "metadata": {},
   "outputs": [],
   "source": [
    "def set_loan_status_labels(df):\n",
    "    \"\"\"\n",
    "    Function to set the loan repayment status of a loan.\n",
    "    Inputs are the arguments passed in the conditions list.\n",
    "    Outputs are the results that are reported based on the choices list.\n",
    "    Each output/choice assigned corresponds to the input/conditions level assigned above i.e.\n",
    "    the first condition corresponds to the first choice etc, as such the rows of conditions & choices need to match.\n",
    "    If the output reported is a string '0', that's an error/edgecase whose conditions, choices were not well declared.\n",
    "    \n",
    "    Inputs: \n",
    "    1) The current status of a loan as captured on corebanking(Mifos),\n",
    "    2) Number of days past due for each loan, \n",
    "    3) Term frequency for each loan,\n",
    "    4) The version of Bloom tied to the loan record\n",
    "    \n",
    "    Outputs: \n",
    "    A string label noting the current loan repayment status of each loan record\n",
    "    \"\"\"\n",
    "    thirty_day_product_rollover = 7 #Bloom 1.0\n",
    "    twenty_one_day_product_rollover = 5 #Bloom 2.0 only\n",
    "    seven_day_product_rollover_bloom1 = 7 #Bloom 2.0 adjusted to 5 days from 7 days in Bloom 1.0\n",
    "    seven_day_product_rollover_bloom2 = 5 \n",
    "    three_day_product_rollover = 2\n",
    "    one_day_product_rollover = 1 #Bloom 2.0, may be adjusted to 5 days as well\n",
    "\n",
    "    loan_status = all_loans[\"loan_status\"]\n",
    "    days_past_due = all_loans[\"days_past_due\"]\n",
    "    term_frequency = all_loans[\"term_frequency\"]\n",
    "    bloom_version = all_loans[\"bloom_version\"]\n",
    "\n",
    "    conditions = [\n",
    "        #written off loans\n",
    "        loan_status.eq(601),\n",
    "        \n",
    "        #currently active OR loans closed in tenure\n",
    "        loan_status.eq(300) & days_past_due.le(0),\n",
    "        loan_status.eq(600) & days_past_due.lt(0),\n",
    "        loan_status.eq(700) & days_past_due.lt(0),\n",
    "        loan_status.eq(600) & days_past_due.eq(0),\n",
    "        loan_status.eq(700) & days_past_due.eq(0),\n",
    "    \n",
    "        #active loans that are presently in rollover\n",
    "        loan_status.eq(300) & term_frequency.eq(1) & days_past_due.le(one_day_product_rollover),\n",
    "        loan_status.eq(300) & term_frequency.eq(3) & days_past_due.le(three_day_product_rollover),\n",
    "        loan_status.eq(300) & term_frequency.eq(7) & bloom_version.eq(1) & days_past_due.le(seven_day_product_rollover_bloom1),\n",
    "        loan_status.eq(300) & term_frequency.eq(7) & bloom_version.eq(2) & days_past_due.le(seven_day_product_rollover_bloom2),\n",
    "        loan_status.eq(300) & term_frequency.eq(21) & days_past_due.le(twenty_one_day_product_rollover),\n",
    "        loan_status.eq(300) & term_frequency.eq(30) & days_past_due.le(thirty_day_product_rollover),\n",
    "    \n",
    "        #loans that were cleared/closed after they got to rollover and cleared with exact balance due\n",
    "        loan_status.eq(600) & term_frequency.eq(1) & days_past_due.le(one_day_product_rollover),\n",
    "        loan_status.eq(600) & term_frequency.eq(3) & days_past_due.le(three_day_product_rollover),\n",
    "        loan_status.eq(600) & term_frequency.eq(7) & bloom_version.eq(1) & days_past_due.le(seven_day_product_rollover_bloom1),\n",
    "        loan_status.eq(600) & term_frequency.eq(7) & bloom_version.eq(2) & days_past_due.le(seven_day_product_rollover_bloom2),\n",
    "        loan_status.eq(600) & term_frequency.eq(21) & days_past_due.le(twenty_one_day_product_rollover),\n",
    "        loan_status.eq(600) & term_frequency.eq(30) & days_past_due.le(thirty_day_product_rollover),\n",
    "    \n",
    "        #loans that were cleared/closed after they got to rollover and were overpaid\n",
    "        loan_status.eq(700) & term_frequency.eq(1) & days_past_due.le(one_day_product_rollover),\n",
    "        loan_status.eq(700) & term_frequency.eq(3) & days_past_due.le(three_day_product_rollover),\n",
    "        loan_status.eq(700) & term_frequency.eq(7) & bloom_version.eq(1) & days_past_due.le(seven_day_product_rollover_bloom1),\n",
    "        loan_status.eq(700) & term_frequency.eq(7) & bloom_version.eq(2) & days_past_due.le(seven_day_product_rollover_bloom2),\n",
    "        loan_status.eq(700) & term_frequency.eq(21) & days_past_due.le(twenty_one_day_product_rollover),\n",
    "        loan_status.eq(700) & term_frequency.eq(30) & days_past_due.le(thirty_day_product_rollover),\n",
    "\n",
    "        #active loans that are presently in default\n",
    "        loan_status.eq(300) & term_frequency.eq(1) & days_past_due.gt(one_day_product_rollover),\n",
    "        loan_status.eq(300) & term_frequency.eq(3) & days_past_due.gt(three_day_product_rollover),\n",
    "        loan_status.eq(300) & term_frequency.eq(7) & bloom_version.eq(1) & days_past_due.gt(seven_day_product_rollover_bloom1),\n",
    "        loan_status.eq(300) & term_frequency.eq(7) & bloom_version.eq(2) & days_past_due.gt(seven_day_product_rollover_bloom2),\n",
    "        loan_status.eq(300) & term_frequency.eq(21) & days_past_due.gt(twenty_one_day_product_rollover),\n",
    "        loan_status.eq(300) & term_frequency.eq(30) & days_past_due.gt(thirty_day_product_rollover),\n",
    "\n",
    "\n",
    "        #loans were cleared/closed when they had got to default status and cleared with exact balance due\n",
    "        loan_status.eq(600) & term_frequency.eq(1) & days_past_due.gt(one_day_product_rollover),\n",
    "        loan_status.eq(600) & term_frequency.eq(3) & days_past_due.gt(three_day_product_rollover),\n",
    "        loan_status.eq(600) & term_frequency.eq(7) & bloom_version.eq(1) & days_past_due.gt(seven_day_product_rollover_bloom1),\n",
    "        loan_status.eq(600) & term_frequency.eq(7) & bloom_version.eq(2) & days_past_due.gt(seven_day_product_rollover_bloom2),\n",
    "        loan_status.eq(600) & term_frequency.eq(21) & days_past_due.gt(twenty_one_day_product_rollover),\n",
    "        loan_status.eq(600) & term_frequency.eq(30) & days_past_due.gt(thirty_day_product_rollover),\n",
    "\n",
    "        #loans that were cleared/closed after they got to default and were overpaid\n",
    "        loan_status.eq(700) & term_frequency.eq(1) & days_past_due.gt(one_day_product_rollover),\n",
    "        loan_status.eq(700) & term_frequency.eq(3) & days_past_due.gt(three_day_product_rollover),\n",
    "        loan_status.eq(700) & term_frequency.eq(7) & bloom_version.eq(1) & days_past_due.gt(seven_day_product_rollover_bloom1),\n",
    "        loan_status.eq(700) & term_frequency.eq(7) & bloom_version.eq(2) & days_past_due.gt(seven_day_product_rollover_bloom2),\n",
    "        loan_status.eq(700) & term_frequency.eq(21) & days_past_due.gt(twenty_one_day_product_rollover),\n",
    "        loan_status.eq(700) & term_frequency.eq(30) & days_past_due.gt(thirty_day_product_rollover),\n",
    "    ]\n",
    "\n",
    "\n",
    "    choices = [\n",
    "        \"written-off_default\",\n",
    "        \n",
    "        \"current_active\",\n",
    "        \"closed_early_repayment\",\n",
    "        \"closed_early_repayment_overpaid\",\n",
    "        \"closed_on_time\",\n",
    "        \"closed_on_time_overpaid\",    \n",
    "        \n",
    "        \"active_rollover\",\n",
    "        \"active_rollover\",\n",
    "        \"active_rollover\",\n",
    "        \"active_rollover\",\n",
    "        \"active_rollover\",\n",
    "        \"active_rollover\",\n",
    "        \n",
    "        \"closed_rollover\",\n",
    "        \"closed_rollover\",\n",
    "        \"closed_rollover\",\n",
    "        \"closed_rollover\",\n",
    "        \"closed_rollover\",\n",
    "        \"closed_rollover\",    \n",
    "        \n",
    "        \"closed_rollover_overpaid\",\n",
    "        \"closed_rollover_overpaid\",\n",
    "        \"closed_rollover_overpaid\",\n",
    "        \"closed_rollover_overpaid\",\n",
    "        \"closed_rollover_overpaid\",\n",
    "        \"closed_rollover_overpaid\",\n",
    "        \n",
    "        \"active_default\",\n",
    "        \"active_default\",\n",
    "        \"active_default\",\n",
    "        \"active_default\",\n",
    "        \"active_default\",\n",
    "        \"active_default\",   \n",
    "        \n",
    "        \"closed_default\",\n",
    "        \"closed_default\",\n",
    "        \"closed_default\",\n",
    "        \"closed_default\",\n",
    "        \"closed_default\",\n",
    "        \"closed_default\",        \n",
    "        \n",
    "        \"closed_default_overpaid\",\n",
    "        \"closed_default_overpaid\",\n",
    "        \"closed_default_overpaid\",\n",
    "        \"closed_default_overpaid\",\n",
    "        \"closed_default_overpaid\",\n",
    "        \"closed_default_overpaid\",\n",
    "\n",
    "    ]\n",
    "    \n",
    "    loan_labels = np.select(conditions, choices)\n",
    "    \n",
    "    return loan_labels\n",
    "\n",
    "\n",
    "#apply the function to the df to create the days_past_due_column\n",
    "all_loans[\"loan_repayment_status\"] = set_loan_status_labels(all_loans)"
   ]
  },
  {
   "cell_type": "code",
   "execution_count": 19,
   "metadata": {},
   "outputs": [],
   "source": [
    "#return df with two most recent loans for each client id\n",
    "\n",
    "#temp_df = all_loans.groupby(\"client_id\").head(2).reset_index()"
   ]
  },
  {
   "cell_type": "code",
   "execution_count": 20,
   "metadata": {},
   "outputs": [
    {
     "data": {
      "text/html": [
       "<div>\n",
       "<style scoped>\n",
       "    .dataframe tbody tr th:only-of-type {\n",
       "        vertical-align: middle;\n",
       "    }\n",
       "\n",
       "    .dataframe tbody tr th {\n",
       "        vertical-align: top;\n",
       "    }\n",
       "\n",
       "    .dataframe thead th {\n",
       "        text-align: right;\n",
       "    }\n",
       "</style>\n",
       "<table border=\"1\" class=\"dataframe\">\n",
       "  <thead>\n",
       "    <tr style=\"text-align: right;\">\n",
       "      <th></th>\n",
       "      <th>client_mifos_id</th>\n",
       "      <th>loan_status</th>\n",
       "      <th>loan_mifos_id</th>\n",
       "      <th>term_frequency</th>\n",
       "      <th>principal_disbursed</th>\n",
       "      <th>principal_repaid</th>\n",
       "      <th>interest_charged</th>\n",
       "      <th>interest_repaid</th>\n",
       "      <th>fee_charges_charged</th>\n",
       "      <th>fee_charges_repaid</th>\n",
       "      <th>penalty_charges_charged</th>\n",
       "      <th>penalty_charges_repaid</th>\n",
       "      <th>total_outstanding</th>\n",
       "      <th>disbursed_on_date</th>\n",
       "      <th>expected_matured_on_date</th>\n",
       "      <th>closed_on_date</th>\n",
       "      <th>store_number</th>\n",
       "      <th>bloom_version</th>\n",
       "      <th>loan_id_product_concat</th>\n",
       "      <th>client_mobile_number</th>\n",
       "      <th>loan_count</th>\n",
       "      <th>loan_rank</th>\n",
       "      <th>due_date_fixed</th>\n",
       "      <th>days_past_due</th>\n",
       "      <th>loan_repayment_status</th>\n",
       "    </tr>\n",
       "  </thead>\n",
       "  <tbody>\n",
       "    <tr>\n",
       "      <th>77620</th>\n",
       "      <td>53322</td>\n",
       "      <td>600</td>\n",
       "      <td>184191</td>\n",
       "      <td>7</td>\n",
       "      <td>1500.0</td>\n",
       "      <td>1500.0</td>\n",
       "      <td>39.01</td>\n",
       "      <td>39.01</td>\n",
       "      <td>0.0</td>\n",
       "      <td>0.0</td>\n",
       "      <td>0.0</td>\n",
       "      <td>0.0</td>\n",
       "      <td>0.0</td>\n",
       "      <td>2022-08-03</td>\n",
       "      <td>2022-08-10</td>\n",
       "      <td>NaT</td>\n",
       "      <td>7761393.0</td>\n",
       "      <td>2.0</td>\n",
       "      <td>184191-2.0</td>\n",
       "      <td>254110007123</td>\n",
       "      <td>2.0</td>\n",
       "      <td>2.0</td>\n",
       "      <td>2022-08-10</td>\n",
       "      <td>NaN</td>\n",
       "      <td>0</td>\n",
       "    </tr>\n",
       "    <tr>\n",
       "      <th>76891</th>\n",
       "      <td>53322</td>\n",
       "      <td>600</td>\n",
       "      <td>161253</td>\n",
       "      <td>7</td>\n",
       "      <td>1500.0</td>\n",
       "      <td>1500.0</td>\n",
       "      <td>39.01</td>\n",
       "      <td>39.01</td>\n",
       "      <td>0.0</td>\n",
       "      <td>0.0</td>\n",
       "      <td>0.0</td>\n",
       "      <td>0.0</td>\n",
       "      <td>0.0</td>\n",
       "      <td>2022-07-19</td>\n",
       "      <td>2022-07-26</td>\n",
       "      <td>2022-07-26</td>\n",
       "      <td>7761393.0</td>\n",
       "      <td>2.0</td>\n",
       "      <td>161253-2.0</td>\n",
       "      <td>254110007123</td>\n",
       "      <td>2.0</td>\n",
       "      <td>1.0</td>\n",
       "      <td>2022-07-26</td>\n",
       "      <td>0.0</td>\n",
       "      <td>closed_on_time</td>\n",
       "    </tr>\n",
       "  </tbody>\n",
       "</table>\n",
       "</div>"
      ],
      "text/plain": [
       "      client_mifos_id  loan_status  loan_mifos_id  term_frequency  \\\n",
       "77620           53322          600         184191               7   \n",
       "76891           53322          600         161253               7   \n",
       "\n",
       "       principal_disbursed  principal_repaid  interest_charged  \\\n",
       "77620               1500.0            1500.0             39.01   \n",
       "76891               1500.0            1500.0             39.01   \n",
       "\n",
       "       interest_repaid  fee_charges_charged  fee_charges_repaid  \\\n",
       "77620            39.01                  0.0                 0.0   \n",
       "76891            39.01                  0.0                 0.0   \n",
       "\n",
       "       penalty_charges_charged  penalty_charges_repaid  total_outstanding  \\\n",
       "77620                      0.0                     0.0                0.0   \n",
       "76891                      0.0                     0.0                0.0   \n",
       "\n",
       "      disbursed_on_date expected_matured_on_date closed_on_date  store_number  \\\n",
       "77620        2022-08-03               2022-08-10            NaT     7761393.0   \n",
       "76891        2022-07-19               2022-07-26     2022-07-26     7761393.0   \n",
       "\n",
       "       bloom_version loan_id_product_concat client_mobile_number  loan_count  \\\n",
       "77620            2.0             184191-2.0         254110007123         2.0   \n",
       "76891            2.0             161253-2.0         254110007123         2.0   \n",
       "\n",
       "       loan_rank due_date_fixed  days_past_due loan_repayment_status  \n",
       "77620        2.0     2022-08-10            NaN                     0  \n",
       "76891        1.0     2022-07-26            0.0        closed_on_time  "
      ]
     },
     "execution_count": 20,
     "metadata": {},
     "output_type": "execute_result"
    }
   ],
   "source": [
    "all_loans.head(2)"
   ]
  },
  {
   "cell_type": "code",
   "execution_count": 21,
   "metadata": {},
   "outputs": [
    {
     "data": {
      "text/plain": [
       "(361069, 25)"
      ]
     },
     "execution_count": 21,
     "metadata": {},
     "output_type": "execute_result"
    }
   ],
   "source": [
    "all_loans.shape"
   ]
  },
  {
   "cell_type": "code",
   "execution_count": 22,
   "metadata": {},
   "outputs": [
    {
     "data": {
      "text/plain": [
       "48100"
      ]
     },
     "execution_count": 22,
     "metadata": {},
     "output_type": "execute_result"
    }
   ],
   "source": [
    "all_loans['store_number'].nunique()"
   ]
  },
  {
   "cell_type": "code",
   "execution_count": 23,
   "metadata": {},
   "outputs": [],
   "source": [
    "#convert col to string\n",
    "all_loans[\"store_number\"] = all_loans[\"store_number\"].astype(\"str\")\n",
    "\n",
    "\n",
    "#clean up store number column\n",
    "all_loans[[\"store_number\", \"temp\"]] = all_loans[\"store_number\"].astype(\"str\").str.split(\".\", expand=True)\n",
    "\n",
    "\n",
    "#drop newly created temp column\n",
    "all_loans.drop([\"temp\",], axis=1, inplace=True)"
   ]
  },
  {
   "cell_type": "code",
   "execution_count": 24,
   "metadata": {},
   "outputs": [
    {
     "data": {
      "text/html": [
       "<div>\n",
       "<style scoped>\n",
       "    .dataframe tbody tr th:only-of-type {\n",
       "        vertical-align: middle;\n",
       "    }\n",
       "\n",
       "    .dataframe tbody tr th {\n",
       "        vertical-align: top;\n",
       "    }\n",
       "\n",
       "    .dataframe thead th {\n",
       "        text-align: right;\n",
       "    }\n",
       "</style>\n",
       "<table border=\"1\" class=\"dataframe\">\n",
       "  <thead>\n",
       "    <tr style=\"text-align: right;\">\n",
       "      <th></th>\n",
       "      <th>client_mifos_id</th>\n",
       "      <th>loan_status</th>\n",
       "      <th>loan_mifos_id</th>\n",
       "      <th>term_frequency</th>\n",
       "      <th>principal_disbursed</th>\n",
       "      <th>principal_repaid</th>\n",
       "      <th>interest_charged</th>\n",
       "      <th>interest_repaid</th>\n",
       "      <th>fee_charges_charged</th>\n",
       "      <th>fee_charges_repaid</th>\n",
       "      <th>penalty_charges_charged</th>\n",
       "      <th>penalty_charges_repaid</th>\n",
       "      <th>total_outstanding</th>\n",
       "      <th>disbursed_on_date</th>\n",
       "      <th>expected_matured_on_date</th>\n",
       "      <th>closed_on_date</th>\n",
       "      <th>store_number</th>\n",
       "      <th>bloom_version</th>\n",
       "      <th>loan_id_product_concat</th>\n",
       "      <th>client_mobile_number</th>\n",
       "      <th>loan_count</th>\n",
       "      <th>loan_rank</th>\n",
       "      <th>due_date_fixed</th>\n",
       "      <th>days_past_due</th>\n",
       "      <th>loan_repayment_status</th>\n",
       "    </tr>\n",
       "  </thead>\n",
       "  <tbody>\n",
       "    <tr>\n",
       "      <th>77620</th>\n",
       "      <td>53322</td>\n",
       "      <td>600</td>\n",
       "      <td>184191</td>\n",
       "      <td>7</td>\n",
       "      <td>1500.0</td>\n",
       "      <td>1500.0</td>\n",
       "      <td>39.01</td>\n",
       "      <td>39.01</td>\n",
       "      <td>0.0</td>\n",
       "      <td>0.0</td>\n",
       "      <td>0.0</td>\n",
       "      <td>0.0</td>\n",
       "      <td>0.0</td>\n",
       "      <td>2022-08-03</td>\n",
       "      <td>2022-08-10</td>\n",
       "      <td>NaT</td>\n",
       "      <td>7761393</td>\n",
       "      <td>2.0</td>\n",
       "      <td>184191-2.0</td>\n",
       "      <td>254110007123</td>\n",
       "      <td>2.0</td>\n",
       "      <td>2.0</td>\n",
       "      <td>2022-08-10</td>\n",
       "      <td>NaN</td>\n",
       "      <td>0</td>\n",
       "    </tr>\n",
       "    <tr>\n",
       "      <th>76891</th>\n",
       "      <td>53322</td>\n",
       "      <td>600</td>\n",
       "      <td>161253</td>\n",
       "      <td>7</td>\n",
       "      <td>1500.0</td>\n",
       "      <td>1500.0</td>\n",
       "      <td>39.01</td>\n",
       "      <td>39.01</td>\n",
       "      <td>0.0</td>\n",
       "      <td>0.0</td>\n",
       "      <td>0.0</td>\n",
       "      <td>0.0</td>\n",
       "      <td>0.0</td>\n",
       "      <td>2022-07-19</td>\n",
       "      <td>2022-07-26</td>\n",
       "      <td>2022-07-26</td>\n",
       "      <td>7761393</td>\n",
       "      <td>2.0</td>\n",
       "      <td>161253-2.0</td>\n",
       "      <td>254110007123</td>\n",
       "      <td>2.0</td>\n",
       "      <td>1.0</td>\n",
       "      <td>2022-07-26</td>\n",
       "      <td>0.0</td>\n",
       "      <td>closed_on_time</td>\n",
       "    </tr>\n",
       "  </tbody>\n",
       "</table>\n",
       "</div>"
      ],
      "text/plain": [
       "      client_mifos_id  loan_status  loan_mifos_id  term_frequency  \\\n",
       "77620           53322          600         184191               7   \n",
       "76891           53322          600         161253               7   \n",
       "\n",
       "       principal_disbursed  principal_repaid  interest_charged  \\\n",
       "77620               1500.0            1500.0             39.01   \n",
       "76891               1500.0            1500.0             39.01   \n",
       "\n",
       "       interest_repaid  fee_charges_charged  fee_charges_repaid  \\\n",
       "77620            39.01                  0.0                 0.0   \n",
       "76891            39.01                  0.0                 0.0   \n",
       "\n",
       "       penalty_charges_charged  penalty_charges_repaid  total_outstanding  \\\n",
       "77620                      0.0                     0.0                0.0   \n",
       "76891                      0.0                     0.0                0.0   \n",
       "\n",
       "      disbursed_on_date expected_matured_on_date closed_on_date store_number  \\\n",
       "77620        2022-08-03               2022-08-10            NaT      7761393   \n",
       "76891        2022-07-19               2022-07-26     2022-07-26      7761393   \n",
       "\n",
       "       bloom_version loan_id_product_concat client_mobile_number  loan_count  \\\n",
       "77620            2.0             184191-2.0         254110007123         2.0   \n",
       "76891            2.0             161253-2.0         254110007123         2.0   \n",
       "\n",
       "       loan_rank due_date_fixed  days_past_due loan_repayment_status  \n",
       "77620        2.0     2022-08-10            NaN                     0  \n",
       "76891        1.0     2022-07-26            0.0        closed_on_time  "
      ]
     },
     "execution_count": 24,
     "metadata": {},
     "output_type": "execute_result"
    }
   ],
   "source": [
    "all_loans.head(2)"
   ]
  },
  {
   "cell_type": "code",
   "execution_count": 25,
   "metadata": {},
   "outputs": [
    {
     "name": "stdout",
     "output_type": "stream",
     "text": [
      "<class 'pandas.core.frame.DataFrame'>\n",
      "Int64Index: 361069 entries, 77620 to 408091\n",
      "Data columns (total 25 columns):\n",
      " #   Column                    Non-Null Count   Dtype         \n",
      "---  ------                    --------------   -----         \n",
      " 0   client_mifos_id           361069 non-null  object        \n",
      " 1   loan_status               361069 non-null  int64         \n",
      " 2   loan_mifos_id             361069 non-null  int64         \n",
      " 3   term_frequency            361069 non-null  int64         \n",
      " 4   principal_disbursed       361069 non-null  float64       \n",
      " 5   principal_repaid          361069 non-null  float64       \n",
      " 6   interest_charged          361069 non-null  float64       \n",
      " 7   interest_repaid           361069 non-null  float64       \n",
      " 8   fee_charges_charged       361069 non-null  float64       \n",
      " 9   fee_charges_repaid        361069 non-null  float64       \n",
      " 10  penalty_charges_charged   361069 non-null  float64       \n",
      " 11  penalty_charges_repaid    361069 non-null  float64       \n",
      " 12  total_outstanding         361069 non-null  float64       \n",
      " 13  disbursed_on_date         361069 non-null  datetime64[ns]\n",
      " 14  expected_matured_on_date  361069 non-null  datetime64[ns]\n",
      " 15  closed_on_date            316577 non-null  datetime64[ns]\n",
      " 16  store_number              361069 non-null  object        \n",
      " 17  bloom_version             361069 non-null  float64       \n",
      " 18  loan_id_product_concat    361069 non-null  object        \n",
      " 19  client_mobile_number      361069 non-null  object        \n",
      " 20  loan_count                361062 non-null  float64       \n",
      " 21  loan_rank                 361069 non-null  float64       \n",
      " 22  due_date_fixed            361069 non-null  datetime64[ns]\n",
      " 23  days_past_due             346372 non-null  float64       \n",
      " 24  loan_repayment_status     361069 non-null  object        \n",
      "dtypes: datetime64[ns](4), float64(13), int64(3), object(5)\n",
      "memory usage: 79.7+ MB\n"
     ]
    }
   ],
   "source": [
    "all_loans.info()"
   ]
  },
  {
   "cell_type": "code",
   "execution_count": 26,
   "metadata": {},
   "outputs": [],
   "source": [
    "#all_loans= all_loans[all_loans['disbursed_on_date'] <= '2022-06-14']"
   ]
  },
  {
   "cell_type": "markdown",
   "metadata": {},
   "source": [
    "---\n",
    "#### Generate aggregate summaries"
   ]
  },
  {
   "cell_type": "code",
   "execution_count": 27,
   "metadata": {},
   "outputs": [],
   "source": [
    "#return df with the most recent loan for each borrower\n",
    "\n",
    "agg_summary = all_loans.groupby(\"store_number\").head(1).reset_index()"
   ]
  },
  {
   "cell_type": "code",
   "execution_count": 28,
   "metadata": {},
   "outputs": [
    {
     "data": {
      "text/plain": [
       "(48101, 26)"
      ]
     },
     "execution_count": 28,
     "metadata": {},
     "output_type": "execute_result"
    }
   ],
   "source": [
    "agg_summary.shape"
   ]
  },
  {
   "cell_type": "code",
   "execution_count": 29,
   "metadata": {},
   "outputs": [
    {
     "data": {
      "text/plain": [
       "48101"
      ]
     },
     "execution_count": 29,
     "metadata": {},
     "output_type": "execute_result"
    }
   ],
   "source": [
    "agg_summary['store_number'].nunique()"
   ]
  },
  {
   "cell_type": "code",
   "execution_count": 30,
   "metadata": {},
   "outputs": [],
   "source": [
    "#trim df to only relevant columns\n",
    "target_cols = [\"client_mobile_number\",\"store_number\",\"loan_count\",\"loan_status\",\"term_frequency\",\n",
    "  \"principal_disbursed\",\"principal_repaid\",\"disbursed_on_date\",\n",
    "  \"expected_matured_on_date\",\"closed_on_date\",\"due_date_fixed\",\n",
    "  \"days_past_due\",\"bloom_version\",\"loan_repayment_status\"]\n",
    "\n",
    "agg_summary = agg_summary[target_cols]"
   ]
  },
  {
   "cell_type": "code",
   "execution_count": 31,
   "metadata": {},
   "outputs": [],
   "source": [
    "#aggregate maximum principal disbursed for each client id\n",
    "\n",
    "agg_summary = pd.merge(agg_summary, (all_loans.groupby(\"store_number\")[\"principal_disbursed\"].max().rename(\"max_principal_amount\").reset_index()), on=\"store_number\")"
   ]
  },
  {
   "cell_type": "code",
   "execution_count": 32,
   "metadata": {},
   "outputs": [],
   "source": [
    "#get df for when a customer got their max loan principal\n",
    "\n",
    "max_principal_dates = all_loans.sort_values(\"principal_disbursed\", ascending=False).groupby(\"store_number\").first().reset_index()"
   ]
  },
  {
   "cell_type": "code",
   "execution_count": 33,
   "metadata": {
    "scrolled": true
   },
   "outputs": [],
   "source": [
    "#trim df to only remain with relevant columns\n",
    "\n",
    "max_principal_dates = max_principal_dates[[\"store_number\",\"disbursed_on_date\"]]\n",
    "\n",
    "#rename column to make it clearer\n",
    "max_principal_dates.rename(columns = {\"disbursed_on_date\": \"max_loan_disbursement_date\"}, inplace = True)\n",
    "\n",
    "#merge df\n",
    "\n",
    "agg_summary = pd.merge(agg_summary, max_principal_dates, on=\"store_number\")"
   ]
  },
  {
   "cell_type": "code",
   "execution_count": 34,
   "metadata": {},
   "outputs": [],
   "source": [
    "#aggregate of loans well paid or in good standing\n",
    "\n",
    "agg_good_loans = (all_loans.loc[(all_loans[\"loan_repayment_status\"]== \"closed_early_repayment\")|\n",
    "                                (all_loans[\"loan_repayment_status\"]== \"closed_early_repayment_overpaid\")|\n",
    "                                (all_loans[\"loan_repayment_status\"]== \"closed_on_time\")|\n",
    "                                (all_loans[\"loan_repayment_status\"]== \"closed_on_time_overpaid\")|\n",
    "                                (all_loans[\"loan_repayment_status\"]== \"current_active\")\n",
    "                               ]).groupby(\"store_number\")[\"loan_id_product_concat\"].aggregate(\"count\").rename(\"count_good_loans\").reset_index()"
   ]
  },
  {
   "cell_type": "code",
   "execution_count": 35,
   "metadata": {},
   "outputs": [],
   "source": [
    "#merge agg_summary & agg good loans\n",
    "\n",
    "agg_summary = pd.merge(agg_summary, agg_good_loans, how=\"outer\", on=\"store_number\")"
   ]
  },
  {
   "cell_type": "code",
   "execution_count": 36,
   "metadata": {},
   "outputs": [],
   "source": [
    "#fill rest of missing values with zeros\n",
    "\n",
    "cols_fillna = ['count_good_loans']\n",
    "# replace 'NaN' with zero in these columns\n",
    "for col in cols_fillna:\n",
    "    agg_summary[col].fillna(0,inplace=True)"
   ]
  },
  {
   "cell_type": "code",
   "execution_count": 37,
   "metadata": {},
   "outputs": [],
   "source": [
    "#calculate good repayment ratios for the borrowers\n",
    "\n",
    "agg_summary[\"good_loans_repayment_ratio\"] = round(agg_summary[\"count_good_loans\"]/agg_summary[\"loan_count\"], 2)"
   ]
  },
  {
   "cell_type": "code",
   "execution_count": 38,
   "metadata": {},
   "outputs": [],
   "source": [
    "#calculate num days since last disbursement\n",
    "#subtract one day from today timestamp to ensure evaluation is in-line with Mifos which is Time-1 i.e one day behind\n",
    "\n",
    "today = (pd.Timestamp.today()).strftime('%Y-%m-%d')\n",
    "today = pd.Timestamp(today) - dt.timedelta(days=1)\n",
    "\n",
    "agg_summary[\"num_days_since_last_disbursement\"] = pd.to_numeric((today - agg_summary[\"disbursed_on_date\"]).dt.days, downcast='integer')"
   ]
  },
  {
   "cell_type": "code",
   "execution_count": 39,
   "metadata": {},
   "outputs": [],
   "source": [
    "#delete test accounts\n",
    "\n",
    "agg_summary = agg_summary[agg_summary[\"max_principal_amount\"]>=200]"
   ]
  },
  {
   "cell_type": "code",
   "execution_count": 40,
   "metadata": {},
   "outputs": [],
   "source": [
    "#delete customers without a store number\n",
    "\n",
    "agg_summary = agg_summary.loc[agg_summary[\"store_number\"].notnull()]"
   ]
  },
  {
   "cell_type": "code",
   "execution_count": 41,
   "metadata": {},
   "outputs": [],
   "source": [
    "#add column for max dpd\n",
    "\n",
    "agg_summary = pd.merge(agg_summary, (all_loans.groupby(\"store_number\")[\"days_past_due\"].max().rename(\"max_days_past_due\").reset_index()), on=\"store_number\")"
   ]
  },
  {
   "cell_type": "code",
   "execution_count": 42,
   "metadata": {},
   "outputs": [
    {
     "data": {
      "text/html": [
       "<div>\n",
       "<style scoped>\n",
       "    .dataframe tbody tr th:only-of-type {\n",
       "        vertical-align: middle;\n",
       "    }\n",
       "\n",
       "    .dataframe tbody tr th {\n",
       "        vertical-align: top;\n",
       "    }\n",
       "\n",
       "    .dataframe thead th {\n",
       "        text-align: right;\n",
       "    }\n",
       "</style>\n",
       "<table border=\"1\" class=\"dataframe\">\n",
       "  <thead>\n",
       "    <tr style=\"text-align: right;\">\n",
       "      <th></th>\n",
       "      <th>client_mobile_number</th>\n",
       "      <th>store_number</th>\n",
       "      <th>loan_count</th>\n",
       "      <th>loan_status</th>\n",
       "      <th>term_frequency</th>\n",
       "      <th>principal_disbursed</th>\n",
       "      <th>principal_repaid</th>\n",
       "      <th>disbursed_on_date</th>\n",
       "      <th>expected_matured_on_date</th>\n",
       "      <th>closed_on_date</th>\n",
       "      <th>due_date_fixed</th>\n",
       "      <th>days_past_due</th>\n",
       "      <th>bloom_version</th>\n",
       "      <th>loan_repayment_status</th>\n",
       "      <th>max_principal_amount</th>\n",
       "      <th>max_loan_disbursement_date</th>\n",
       "      <th>count_good_loans</th>\n",
       "      <th>good_loans_repayment_ratio</th>\n",
       "      <th>num_days_since_last_disbursement</th>\n",
       "      <th>max_days_past_due</th>\n",
       "    </tr>\n",
       "  </thead>\n",
       "  <tbody>\n",
       "    <tr>\n",
       "      <th>0</th>\n",
       "      <td>254110007123</td>\n",
       "      <td>7761393</td>\n",
       "      <td>2.0</td>\n",
       "      <td>600</td>\n",
       "      <td>7</td>\n",
       "      <td>1500.0</td>\n",
       "      <td>1500.0</td>\n",
       "      <td>2022-08-03</td>\n",
       "      <td>2022-08-10</td>\n",
       "      <td>NaT</td>\n",
       "      <td>2022-08-10</td>\n",
       "      <td>NaN</td>\n",
       "      <td>2.0</td>\n",
       "      <td>0</td>\n",
       "      <td>1500.0</td>\n",
       "      <td>2022-08-03</td>\n",
       "      <td>1.0</td>\n",
       "      <td>0.50</td>\n",
       "      <td>49</td>\n",
       "      <td>0.0</td>\n",
       "    </tr>\n",
       "    <tr>\n",
       "      <th>1</th>\n",
       "      <td>254110013557</td>\n",
       "      <td>7767671</td>\n",
       "      <td>6.0</td>\n",
       "      <td>300</td>\n",
       "      <td>21</td>\n",
       "      <td>14400.0</td>\n",
       "      <td>0.0</td>\n",
       "      <td>2022-06-09</td>\n",
       "      <td>2022-06-30</td>\n",
       "      <td>NaT</td>\n",
       "      <td>2022-06-30</td>\n",
       "      <td>83.0</td>\n",
       "      <td>2.0</td>\n",
       "      <td>active_default</td>\n",
       "      <td>14400.0</td>\n",
       "      <td>2022-06-07</td>\n",
       "      <td>4.0</td>\n",
       "      <td>0.67</td>\n",
       "      <td>104</td>\n",
       "      <td>83.0</td>\n",
       "    </tr>\n",
       "  </tbody>\n",
       "</table>\n",
       "</div>"
      ],
      "text/plain": [
       "  client_mobile_number store_number  loan_count  loan_status  term_frequency  \\\n",
       "0         254110007123      7761393         2.0          600               7   \n",
       "1         254110013557      7767671         6.0          300              21   \n",
       "\n",
       "   principal_disbursed  principal_repaid disbursed_on_date  \\\n",
       "0               1500.0            1500.0        2022-08-03   \n",
       "1              14400.0               0.0        2022-06-09   \n",
       "\n",
       "  expected_matured_on_date closed_on_date due_date_fixed  days_past_due  \\\n",
       "0               2022-08-10            NaT     2022-08-10            NaN   \n",
       "1               2022-06-30            NaT     2022-06-30           83.0   \n",
       "\n",
       "   bloom_version loan_repayment_status  max_principal_amount  \\\n",
       "0            2.0                     0                1500.0   \n",
       "1            2.0        active_default               14400.0   \n",
       "\n",
       "  max_loan_disbursement_date  count_good_loans  good_loans_repayment_ratio  \\\n",
       "0                 2022-08-03               1.0                        0.50   \n",
       "1                 2022-06-07               4.0                        0.67   \n",
       "\n",
       "   num_days_since_last_disbursement  max_days_past_due  \n",
       "0                                49                0.0  \n",
       "1                               104               83.0  "
      ]
     },
     "execution_count": 42,
     "metadata": {},
     "output_type": "execute_result"
    }
   ],
   "source": [
    "agg_summary.head(2)"
   ]
  },
  {
   "cell_type": "code",
   "execution_count": 43,
   "metadata": {},
   "outputs": [
    {
     "data": {
      "text/plain": [
       "(48066, 20)"
      ]
     },
     "execution_count": 43,
     "metadata": {},
     "output_type": "execute_result"
    }
   ],
   "source": [
    "agg_summary.shape"
   ]
  },
  {
   "cell_type": "markdown",
   "metadata": {},
   "source": [
    "---\n",
    "#### slice of DF with customers who have a max 30DPD"
   ]
  },
  {
   "cell_type": "code",
   "execution_count": 44,
   "metadata": {},
   "outputs": [],
   "source": [
    "#get a slice of df where customers have a max dpd of 30 days past due\n",
    "\n",
    "max_dpd_30 = agg_summary.loc[agg_summary[\"max_days_past_due\"]<=30]"
   ]
  },
  {
   "cell_type": "code",
   "execution_count": 45,
   "metadata": {},
   "outputs": [
    {
     "data": {
      "text/html": [
       "<div>\n",
       "<style scoped>\n",
       "    .dataframe tbody tr th:only-of-type {\n",
       "        vertical-align: middle;\n",
       "    }\n",
       "\n",
       "    .dataframe tbody tr th {\n",
       "        vertical-align: top;\n",
       "    }\n",
       "\n",
       "    .dataframe thead th {\n",
       "        text-align: right;\n",
       "    }\n",
       "</style>\n",
       "<table border=\"1\" class=\"dataframe\">\n",
       "  <thead>\n",
       "    <tr style=\"text-align: right;\">\n",
       "      <th></th>\n",
       "      <th>client_mobile_number</th>\n",
       "      <th>store_number</th>\n",
       "      <th>loan_count</th>\n",
       "      <th>loan_status</th>\n",
       "      <th>term_frequency</th>\n",
       "      <th>principal_disbursed</th>\n",
       "      <th>principal_repaid</th>\n",
       "      <th>disbursed_on_date</th>\n",
       "      <th>expected_matured_on_date</th>\n",
       "      <th>closed_on_date</th>\n",
       "      <th>due_date_fixed</th>\n",
       "      <th>days_past_due</th>\n",
       "      <th>bloom_version</th>\n",
       "      <th>loan_repayment_status</th>\n",
       "      <th>max_principal_amount</th>\n",
       "      <th>max_loan_disbursement_date</th>\n",
       "      <th>count_good_loans</th>\n",
       "      <th>good_loans_repayment_ratio</th>\n",
       "      <th>num_days_since_last_disbursement</th>\n",
       "      <th>max_days_past_due</th>\n",
       "    </tr>\n",
       "  </thead>\n",
       "  <tbody>\n",
       "    <tr>\n",
       "      <th>0</th>\n",
       "      <td>254110007123</td>\n",
       "      <td>7761393</td>\n",
       "      <td>2.0</td>\n",
       "      <td>600</td>\n",
       "      <td>7</td>\n",
       "      <td>1500.0</td>\n",
       "      <td>1500.0</td>\n",
       "      <td>2022-08-03</td>\n",
       "      <td>2022-08-10</td>\n",
       "      <td>NaT</td>\n",
       "      <td>2022-08-10</td>\n",
       "      <td>NaN</td>\n",
       "      <td>2.0</td>\n",
       "      <td>0</td>\n",
       "      <td>1500.0</td>\n",
       "      <td>2022-08-03</td>\n",
       "      <td>1.0</td>\n",
       "      <td>0.50</td>\n",
       "      <td>49</td>\n",
       "      <td>0.0</td>\n",
       "    </tr>\n",
       "    <tr>\n",
       "      <th>2</th>\n",
       "      <td>254110023683</td>\n",
       "      <td>7904403</td>\n",
       "      <td>1.0</td>\n",
       "      <td>300</td>\n",
       "      <td>7</td>\n",
       "      <td>2300.0</td>\n",
       "      <td>0.0</td>\n",
       "      <td>2022-09-04</td>\n",
       "      <td>2022-09-11</td>\n",
       "      <td>NaT</td>\n",
       "      <td>2022-09-11</td>\n",
       "      <td>10.0</td>\n",
       "      <td>2.0</td>\n",
       "      <td>active_default</td>\n",
       "      <td>2300.0</td>\n",
       "      <td>2022-09-04</td>\n",
       "      <td>0.0</td>\n",
       "      <td>0.00</td>\n",
       "      <td>17</td>\n",
       "      <td>10.0</td>\n",
       "    </tr>\n",
       "    <tr>\n",
       "      <th>3</th>\n",
       "      <td>254110032116</td>\n",
       "      <td>7414322</td>\n",
       "      <td>11.0</td>\n",
       "      <td>600</td>\n",
       "      <td>1</td>\n",
       "      <td>600.0</td>\n",
       "      <td>600.0</td>\n",
       "      <td>2022-08-08</td>\n",
       "      <td>2022-08-09</td>\n",
       "      <td>NaT</td>\n",
       "      <td>2022-08-09</td>\n",
       "      <td>NaN</td>\n",
       "      <td>2.0</td>\n",
       "      <td>0</td>\n",
       "      <td>600.0</td>\n",
       "      <td>2022-07-22</td>\n",
       "      <td>8.0</td>\n",
       "      <td>0.73</td>\n",
       "      <td>44</td>\n",
       "      <td>0.0</td>\n",
       "    </tr>\n",
       "  </tbody>\n",
       "</table>\n",
       "</div>"
      ],
      "text/plain": [
       "  client_mobile_number store_number  loan_count  loan_status  term_frequency  \\\n",
       "0         254110007123      7761393         2.0          600               7   \n",
       "2         254110023683      7904403         1.0          300               7   \n",
       "3         254110032116      7414322        11.0          600               1   \n",
       "\n",
       "   principal_disbursed  principal_repaid disbursed_on_date  \\\n",
       "0               1500.0            1500.0        2022-08-03   \n",
       "2               2300.0               0.0        2022-09-04   \n",
       "3                600.0             600.0        2022-08-08   \n",
       "\n",
       "  expected_matured_on_date closed_on_date due_date_fixed  days_past_due  \\\n",
       "0               2022-08-10            NaT     2022-08-10            NaN   \n",
       "2               2022-09-11            NaT     2022-09-11           10.0   \n",
       "3               2022-08-09            NaT     2022-08-09            NaN   \n",
       "\n",
       "   bloom_version loan_repayment_status  max_principal_amount  \\\n",
       "0            2.0                     0                1500.0   \n",
       "2            2.0        active_default                2300.0   \n",
       "3            2.0                     0                 600.0   \n",
       "\n",
       "  max_loan_disbursement_date  count_good_loans  good_loans_repayment_ratio  \\\n",
       "0                 2022-08-03               1.0                        0.50   \n",
       "2                 2022-09-04               0.0                        0.00   \n",
       "3                 2022-07-22               8.0                        0.73   \n",
       "\n",
       "   num_days_since_last_disbursement  max_days_past_due  \n",
       "0                                49                0.0  \n",
       "2                                17               10.0  \n",
       "3                                44                0.0  "
      ]
     },
     "execution_count": 45,
     "metadata": {},
     "output_type": "execute_result"
    }
   ],
   "source": [
    "max_dpd_30.head(3)"
   ]
  },
  {
   "cell_type": "code",
   "execution_count": 46,
   "metadata": {},
   "outputs": [],
   "source": [
    "max_dpd_30_list = list(max_dpd_30[\"store_number\"].unique())"
   ]
  },
  {
   "cell_type": "code",
   "execution_count": 47,
   "metadata": {},
   "outputs": [
    {
     "data": {
      "text/plain": [
       "15719"
      ]
     },
     "execution_count": 47,
     "metadata": {},
     "output_type": "execute_result"
    }
   ],
   "source": [
    "len(max_dpd_30_list)"
   ]
  },
  {
   "cell_type": "markdown",
   "metadata": {},
   "source": [
    "---\n",
    "#### get slice of df for loans over the past 3 months i.e 180 days"
   ]
  },
  {
   "cell_type": "code",
   "execution_count": 48,
   "metadata": {},
   "outputs": [],
   "source": [
    "#filter df for 6+ loans & past 90 days\n",
    "\n",
    "current_period = all_loans[\"disbursed_on_date\"].max()\n",
    "target_analysis_period = current_period - pd.DateOffset(months=3)\n",
    "min_loan_amount = 200\n",
    "\n",
    "loans_past_3_months = all_loans.loc[(all_loans[\"disbursed_on_date\"]>=target_analysis_period)&\n",
    "                                    (all_loans[\"principal_disbursed\"]>=min_loan_amount)\n",
    "                                   ]"
   ]
  },
  {
   "cell_type": "code",
   "execution_count": 49,
   "metadata": {},
   "outputs": [
    {
     "data": {
      "text/html": [
       "<div>\n",
       "<style scoped>\n",
       "    .dataframe tbody tr th:only-of-type {\n",
       "        vertical-align: middle;\n",
       "    }\n",
       "\n",
       "    .dataframe tbody tr th {\n",
       "        vertical-align: top;\n",
       "    }\n",
       "\n",
       "    .dataframe thead th {\n",
       "        text-align: right;\n",
       "    }\n",
       "</style>\n",
       "<table border=\"1\" class=\"dataframe\">\n",
       "  <thead>\n",
       "    <tr style=\"text-align: right;\">\n",
       "      <th></th>\n",
       "      <th>client_mifos_id</th>\n",
       "      <th>loan_status</th>\n",
       "      <th>loan_mifos_id</th>\n",
       "      <th>term_frequency</th>\n",
       "      <th>principal_disbursed</th>\n",
       "      <th>principal_repaid</th>\n",
       "      <th>interest_charged</th>\n",
       "      <th>interest_repaid</th>\n",
       "      <th>fee_charges_charged</th>\n",
       "      <th>fee_charges_repaid</th>\n",
       "      <th>penalty_charges_charged</th>\n",
       "      <th>penalty_charges_repaid</th>\n",
       "      <th>total_outstanding</th>\n",
       "      <th>disbursed_on_date</th>\n",
       "      <th>expected_matured_on_date</th>\n",
       "      <th>closed_on_date</th>\n",
       "      <th>store_number</th>\n",
       "      <th>bloom_version</th>\n",
       "      <th>loan_id_product_concat</th>\n",
       "      <th>client_mobile_number</th>\n",
       "      <th>loan_count</th>\n",
       "      <th>loan_rank</th>\n",
       "      <th>due_date_fixed</th>\n",
       "      <th>days_past_due</th>\n",
       "      <th>loan_repayment_status</th>\n",
       "    </tr>\n",
       "  </thead>\n",
       "  <tbody>\n",
       "    <tr>\n",
       "      <th>77620</th>\n",
       "      <td>53322</td>\n",
       "      <td>600</td>\n",
       "      <td>184191</td>\n",
       "      <td>7</td>\n",
       "      <td>1500.0</td>\n",
       "      <td>1500.0</td>\n",
       "      <td>39.01</td>\n",
       "      <td>39.01</td>\n",
       "      <td>0.0</td>\n",
       "      <td>0.0</td>\n",
       "      <td>0.00</td>\n",
       "      <td>0.0</td>\n",
       "      <td>0.00</td>\n",
       "      <td>2022-08-03</td>\n",
       "      <td>2022-08-10</td>\n",
       "      <td>NaT</td>\n",
       "      <td>7761393</td>\n",
       "      <td>2.0</td>\n",
       "      <td>184191-2.0</td>\n",
       "      <td>254110007123</td>\n",
       "      <td>2.0</td>\n",
       "      <td>2.0</td>\n",
       "      <td>2022-08-10</td>\n",
       "      <td>NaN</td>\n",
       "      <td>0</td>\n",
       "    </tr>\n",
       "    <tr>\n",
       "      <th>76891</th>\n",
       "      <td>53322</td>\n",
       "      <td>600</td>\n",
       "      <td>161253</td>\n",
       "      <td>7</td>\n",
       "      <td>1500.0</td>\n",
       "      <td>1500.0</td>\n",
       "      <td>39.01</td>\n",
       "      <td>39.01</td>\n",
       "      <td>0.0</td>\n",
       "      <td>0.0</td>\n",
       "      <td>0.00</td>\n",
       "      <td>0.0</td>\n",
       "      <td>0.00</td>\n",
       "      <td>2022-07-19</td>\n",
       "      <td>2022-07-26</td>\n",
       "      <td>2022-07-26</td>\n",
       "      <td>7761393</td>\n",
       "      <td>2.0</td>\n",
       "      <td>161253-2.0</td>\n",
       "      <td>254110007123</td>\n",
       "      <td>2.0</td>\n",
       "      <td>1.0</td>\n",
       "      <td>2022-07-26</td>\n",
       "      <td>0.0</td>\n",
       "      <td>closed_on_time</td>\n",
       "    </tr>\n",
       "    <tr>\n",
       "      <th>431263</th>\n",
       "      <td>11011</td>\n",
       "      <td>300</td>\n",
       "      <td>118239</td>\n",
       "      <td>21</td>\n",
       "      <td>14400.0</td>\n",
       "      <td>0.0</td>\n",
       "      <td>1094.41</td>\n",
       "      <td>0.00</td>\n",
       "      <td>237.6</td>\n",
       "      <td>0.0</td>\n",
       "      <td>6349.07</td>\n",
       "      <td>0.0</td>\n",
       "      <td>22081.08</td>\n",
       "      <td>2022-06-09</td>\n",
       "      <td>2022-06-30</td>\n",
       "      <td>NaT</td>\n",
       "      <td>7767671</td>\n",
       "      <td>2.0</td>\n",
       "      <td>118239-2.0</td>\n",
       "      <td>254110013557</td>\n",
       "      <td>6.0</td>\n",
       "      <td>6.0</td>\n",
       "      <td>2022-06-30</td>\n",
       "      <td>83.0</td>\n",
       "      <td>active_default</td>\n",
       "    </tr>\n",
       "  </tbody>\n",
       "</table>\n",
       "</div>"
      ],
      "text/plain": [
       "       client_mifos_id  loan_status  loan_mifos_id  term_frequency  \\\n",
       "77620            53322          600         184191               7   \n",
       "76891            53322          600         161253               7   \n",
       "431263           11011          300         118239              21   \n",
       "\n",
       "        principal_disbursed  principal_repaid  interest_charged  \\\n",
       "77620                1500.0            1500.0             39.01   \n",
       "76891                1500.0            1500.0             39.01   \n",
       "431263              14400.0               0.0           1094.41   \n",
       "\n",
       "        interest_repaid  fee_charges_charged  fee_charges_repaid  \\\n",
       "77620             39.01                  0.0                 0.0   \n",
       "76891             39.01                  0.0                 0.0   \n",
       "431263             0.00                237.6                 0.0   \n",
       "\n",
       "        penalty_charges_charged  penalty_charges_repaid  total_outstanding  \\\n",
       "77620                      0.00                     0.0               0.00   \n",
       "76891                      0.00                     0.0               0.00   \n",
       "431263                  6349.07                     0.0           22081.08   \n",
       "\n",
       "       disbursed_on_date expected_matured_on_date closed_on_date store_number  \\\n",
       "77620         2022-08-03               2022-08-10            NaT      7761393   \n",
       "76891         2022-07-19               2022-07-26     2022-07-26      7761393   \n",
       "431263        2022-06-09               2022-06-30            NaT      7767671   \n",
       "\n",
       "        bloom_version loan_id_product_concat client_mobile_number  loan_count  \\\n",
       "77620             2.0             184191-2.0         254110007123         2.0   \n",
       "76891             2.0             161253-2.0         254110007123         2.0   \n",
       "431263            2.0             118239-2.0         254110013557         6.0   \n",
       "\n",
       "        loan_rank due_date_fixed  days_past_due loan_repayment_status  \n",
       "77620         2.0     2022-08-10            NaN                     0  \n",
       "76891         1.0     2022-07-26            0.0        closed_on_time  \n",
       "431263        6.0     2022-06-30           83.0        active_default  "
      ]
     },
     "execution_count": 49,
     "metadata": {},
     "output_type": "execute_result"
    }
   ],
   "source": [
    "all_loans.head(3)"
   ]
  },
  {
   "cell_type": "code",
   "execution_count": 50,
   "metadata": {},
   "outputs": [
    {
     "data": {
      "text/plain": [
       "(361069, 25)"
      ]
     },
     "execution_count": 50,
     "metadata": {},
     "output_type": "execute_result"
    }
   ],
   "source": [
    "all_loans.shape"
   ]
  },
  {
   "cell_type": "code",
   "execution_count": 51,
   "metadata": {},
   "outputs": [],
   "source": [
    "#drop rows where store number is null\n",
    "\n",
    "loans_past_3_months = loans_past_3_months.loc[loans_past_3_months[\"store_number\"].notnull()]"
   ]
  },
  {
   "cell_type": "code",
   "execution_count": 52,
   "metadata": {},
   "outputs": [],
   "source": [
    "#calculate num of loans taken past 3 months\n",
    "\n",
    "loans_past_3_months[\"loan_count_past_3_months\"] = loans_past_3_months.groupby(\"store_number\")[\"store_number\"].transform('size')"
   ]
  },
  {
   "cell_type": "code",
   "execution_count": 53,
   "metadata": {},
   "outputs": [],
   "source": [
    "#create loan count column i.e adds a new column that captures the num of 7-day loans a customer has taken\n",
    "loans_past_3_months[\"count_7_day_loans\"] = loans_past_3_months.loc[loans_past_3_months[\"term_frequency\"]==7].groupby(\"store_number\")[\"store_number\"].transform('size')"
   ]
  },
  {
   "cell_type": "code",
   "execution_count": 54,
   "metadata": {},
   "outputs": [],
   "source": [
    "#fill rest of missing values with zeros\n",
    "\n",
    "cols_fillna = [\"count_7_day_loans\"]\n",
    "# replace 'NaN' with zero in these columns\n",
    "for col in cols_fillna:\n",
    "    loans_past_3_months[col].fillna(0,inplace=True)"
   ]
  },
  {
   "cell_type": "code",
   "execution_count": 55,
   "metadata": {},
   "outputs": [
    {
     "data": {
      "text/plain": [
       "17300"
      ]
     },
     "execution_count": 55,
     "metadata": {},
     "output_type": "execute_result"
    }
   ],
   "source": [
    "#how many customers have taken a loan over the past\n",
    "\n",
    "loans_past_3_months[\"store_number\"].nunique()"
   ]
  },
  {
   "cell_type": "code",
   "execution_count": 56,
   "metadata": {},
   "outputs": [
    {
     "data": {
      "text/html": [
       "<div>\n",
       "<style scoped>\n",
       "    .dataframe tbody tr th:only-of-type {\n",
       "        vertical-align: middle;\n",
       "    }\n",
       "\n",
       "    .dataframe tbody tr th {\n",
       "        vertical-align: top;\n",
       "    }\n",
       "\n",
       "    .dataframe thead th {\n",
       "        text-align: right;\n",
       "    }\n",
       "</style>\n",
       "<table border=\"1\" class=\"dataframe\">\n",
       "  <thead>\n",
       "    <tr style=\"text-align: right;\">\n",
       "      <th></th>\n",
       "      <th>client_mifos_id</th>\n",
       "      <th>loan_status</th>\n",
       "      <th>loan_mifos_id</th>\n",
       "      <th>term_frequency</th>\n",
       "      <th>principal_disbursed</th>\n",
       "      <th>principal_repaid</th>\n",
       "      <th>interest_charged</th>\n",
       "      <th>interest_repaid</th>\n",
       "      <th>fee_charges_charged</th>\n",
       "      <th>fee_charges_repaid</th>\n",
       "      <th>penalty_charges_charged</th>\n",
       "      <th>penalty_charges_repaid</th>\n",
       "      <th>total_outstanding</th>\n",
       "      <th>disbursed_on_date</th>\n",
       "      <th>expected_matured_on_date</th>\n",
       "      <th>closed_on_date</th>\n",
       "      <th>store_number</th>\n",
       "      <th>bloom_version</th>\n",
       "      <th>loan_id_product_concat</th>\n",
       "      <th>client_mobile_number</th>\n",
       "      <th>loan_count</th>\n",
       "      <th>loan_rank</th>\n",
       "      <th>due_date_fixed</th>\n",
       "      <th>days_past_due</th>\n",
       "      <th>loan_repayment_status</th>\n",
       "      <th>loan_count_past_3_months</th>\n",
       "      <th>count_7_day_loans</th>\n",
       "    </tr>\n",
       "  </thead>\n",
       "  <tbody>\n",
       "    <tr>\n",
       "      <th>77620</th>\n",
       "      <td>53322</td>\n",
       "      <td>600</td>\n",
       "      <td>184191</td>\n",
       "      <td>7</td>\n",
       "      <td>1500.0</td>\n",
       "      <td>1500.0</td>\n",
       "      <td>39.01</td>\n",
       "      <td>39.01</td>\n",
       "      <td>0.0</td>\n",
       "      <td>0.0</td>\n",
       "      <td>0.0</td>\n",
       "      <td>0.0</td>\n",
       "      <td>0.0</td>\n",
       "      <td>2022-08-03</td>\n",
       "      <td>2022-08-10</td>\n",
       "      <td>NaT</td>\n",
       "      <td>7761393</td>\n",
       "      <td>2.0</td>\n",
       "      <td>184191-2.0</td>\n",
       "      <td>254110007123</td>\n",
       "      <td>2.0</td>\n",
       "      <td>2.0</td>\n",
       "      <td>2022-08-10</td>\n",
       "      <td>NaN</td>\n",
       "      <td>0</td>\n",
       "      <td>2</td>\n",
       "      <td>2.0</td>\n",
       "    </tr>\n",
       "    <tr>\n",
       "      <th>76891</th>\n",
       "      <td>53322</td>\n",
       "      <td>600</td>\n",
       "      <td>161253</td>\n",
       "      <td>7</td>\n",
       "      <td>1500.0</td>\n",
       "      <td>1500.0</td>\n",
       "      <td>39.01</td>\n",
       "      <td>39.01</td>\n",
       "      <td>0.0</td>\n",
       "      <td>0.0</td>\n",
       "      <td>0.0</td>\n",
       "      <td>0.0</td>\n",
       "      <td>0.0</td>\n",
       "      <td>2022-07-19</td>\n",
       "      <td>2022-07-26</td>\n",
       "      <td>2022-07-26</td>\n",
       "      <td>7761393</td>\n",
       "      <td>2.0</td>\n",
       "      <td>161253-2.0</td>\n",
       "      <td>254110007123</td>\n",
       "      <td>2.0</td>\n",
       "      <td>1.0</td>\n",
       "      <td>2022-07-26</td>\n",
       "      <td>0.0</td>\n",
       "      <td>closed_on_time</td>\n",
       "      <td>2</td>\n",
       "      <td>2.0</td>\n",
       "    </tr>\n",
       "  </tbody>\n",
       "</table>\n",
       "</div>"
      ],
      "text/plain": [
       "      client_mifos_id  loan_status  loan_mifos_id  term_frequency  \\\n",
       "77620           53322          600         184191               7   \n",
       "76891           53322          600         161253               7   \n",
       "\n",
       "       principal_disbursed  principal_repaid  interest_charged  \\\n",
       "77620               1500.0            1500.0             39.01   \n",
       "76891               1500.0            1500.0             39.01   \n",
       "\n",
       "       interest_repaid  fee_charges_charged  fee_charges_repaid  \\\n",
       "77620            39.01                  0.0                 0.0   \n",
       "76891            39.01                  0.0                 0.0   \n",
       "\n",
       "       penalty_charges_charged  penalty_charges_repaid  total_outstanding  \\\n",
       "77620                      0.0                     0.0                0.0   \n",
       "76891                      0.0                     0.0                0.0   \n",
       "\n",
       "      disbursed_on_date expected_matured_on_date closed_on_date store_number  \\\n",
       "77620        2022-08-03               2022-08-10            NaT      7761393   \n",
       "76891        2022-07-19               2022-07-26     2022-07-26      7761393   \n",
       "\n",
       "       bloom_version loan_id_product_concat client_mobile_number  loan_count  \\\n",
       "77620            2.0             184191-2.0         254110007123         2.0   \n",
       "76891            2.0             161253-2.0         254110007123         2.0   \n",
       "\n",
       "       loan_rank due_date_fixed  days_past_due loan_repayment_status  \\\n",
       "77620        2.0     2022-08-10            NaN                     0   \n",
       "76891        1.0     2022-07-26            0.0        closed_on_time   \n",
       "\n",
       "       loan_count_past_3_months  count_7_day_loans  \n",
       "77620                         2                2.0  \n",
       "76891                         2                2.0  "
      ]
     },
     "execution_count": 56,
     "metadata": {},
     "output_type": "execute_result"
    }
   ],
   "source": [
    "loans_past_3_months.head(2)"
   ]
  },
  {
   "cell_type": "code",
   "execution_count": 57,
   "metadata": {},
   "outputs": [
    {
     "data": {
      "text/html": [
       "<div>\n",
       "<style scoped>\n",
       "    .dataframe tbody tr th:only-of-type {\n",
       "        vertical-align: middle;\n",
       "    }\n",
       "\n",
       "    .dataframe tbody tr th {\n",
       "        vertical-align: top;\n",
       "    }\n",
       "\n",
       "    .dataframe thead th {\n",
       "        text-align: right;\n",
       "    }\n",
       "</style>\n",
       "<table border=\"1\" class=\"dataframe\">\n",
       "  <thead>\n",
       "    <tr style=\"text-align: right;\">\n",
       "      <th></th>\n",
       "      <th>store_number</th>\n",
       "      <th>loan_count_past_3_months</th>\n",
       "    </tr>\n",
       "  </thead>\n",
       "  <tbody>\n",
       "    <tr>\n",
       "      <th>0</th>\n",
       "      <td>110501</td>\n",
       "      <td>3</td>\n",
       "    </tr>\n",
       "    <tr>\n",
       "      <th>1</th>\n",
       "      <td>110901</td>\n",
       "      <td>4</td>\n",
       "    </tr>\n",
       "    <tr>\n",
       "      <th>2</th>\n",
       "      <td>110929</td>\n",
       "      <td>2</td>\n",
       "    </tr>\n",
       "  </tbody>\n",
       "</table>\n",
       "</div>"
      ],
      "text/plain": [
       "  store_number  loan_count_past_3_months\n",
       "0       110501                         3\n",
       "1       110901                         4\n",
       "2       110929                         2"
      ]
     },
     "execution_count": 57,
     "metadata": {},
     "output_type": "execute_result"
    }
   ],
   "source": [
    "loans_past_3_months_stores = loans_past_3_months.groupby(['store_number'], as_index=False)['loan_count_past_3_months'].max()\n",
    "loans_past_3_months_stores.head(3)"
   ]
  },
  {
   "cell_type": "code",
   "execution_count": 58,
   "metadata": {},
   "outputs": [
    {
     "data": {
      "text/plain": [
       "(17300, 2)"
      ]
     },
     "execution_count": 58,
     "metadata": {},
     "output_type": "execute_result"
    }
   ],
   "source": [
    "loans_past_3_months_stores.shape"
   ]
  },
  {
   "cell_type": "code",
   "execution_count": 59,
   "metadata": {},
   "outputs": [],
   "source": [
    "#get list of all store numbers\n",
    "\n",
    "loans_past_3_months_list = list(loans_past_3_months[\"store_number\"].unique())"
   ]
  },
  {
   "cell_type": "markdown",
   "metadata": {},
   "source": [
    "---\n",
    "##### get agg summaries for past 3 months 7-day loans summaries"
   ]
  },
  {
   "cell_type": "code",
   "execution_count": 60,
   "metadata": {
    "scrolled": true
   },
   "outputs": [],
   "source": [
    "#get aggregate summary with avg loan tenure\n",
    "\n",
    "loans_past_3_months_summary = round(loans_past_3_months.groupby(\"store_number\")[\"term_frequency\"].aggregate(\"mean\").rename(\"avg_loan_tenure\").reset_index(), 0)"
   ]
  },
  {
   "cell_type": "code",
   "execution_count": 61,
   "metadata": {},
   "outputs": [],
   "source": [
    "#get summary of number of 7 day loans a customer has taken\n",
    "\n",
    "loans_past_3_months_summary = pd.merge(loans_past_3_months_summary, loans_past_3_months.groupby(\"store_number\")[\"count_7_day_loans\"].max().rename(\"count_7_day_loans\").reset_index(), how=\"left\", on=\"store_number\")"
   ]
  },
  {
   "cell_type": "code",
   "execution_count": 62,
   "metadata": {},
   "outputs": [],
   "source": [
    "#merge df to get number of 7 day loans paid upto rollover\n",
    "\n",
    "loans_past_3_months_summary = pd.merge(loans_past_3_months_summary, (loans_past_3_months.loc[loans_past_3_months[\"term_frequency\"]==7].loc[\n",
    "    (loans_past_3_months[\"loan_repayment_status\"]== \"closed_early_repayment\")|\n",
    "    (loans_past_3_months[\"loan_repayment_status\"]== \"closed_early_repayment_overpaid\")|\n",
    "    (loans_past_3_months[\"loan_repayment_status\"]== \"closed_on_time\")|\n",
    "    (loans_past_3_months[\"loan_repayment_status\"]== \"closed_on_time_overpaid\")|\n",
    "    (loans_past_3_months[\"loan_repayment_status\"]== \"current_active\")|\n",
    "    (loans_past_3_months[\"loan_repayment_status\"]== \"active_rollover\")|\n",
    "    (loans_past_3_months[\"loan_repayment_status\"]== \"closed_rollover\")|\n",
    "    (loans_past_3_months[\"loan_repayment_status\"]== \"closed_rollover_overpaid\")\n",
    "]).groupby(\"store_number\")[\"client_mifos_id\"].aggregate(\"count\").rename(\"count_7_day_loans_paid_upto_rollover\").reset_index(), how=\"left\", on=\"store_number\")"
   ]
  },
  {
   "cell_type": "code",
   "execution_count": 63,
   "metadata": {},
   "outputs": [],
   "source": [
    "#fill rest of missing values with zeros\n",
    "\n",
    "cols_fillna = [\"count_7_day_loans_paid_upto_rollover\"]\n",
    "# replace 'NaN' with zero in these columns\n",
    "for col in cols_fillna:\n",
    "    loans_past_3_months_summary[col].fillna(0,inplace=True)"
   ]
  },
  {
   "cell_type": "code",
   "execution_count": 64,
   "metadata": {},
   "outputs": [],
   "source": [
    "#calculate good repayment ratios for the borrowers\n",
    "\n",
    "loans_past_3_months_summary[\"good_loans_repayment_ratio(7_day_loans)\"] = round(loans_past_3_months_summary[\"count_7_day_loans_paid_upto_rollover\"]/loans_past_3_months_summary[\"count_7_day_loans\"], 2)"
   ]
  },
  {
   "cell_type": "code",
   "execution_count": 65,
   "metadata": {},
   "outputs": [],
   "source": [
    "#fill rest of missing values with zeros\n",
    "\n",
    "cols_fillna = [\"good_loans_repayment_ratio(7_day_loans)\"]\n",
    "# replace 'NaN' with zero in these columns\n",
    "for col in cols_fillna:\n",
    "    loans_past_3_months_summary[col].fillna(0,inplace=True)"
   ]
  },
  {
   "cell_type": "code",
   "execution_count": 66,
   "metadata": {},
   "outputs": [],
   "source": [
    "# get minimum amount disbursed for a 7 day loan\n",
    "\n",
    "loans_past_3_months_summary = pd.merge(loans_past_3_months_summary, loans_past_3_months.loc[loans_past_3_months[\"term_frequency\"]==7].groupby(\"store_number\")[\"principal_disbursed\"].min().rename(\"minimum_7_day_principal_disbursed\").reset_index(), how=\"left\", on=\"store_number\")"
   ]
  },
  {
   "cell_type": "code",
   "execution_count": 67,
   "metadata": {},
   "outputs": [],
   "source": [
    "# get total amount disbursed for a 7 day loan\n",
    "\n",
    "loans_past_3_months_summary = pd.merge(loans_past_3_months_summary, loans_past_3_months.loc[loans_past_3_months[\"term_frequency\"]==7].groupby(\"store_number\")[\"principal_disbursed\"].sum().rename(\"total_sum_7_day_principal_disbursed\").reset_index(), how=\"left\", on=\"store_number\")"
   ]
  },
  {
   "cell_type": "code",
   "execution_count": 68,
   "metadata": {},
   "outputs": [],
   "source": [
    "# get total amount disbursed for a 1 day loan\n",
    "\n",
    "loans_past_3_months_summary = pd.merge(loans_past_3_months_summary, loans_past_3_months.loc[loans_past_3_months[\"term_frequency\"]==1].groupby(\"store_number\")[\"principal_disbursed\"].sum().rename(\"total_sum_1_day_principal_disbursed\").reset_index(), how=\"left\", on=\"store_number\")"
   ]
  },
  {
   "cell_type": "code",
   "execution_count": 69,
   "metadata": {},
   "outputs": [],
   "source": [
    "#fill rest of missing values with zeros\n",
    "\n",
    "cols_fillna = [\"minimum_7_day_principal_disbursed\"]\n",
    "# replace 'NaN' with zero in these columns\n",
    "for col in cols_fillna:\n",
    "    loans_past_3_months_summary[col].fillna(0,inplace=True)"
   ]
  },
  {
   "cell_type": "code",
   "execution_count": 70,
   "metadata": {},
   "outputs": [],
   "source": [
    "#fill rest of missing values with zeros\n",
    "\n",
    "cols_fillna = [\"total_sum_7_day_principal_disbursed\"]\n",
    "# replace 'NaN' with zero in these columns\n",
    "for col in cols_fillna:\n",
    "    loans_past_3_months_summary[col].fillna(0,inplace=True)"
   ]
  },
  {
   "cell_type": "code",
   "execution_count": 71,
   "metadata": {},
   "outputs": [],
   "source": [
    "#fill rest of missing values with zeros\n",
    "\n",
    "cols_fillna = [\"total_sum_1_day_principal_disbursed\"]\n",
    "# replace 'NaN' with zero in these columns\n",
    "for col in cols_fillna:\n",
    "    loans_past_3_months_summary[col].fillna(0,inplace=True)"
   ]
  },
  {
   "cell_type": "code",
   "execution_count": 72,
   "metadata": {},
   "outputs": [],
   "source": [
    "#get the average 7 day loan principal ==> proxy for 7 day limit\n",
    "\n",
    "loans_past_3_months_summary = pd.merge(loans_past_3_months_summary, loans_past_3_months.loc[loans_past_3_months[\"term_frequency\"]==7].groupby(\"store_number\")[\"principal_disbursed\"].mean().rename(\"avg_7_day_principal_disbursed\").reset_index(), how=\"left\", on=\"store_number\")"
   ]
  },
  {
   "cell_type": "code",
   "execution_count": 73,
   "metadata": {},
   "outputs": [],
   "source": [
    "#fill rest of missing values with zeros\n",
    "\n",
    "cols_fillna = [\"avg_7_day_principal_disbursed\"]\n",
    "# replace 'NaN' with zero in these columns\n",
    "for col in cols_fillna:\n",
    "    loans_past_3_months_summary[col].fillna(0,inplace=True)"
   ]
  },
  {
   "cell_type": "code",
   "execution_count": 74,
   "metadata": {},
   "outputs": [],
   "source": [
    "def approximate_21_day_limit(df):\n",
    "    \"\"\"\n",
    "    \"\"\"\n",
    "    \n",
    "    seven_day_limit = df[\"avg_7_day_principal_disbursed\"]\n",
    "    seven_day_limit_factor = 0.17\n",
    "    twenty_one_day_limit_factor = 0.5\n",
    "    product_cap = 200000\n",
    "    zero = 0\n",
    "    \n",
    "    operation = (np.ceil(((df[\"avg_7_day_principal_disbursed\"]*twenty_one_day_limit_factor)/seven_day_limit_factor)/100) * 100).astype(int)\n",
    "    \n",
    "    conditions = [\n",
    "        seven_day_limit.eq(zero),\n",
    "        operation.le(product_cap),\n",
    "        operation.gt(product_cap),\n",
    "    ]\n",
    "    \n",
    "    choices = [\n",
    "        zero,\n",
    "        operation,\n",
    "        product_cap,\n",
    "    ]\n",
    "    \n",
    "    limit_col = np.select(conditions, choices)\n",
    "    \n",
    "    return limit_col\n",
    "\n",
    "#execute function\n",
    "\n",
    "loans_past_3_months_summary[\"21_day_limit\"] = approximate_21_day_limit(loans_past_3_months_summary)"
   ]
  },
  {
   "cell_type": "code",
   "execution_count": 75,
   "metadata": {},
   "outputs": [
    {
     "data": {
      "text/plain": [
       "(17300, 10)"
      ]
     },
     "execution_count": 75,
     "metadata": {},
     "output_type": "execute_result"
    }
   ],
   "source": [
    "loans_past_3_months_summary.shape"
   ]
  },
  {
   "cell_type": "code",
   "execution_count": 76,
   "metadata": {},
   "outputs": [
    {
     "data": {
      "text/html": [
       "<div>\n",
       "<style scoped>\n",
       "    .dataframe tbody tr th:only-of-type {\n",
       "        vertical-align: middle;\n",
       "    }\n",
       "\n",
       "    .dataframe tbody tr th {\n",
       "        vertical-align: top;\n",
       "    }\n",
       "\n",
       "    .dataframe thead th {\n",
       "        text-align: right;\n",
       "    }\n",
       "</style>\n",
       "<table border=\"1\" class=\"dataframe\">\n",
       "  <thead>\n",
       "    <tr style=\"text-align: right;\">\n",
       "      <th></th>\n",
       "      <th>store_number</th>\n",
       "      <th>avg_loan_tenure</th>\n",
       "      <th>count_7_day_loans</th>\n",
       "      <th>count_7_day_loans_paid_upto_rollover</th>\n",
       "      <th>good_loans_repayment_ratio(7_day_loans)</th>\n",
       "      <th>minimum_7_day_principal_disbursed</th>\n",
       "      <th>total_sum_7_day_principal_disbursed</th>\n",
       "      <th>total_sum_1_day_principal_disbursed</th>\n",
       "      <th>avg_7_day_principal_disbursed</th>\n",
       "      <th>21_day_limit</th>\n",
       "    </tr>\n",
       "  </thead>\n",
       "  <tbody>\n",
       "    <tr>\n",
       "      <th>0</th>\n",
       "      <td>110501</td>\n",
       "      <td>21.0</td>\n",
       "      <td>0.0</td>\n",
       "      <td>0.0</td>\n",
       "      <td>0.0</td>\n",
       "      <td>0.0</td>\n",
       "      <td>0.0</td>\n",
       "      <td>0.0</td>\n",
       "      <td>0.0</td>\n",
       "      <td>0</td>\n",
       "    </tr>\n",
       "    <tr>\n",
       "      <th>1</th>\n",
       "      <td>110901</td>\n",
       "      <td>18.0</td>\n",
       "      <td>1.0</td>\n",
       "      <td>1.0</td>\n",
       "      <td>1.0</td>\n",
       "      <td>36000.0</td>\n",
       "      <td>36000.0</td>\n",
       "      <td>0.0</td>\n",
       "      <td>36000.0</td>\n",
       "      <td>105900</td>\n",
       "    </tr>\n",
       "    <tr>\n",
       "      <th>2</th>\n",
       "      <td>110929</td>\n",
       "      <td>7.0</td>\n",
       "      <td>2.0</td>\n",
       "      <td>2.0</td>\n",
       "      <td>1.0</td>\n",
       "      <td>1600.0</td>\n",
       "      <td>3200.0</td>\n",
       "      <td>0.0</td>\n",
       "      <td>1600.0</td>\n",
       "      <td>4800</td>\n",
       "    </tr>\n",
       "    <tr>\n",
       "      <th>3</th>\n",
       "      <td>110970</td>\n",
       "      <td>21.0</td>\n",
       "      <td>0.0</td>\n",
       "      <td>0.0</td>\n",
       "      <td>0.0</td>\n",
       "      <td>0.0</td>\n",
       "      <td>0.0</td>\n",
       "      <td>0.0</td>\n",
       "      <td>0.0</td>\n",
       "      <td>0</td>\n",
       "    </tr>\n",
       "    <tr>\n",
       "      <th>4</th>\n",
       "      <td>111160</td>\n",
       "      <td>16.0</td>\n",
       "      <td>1.0</td>\n",
       "      <td>1.0</td>\n",
       "      <td>1.0</td>\n",
       "      <td>8000.0</td>\n",
       "      <td>8000.0</td>\n",
       "      <td>0.0</td>\n",
       "      <td>8000.0</td>\n",
       "      <td>23600</td>\n",
       "    </tr>\n",
       "  </tbody>\n",
       "</table>\n",
       "</div>"
      ],
      "text/plain": [
       "  store_number  avg_loan_tenure  count_7_day_loans  \\\n",
       "0       110501             21.0                0.0   \n",
       "1       110901             18.0                1.0   \n",
       "2       110929              7.0                2.0   \n",
       "3       110970             21.0                0.0   \n",
       "4       111160             16.0                1.0   \n",
       "\n",
       "   count_7_day_loans_paid_upto_rollover  \\\n",
       "0                                   0.0   \n",
       "1                                   1.0   \n",
       "2                                   2.0   \n",
       "3                                   0.0   \n",
       "4                                   1.0   \n",
       "\n",
       "   good_loans_repayment_ratio(7_day_loans)  minimum_7_day_principal_disbursed  \\\n",
       "0                                      0.0                                0.0   \n",
       "1                                      1.0                            36000.0   \n",
       "2                                      1.0                             1600.0   \n",
       "3                                      0.0                                0.0   \n",
       "4                                      1.0                             8000.0   \n",
       "\n",
       "   total_sum_7_day_principal_disbursed  total_sum_1_day_principal_disbursed  \\\n",
       "0                                  0.0                                  0.0   \n",
       "1                              36000.0                                  0.0   \n",
       "2                               3200.0                                  0.0   \n",
       "3                                  0.0                                  0.0   \n",
       "4                               8000.0                                  0.0   \n",
       "\n",
       "   avg_7_day_principal_disbursed  21_day_limit  \n",
       "0                            0.0             0  \n",
       "1                        36000.0        105900  \n",
       "2                         1600.0          4800  \n",
       "3                            0.0             0  \n",
       "4                         8000.0         23600  "
      ]
     },
     "execution_count": 76,
     "metadata": {},
     "output_type": "execute_result"
    }
   ],
   "source": [
    "loans_past_3_months_summary.head()"
   ]
  },
  {
   "cell_type": "code",
   "execution_count": 77,
   "metadata": {},
   "outputs": [
    {
     "data": {
      "text/plain": [
       "5606"
      ]
     },
     "execution_count": 77,
     "metadata": {},
     "output_type": "execute_result"
    }
   ],
   "source": [
    "#### num of customers with loans repayment ratio of >=90% for their 7 day loans over the past 3 months\n",
    "\n",
    "loans_past_3_months_summary.loc[loans_past_3_months_summary[\"good_loans_repayment_ratio(7_day_loans)\"]>=0.9][\"store_number\"].nunique()"
   ]
  },
  {
   "cell_type": "code",
   "execution_count": 78,
   "metadata": {},
   "outputs": [
    {
     "data": {
      "text/plain": [
       "3334"
      ]
     },
     "execution_count": 78,
     "metadata": {},
     "output_type": "execute_result"
    }
   ],
   "source": [
    "# num of customers with total 1 day sum of principal > 35K\n",
    "\n",
    "loans_past_3_months_summary.loc[loans_past_3_months_summary[\"total_sum_7_day_principal_disbursed\"]>=35000][\"store_number\"].nunique()"
   ]
  },
  {
   "cell_type": "code",
   "execution_count": 79,
   "metadata": {},
   "outputs": [
    {
     "data": {
      "text/plain": [
       "6166"
      ]
     },
     "execution_count": 79,
     "metadata": {},
     "output_type": "execute_result"
    }
   ],
   "source": [
    "loans_past_3_months_summary.loc[loans_past_3_months_summary[\"count_7_day_loans\"]>=3][\"store_number\"].nunique()"
   ]
  },
  {
   "cell_type": "code",
   "execution_count": 80,
   "metadata": {},
   "outputs": [
    {
     "data": {
      "text/plain": [
       "7953"
      ]
     },
     "execution_count": 80,
     "metadata": {},
     "output_type": "execute_result"
    }
   ],
   "source": [
    "# num of customers with 21 day exceeding 7500\n",
    "\n",
    "loans_past_3_months_summary.loc[loans_past_3_months_summary[\"21_day_limit\"]>=7500][\"store_number\"].nunique()"
   ]
  },
  {
   "cell_type": "code",
   "execution_count": 81,
   "metadata": {},
   "outputs": [
    {
     "data": {
      "text/plain": [
       "16174"
      ]
     },
     "execution_count": 81,
     "metadata": {},
     "output_type": "execute_result"
    }
   ],
   "source": [
    "# num of customers with an average loan tenure greater than 1\n",
    "\n",
    "loans_past_3_months_summary.loc[loans_past_3_months_summary[\"avg_loan_tenure\"]>1][\"store_number\"].nunique()"
   ]
  },
  {
   "cell_type": "code",
   "execution_count": 82,
   "metadata": {},
   "outputs": [
    {
     "data": {
      "text/html": [
       "<div>\n",
       "<style scoped>\n",
       "    .dataframe tbody tr th:only-of-type {\n",
       "        vertical-align: middle;\n",
       "    }\n",
       "\n",
       "    .dataframe tbody tr th {\n",
       "        vertical-align: top;\n",
       "    }\n",
       "\n",
       "    .dataframe thead th {\n",
       "        text-align: right;\n",
       "    }\n",
       "</style>\n",
       "<table border=\"1\" class=\"dataframe\">\n",
       "  <thead>\n",
       "    <tr style=\"text-align: right;\">\n",
       "      <th></th>\n",
       "      <th>store_number</th>\n",
       "      <th>avg_loan_tenure</th>\n",
       "      <th>count_7_day_loans</th>\n",
       "      <th>count_7_day_loans_paid_upto_rollover</th>\n",
       "      <th>good_loans_repayment_ratio(7_day_loans)</th>\n",
       "      <th>minimum_7_day_principal_disbursed</th>\n",
       "      <th>total_sum_7_day_principal_disbursed</th>\n",
       "      <th>total_sum_1_day_principal_disbursed</th>\n",
       "      <th>avg_7_day_principal_disbursed</th>\n",
       "      <th>21_day_limit</th>\n",
       "    </tr>\n",
       "  </thead>\n",
       "  <tbody>\n",
       "    <tr>\n",
       "      <th>0</th>\n",
       "      <td>110501</td>\n",
       "      <td>21.0</td>\n",
       "      <td>0.0</td>\n",
       "      <td>0.0</td>\n",
       "      <td>0.0</td>\n",
       "      <td>0.0</td>\n",
       "      <td>0.0</td>\n",
       "      <td>0.0</td>\n",
       "      <td>0.0</td>\n",
       "      <td>0</td>\n",
       "    </tr>\n",
       "    <tr>\n",
       "      <th>1</th>\n",
       "      <td>110901</td>\n",
       "      <td>18.0</td>\n",
       "      <td>1.0</td>\n",
       "      <td>1.0</td>\n",
       "      <td>1.0</td>\n",
       "      <td>36000.0</td>\n",
       "      <td>36000.0</td>\n",
       "      <td>0.0</td>\n",
       "      <td>36000.0</td>\n",
       "      <td>105900</td>\n",
       "    </tr>\n",
       "    <tr>\n",
       "      <th>2</th>\n",
       "      <td>110929</td>\n",
       "      <td>7.0</td>\n",
       "      <td>2.0</td>\n",
       "      <td>2.0</td>\n",
       "      <td>1.0</td>\n",
       "      <td>1600.0</td>\n",
       "      <td>3200.0</td>\n",
       "      <td>0.0</td>\n",
       "      <td>1600.0</td>\n",
       "      <td>4800</td>\n",
       "    </tr>\n",
       "    <tr>\n",
       "      <th>3</th>\n",
       "      <td>110970</td>\n",
       "      <td>21.0</td>\n",
       "      <td>0.0</td>\n",
       "      <td>0.0</td>\n",
       "      <td>0.0</td>\n",
       "      <td>0.0</td>\n",
       "      <td>0.0</td>\n",
       "      <td>0.0</td>\n",
       "      <td>0.0</td>\n",
       "      <td>0</td>\n",
       "    </tr>\n",
       "    <tr>\n",
       "      <th>4</th>\n",
       "      <td>111160</td>\n",
       "      <td>16.0</td>\n",
       "      <td>1.0</td>\n",
       "      <td>1.0</td>\n",
       "      <td>1.0</td>\n",
       "      <td>8000.0</td>\n",
       "      <td>8000.0</td>\n",
       "      <td>0.0</td>\n",
       "      <td>8000.0</td>\n",
       "      <td>23600</td>\n",
       "    </tr>\n",
       "  </tbody>\n",
       "</table>\n",
       "</div>"
      ],
      "text/plain": [
       "  store_number  avg_loan_tenure  count_7_day_loans  \\\n",
       "0       110501             21.0                0.0   \n",
       "1       110901             18.0                1.0   \n",
       "2       110929              7.0                2.0   \n",
       "3       110970             21.0                0.0   \n",
       "4       111160             16.0                1.0   \n",
       "\n",
       "   count_7_day_loans_paid_upto_rollover  \\\n",
       "0                                   0.0   \n",
       "1                                   1.0   \n",
       "2                                   2.0   \n",
       "3                                   0.0   \n",
       "4                                   1.0   \n",
       "\n",
       "   good_loans_repayment_ratio(7_day_loans)  minimum_7_day_principal_disbursed  \\\n",
       "0                                      0.0                                0.0   \n",
       "1                                      1.0                            36000.0   \n",
       "2                                      1.0                             1600.0   \n",
       "3                                      0.0                                0.0   \n",
       "4                                      1.0                             8000.0   \n",
       "\n",
       "   total_sum_7_day_principal_disbursed  total_sum_1_day_principal_disbursed  \\\n",
       "0                                  0.0                                  0.0   \n",
       "1                              36000.0                                  0.0   \n",
       "2                               3200.0                                  0.0   \n",
       "3                                  0.0                                  0.0   \n",
       "4                               8000.0                                  0.0   \n",
       "\n",
       "   avg_7_day_principal_disbursed  21_day_limit  \n",
       "0                            0.0             0  \n",
       "1                        36000.0        105900  \n",
       "2                         1600.0          4800  \n",
       "3                            0.0             0  \n",
       "4                         8000.0         23600  "
      ]
     },
     "execution_count": 82,
     "metadata": {},
     "output_type": "execute_result"
    }
   ],
   "source": [
    "loans_past_3_months_summary.head()"
   ]
  },
  {
   "cell_type": "code",
   "execution_count": 83,
   "metadata": {},
   "outputs": [
    {
     "data": {
      "text/html": [
       "<div>\n",
       "<style scoped>\n",
       "    .dataframe tbody tr th:only-of-type {\n",
       "        vertical-align: middle;\n",
       "    }\n",
       "\n",
       "    .dataframe tbody tr th {\n",
       "        vertical-align: top;\n",
       "    }\n",
       "\n",
       "    .dataframe thead th {\n",
       "        text-align: right;\n",
       "    }\n",
       "</style>\n",
       "<table border=\"1\" class=\"dataframe\">\n",
       "  <thead>\n",
       "    <tr style=\"text-align: right;\">\n",
       "      <th></th>\n",
       "      <th>store_number</th>\n",
       "      <th>avg_loan_tenure</th>\n",
       "      <th>count_7_day_loans</th>\n",
       "      <th>count_7_day_loans_paid_upto_rollover</th>\n",
       "      <th>good_loans_repayment_ratio(7_day_loans)</th>\n",
       "      <th>minimum_7_day_principal_disbursed</th>\n",
       "      <th>total_sum_7_day_principal_disbursed</th>\n",
       "      <th>total_sum_1_day_principal_disbursed</th>\n",
       "      <th>avg_7_day_principal_disbursed</th>\n",
       "      <th>21_day_limit</th>\n",
       "    </tr>\n",
       "  </thead>\n",
       "  <tbody>\n",
       "    <tr>\n",
       "      <th>0</th>\n",
       "      <td>110501</td>\n",
       "      <td>21.0</td>\n",
       "      <td>0.0</td>\n",
       "      <td>0.0</td>\n",
       "      <td>0.0</td>\n",
       "      <td>0.0</td>\n",
       "      <td>0.0</td>\n",
       "      <td>0.0</td>\n",
       "      <td>0.0</td>\n",
       "      <td>0</td>\n",
       "    </tr>\n",
       "    <tr>\n",
       "      <th>1</th>\n",
       "      <td>110901</td>\n",
       "      <td>18.0</td>\n",
       "      <td>1.0</td>\n",
       "      <td>1.0</td>\n",
       "      <td>1.0</td>\n",
       "      <td>36000.0</td>\n",
       "      <td>36000.0</td>\n",
       "      <td>0.0</td>\n",
       "      <td>36000.0</td>\n",
       "      <td>105900</td>\n",
       "    </tr>\n",
       "  </tbody>\n",
       "</table>\n",
       "</div>"
      ],
      "text/plain": [
       "  store_number  avg_loan_tenure  count_7_day_loans  \\\n",
       "0       110501             21.0                0.0   \n",
       "1       110901             18.0                1.0   \n",
       "\n",
       "   count_7_day_loans_paid_upto_rollover  \\\n",
       "0                                   0.0   \n",
       "1                                   1.0   \n",
       "\n",
       "   good_loans_repayment_ratio(7_day_loans)  minimum_7_day_principal_disbursed  \\\n",
       "0                                      0.0                                0.0   \n",
       "1                                      1.0                            36000.0   \n",
       "\n",
       "   total_sum_7_day_principal_disbursed  total_sum_1_day_principal_disbursed  \\\n",
       "0                                  0.0                                  0.0   \n",
       "1                              36000.0                                  0.0   \n",
       "\n",
       "   avg_7_day_principal_disbursed  21_day_limit  \n",
       "0                            0.0             0  \n",
       "1                        36000.0        105900  "
      ]
     },
     "execution_count": 83,
     "metadata": {},
     "output_type": "execute_result"
    }
   ],
   "source": [
    "loans_past_3_months_summary.head(2)"
   ]
  },
  {
   "cell_type": "code",
   "execution_count": 84,
   "metadata": {},
   "outputs": [
    {
     "data": {
      "text/plain": [
       "3200000.0"
      ]
     },
     "execution_count": 84,
     "metadata": {},
     "output_type": "execute_result"
    }
   ],
   "source": [
    "loans_past_3_months_summary['total_sum_7_day_principal_disbursed'].max()"
   ]
  },
  {
   "cell_type": "code",
   "execution_count": 85,
   "metadata": {},
   "outputs": [
    {
     "name": "stdout",
     "output_type": "stream",
     "text": [
      "<class 'pandas.core.frame.DataFrame'>\n",
      "Int64Index: 17300 entries, 0 to 17299\n",
      "Data columns (total 10 columns):\n",
      " #   Column                                   Non-Null Count  Dtype  \n",
      "---  ------                                   --------------  -----  \n",
      " 0   store_number                             17300 non-null  object \n",
      " 1   avg_loan_tenure                          17300 non-null  float64\n",
      " 2   count_7_day_loans                        17300 non-null  float64\n",
      " 3   count_7_day_loans_paid_upto_rollover     17300 non-null  float64\n",
      " 4   good_loans_repayment_ratio(7_day_loans)  17300 non-null  float64\n",
      " 5   minimum_7_day_principal_disbursed        17300 non-null  float64\n",
      " 6   total_sum_7_day_principal_disbursed      17300 non-null  float64\n",
      " 7   total_sum_1_day_principal_disbursed      17300 non-null  float64\n",
      " 8   avg_7_day_principal_disbursed            17300 non-null  float64\n",
      " 9   21_day_limit                             17300 non-null  int64  \n",
      "dtypes: float64(8), int64(1), object(1)\n",
      "memory usage: 1.5+ MB\n"
     ]
    }
   ],
   "source": [
    "loans_past_3_months_summary.info()"
   ]
  },
  {
   "cell_type": "markdown",
   "metadata": {},
   "source": [
    "---\n",
    "#### Fetch latest limits data from warehouse"
   ]
  },
  {
   "cell_type": "raw",
   "metadata": {},
   "source": [
    "# Connect to the database and load the scoring data bloomlive table\n",
    "conn = connect(param_dic)\n",
    "\n",
    "columns = \"store_number,final_21_limit, final_7_limit, final_1_limit\"\n",
    "\n",
    "column_names = columns.strip().split(\",\")\n",
    "# Execute the \"SELECT cols\" query\n",
    "df = postgresql_to_dataframe(conn,\n",
    "                             \"SELECT \\\n",
    "                             store_number, final_21_limit, final_7_limit, final_1_limit  \\\n",
    "                             FROM bloomlive.scoring_results where model_version ='2022-004[2022-05-14, 2022-06-29]'\",\n",
    "                             column_names)"
   ]
  },
  {
   "cell_type": "code",
   "execution_count": 86,
   "metadata": {},
   "outputs": [
    {
     "data": {
      "text/plain": [
       "(60233, 4)"
      ]
     },
     "execution_count": 86,
     "metadata": {},
     "output_type": "execute_result"
    }
   ],
   "source": [
    "df = pd.read_excel(\"/home/jupyter-ngenia-jackline/Limits_refresh_summary_20220922_multiple_products_2.xlsx\")\n",
    "\n",
    "df = df[['store_number', 'final_21_limit', 'final_7_limit', 'final_1_limit']]\n",
    "\n",
    "df.shape"
   ]
  },
  {
   "cell_type": "code",
   "execution_count": 87,
   "metadata": {},
   "outputs": [
    {
     "data": {
      "text/plain": [
       "final_21_limit    353222300\n",
       "final_7_limit     480198200\n",
       "final_1_limit     482168800\n",
       "dtype: int64"
      ]
     },
     "execution_count": 87,
     "metadata": {},
     "output_type": "execute_result"
    }
   ],
   "source": [
    "df[['final_21_limit', 'final_7_limit', 'final_1_limit']].sum()"
   ]
  },
  {
   "cell_type": "code",
   "execution_count": 88,
   "metadata": {},
   "outputs": [],
   "source": [
    "#replace the in the column headers with underscores & make all column headers in lower case\n",
    "df.columns = df.columns.str.lower().str.replace(' ','')"
   ]
  },
  {
   "cell_type": "code",
   "execution_count": 89,
   "metadata": {},
   "outputs": [
    {
     "name": "stdout",
     "output_type": "stream",
     "text": [
      "<class 'pandas.core.frame.DataFrame'>\n",
      "RangeIndex: 60233 entries, 0 to 60232\n",
      "Data columns (total 4 columns):\n",
      " #   Column          Non-Null Count  Dtype\n",
      "---  ------          --------------  -----\n",
      " 0   store_number    60233 non-null  int64\n",
      " 1   final_21_limit  60233 non-null  int64\n",
      " 2   final_7_limit   60233 non-null  int64\n",
      " 3   final_1_limit   60233 non-null  int64\n",
      "dtypes: int64(4)\n",
      "memory usage: 1.8 MB\n"
     ]
    }
   ],
   "source": [
    "df.info()"
   ]
  },
  {
   "cell_type": "code",
   "execution_count": 90,
   "metadata": {},
   "outputs": [],
   "source": [
    "#convert specific string columns to float, first by leaving out the non-targeted columns\n",
    "string_to_float_cols = df.columns.drop([\"final_21_limit\", \"final_7_limit\", \"final_1_limit\"])\n",
    "\n",
    "df[string_to_float_cols] = df[string_to_float_cols].apply(pd.to_numeric, errors='coerce')"
   ]
  },
  {
   "cell_type": "code",
   "execution_count": 91,
   "metadata": {},
   "outputs": [
    {
     "data": {
      "text/plain": [
       "(60233, 4)"
      ]
     },
     "execution_count": 91,
     "metadata": {},
     "output_type": "execute_result"
    }
   ],
   "source": [
    "df.shape"
   ]
  },
  {
   "cell_type": "code",
   "execution_count": 92,
   "metadata": {
    "scrolled": true
   },
   "outputs": [],
   "source": [
    "## get slice of df where customer has 7 day limit but 21 day limit is 0\n",
    "\n",
    "#slice_df = df.loc[(df[\"final_7_limit\"]>200)&(df[\"final_21_limit\"]==0)]\n",
    "\n",
    "slice_df = df.loc[df[\"final_21_limit\"]>0]"
   ]
  },
  {
   "cell_type": "code",
   "execution_count": 93,
   "metadata": {},
   "outputs": [
    {
     "data": {
      "text/plain": [
       "(5522, 4)"
      ]
     },
     "execution_count": 93,
     "metadata": {},
     "output_type": "execute_result"
    }
   ],
   "source": [
    "slice_df.shape"
   ]
  },
  {
   "cell_type": "code",
   "execution_count": 94,
   "metadata": {},
   "outputs": [
    {
     "name": "stderr",
     "output_type": "stream",
     "text": [
      "/tmp/ipykernel_154845/3357166545.py:3: SettingWithCopyWarning: \n",
      "A value is trying to be set on a copy of a slice from a DataFrame.\n",
      "Try using .loc[row_indexer,col_indexer] = value instead\n",
      "\n",
      "See the caveats in the documentation: https://pandas.pydata.org/pandas-docs/stable/user_guide/indexing.html#returning-a-view-versus-a-copy\n",
      "  slice_df[\"store_number\"] = slice_df[\"store_number\"].astype(\"str\")\n"
     ]
    }
   ],
   "source": [
    "#convert store num col to str\n",
    "\n",
    "slice_df[\"store_number\"] = slice_df[\"store_number\"].astype(\"str\")"
   ]
  },
  {
   "cell_type": "code",
   "execution_count": 95,
   "metadata": {},
   "outputs": [
    {
     "data": {
      "text/plain": [
       "5522"
      ]
     },
     "execution_count": 95,
     "metadata": {},
     "output_type": "execute_result"
    }
   ],
   "source": [
    "## num customers that have 7 day limit but 21 day limit is 0\n",
    "\n",
    "slice_df[\"store_number\"].nunique()"
   ]
  },
  {
   "cell_type": "code",
   "execution_count": 96,
   "metadata": {},
   "outputs": [],
   "source": [
    "#get list of all target store numbers\n",
    "\n",
    "slice_df_list = list(slice_df[\"store_number\"].unique())"
   ]
  },
  {
   "cell_type": "code",
   "execution_count": 97,
   "metadata": {},
   "outputs": [
    {
     "data": {
      "text/plain": [
       "5522"
      ]
     },
     "execution_count": 97,
     "metadata": {},
     "output_type": "execute_result"
    }
   ],
   "source": [
    "len(slice_df_list)"
   ]
  },
  {
   "cell_type": "code",
   "execution_count": 98,
   "metadata": {},
   "outputs": [],
   "source": [
    "#df[\"store_number\"].nunique()"
   ]
  },
  {
   "cell_type": "code",
   "execution_count": 99,
   "metadata": {},
   "outputs": [],
   "source": [
    "df_list = list(df[\"store_number\"].unique())"
   ]
  },
  {
   "cell_type": "code",
   "execution_count": 100,
   "metadata": {},
   "outputs": [
    {
     "data": {
      "text/plain": [
       "60233"
      ]
     },
     "execution_count": 100,
     "metadata": {},
     "output_type": "execute_result"
    }
   ],
   "source": [
    "len(df_list)"
   ]
  },
  {
   "cell_type": "markdown",
   "metadata": {},
   "source": [
    "---\n",
    "#### Applying all factors to get the final df"
   ]
  },
  {
   "cell_type": "code",
   "execution_count": 101,
   "metadata": {},
   "outputs": [
    {
     "name": "stdout",
     "output_type": "stream",
     "text": [
      "(5250, 10)\n"
     ]
    }
   ],
   "source": [
    "#filter loans summary df to see how many customers had 7 day limit but no 21 day limit\n",
    "\n",
    "target_customers_scope = loans_past_3_months_summary.loc[loans_past_3_months_summary[\"store_number\"].isin(slice_df_list)]\n",
    "\n",
    "print(target_customers_scope.shape)"
   ]
  },
  {
   "cell_type": "code",
   "execution_count": 102,
   "metadata": {},
   "outputs": [
    {
     "data": {
      "text/html": [
       "<div>\n",
       "<style scoped>\n",
       "    .dataframe tbody tr th:only-of-type {\n",
       "        vertical-align: middle;\n",
       "    }\n",
       "\n",
       "    .dataframe tbody tr th {\n",
       "        vertical-align: top;\n",
       "    }\n",
       "\n",
       "    .dataframe thead th {\n",
       "        text-align: right;\n",
       "    }\n",
       "</style>\n",
       "<table border=\"1\" class=\"dataframe\">\n",
       "  <thead>\n",
       "    <tr style=\"text-align: right;\">\n",
       "      <th></th>\n",
       "      <th>store_number</th>\n",
       "      <th>avg_loan_tenure</th>\n",
       "      <th>count_7_day_loans</th>\n",
       "      <th>count_7_day_loans_paid_upto_rollover</th>\n",
       "      <th>good_loans_repayment_ratio(7_day_loans)</th>\n",
       "      <th>minimum_7_day_principal_disbursed</th>\n",
       "      <th>total_sum_7_day_principal_disbursed</th>\n",
       "      <th>total_sum_1_day_principal_disbursed</th>\n",
       "      <th>avg_7_day_principal_disbursed</th>\n",
       "      <th>21_day_limit</th>\n",
       "    </tr>\n",
       "  </thead>\n",
       "  <tbody>\n",
       "    <tr>\n",
       "      <th>0</th>\n",
       "      <td>110501</td>\n",
       "      <td>21.0</td>\n",
       "      <td>0.0</td>\n",
       "      <td>0.0</td>\n",
       "      <td>0.0</td>\n",
       "      <td>0.0</td>\n",
       "      <td>0.0</td>\n",
       "      <td>0.0</td>\n",
       "      <td>0.0</td>\n",
       "      <td>0</td>\n",
       "    </tr>\n",
       "    <tr>\n",
       "      <th>1</th>\n",
       "      <td>110901</td>\n",
       "      <td>18.0</td>\n",
       "      <td>1.0</td>\n",
       "      <td>1.0</td>\n",
       "      <td>1.0</td>\n",
       "      <td>36000.0</td>\n",
       "      <td>36000.0</td>\n",
       "      <td>0.0</td>\n",
       "      <td>36000.0</td>\n",
       "      <td>105900</td>\n",
       "    </tr>\n",
       "    <tr>\n",
       "      <th>3</th>\n",
       "      <td>110970</td>\n",
       "      <td>21.0</td>\n",
       "      <td>0.0</td>\n",
       "      <td>0.0</td>\n",
       "      <td>0.0</td>\n",
       "      <td>0.0</td>\n",
       "      <td>0.0</td>\n",
       "      <td>0.0</td>\n",
       "      <td>0.0</td>\n",
       "      <td>0</td>\n",
       "    </tr>\n",
       "  </tbody>\n",
       "</table>\n",
       "</div>"
      ],
      "text/plain": [
       "  store_number  avg_loan_tenure  count_7_day_loans  \\\n",
       "0       110501             21.0                0.0   \n",
       "1       110901             18.0                1.0   \n",
       "3       110970             21.0                0.0   \n",
       "\n",
       "   count_7_day_loans_paid_upto_rollover  \\\n",
       "0                                   0.0   \n",
       "1                                   1.0   \n",
       "3                                   0.0   \n",
       "\n",
       "   good_loans_repayment_ratio(7_day_loans)  minimum_7_day_principal_disbursed  \\\n",
       "0                                      0.0                                0.0   \n",
       "1                                      1.0                            36000.0   \n",
       "3                                      0.0                                0.0   \n",
       "\n",
       "   total_sum_7_day_principal_disbursed  total_sum_1_day_principal_disbursed  \\\n",
       "0                                  0.0                                  0.0   \n",
       "1                              36000.0                                  0.0   \n",
       "3                                  0.0                                  0.0   \n",
       "\n",
       "   avg_7_day_principal_disbursed  21_day_limit  \n",
       "0                            0.0             0  \n",
       "1                        36000.0        105900  \n",
       "3                            0.0             0  "
      ]
     },
     "execution_count": 102,
     "metadata": {},
     "output_type": "execute_result"
    }
   ],
   "source": [
    "target_customers_scope.head(3)"
   ]
  },
  {
   "cell_type": "code",
   "execution_count": 103,
   "metadata": {},
   "outputs": [
    {
     "name": "stdout",
     "output_type": "stream",
     "text": [
      "(3388, 10)\n"
     ]
    }
   ],
   "source": [
    "#check to make sure customer has no history of >30 DPD\n",
    "\n",
    "ntarget_customers_scope = target_customers_scope.loc[target_customers_scope[\"store_number\"].isin(max_dpd_30_list)]\n",
    "\n",
    "print(ntarget_customers_scope.shape)"
   ]
  },
  {
   "cell_type": "code",
   "execution_count": 104,
   "metadata": {},
   "outputs": [
    {
     "data": {
      "text/plain": [
       "(1529, 10)"
      ]
     },
     "execution_count": 104,
     "metadata": {},
     "output_type": "execute_result"
    }
   ],
   "source": [
    "ntarget_customers_scope.loc[(ntarget_customers_scope[\"good_loans_repayment_ratio(7_day_loans)\"]>=0.9)].shape"
   ]
  },
  {
   "cell_type": "code",
   "execution_count": 105,
   "metadata": {},
   "outputs": [
    {
     "data": {
      "text/plain": [
       "(830, 10)"
      ]
     },
     "execution_count": 105,
     "metadata": {},
     "output_type": "execute_result"
    }
   ],
   "source": [
    "ntarget_customers_scope.loc[(ntarget_customers_scope[\"total_sum_7_day_principal_disbursed\"]>=35000)].shape"
   ]
  },
  {
   "cell_type": "code",
   "execution_count": 106,
   "metadata": {},
   "outputs": [
    {
     "data": {
      "text/plain": [
       "(1162, 10)"
      ]
     },
     "execution_count": 106,
     "metadata": {},
     "output_type": "execute_result"
    }
   ],
   "source": [
    "ntarget_customers_scope.loc[(ntarget_customers_scope[\"count_7_day_loans\"]>=3)].shape"
   ]
  },
  {
   "cell_type": "code",
   "execution_count": 107,
   "metadata": {},
   "outputs": [
    {
     "data": {
      "text/plain": [
       "(1649, 10)"
      ]
     },
     "execution_count": 107,
     "metadata": {},
     "output_type": "execute_result"
    }
   ],
   "source": [
    "ntarget_customers_scope.loc[(ntarget_customers_scope[\"21_day_limit\"]>=7500)].shape"
   ]
  },
  {
   "cell_type": "raw",
   "metadata": {},
   "source": [
    "#all filters applied\n",
    "\n",
    "mtarget_customers_scope = ntarget_customers_scope.loc[\n",
    "    (ntarget_customers_scope[\"good_loans_repayment_ratio(7_day_loans)\"]>=0.9)& \n",
    "    (ntarget_customers_scope[\"total_sum_7_day_principal_disbursed\"]>=25000)&\n",
    "    (ntarget_customers_scope[\"count_7_day_loans\"]>=3)&\n",
    "    (ntarget_customers_scope[\"21_day_limit\"]>=7500)\n",
    "]\n",
    "\n",
    "print(mtarget_customers_scope.shape)"
   ]
  },
  {
   "cell_type": "code",
   "execution_count": 108,
   "metadata": {},
   "outputs": [
    {
     "name": "stdout",
     "output_type": "stream",
     "text": [
      "(1299, 10)\n"
     ]
    }
   ],
   "source": [
    "#all filters applied\n",
    "\n",
    "mtarget_customers_scope = ntarget_customers_scope.loc[\n",
    "    (ntarget_customers_scope[\"good_loans_repayment_ratio(7_day_loans)\"]>=0.9)&\n",
    "    (ntarget_customers_scope[\"21_day_limit\"]>=7500)\n",
    "]\n",
    "\n",
    "print(mtarget_customers_scope.shape)"
   ]
  },
  {
   "cell_type": "code",
   "execution_count": 109,
   "metadata": {},
   "outputs": [
    {
     "data": {
      "text/plain": [
       "(1299, 10)"
      ]
     },
     "execution_count": 109,
     "metadata": {},
     "output_type": "execute_result"
    }
   ],
   "source": [
    "mtarget_customers_scope.shape"
   ]
  },
  {
   "cell_type": "code",
   "execution_count": 110,
   "metadata": {},
   "outputs": [
    {
     "data": {
      "text/html": [
       "<div>\n",
       "<style scoped>\n",
       "    .dataframe tbody tr th:only-of-type {\n",
       "        vertical-align: middle;\n",
       "    }\n",
       "\n",
       "    .dataframe tbody tr th {\n",
       "        vertical-align: top;\n",
       "    }\n",
       "\n",
       "    .dataframe thead th {\n",
       "        text-align: right;\n",
       "    }\n",
       "</style>\n",
       "<table border=\"1\" class=\"dataframe\">\n",
       "  <thead>\n",
       "    <tr style=\"text-align: right;\">\n",
       "      <th></th>\n",
       "      <th>store_number</th>\n",
       "      <th>avg_loan_tenure</th>\n",
       "      <th>count_7_day_loans</th>\n",
       "      <th>count_7_day_loans_paid_upto_rollover</th>\n",
       "      <th>good_loans_repayment_ratio(7_day_loans)</th>\n",
       "      <th>minimum_7_day_principal_disbursed</th>\n",
       "      <th>total_sum_7_day_principal_disbursed</th>\n",
       "      <th>total_sum_1_day_principal_disbursed</th>\n",
       "      <th>avg_7_day_principal_disbursed</th>\n",
       "      <th>21_day_limit</th>\n",
       "    </tr>\n",
       "  </thead>\n",
       "  <tbody>\n",
       "    <tr>\n",
       "      <th>7</th>\n",
       "      <td>112171</td>\n",
       "      <td>10.0</td>\n",
       "      <td>12.0</td>\n",
       "      <td>12.0</td>\n",
       "      <td>1.0</td>\n",
       "      <td>1200.0</td>\n",
       "      <td>106300.0</td>\n",
       "      <td>0.0</td>\n",
       "      <td>8858.333333</td>\n",
       "      <td>26100</td>\n",
       "    </tr>\n",
       "    <tr>\n",
       "      <th>17</th>\n",
       "      <td>116716</td>\n",
       "      <td>7.0</td>\n",
       "      <td>7.0</td>\n",
       "      <td>7.0</td>\n",
       "      <td>1.0</td>\n",
       "      <td>8000.0</td>\n",
       "      <td>56000.0</td>\n",
       "      <td>0.0</td>\n",
       "      <td>8000.000000</td>\n",
       "      <td>23600</td>\n",
       "    </tr>\n",
       "    <tr>\n",
       "      <th>23</th>\n",
       "      <td>118081</td>\n",
       "      <td>14.0</td>\n",
       "      <td>1.0</td>\n",
       "      <td>1.0</td>\n",
       "      <td>1.0</td>\n",
       "      <td>5000.0</td>\n",
       "      <td>5000.0</td>\n",
       "      <td>3000.0</td>\n",
       "      <td>5000.000000</td>\n",
       "      <td>14800</td>\n",
       "    </tr>\n",
       "  </tbody>\n",
       "</table>\n",
       "</div>"
      ],
      "text/plain": [
       "   store_number  avg_loan_tenure  count_7_day_loans  \\\n",
       "7        112171             10.0               12.0   \n",
       "17       116716              7.0                7.0   \n",
       "23       118081             14.0                1.0   \n",
       "\n",
       "    count_7_day_loans_paid_upto_rollover  \\\n",
       "7                                   12.0   \n",
       "17                                   7.0   \n",
       "23                                   1.0   \n",
       "\n",
       "    good_loans_repayment_ratio(7_day_loans)  \\\n",
       "7                                       1.0   \n",
       "17                                      1.0   \n",
       "23                                      1.0   \n",
       "\n",
       "    minimum_7_day_principal_disbursed  total_sum_7_day_principal_disbursed  \\\n",
       "7                              1200.0                             106300.0   \n",
       "17                             8000.0                              56000.0   \n",
       "23                             5000.0                               5000.0   \n",
       "\n",
       "    total_sum_1_day_principal_disbursed  avg_7_day_principal_disbursed  \\\n",
       "7                                   0.0                    8858.333333   \n",
       "17                                  0.0                    8000.000000   \n",
       "23                               3000.0                    5000.000000   \n",
       "\n",
       "    21_day_limit  \n",
       "7          26100  \n",
       "17         23600  \n",
       "23         14800  "
      ]
     },
     "execution_count": 110,
     "metadata": {},
     "output_type": "execute_result"
    }
   ],
   "source": [
    "mtarget_customers_scope.head(3)"
   ]
  },
  {
   "cell_type": "code",
   "execution_count": 111,
   "metadata": {},
   "outputs": [
    {
     "data": {
      "text/html": [
       "<div>\n",
       "<style scoped>\n",
       "    .dataframe tbody tr th:only-of-type {\n",
       "        vertical-align: middle;\n",
       "    }\n",
       "\n",
       "    .dataframe tbody tr th {\n",
       "        vertical-align: top;\n",
       "    }\n",
       "\n",
       "    .dataframe thead th {\n",
       "        text-align: right;\n",
       "    }\n",
       "</style>\n",
       "<table border=\"1\" class=\"dataframe\">\n",
       "  <thead>\n",
       "    <tr style=\"text-align: right;\">\n",
       "      <th></th>\n",
       "      <th>store_number</th>\n",
       "      <th>final_21_limit</th>\n",
       "      <th>final_7_limit</th>\n",
       "      <th>final_1_limit</th>\n",
       "    </tr>\n",
       "  </thead>\n",
       "  <tbody>\n",
       "    <tr>\n",
       "      <th>0</th>\n",
       "      <td>112171</td>\n",
       "      <td>21700</td>\n",
       "      <td>14000</td>\n",
       "      <td>14000</td>\n",
       "    </tr>\n",
       "    <tr>\n",
       "      <th>1</th>\n",
       "      <td>116716</td>\n",
       "      <td>34300</td>\n",
       "      <td>19800</td>\n",
       "      <td>19800</td>\n",
       "    </tr>\n",
       "    <tr>\n",
       "      <th>2</th>\n",
       "      <td>118081</td>\n",
       "      <td>53200</td>\n",
       "      <td>33300</td>\n",
       "      <td>33300</td>\n",
       "    </tr>\n",
       "    <tr>\n",
       "      <th>3</th>\n",
       "      <td>124149</td>\n",
       "      <td>17700</td>\n",
       "      <td>10700</td>\n",
       "      <td>10700</td>\n",
       "    </tr>\n",
       "    <tr>\n",
       "      <th>4</th>\n",
       "      <td>125277</td>\n",
       "      <td>131400</td>\n",
       "      <td>73000</td>\n",
       "      <td>73000</td>\n",
       "    </tr>\n",
       "  </tbody>\n",
       "</table>\n",
       "</div>"
      ],
      "text/plain": [
       "  store_number  final_21_limit  final_7_limit  final_1_limit\n",
       "0       112171           21700          14000          14000\n",
       "1       116716           34300          19800          19800\n",
       "2       118081           53200          33300          33300\n",
       "3       124149           17700          10700          10700\n",
       "4       125277          131400          73000          73000"
      ]
     },
     "execution_count": 111,
     "metadata": {},
     "output_type": "execute_result"
    }
   ],
   "source": [
    "qualified_stores = mtarget_customers_scope[['store_number']]\n",
    "\n",
    "df['store_number'] = df['store_number'].astype(str)\n",
    "\n",
    "final = pd.merge(qualified_stores, df, on = 'store_number', how = 'left')\n",
    "\n",
    "final.head()"
   ]
  },
  {
   "cell_type": "code",
   "execution_count": 112,
   "metadata": {},
   "outputs": [
    {
     "data": {
      "text/plain": [
       "(1299, 4)"
      ]
     },
     "execution_count": 112,
     "metadata": {},
     "output_type": "execute_result"
    }
   ],
   "source": [
    "final.shape"
   ]
  },
  {
   "cell_type": "code",
   "execution_count": 113,
   "metadata": {},
   "outputs": [
    {
     "data": {
      "text/plain": [
       "87898500"
      ]
     },
     "execution_count": 113,
     "metadata": {},
     "output_type": "execute_result"
    }
   ],
   "source": [
    "final['final_21_limit'].sum()"
   ]
  },
  {
   "cell_type": "code",
   "execution_count": 114,
   "metadata": {},
   "outputs": [
    {
     "data": {
      "text/html": [
       "<div>\n",
       "<style scoped>\n",
       "    .dataframe tbody tr th:only-of-type {\n",
       "        vertical-align: middle;\n",
       "    }\n",
       "\n",
       "    .dataframe tbody tr th {\n",
       "        vertical-align: top;\n",
       "    }\n",
       "\n",
       "    .dataframe thead th {\n",
       "        text-align: right;\n",
       "    }\n",
       "</style>\n",
       "<table border=\"1\" class=\"dataframe\">\n",
       "  <thead>\n",
       "    <tr style=\"text-align: right;\">\n",
       "      <th></th>\n",
       "      <th>store_number</th>\n",
       "      <th>final_21_limit</th>\n",
       "    </tr>\n",
       "  </thead>\n",
       "  <tbody>\n",
       "    <tr>\n",
       "      <th>0</th>\n",
       "      <td>112171</td>\n",
       "      <td>21700</td>\n",
       "    </tr>\n",
       "    <tr>\n",
       "      <th>1</th>\n",
       "      <td>116716</td>\n",
       "      <td>34300</td>\n",
       "    </tr>\n",
       "    <tr>\n",
       "      <th>2</th>\n",
       "      <td>118081</td>\n",
       "      <td>53200</td>\n",
       "    </tr>\n",
       "    <tr>\n",
       "      <th>3</th>\n",
       "      <td>124149</td>\n",
       "      <td>17700</td>\n",
       "    </tr>\n",
       "    <tr>\n",
       "      <th>4</th>\n",
       "      <td>125277</td>\n",
       "      <td>131400</td>\n",
       "    </tr>\n",
       "  </tbody>\n",
       "</table>\n",
       "</div>"
      ],
      "text/plain": [
       "  store_number  final_21_limit\n",
       "0       112171           21700\n",
       "1       116716           34300\n",
       "2       118081           53200\n",
       "3       124149           17700\n",
       "4       125277          131400"
      ]
     },
     "execution_count": 114,
     "metadata": {},
     "output_type": "execute_result"
    }
   ],
   "source": [
    "final_21_day = final[['store_number', 'final_21_limit']]\n",
    "\n",
    "final_21_day.head()"
   ]
  },
  {
   "cell_type": "code",
   "execution_count": 115,
   "metadata": {},
   "outputs": [
    {
     "data": {
      "text/html": [
       "<div>\n",
       "<style scoped>\n",
       "    .dataframe tbody tr th:only-of-type {\n",
       "        vertical-align: middle;\n",
       "    }\n",
       "\n",
       "    .dataframe tbody tr th {\n",
       "        vertical-align: top;\n",
       "    }\n",
       "\n",
       "    .dataframe thead th {\n",
       "        text-align: right;\n",
       "    }\n",
       "</style>\n",
       "<table border=\"1\" class=\"dataframe\">\n",
       "  <thead>\n",
       "    <tr style=\"text-align: right;\">\n",
       "      <th></th>\n",
       "      <th>store_number</th>\n",
       "      <th>final_7_limit</th>\n",
       "      <th>final_1_limit</th>\n",
       "    </tr>\n",
       "  </thead>\n",
       "  <tbody>\n",
       "    <tr>\n",
       "      <th>0</th>\n",
       "      <td>786152</td>\n",
       "      <td>0</td>\n",
       "      <td>0</td>\n",
       "    </tr>\n",
       "    <tr>\n",
       "      <th>1</th>\n",
       "      <td>165978</td>\n",
       "      <td>0</td>\n",
       "      <td>0</td>\n",
       "    </tr>\n",
       "    <tr>\n",
       "      <th>2</th>\n",
       "      <td>745142</td>\n",
       "      <td>0</td>\n",
       "      <td>0</td>\n",
       "    </tr>\n",
       "    <tr>\n",
       "      <th>3</th>\n",
       "      <td>978161</td>\n",
       "      <td>0</td>\n",
       "      <td>0</td>\n",
       "    </tr>\n",
       "    <tr>\n",
       "      <th>4</th>\n",
       "      <td>510261</td>\n",
       "      <td>0</td>\n",
       "      <td>0</td>\n",
       "    </tr>\n",
       "  </tbody>\n",
       "</table>\n",
       "</div>"
      ],
      "text/plain": [
       "  store_number  final_7_limit  final_1_limit\n",
       "0       786152              0              0\n",
       "1       165978              0              0\n",
       "2       745142              0              0\n",
       "3       978161              0              0\n",
       "4       510261              0              0"
      ]
     },
     "execution_count": 115,
     "metadata": {},
     "output_type": "execute_result"
    }
   ],
   "source": [
    "df_adj = df[['store_number', 'final_7_limit', 'final_1_limit']]\n",
    "\n",
    "df_adj.head()"
   ]
  },
  {
   "cell_type": "code",
   "execution_count": 116,
   "metadata": {},
   "outputs": [
    {
     "data": {
      "text/html": [
       "<div>\n",
       "<style scoped>\n",
       "    .dataframe tbody tr th:only-of-type {\n",
       "        vertical-align: middle;\n",
       "    }\n",
       "\n",
       "    .dataframe tbody tr th {\n",
       "        vertical-align: top;\n",
       "    }\n",
       "\n",
       "    .dataframe thead th {\n",
       "        text-align: right;\n",
       "    }\n",
       "</style>\n",
       "<table border=\"1\" class=\"dataframe\">\n",
       "  <thead>\n",
       "    <tr style=\"text-align: right;\">\n",
       "      <th></th>\n",
       "      <th>store_number</th>\n",
       "      <th>final_21_limit</th>\n",
       "      <th>final_7_limit</th>\n",
       "      <th>final_1_limit</th>\n",
       "    </tr>\n",
       "  </thead>\n",
       "  <tbody>\n",
       "    <tr>\n",
       "      <th>0</th>\n",
       "      <td>112171</td>\n",
       "      <td>21700.0</td>\n",
       "      <td>14000</td>\n",
       "      <td>14000</td>\n",
       "    </tr>\n",
       "    <tr>\n",
       "      <th>1</th>\n",
       "      <td>116716</td>\n",
       "      <td>34300.0</td>\n",
       "      <td>19800</td>\n",
       "      <td>19800</td>\n",
       "    </tr>\n",
       "    <tr>\n",
       "      <th>2</th>\n",
       "      <td>118081</td>\n",
       "      <td>53200.0</td>\n",
       "      <td>33300</td>\n",
       "      <td>33300</td>\n",
       "    </tr>\n",
       "    <tr>\n",
       "      <th>3</th>\n",
       "      <td>124149</td>\n",
       "      <td>17700.0</td>\n",
       "      <td>10700</td>\n",
       "      <td>10700</td>\n",
       "    </tr>\n",
       "    <tr>\n",
       "      <th>4</th>\n",
       "      <td>125277</td>\n",
       "      <td>131400.0</td>\n",
       "      <td>73000</td>\n",
       "      <td>73000</td>\n",
       "    </tr>\n",
       "  </tbody>\n",
       "</table>\n",
       "</div>"
      ],
      "text/plain": [
       "  store_number  final_21_limit  final_7_limit  final_1_limit\n",
       "0       112171         21700.0          14000          14000\n",
       "1       116716         34300.0          19800          19800\n",
       "2       118081         53200.0          33300          33300\n",
       "3       124149         17700.0          10700          10700\n",
       "4       125277        131400.0          73000          73000"
      ]
     },
     "execution_count": 116,
     "metadata": {},
     "output_type": "execute_result"
    }
   ],
   "source": [
    "final_limits = pd.merge(final_21_day, df_adj, on = 'store_number', how = 'outer')\n",
    "\n",
    "final_limits.head()"
   ]
  },
  {
   "cell_type": "code",
   "execution_count": 117,
   "metadata": {},
   "outputs": [
    {
     "data": {
      "text/plain": [
       "(60233, 4)"
      ]
     },
     "execution_count": 117,
     "metadata": {},
     "output_type": "execute_result"
    }
   ],
   "source": [
    "final_limits.shape"
   ]
  },
  {
   "cell_type": "code",
   "execution_count": 118,
   "metadata": {},
   "outputs": [
    {
     "data": {
      "text/plain": [
       "final_21_limit     87898500.0\n",
       "final_7_limit     480198200.0\n",
       "final_1_limit     482168800.0\n",
       "dtype: float64"
      ]
     },
     "execution_count": 118,
     "metadata": {},
     "output_type": "execute_result"
    }
   ],
   "source": [
    "final_limits[['final_21_limit', 'final_7_limit', 'final_1_limit']].sum()"
   ]
  },
  {
   "cell_type": "code",
   "execution_count": 119,
   "metadata": {},
   "outputs": [],
   "source": [
    "final_limits.to_excel('final_limits_new.xlsx')"
   ]
  }
 ],
 "metadata": {
  "kernelspec": {
   "display_name": "Python 3 (ipykernel)",
   "language": "python",
   "name": "python3"
  },
  "language_info": {
   "codemirror_mode": {
    "name": "ipython",
    "version": 3
   },
   "file_extension": ".py",
   "mimetype": "text/x-python",
   "name": "python",
   "nbconvert_exporter": "python",
   "pygments_lexer": "ipython3",
   "version": "3.8.13"
  }
 },
 "nbformat": 4,
 "nbformat_minor": 4
}
