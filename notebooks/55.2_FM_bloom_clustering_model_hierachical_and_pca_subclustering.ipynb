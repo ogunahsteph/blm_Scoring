{
 "cells": [
  {
   "cell_type": "markdown",
   "metadata": {
    "id": "xFRBeoYlkqv_"
   },
   "source": [
    "# **Impact Assessment**"
   ]
  },
  {
   "cell_type": "markdown",
   "metadata": {
    "id": "UHLT79pzm9Xc"
   },
   "source": [
    "### Import processing and prepping libraries"
   ]
  },
  {
   "cell_type": "code",
   "execution_count": 1,
   "metadata": {
    "colab": {
     "base_uri": "https://localhost:8080/"
    },
    "id": "nejd_Ow6nMPi",
    "outputId": "096923bb-8683-4075-a92c-bbdb870e53f3",
    "tags": []
   },
   "outputs": [
    {
     "name": "stderr",
     "output_type": "stream",
     "text": [
      "/apps/conda/felix.muumbi/envs/bloom/lib/python3.9/site-packages/umap/distances.py:1063: NumbaDeprecationWarning: \u001b[1mThe 'nopython' keyword argument was not supplied to the 'numba.jit' decorator. The implicit default value for this argument is currently False, but it will be changed to True in Numba 0.59.0. See https://numba.readthedocs.io/en/stable/reference/deprecation.html#deprecation-of-object-mode-fall-back-behaviour-when-using-jit for details.\u001b[0m\n",
      "  @numba.jit()\n",
      "/apps/conda/felix.muumbi/envs/bloom/lib/python3.9/site-packages/umap/distances.py:1071: NumbaDeprecationWarning: \u001b[1mThe 'nopython' keyword argument was not supplied to the 'numba.jit' decorator. The implicit default value for this argument is currently False, but it will be changed to True in Numba 0.59.0. See https://numba.readthedocs.io/en/stable/reference/deprecation.html#deprecation-of-object-mode-fall-back-behaviour-when-using-jit for details.\u001b[0m\n",
      "  @numba.jit()\n",
      "/apps/conda/felix.muumbi/envs/bloom/lib/python3.9/site-packages/umap/distances.py:1086: NumbaDeprecationWarning: \u001b[1mThe 'nopython' keyword argument was not supplied to the 'numba.jit' decorator. The implicit default value for this argument is currently False, but it will be changed to True in Numba 0.59.0. See https://numba.readthedocs.io/en/stable/reference/deprecation.html#deprecation-of-object-mode-fall-back-behaviour-when-using-jit for details.\u001b[0m\n",
      "  @numba.jit()\n",
      "/apps/conda/felix.muumbi/envs/bloom/lib/python3.9/site-packages/tqdm/auto.py:21: TqdmWarning: IProgress not found. Please update jupyter and ipywidgets. See https://ipywidgets.readthedocs.io/en/stable/user_install.html\n",
      "  from .autonotebook import tqdm as notebook_tqdm\n",
      "/apps/conda/felix.muumbi/envs/bloom/lib/python3.9/site-packages/umap/umap_.py:660: NumbaDeprecationWarning: \u001b[1mThe 'nopython' keyword argument was not supplied to the 'numba.jit' decorator. The implicit default value for this argument is currently False, but it will be changed to True in Numba 0.59.0. See https://numba.readthedocs.io/en/stable/reference/deprecation.html#deprecation-of-object-mode-fall-back-behaviour-when-using-jit for details.\u001b[0m\n",
      "  @numba.jit()\n"
     ]
    }
   ],
   "source": [
    "#import data processing libraries\n",
    "import pandas as pd\n",
    "import numpy as np\n",
    "import psycopg2\n",
    "import pymysql\n",
    "import datetime as dt\n",
    "from datetime import timedelta\n",
    "import os\n",
    "import math as math\n",
    "from scipy import stats\n",
    "\n",
    "#import visualization libraries\n",
    "import seaborn as sns\n",
    "import matplotlib.pyplot as plt\n",
    "import matplotlib.ticker as ticker\n",
    "%matplotlib inline\n",
    "\n",
    "from sklearn.cluster import KMeans, AgglomerativeClustering\n",
    "from sklearn.impute import SimpleImputer\n",
    "from sklearn.tree import DecisionTreeRegressor\n",
    "from sklearn.preprocessing import StandardScaler, normalize, LabelEncoder\n",
    "from sklearn.model_selection import train_test_split\n",
    "from sklearn.decomposition import PCA\n",
    "from sklearn.metrics import silhouette_score, classification_report, confusion_matrix\n",
    "from sklearn.ensemble import RandomForestClassifier\n",
    "from sklearn.manifold import TSNE\n",
    "\n",
    "import joblib\n",
    "import pyarrow as pa\n",
    "import pickle\n",
    "from umap import UMAP"
   ]
  },
  {
   "cell_type": "code",
   "execution_count": 2,
   "metadata": {
    "id": "dv4Cu_BonQtd",
    "tags": []
   },
   "outputs": [],
   "source": [
    "pd.set_option('display.max_rows', 500)\n",
    "pd.set_option('display.max_columns', 500)\n",
    "pd.set_option('display.width', 1000)\n",
    "\n",
    "pd.set_option('display.float_format', lambda x: '%.3f' % x)"
   ]
  },
  {
   "cell_type": "markdown",
   "metadata": {
    "id": "irf34ag8VPBx"
   },
   "source": [
    "### Load the Data"
   ]
  },
  {
   "cell_type": "raw",
   "metadata": {},
   "source": [
    "select lftmsv.loan_surrogate_id, lftmsv.loan_mifos_id, lftmsv.store_number, lftmsv.principal_disbursed, lftmsv.term_frequency,\n",
    "\n",
    "rmv.repayment_amount_by_due_date, rmv.repayment_amount_by_rllvr_date, rmv.repayment_amount_by_dpd30\n",
    "\n",
    "from bloomlive.loans_fact_table_materialized_summary_view lftmsv\n",
    "\n",
    "left join bloomlive.repayments_milestones_view rmv  on lftmsv.loan_surrogate_id = rmv.loan_surrogate_id\n",
    "\n",
    "where lftmsv.bloom_version = '2' and lftmsv.disbursed_on_date is not null and lftmsv.disbursed_on_date < '2023-09-15'"
   ]
  },
  {
   "cell_type": "code",
   "execution_count": 3,
   "metadata": {
    "tags": []
   },
   "outputs": [],
   "source": [
    "# repayments = pd.read_csv(\"../data/interim/repayments_by_different_milestones.csv\")\n",
    "# repayments.to_parquet('../data/interim/repayments_by_different_milestones.parquet', index=False)"
   ]
  },
  {
   "cell_type": "code",
   "execution_count": 4,
   "metadata": {
    "tags": []
   },
   "outputs": [
    {
     "data": {
      "text/html": [
       "<div>\n",
       "<style scoped>\n",
       "    .dataframe tbody tr th:only-of-type {\n",
       "        vertical-align: middle;\n",
       "    }\n",
       "\n",
       "    .dataframe tbody tr th {\n",
       "        vertical-align: top;\n",
       "    }\n",
       "\n",
       "    .dataframe thead th {\n",
       "        text-align: right;\n",
       "    }\n",
       "</style>\n",
       "<table border=\"1\" class=\"dataframe\">\n",
       "  <thead>\n",
       "    <tr style=\"text-align: right;\">\n",
       "      <th></th>\n",
       "      <th>loan_surrogate_id</th>\n",
       "      <th>loan_mifos_id</th>\n",
       "      <th>store_number</th>\n",
       "      <th>principal_disbursed</th>\n",
       "      <th>term_frequency</th>\n",
       "      <th>repayment_amount_by_due_date</th>\n",
       "      <th>repayment_amount_by_rllvr_date</th>\n",
       "      <th>repayment_amount_by_dpd30</th>\n",
       "    </tr>\n",
       "  </thead>\n",
       "  <tbody>\n",
       "    <tr>\n",
       "      <th>0</th>\n",
       "      <td>5475396</td>\n",
       "      <td>315040</td>\n",
       "      <td>7032770</td>\n",
       "      <td>19500.000</td>\n",
       "      <td>7</td>\n",
       "      <td>NaN</td>\n",
       "      <td>20711.650</td>\n",
       "      <td>20711.650</td>\n",
       "    </tr>\n",
       "    <tr>\n",
       "      <th>1</th>\n",
       "      <td>5475513</td>\n",
       "      <td>60991</td>\n",
       "      <td>7850981</td>\n",
       "      <td>55000.000</td>\n",
       "      <td>7</td>\n",
       "      <td>NaN</td>\n",
       "      <td>NaN</td>\n",
       "      <td>NaN</td>\n",
       "    </tr>\n",
       "    <tr>\n",
       "      <th>2</th>\n",
       "      <td>5471575</td>\n",
       "      <td>62008</td>\n",
       "      <td>7258160</td>\n",
       "      <td>10000.000</td>\n",
       "      <td>7</td>\n",
       "      <td>NaN</td>\n",
       "      <td>10410.000</td>\n",
       "      <td>10410.000</td>\n",
       "    </tr>\n",
       "  </tbody>\n",
       "</table>\n",
       "</div>"
      ],
      "text/plain": [
       "   loan_surrogate_id  loan_mifos_id store_number  principal_disbursed  term_frequency  repayment_amount_by_due_date  repayment_amount_by_rllvr_date  repayment_amount_by_dpd30\n",
       "0            5475396         315040      7032770            19500.000               7                           NaN                       20711.650                  20711.650\n",
       "1            5475513          60991      7850981            55000.000               7                           NaN                             NaN                        NaN\n",
       "2            5471575          62008      7258160            10000.000               7                           NaN                       10410.000                  10410.000"
      ]
     },
     "execution_count": 4,
     "metadata": {},
     "output_type": "execute_result"
    }
   ],
   "source": [
    "repayments = pd.read_parquet('../data/interim/repayments_by_different_milestones.parquet')\n",
    "\n",
    "repayments['store_number'] = repayments['store_number'].astype(str)\n",
    "\n",
    "repayments.head(3)"
   ]
  },
  {
   "cell_type": "code",
   "execution_count": 5,
   "metadata": {
    "tags": []
   },
   "outputs": [],
   "source": [
    "repayments = repayments[(repayments['term_frequency'] == 7) | (repayments['term_frequency'] == 21)]"
   ]
  },
  {
   "cell_type": "code",
   "execution_count": 6,
   "metadata": {
    "tags": []
   },
   "outputs": [
    {
     "name": "stdout",
     "output_type": "stream",
     "text": [
      "<class 'pandas.core.frame.DataFrame'>\n",
      "Index: 260922 entries, 0 to 286376\n",
      "Data columns (total 8 columns):\n",
      " #   Column                          Non-Null Count   Dtype  \n",
      "---  ------                          --------------   -----  \n",
      " 0   loan_surrogate_id               260922 non-null  int64  \n",
      " 1   loan_mifos_id                   260922 non-null  int64  \n",
      " 2   store_number                    260922 non-null  object \n",
      " 3   principal_disbursed             260922 non-null  float64\n",
      " 4   term_frequency                  260922 non-null  int64  \n",
      " 5   repayment_amount_by_due_date    212051 non-null  float64\n",
      " 6   repayment_amount_by_rllvr_date  234608 non-null  float64\n",
      " 7   repayment_amount_by_dpd30       244299 non-null  float64\n",
      "dtypes: float64(4), int64(3), object(1)\n",
      "memory usage: 17.9+ MB\n"
     ]
    }
   ],
   "source": [
    "repayments.info()"
   ]
  },
  {
   "cell_type": "code",
   "execution_count": 7,
   "metadata": {
    "tags": []
   },
   "outputs": [],
   "source": [
    "repayments['repayment_amount_by_due_date'] = repayments['repayment_amount_by_due_date'].fillna(0)\n",
    "repayments['repayment_amount_by_rllvr_date'] = repayments['repayment_amount_by_rllvr_date'].fillna(0)\n",
    "repayments['repayment_amount_by_dpd30'] = repayments['repayment_amount_by_dpd30'].fillna(0)"
   ]
  },
  {
   "cell_type": "code",
   "execution_count": 8,
   "metadata": {
    "tags": []
   },
   "outputs": [
    {
     "name": "stdout",
     "output_type": "stream",
     "text": [
      "<class 'pandas.core.frame.DataFrame'>\n",
      "Index: 260922 entries, 0 to 286376\n",
      "Data columns (total 8 columns):\n",
      " #   Column                          Non-Null Count   Dtype  \n",
      "---  ------                          --------------   -----  \n",
      " 0   loan_surrogate_id               260922 non-null  int64  \n",
      " 1   loan_mifos_id                   260922 non-null  int64  \n",
      " 2   store_number                    260922 non-null  object \n",
      " 3   principal_disbursed             260922 non-null  float64\n",
      " 4   term_frequency                  260922 non-null  int64  \n",
      " 5   repayment_amount_by_due_date    260922 non-null  float64\n",
      " 6   repayment_amount_by_rllvr_date  260922 non-null  float64\n",
      " 7   repayment_amount_by_dpd30       260922 non-null  float64\n",
      "dtypes: float64(4), int64(3), object(1)\n",
      "memory usage: 17.9+ MB\n"
     ]
    }
   ],
   "source": [
    "repayments.info()"
   ]
  },
  {
   "cell_type": "code",
   "execution_count": 9,
   "metadata": {
    "tags": []
   },
   "outputs": [
    {
     "data": {
      "text/html": [
       "<div>\n",
       "<style scoped>\n",
       "    .dataframe tbody tr th:only-of-type {\n",
       "        vertical-align: middle;\n",
       "    }\n",
       "\n",
       "    .dataframe tbody tr th {\n",
       "        vertical-align: top;\n",
       "    }\n",
       "\n",
       "    .dataframe thead th {\n",
       "        text-align: right;\n",
       "    }\n",
       "</style>\n",
       "<table border=\"1\" class=\"dataframe\">\n",
       "  <thead>\n",
       "    <tr style=\"text-align: right;\">\n",
       "      <th></th>\n",
       "      <th>loan_surrogate_id</th>\n",
       "      <th>loan_mifos_id</th>\n",
       "      <th>store_number</th>\n",
       "      <th>principal_disbursed</th>\n",
       "      <th>term_frequency</th>\n",
       "      <th>repayment_amount_by_due_date</th>\n",
       "      <th>repayment_amount_by_rllvr_date</th>\n",
       "      <th>repayment_amount_by_dpd30</th>\n",
       "      <th>repayment_rate_by_due_date</th>\n",
       "      <th>repayment_rate_by_rllvr_date</th>\n",
       "      <th>repayment_rate_by_dpd30</th>\n",
       "    </tr>\n",
       "  </thead>\n",
       "  <tbody>\n",
       "    <tr>\n",
       "      <th>0</th>\n",
       "      <td>5475396</td>\n",
       "      <td>315040</td>\n",
       "      <td>7032770</td>\n",
       "      <td>19500.000</td>\n",
       "      <td>7</td>\n",
       "      <td>0.000</td>\n",
       "      <td>20711.650</td>\n",
       "      <td>20711.650</td>\n",
       "      <td>0.000</td>\n",
       "      <td>1.062</td>\n",
       "      <td>1.062</td>\n",
       "    </tr>\n",
       "    <tr>\n",
       "      <th>1</th>\n",
       "      <td>5475513</td>\n",
       "      <td>60991</td>\n",
       "      <td>7850981</td>\n",
       "      <td>55000.000</td>\n",
       "      <td>7</td>\n",
       "      <td>0.000</td>\n",
       "      <td>0.000</td>\n",
       "      <td>0.000</td>\n",
       "      <td>0.000</td>\n",
       "      <td>0.000</td>\n",
       "      <td>0.000</td>\n",
       "    </tr>\n",
       "    <tr>\n",
       "      <th>2</th>\n",
       "      <td>5471575</td>\n",
       "      <td>62008</td>\n",
       "      <td>7258160</td>\n",
       "      <td>10000.000</td>\n",
       "      <td>7</td>\n",
       "      <td>0.000</td>\n",
       "      <td>10410.000</td>\n",
       "      <td>10410.000</td>\n",
       "      <td>0.000</td>\n",
       "      <td>1.041</td>\n",
       "      <td>1.041</td>\n",
       "    </tr>\n",
       "  </tbody>\n",
       "</table>\n",
       "</div>"
      ],
      "text/plain": [
       "   loan_surrogate_id  loan_mifos_id store_number  principal_disbursed  term_frequency  repayment_amount_by_due_date  repayment_amount_by_rllvr_date  repayment_amount_by_dpd30  repayment_rate_by_due_date  repayment_rate_by_rllvr_date  repayment_rate_by_dpd30\n",
       "0            5475396         315040      7032770            19500.000               7                         0.000                       20711.650                  20711.650                       0.000                         1.062                    1.062\n",
       "1            5475513          60991      7850981            55000.000               7                         0.000                           0.000                      0.000                       0.000                         0.000                    0.000\n",
       "2            5471575          62008      7258160            10000.000               7                         0.000                       10410.000                  10410.000                       0.000                         1.041                    1.041"
      ]
     },
     "execution_count": 9,
     "metadata": {},
     "output_type": "execute_result"
    }
   ],
   "source": [
    "repayments['repayment_rate_by_due_date'] = round(repayments['repayment_amount_by_due_date'] / repayments['principal_disbursed'], 4)\n",
    "repayments['repayment_rate_by_rllvr_date'] = round(repayments['repayment_amount_by_rllvr_date'] / repayments['principal_disbursed'], 4)\n",
    "repayments['repayment_rate_by_dpd30'] = round(repayments['repayment_amount_by_dpd30'] / repayments['principal_disbursed'], 4)\n",
    "\n",
    "repayments.head(3)"
   ]
  },
  {
   "cell_type": "code",
   "execution_count": 10,
   "metadata": {
    "tags": []
   },
   "outputs": [
    {
     "data": {
      "text/html": [
       "<div>\n",
       "<style scoped>\n",
       "    .dataframe tbody tr th:only-of-type {\n",
       "        vertical-align: middle;\n",
       "    }\n",
       "\n",
       "    .dataframe tbody tr th {\n",
       "        vertical-align: top;\n",
       "    }\n",
       "\n",
       "    .dataframe thead th {\n",
       "        text-align: right;\n",
       "    }\n",
       "</style>\n",
       "<table border=\"1\" class=\"dataframe\">\n",
       "  <thead>\n",
       "    <tr style=\"text-align: right;\">\n",
       "      <th></th>\n",
       "      <th>store_number</th>\n",
       "      <th>hurdle_rate_by_due_date_mean</th>\n",
       "      <th>hurdle_rate_by_end_rollover_date_mean</th>\n",
       "      <th>hurdle_rate_by_dpd30_mean</th>\n",
       "    </tr>\n",
       "  </thead>\n",
       "  <tbody>\n",
       "    <tr>\n",
       "      <th>0</th>\n",
       "      <td>105295</td>\n",
       "      <td>1.087</td>\n",
       "      <td>1.087</td>\n",
       "      <td>1.087</td>\n",
       "    </tr>\n",
       "    <tr>\n",
       "      <th>1</th>\n",
       "      <td>105570</td>\n",
       "      <td>0.000</td>\n",
       "      <td>0.000</td>\n",
       "      <td>0.000</td>\n",
       "    </tr>\n",
       "    <tr>\n",
       "      <th>2</th>\n",
       "      <td>105652</td>\n",
       "      <td>0.842</td>\n",
       "      <td>0.842</td>\n",
       "      <td>0.969</td>\n",
       "    </tr>\n",
       "  </tbody>\n",
       "</table>\n",
       "</div>"
      ],
      "text/plain": [
       "  store_number  hurdle_rate_by_due_date_mean  hurdle_rate_by_end_rollover_date_mean  hurdle_rate_by_dpd30_mean\n",
       "0       105295                         1.087                                  1.087                      1.087\n",
       "1       105570                         0.000                                  0.000                      0.000\n",
       "2       105652                         0.842                                  0.842                      0.969"
      ]
     },
     "execution_count": 10,
     "metadata": {},
     "output_type": "execute_result"
    }
   ],
   "source": [
    "hurdle_rate_by_due_date = repayments.groupby(['store_number'], as_index=False)['repayment_rate_by_due_date'].mean()\n",
    "hurdle_rate_by_due_date = hurdle_rate_by_due_date.rename(columns={'repayment_rate_by_due_date':'hurdle_rate_by_due_date_mean'})\n",
    "\n",
    "hurdle_rate_by_rllvr_date = repayments.groupby(['store_number'], as_index=False)['repayment_rate_by_rllvr_date'].mean()\n",
    "hurdle_rate_by_rllvr_date = hurdle_rate_by_rllvr_date.rename(columns={'repayment_rate_by_rllvr_date':'hurdle_rate_by_end_rollover_date_mean'})\n",
    "\n",
    "hurdle_rate_by_dpd30 = repayments.groupby(['store_number'], as_index=False)['repayment_rate_by_dpd30'].mean()\n",
    "hurdle_rate_by_dpd30 = hurdle_rate_by_dpd30.rename(columns={'repayment_rate_by_dpd30':'hurdle_rate_by_dpd30_mean'})\n",
    "\n",
    "hurdle_rates_df = pd.merge(hurdle_rate_by_due_date, hurdle_rate_by_rllvr_date, on='store_number', how='outer')\n",
    "hurdle_rates_df = pd.merge(hurdle_rates_df, hurdle_rate_by_dpd30, on='store_number', how='outer')\n",
    "\n",
    "hurdle_rates_df = hurdle_rates_df.fillna(0)\n",
    "\n",
    "hurdle_rates_df.head(3)"
   ]
  },
  {
   "cell_type": "code",
   "execution_count": 11,
   "metadata": {
    "tags": []
   },
   "outputs": [],
   "source": [
    "# current_refresh = pd.read_excel(\"../data/interim/Limits_refresh_summary_20230817_multiple_products.xlsx\")\n",
    "# current_refresh.drop(columns=['Unnamed: 0'], inplace=True)\n",
    "# current_refresh.to_parquet(\"../data/interim/Limits_refresh_summary_20230817_multiple_products.parquet\", index=False)"
   ]
  },
  {
   "cell_type": "code",
   "execution_count": 12,
   "metadata": {
    "tags": []
   },
   "outputs": [
    {
     "data": {
      "text/html": [
       "<div>\n",
       "<style scoped>\n",
       "    .dataframe tbody tr th:only-of-type {\n",
       "        vertical-align: middle;\n",
       "    }\n",
       "\n",
       "    .dataframe tbody tr th {\n",
       "        vertical-align: top;\n",
       "    }\n",
       "\n",
       "    .dataframe thead th {\n",
       "        text-align: right;\n",
       "    }\n",
       "</style>\n",
       "<table border=\"1\" class=\"dataframe\">\n",
       "  <thead>\n",
       "    <tr style=\"text-align: right;\">\n",
       "      <th></th>\n",
       "      <th>mobile_number</th>\n",
       "      <th>store_number</th>\n",
       "      <th>approx_30_days_trx_val</th>\n",
       "      <th>most_recent_trx_date_past_30_days</th>\n",
       "      <th>last_trx_date</th>\n",
       "      <th>expected_trx_days</th>\n",
       "      <th>actual_trx_days</th>\n",
       "      <th>page_active_days</th>\n",
       "      <th>inference_col</th>\n",
       "      <th>days_since_last_trx</th>\n",
       "      <th>transacted_last_5_days</th>\n",
       "      <th>weight_till_recency</th>\n",
       "      <th>national_id</th>\n",
       "      <th>idm_recommendation</th>\n",
       "      <th>idm_limit</th>\n",
       "      <th>is_iprs_validated</th>\n",
       "      <th>is_location_mapped</th>\n",
       "      <th>client_mobile_number</th>\n",
       "      <th>loan_count</th>\n",
       "      <th>loan_status</th>\n",
       "      <th>term_frequency</th>\n",
       "      <th>principal_disbursed</th>\n",
       "      <th>principal_repaid</th>\n",
       "      <th>disbursed_on_date</th>\n",
       "      <th>expected_matured_on_date</th>\n",
       "      <th>closed_on_date</th>\n",
       "      <th>due_date_fixed</th>\n",
       "      <th>days_past_due</th>\n",
       "      <th>bloom_version</th>\n",
       "      <th>loan_repayment_status</th>\n",
       "      <th>src_crdt_score</th>\n",
       "      <th>max_principal_amount</th>\n",
       "      <th>max_loan_disbursement_date</th>\n",
       "      <th>count_good_loans</th>\n",
       "      <th>good_loans_repayment_ratio</th>\n",
       "      <th>num_days_since_last_disbursement</th>\n",
       "      <th>weight_dpd</th>\n",
       "      <th>adjusted_loan_count</th>\n",
       "      <th>repayments_by_dd_vs_principal_mean</th>\n",
       "      <th>due_date_rm_ge_rm_1d</th>\n",
       "      <th>due_date_rm_ge_rm_add_back</th>\n",
       "      <th>repayments_by_erd_vs_principal_mean</th>\n",
       "      <th>rllvr_date_rm_ge_rm_add_back</th>\n",
       "      <th>21_day_graduation_flag</th>\n",
       "      <th>max_global_limit</th>\n",
       "      <th>previous_max_global_limit</th>\n",
       "      <th>max_limit_diff</th>\n",
       "      <th>limit_factor_21</th>\n",
       "      <th>limit_factor_7</th>\n",
       "      <th>limit_factor_1</th>\n",
       "      <th>idm_factor_21</th>\n",
       "      <th>idm_factor_7</th>\n",
       "      <th>idm_factor_1</th>\n",
       "      <th>trading_consistency_bands</th>\n",
       "      <th>loan_count_bands</th>\n",
       "      <th>new_limit_factor_21</th>\n",
       "      <th>new_limit_factor_7</th>\n",
       "      <th>new_limit_factor_1</th>\n",
       "      <th>weight_good_loans_repayment_ratio</th>\n",
       "      <th>weight_consistency</th>\n",
       "      <th>weight_recency</th>\n",
       "      <th>risk_rules_factor</th>\n",
       "      <th>ultimate_factor_21</th>\n",
       "      <th>ultimate_factor_7</th>\n",
       "      <th>ultimate_factor_1</th>\n",
       "      <th>limit_21_day</th>\n",
       "      <th>limit_7_day</th>\n",
       "      <th>limit_1_day</th>\n",
       "      <th>adjusted_21_limit</th>\n",
       "      <th>adjusted_7_limit</th>\n",
       "      <th>adjusted_1_limit</th>\n",
       "      <th>final_21_limit</th>\n",
       "      <th>final_7_limit</th>\n",
       "      <th>final_1_limit</th>\n",
       "      <th>blacklist_flag</th>\n",
       "      <th>total_final_21_limit</th>\n",
       "      <th>previous_21_limit</th>\n",
       "      <th>previous_7_limit</th>\n",
       "      <th>previous_1_limit</th>\n",
       "      <th>opt_in_date</th>\n",
       "      <th>model_version</th>\n",
       "      <th>created_at</th>\n",
       "    </tr>\n",
       "  </thead>\n",
       "  <tbody>\n",
       "    <tr>\n",
       "      <th>0</th>\n",
       "      <td>254799950875</td>\n",
       "      <td>7394074</td>\n",
       "      <td>54825.000</td>\n",
       "      <td>2023-07-18</td>\n",
       "      <td>2023-08-16</td>\n",
       "      <td>30</td>\n",
       "      <td>29</td>\n",
       "      <td>0.970</td>\n",
       "      <td>relax_rules</td>\n",
       "      <td>0.000</td>\n",
       "      <td>Yes</td>\n",
       "      <td>1.000</td>\n",
       "      <td>35377425</td>\n",
       "      <td>Approve</td>\n",
       "      <td>0.000</td>\n",
       "      <td>True</td>\n",
       "      <td>True</td>\n",
       "      <td>254799950875.000</td>\n",
       "      <td>2</td>\n",
       "      <td>300.000</td>\n",
       "      <td>7.000</td>\n",
       "      <td>8500.000</td>\n",
       "      <td>6134.800</td>\n",
       "      <td>2023-08-11</td>\n",
       "      <td>2023-08-18</td>\n",
       "      <td>NaT</td>\n",
       "      <td>2023-08-18</td>\n",
       "      <td>-2</td>\n",
       "      <td>2.000</td>\n",
       "      <td>current_active</td>\n",
       "      <td>467.000</td>\n",
       "      <td>8500.000</td>\n",
       "      <td>2023-08-11</td>\n",
       "      <td>2.000</td>\n",
       "      <td>1.000</td>\n",
       "      <td>5.000</td>\n",
       "      <td>1</td>\n",
       "      <td>2</td>\n",
       "      <td>1.031</td>\n",
       "      <td>1</td>\n",
       "      <td>1</td>\n",
       "      <td>NaN</td>\n",
       "      <td>1</td>\n",
       "      <td>pass</td>\n",
       "      <td>13800</td>\n",
       "      <td>6800</td>\n",
       "      <td>7000</td>\n",
       "      <td>0.500</td>\n",
       "      <td>0.170</td>\n",
       "      <td>0.170</td>\n",
       "      <td>1.000</td>\n",
       "      <td>1.000</td>\n",
       "      <td>1.000</td>\n",
       "      <td>Band 7</td>\n",
       "      <td>Band 2</td>\n",
       "      <td>0.250</td>\n",
       "      <td>0.150</td>\n",
       "      <td>0.150</td>\n",
       "      <td>1</td>\n",
       "      <td>1</td>\n",
       "      <td>1</td>\n",
       "      <td>1.000</td>\n",
       "      <td>0.250</td>\n",
       "      <td>0.150</td>\n",
       "      <td>0.150</td>\n",
       "      <td>13706.250</td>\n",
       "      <td>8223.750</td>\n",
       "      <td>8223.750</td>\n",
       "      <td>13706.250</td>\n",
       "      <td>8223.750</td>\n",
       "      <td>8223.750</td>\n",
       "      <td>13800</td>\n",
       "      <td>6900</td>\n",
       "      <td>0</td>\n",
       "      <td>0</td>\n",
       "      <td>0</td>\n",
       "      <td>0</td>\n",
       "      <td>6800</td>\n",
       "      <td>0</td>\n",
       "      <td>2022-04-26</td>\n",
       "      <td>2023-014[2023-07-04, 2023-08-17]</td>\n",
       "      <td>2023-08-17 10:26:27</td>\n",
       "    </tr>\n",
       "    <tr>\n",
       "      <th>1</th>\n",
       "      <td>254725499407</td>\n",
       "      <td>7258044</td>\n",
       "      <td>26055.000</td>\n",
       "      <td>2023-07-18</td>\n",
       "      <td>2023-08-16</td>\n",
       "      <td>30</td>\n",
       "      <td>30</td>\n",
       "      <td>1.000</td>\n",
       "      <td>relax_rules</td>\n",
       "      <td>0.000</td>\n",
       "      <td>Yes</td>\n",
       "      <td>1.000</td>\n",
       "      <td>27722601</td>\n",
       "      <td>Approve</td>\n",
       "      <td>0.000</td>\n",
       "      <td>True</td>\n",
       "      <td>True</td>\n",
       "      <td>254725499407.000</td>\n",
       "      <td>3</td>\n",
       "      <td>300.000</td>\n",
       "      <td>7.000</td>\n",
       "      <td>3700.000</td>\n",
       "      <td>0.000</td>\n",
       "      <td>2023-08-13</td>\n",
       "      <td>2023-08-20</td>\n",
       "      <td>NaT</td>\n",
       "      <td>2023-08-20</td>\n",
       "      <td>-4</td>\n",
       "      <td>2.000</td>\n",
       "      <td>current_active</td>\n",
       "      <td>473.000</td>\n",
       "      <td>3700.000</td>\n",
       "      <td>2023-08-13</td>\n",
       "      <td>3.000</td>\n",
       "      <td>1.000</td>\n",
       "      <td>3.000</td>\n",
       "      <td>1</td>\n",
       "      <td>3</td>\n",
       "      <td>1.031</td>\n",
       "      <td>1</td>\n",
       "      <td>1</td>\n",
       "      <td>NaN</td>\n",
       "      <td>1</td>\n",
       "      <td>pass</td>\n",
       "      <td>7900</td>\n",
       "      <td>3200</td>\n",
       "      <td>4700</td>\n",
       "      <td>0.500</td>\n",
       "      <td>0.170</td>\n",
       "      <td>0.170</td>\n",
       "      <td>1.000</td>\n",
       "      <td>1.000</td>\n",
       "      <td>1.000</td>\n",
       "      <td>Band 7</td>\n",
       "      <td>Band 3</td>\n",
       "      <td>0.300</td>\n",
       "      <td>0.175</td>\n",
       "      <td>0.175</td>\n",
       "      <td>1</td>\n",
       "      <td>1</td>\n",
       "      <td>1</td>\n",
       "      <td>1.000</td>\n",
       "      <td>0.300</td>\n",
       "      <td>0.175</td>\n",
       "      <td>0.150</td>\n",
       "      <td>7816.500</td>\n",
       "      <td>4559.625</td>\n",
       "      <td>3908.250</td>\n",
       "      <td>7816.500</td>\n",
       "      <td>4559.625</td>\n",
       "      <td>3908.250</td>\n",
       "      <td>7900</td>\n",
       "      <td>4000</td>\n",
       "      <td>0</td>\n",
       "      <td>0</td>\n",
       "      <td>0</td>\n",
       "      <td>0</td>\n",
       "      <td>3200</td>\n",
       "      <td>0</td>\n",
       "      <td>2022-02-28</td>\n",
       "      <td>2023-014[2023-07-04, 2023-08-17]</td>\n",
       "      <td>2023-08-17 10:26:27</td>\n",
       "    </tr>\n",
       "  </tbody>\n",
       "</table>\n",
       "</div>"
      ],
      "text/plain": [
       "  mobile_number store_number  approx_30_days_trx_val most_recent_trx_date_past_30_days last_trx_date  expected_trx_days  actual_trx_days  page_active_days inference_col  days_since_last_trx transacted_last_5_days  weight_till_recency national_id idm_recommendation  idm_limit  is_iprs_validated  is_location_mapped  client_mobile_number  loan_count  loan_status  term_frequency  principal_disbursed  principal_repaid disbursed_on_date expected_matured_on_date closed_on_date due_date_fixed  days_past_due  bloom_version loan_repayment_status  src_crdt_score  max_principal_amount max_loan_disbursement_date  count_good_loans  good_loans_repayment_ratio  num_days_since_last_disbursement  weight_dpd  adjusted_loan_count  repayments_by_dd_vs_principal_mean  due_date_rm_ge_rm_1d  due_date_rm_ge_rm_add_back  repayments_by_erd_vs_principal_mean  rllvr_date_rm_ge_rm_add_back 21_day_graduation_flag  max_global_limit  previous_max_global_limit  max_limit_diff  limit_factor_21  limit_factor_7  \\\n",
       "0  254799950875      7394074               54825.000                        2023-07-18    2023-08-16                 30               29             0.970   relax_rules                0.000                    Yes                1.000    35377425            Approve      0.000               True                True      254799950875.000           2      300.000           7.000             8500.000          6134.800        2023-08-11               2023-08-18            NaT     2023-08-18             -2          2.000        current_active         467.000              8500.000                 2023-08-11             2.000                       1.000                             5.000           1                    2                               1.031                     1                           1                                  NaN                             1                   pass             13800                       6800            7000            0.500           0.170   \n",
       "1  254725499407      7258044               26055.000                        2023-07-18    2023-08-16                 30               30             1.000   relax_rules                0.000                    Yes                1.000    27722601            Approve      0.000               True                True      254725499407.000           3      300.000           7.000             3700.000             0.000        2023-08-13               2023-08-20            NaT     2023-08-20             -4          2.000        current_active         473.000              3700.000                 2023-08-13             3.000                       1.000                             3.000           1                    3                               1.031                     1                           1                                  NaN                             1                   pass              7900                       3200            4700            0.500           0.170   \n",
       "\n",
       "   limit_factor_1  idm_factor_21  idm_factor_7  idm_factor_1 trading_consistency_bands loan_count_bands  new_limit_factor_21  new_limit_factor_7  new_limit_factor_1  weight_good_loans_repayment_ratio  weight_consistency  weight_recency  risk_rules_factor  ultimate_factor_21  ultimate_factor_7  ultimate_factor_1  limit_21_day  limit_7_day  limit_1_day  adjusted_21_limit  adjusted_7_limit  adjusted_1_limit  final_21_limit  final_7_limit  final_1_limit  blacklist_flag  total_final_21_limit  previous_21_limit  previous_7_limit  previous_1_limit opt_in_date                     model_version          created_at  \n",
       "0           0.170          1.000         1.000         1.000                    Band 7           Band 2                0.250               0.150               0.150                                  1                   1               1              1.000               0.250              0.150              0.150     13706.250     8223.750     8223.750          13706.250          8223.750          8223.750           13800           6900              0               0                     0                  0              6800                 0  2022-04-26  2023-014[2023-07-04, 2023-08-17] 2023-08-17 10:26:27  \n",
       "1           0.170          1.000         1.000         1.000                    Band 7           Band 3                0.300               0.175               0.175                                  1                   1               1              1.000               0.300              0.175              0.150      7816.500     4559.625     3908.250           7816.500          4559.625          3908.250            7900           4000              0               0                     0                  0              3200                 0  2022-02-28  2023-014[2023-07-04, 2023-08-17] 2023-08-17 10:26:27  "
      ]
     },
     "execution_count": 12,
     "metadata": {},
     "output_type": "execute_result"
    }
   ],
   "source": [
    "current_refresh = pd.read_parquet(\"../data/interim/Limits_refresh_summary_20230817_multiple_products.parquet\")\n",
    "\n",
    "del current_refresh['hurdle_rate_by_due_date_mean']\n",
    "del current_refresh['hurdle_rate_by_end_rollover_date_mean']\n",
    "del current_refresh['hurdle_rate_by_dpd30_mean']\n",
    "\n",
    "current_refresh['store_number'] = current_refresh['store_number'].astype(str)\n",
    "\n",
    "current_refresh.head(2)"
   ]
  },
  {
   "cell_type": "code",
   "execution_count": 13,
   "metadata": {
    "tags": []
   },
   "outputs": [
    {
     "data": {
      "text/html": [
       "<div>\n",
       "<style scoped>\n",
       "    .dataframe tbody tr th:only-of-type {\n",
       "        vertical-align: middle;\n",
       "    }\n",
       "\n",
       "    .dataframe tbody tr th {\n",
       "        vertical-align: top;\n",
       "    }\n",
       "\n",
       "    .dataframe thead th {\n",
       "        text-align: right;\n",
       "    }\n",
       "</style>\n",
       "<table border=\"1\" class=\"dataframe\">\n",
       "  <thead>\n",
       "    <tr style=\"text-align: right;\">\n",
       "      <th></th>\n",
       "      <th>mobile_number</th>\n",
       "      <th>store_number</th>\n",
       "      <th>approx_30_days_trx_val</th>\n",
       "      <th>most_recent_trx_date_past_30_days</th>\n",
       "      <th>last_trx_date</th>\n",
       "      <th>expected_trx_days</th>\n",
       "      <th>actual_trx_days</th>\n",
       "      <th>page_active_days</th>\n",
       "      <th>inference_col</th>\n",
       "      <th>days_since_last_trx</th>\n",
       "      <th>transacted_last_5_days</th>\n",
       "      <th>weight_till_recency</th>\n",
       "      <th>national_id</th>\n",
       "      <th>idm_recommendation</th>\n",
       "      <th>idm_limit</th>\n",
       "      <th>is_iprs_validated</th>\n",
       "      <th>is_location_mapped</th>\n",
       "      <th>client_mobile_number</th>\n",
       "      <th>loan_count</th>\n",
       "      <th>loan_status</th>\n",
       "      <th>term_frequency</th>\n",
       "      <th>principal_disbursed</th>\n",
       "      <th>principal_repaid</th>\n",
       "      <th>disbursed_on_date</th>\n",
       "      <th>expected_matured_on_date</th>\n",
       "      <th>closed_on_date</th>\n",
       "      <th>due_date_fixed</th>\n",
       "      <th>days_past_due</th>\n",
       "      <th>bloom_version</th>\n",
       "      <th>loan_repayment_status</th>\n",
       "      <th>src_crdt_score</th>\n",
       "      <th>max_principal_amount</th>\n",
       "      <th>max_loan_disbursement_date</th>\n",
       "      <th>count_good_loans</th>\n",
       "      <th>good_loans_repayment_ratio</th>\n",
       "      <th>num_days_since_last_disbursement</th>\n",
       "      <th>weight_dpd</th>\n",
       "      <th>adjusted_loan_count</th>\n",
       "      <th>repayments_by_dd_vs_principal_mean</th>\n",
       "      <th>due_date_rm_ge_rm_1d</th>\n",
       "      <th>due_date_rm_ge_rm_add_back</th>\n",
       "      <th>repayments_by_erd_vs_principal_mean</th>\n",
       "      <th>rllvr_date_rm_ge_rm_add_back</th>\n",
       "      <th>21_day_graduation_flag</th>\n",
       "      <th>max_global_limit</th>\n",
       "      <th>previous_max_global_limit</th>\n",
       "      <th>max_limit_diff</th>\n",
       "      <th>limit_factor_21</th>\n",
       "      <th>limit_factor_7</th>\n",
       "      <th>limit_factor_1</th>\n",
       "      <th>idm_factor_21</th>\n",
       "      <th>idm_factor_7</th>\n",
       "      <th>idm_factor_1</th>\n",
       "      <th>trading_consistency_bands</th>\n",
       "      <th>loan_count_bands</th>\n",
       "      <th>new_limit_factor_21</th>\n",
       "      <th>new_limit_factor_7</th>\n",
       "      <th>new_limit_factor_1</th>\n",
       "      <th>weight_good_loans_repayment_ratio</th>\n",
       "      <th>weight_consistency</th>\n",
       "      <th>weight_recency</th>\n",
       "      <th>risk_rules_factor</th>\n",
       "      <th>ultimate_factor_21</th>\n",
       "      <th>ultimate_factor_7</th>\n",
       "      <th>ultimate_factor_1</th>\n",
       "      <th>limit_21_day</th>\n",
       "      <th>limit_7_day</th>\n",
       "      <th>limit_1_day</th>\n",
       "      <th>adjusted_21_limit</th>\n",
       "      <th>adjusted_7_limit</th>\n",
       "      <th>adjusted_1_limit</th>\n",
       "      <th>final_21_limit</th>\n",
       "      <th>final_7_limit</th>\n",
       "      <th>final_1_limit</th>\n",
       "      <th>blacklist_flag</th>\n",
       "      <th>total_final_21_limit</th>\n",
       "      <th>previous_21_limit</th>\n",
       "      <th>previous_7_limit</th>\n",
       "      <th>previous_1_limit</th>\n",
       "      <th>opt_in_date</th>\n",
       "      <th>model_version</th>\n",
       "      <th>created_at</th>\n",
       "      <th>hurdle_rate_by_due_date_mean</th>\n",
       "      <th>hurdle_rate_by_end_rollover_date_mean</th>\n",
       "      <th>hurdle_rate_by_dpd30_mean</th>\n",
       "    </tr>\n",
       "  </thead>\n",
       "  <tbody>\n",
       "    <tr>\n",
       "      <th>0</th>\n",
       "      <td>254799950875</td>\n",
       "      <td>7394074</td>\n",
       "      <td>54825.000</td>\n",
       "      <td>2023-07-18</td>\n",
       "      <td>2023-08-16</td>\n",
       "      <td>30</td>\n",
       "      <td>29</td>\n",
       "      <td>0.970</td>\n",
       "      <td>relax_rules</td>\n",
       "      <td>0.000</td>\n",
       "      <td>Yes</td>\n",
       "      <td>1.000</td>\n",
       "      <td>35377425</td>\n",
       "      <td>Approve</td>\n",
       "      <td>0.000</td>\n",
       "      <td>True</td>\n",
       "      <td>True</td>\n",
       "      <td>254799950875.000</td>\n",
       "      <td>2</td>\n",
       "      <td>300.000</td>\n",
       "      <td>7.000</td>\n",
       "      <td>8500.000</td>\n",
       "      <td>6134.800</td>\n",
       "      <td>2023-08-11</td>\n",
       "      <td>2023-08-18</td>\n",
       "      <td>NaT</td>\n",
       "      <td>2023-08-18</td>\n",
       "      <td>-2</td>\n",
       "      <td>2.000</td>\n",
       "      <td>current_active</td>\n",
       "      <td>467.000</td>\n",
       "      <td>8500.000</td>\n",
       "      <td>2023-08-11</td>\n",
       "      <td>2.000</td>\n",
       "      <td>1.000</td>\n",
       "      <td>5.000</td>\n",
       "      <td>1</td>\n",
       "      <td>2</td>\n",
       "      <td>1.031</td>\n",
       "      <td>1</td>\n",
       "      <td>1</td>\n",
       "      <td>NaN</td>\n",
       "      <td>1</td>\n",
       "      <td>pass</td>\n",
       "      <td>13800</td>\n",
       "      <td>6800</td>\n",
       "      <td>7000</td>\n",
       "      <td>0.500</td>\n",
       "      <td>0.170</td>\n",
       "      <td>0.170</td>\n",
       "      <td>1.000</td>\n",
       "      <td>1.000</td>\n",
       "      <td>1.000</td>\n",
       "      <td>Band 7</td>\n",
       "      <td>Band 2</td>\n",
       "      <td>0.250</td>\n",
       "      <td>0.150</td>\n",
       "      <td>0.150</td>\n",
       "      <td>1</td>\n",
       "      <td>1</td>\n",
       "      <td>1</td>\n",
       "      <td>1.000</td>\n",
       "      <td>0.250</td>\n",
       "      <td>0.150</td>\n",
       "      <td>0.150</td>\n",
       "      <td>13706.250</td>\n",
       "      <td>8223.750</td>\n",
       "      <td>8223.750</td>\n",
       "      <td>13706.250</td>\n",
       "      <td>8223.750</td>\n",
       "      <td>8223.750</td>\n",
       "      <td>13800</td>\n",
       "      <td>6900</td>\n",
       "      <td>0</td>\n",
       "      <td>0</td>\n",
       "      <td>0</td>\n",
       "      <td>0</td>\n",
       "      <td>6800</td>\n",
       "      <td>0</td>\n",
       "      <td>2022-04-26</td>\n",
       "      <td>2023-014[2023-07-04, 2023-08-17]</td>\n",
       "      <td>2023-08-17 10:26:27</td>\n",
       "      <td>1.031</td>\n",
       "      <td>1.031</td>\n",
       "      <td>1.031</td>\n",
       "    </tr>\n",
       "    <tr>\n",
       "      <th>1</th>\n",
       "      <td>254725499407</td>\n",
       "      <td>7258044</td>\n",
       "      <td>26055.000</td>\n",
       "      <td>2023-07-18</td>\n",
       "      <td>2023-08-16</td>\n",
       "      <td>30</td>\n",
       "      <td>30</td>\n",
       "      <td>1.000</td>\n",
       "      <td>relax_rules</td>\n",
       "      <td>0.000</td>\n",
       "      <td>Yes</td>\n",
       "      <td>1.000</td>\n",
       "      <td>27722601</td>\n",
       "      <td>Approve</td>\n",
       "      <td>0.000</td>\n",
       "      <td>True</td>\n",
       "      <td>True</td>\n",
       "      <td>254725499407.000</td>\n",
       "      <td>3</td>\n",
       "      <td>300.000</td>\n",
       "      <td>7.000</td>\n",
       "      <td>3700.000</td>\n",
       "      <td>0.000</td>\n",
       "      <td>2023-08-13</td>\n",
       "      <td>2023-08-20</td>\n",
       "      <td>NaT</td>\n",
       "      <td>2023-08-20</td>\n",
       "      <td>-4</td>\n",
       "      <td>2.000</td>\n",
       "      <td>current_active</td>\n",
       "      <td>473.000</td>\n",
       "      <td>3700.000</td>\n",
       "      <td>2023-08-13</td>\n",
       "      <td>3.000</td>\n",
       "      <td>1.000</td>\n",
       "      <td>3.000</td>\n",
       "      <td>1</td>\n",
       "      <td>3</td>\n",
       "      <td>1.031</td>\n",
       "      <td>1</td>\n",
       "      <td>1</td>\n",
       "      <td>NaN</td>\n",
       "      <td>1</td>\n",
       "      <td>pass</td>\n",
       "      <td>7900</td>\n",
       "      <td>3200</td>\n",
       "      <td>4700</td>\n",
       "      <td>0.500</td>\n",
       "      <td>0.170</td>\n",
       "      <td>0.170</td>\n",
       "      <td>1.000</td>\n",
       "      <td>1.000</td>\n",
       "      <td>1.000</td>\n",
       "      <td>Band 7</td>\n",
       "      <td>Band 3</td>\n",
       "      <td>0.300</td>\n",
       "      <td>0.175</td>\n",
       "      <td>0.175</td>\n",
       "      <td>1</td>\n",
       "      <td>1</td>\n",
       "      <td>1</td>\n",
       "      <td>1.000</td>\n",
       "      <td>0.300</td>\n",
       "      <td>0.175</td>\n",
       "      <td>0.150</td>\n",
       "      <td>7816.500</td>\n",
       "      <td>4559.625</td>\n",
       "      <td>3908.250</td>\n",
       "      <td>7816.500</td>\n",
       "      <td>4559.625</td>\n",
       "      <td>3908.250</td>\n",
       "      <td>7900</td>\n",
       "      <td>4000</td>\n",
       "      <td>0</td>\n",
       "      <td>0</td>\n",
       "      <td>0</td>\n",
       "      <td>0</td>\n",
       "      <td>3200</td>\n",
       "      <td>0</td>\n",
       "      <td>2022-02-28</td>\n",
       "      <td>2023-014[2023-07-04, 2023-08-17]</td>\n",
       "      <td>2023-08-17 10:26:27</td>\n",
       "      <td>1.031</td>\n",
       "      <td>1.031</td>\n",
       "      <td>1.031</td>\n",
       "    </tr>\n",
       "  </tbody>\n",
       "</table>\n",
       "</div>"
      ],
      "text/plain": [
       "  mobile_number store_number  approx_30_days_trx_val most_recent_trx_date_past_30_days last_trx_date  expected_trx_days  actual_trx_days  page_active_days inference_col  days_since_last_trx transacted_last_5_days  weight_till_recency national_id idm_recommendation  idm_limit  is_iprs_validated  is_location_mapped  client_mobile_number  loan_count  loan_status  term_frequency  principal_disbursed  principal_repaid disbursed_on_date expected_matured_on_date closed_on_date due_date_fixed  days_past_due  bloom_version loan_repayment_status  src_crdt_score  max_principal_amount max_loan_disbursement_date  count_good_loans  good_loans_repayment_ratio  num_days_since_last_disbursement  weight_dpd  adjusted_loan_count  repayments_by_dd_vs_principal_mean  due_date_rm_ge_rm_1d  due_date_rm_ge_rm_add_back  repayments_by_erd_vs_principal_mean  rllvr_date_rm_ge_rm_add_back 21_day_graduation_flag  max_global_limit  previous_max_global_limit  max_limit_diff  limit_factor_21  limit_factor_7  \\\n",
       "0  254799950875      7394074               54825.000                        2023-07-18    2023-08-16                 30               29             0.970   relax_rules                0.000                    Yes                1.000    35377425            Approve      0.000               True                True      254799950875.000           2      300.000           7.000             8500.000          6134.800        2023-08-11               2023-08-18            NaT     2023-08-18             -2          2.000        current_active         467.000              8500.000                 2023-08-11             2.000                       1.000                             5.000           1                    2                               1.031                     1                           1                                  NaN                             1                   pass             13800                       6800            7000            0.500           0.170   \n",
       "1  254725499407      7258044               26055.000                        2023-07-18    2023-08-16                 30               30             1.000   relax_rules                0.000                    Yes                1.000    27722601            Approve      0.000               True                True      254725499407.000           3      300.000           7.000             3700.000             0.000        2023-08-13               2023-08-20            NaT     2023-08-20             -4          2.000        current_active         473.000              3700.000                 2023-08-13             3.000                       1.000                             3.000           1                    3                               1.031                     1                           1                                  NaN                             1                   pass              7900                       3200            4700            0.500           0.170   \n",
       "\n",
       "   limit_factor_1  idm_factor_21  idm_factor_7  idm_factor_1 trading_consistency_bands loan_count_bands  new_limit_factor_21  new_limit_factor_7  new_limit_factor_1  weight_good_loans_repayment_ratio  weight_consistency  weight_recency  risk_rules_factor  ultimate_factor_21  ultimate_factor_7  ultimate_factor_1  limit_21_day  limit_7_day  limit_1_day  adjusted_21_limit  adjusted_7_limit  adjusted_1_limit  final_21_limit  final_7_limit  final_1_limit  blacklist_flag  total_final_21_limit  previous_21_limit  previous_7_limit  previous_1_limit opt_in_date                     model_version          created_at  hurdle_rate_by_due_date_mean  hurdle_rate_by_end_rollover_date_mean  hurdle_rate_by_dpd30_mean  \n",
       "0           0.170          1.000         1.000         1.000                    Band 7           Band 2                0.250               0.150               0.150                                  1                   1               1              1.000               0.250              0.150              0.150     13706.250     8223.750     8223.750          13706.250          8223.750          8223.750           13800           6900              0               0                     0                  0              6800                 0  2022-04-26  2023-014[2023-07-04, 2023-08-17] 2023-08-17 10:26:27                         1.031                                  1.031                      1.031  \n",
       "1           0.170          1.000         1.000         1.000                    Band 7           Band 3                0.300               0.175               0.175                                  1                   1               1              1.000               0.300              0.175              0.150      7816.500     4559.625     3908.250           7816.500          4559.625          3908.250            7900           4000              0               0                     0                  0              3200                 0  2022-02-28  2023-014[2023-07-04, 2023-08-17] 2023-08-17 10:26:27                         1.031                                  1.031                      1.031  "
      ]
     },
     "execution_count": 13,
     "metadata": {},
     "output_type": "execute_result"
    }
   ],
   "source": [
    "current_refresh = pd.merge(current_refresh, hurdle_rates_df, on='store_number', how='left')\n",
    "\n",
    "current_refresh.head(2)"
   ]
  },
  {
   "cell_type": "code",
   "execution_count": 14,
   "metadata": {
    "tags": []
   },
   "outputs": [],
   "source": [
    "##############################\n",
    "current_refresh['days_since_last_trx'] = current_refresh['days_since_last_trx'].fillna(31)"
   ]
  },
  {
   "cell_type": "code",
   "execution_count": 15,
   "metadata": {
    "tags": []
   },
   "outputs": [
    {
     "data": {
      "text/plain": [
       "final_21_limit     88967200\n",
       "final_7_limit     117512000\n",
       "final_1_limit             0\n",
       "dtype: int64"
      ]
     },
     "execution_count": 15,
     "metadata": {},
     "output_type": "execute_result"
    }
   ],
   "source": [
    "current_refresh[['final_21_limit', 'final_7_limit', 'final_1_limit']].sum()"
   ]
  },
  {
   "cell_type": "code",
   "execution_count": 16,
   "metadata": {
    "tags": []
   },
   "outputs": [
    {
     "data": {
      "text/html": [
       "<div>\n",
       "<style scoped>\n",
       "    .dataframe tbody tr th:only-of-type {\n",
       "        vertical-align: middle;\n",
       "    }\n",
       "\n",
       "    .dataframe tbody tr th {\n",
       "        vertical-align: top;\n",
       "    }\n",
       "\n",
       "    .dataframe thead th {\n",
       "        text-align: right;\n",
       "    }\n",
       "</style>\n",
       "<table border=\"1\" class=\"dataframe\">\n",
       "  <thead>\n",
       "    <tr style=\"text-align: right;\">\n",
       "      <th></th>\n",
       "      <th>store_number</th>\n",
       "      <th>approx_30_days_trx_val</th>\n",
       "      <th>expected_trx_days</th>\n",
       "      <th>actual_trx_days</th>\n",
       "      <th>page_active_days</th>\n",
       "      <th>days_since_last_trx</th>\n",
       "      <th>weight_consistency</th>\n",
       "      <th>weight_recency</th>\n",
       "      <th>hurdle_rate_by_due_date_mean</th>\n",
       "      <th>hurdle_rate_by_end_rollover_date_mean</th>\n",
       "      <th>hurdle_rate_by_dpd30_mean</th>\n",
       "    </tr>\n",
       "  </thead>\n",
       "  <tbody>\n",
       "    <tr>\n",
       "      <th>0</th>\n",
       "      <td>7394074</td>\n",
       "      <td>54825.000</td>\n",
       "      <td>30</td>\n",
       "      <td>29</td>\n",
       "      <td>0.970</td>\n",
       "      <td>0.000</td>\n",
       "      <td>1</td>\n",
       "      <td>1</td>\n",
       "      <td>1.031</td>\n",
       "      <td>1.031</td>\n",
       "      <td>1.031</td>\n",
       "    </tr>\n",
       "    <tr>\n",
       "      <th>1</th>\n",
       "      <td>7258044</td>\n",
       "      <td>26055.000</td>\n",
       "      <td>30</td>\n",
       "      <td>30</td>\n",
       "      <td>1.000</td>\n",
       "      <td>0.000</td>\n",
       "      <td>1</td>\n",
       "      <td>1</td>\n",
       "      <td>1.031</td>\n",
       "      <td>1.031</td>\n",
       "      <td>1.031</td>\n",
       "    </tr>\n",
       "  </tbody>\n",
       "</table>\n",
       "</div>"
      ],
      "text/plain": [
       "  store_number  approx_30_days_trx_val  expected_trx_days  actual_trx_days  page_active_days  days_since_last_trx  weight_consistency  weight_recency  hurdle_rate_by_due_date_mean  hurdle_rate_by_end_rollover_date_mean  hurdle_rate_by_dpd30_mean\n",
       "0      7394074               54825.000                 30               29             0.970                0.000                   1               1                         1.031                                  1.031                      1.031\n",
       "1      7258044               26055.000                 30               30             1.000                0.000                   1               1                         1.031                                  1.031                      1.031"
      ]
     },
     "execution_count": 16,
     "metadata": {},
     "output_type": "execute_result"
    }
   ],
   "source": [
    "selected_columns = current_refresh[[\"store_number\", \"approx_30_days_trx_val\", \"expected_trx_days\",\"actual_trx_days\",\"page_active_days\", \"days_since_last_trx\", \"weight_consistency\", \"weight_recency\", \"hurdle_rate_by_due_date_mean\", \"hurdle_rate_by_end_rollover_date_mean\", \"hurdle_rate_by_dpd30_mean\"]]\n",
    "\n",
    "selected_columns.head(2)"
   ]
  },
  {
   "cell_type": "code",
   "execution_count": 17,
   "metadata": {
    "tags": []
   },
   "outputs": [],
   "source": [
    "selected_columns_corr = selected_columns[[\"approx_30_days_trx_val\", \"page_active_days\", \"days_since_last_trx\", \"weight_recency\", \"weight_consistency\", \"expected_trx_days\", \"actual_trx_days\"]]"
   ]
  },
  {
   "cell_type": "code",
   "execution_count": 18,
   "metadata": {
    "tags": []
   },
   "outputs": [
    {
     "data": {
      "text/plain": [
       "<Axes: >"
      ]
     },
     "execution_count": 18,
     "metadata": {},
     "output_type": "execute_result"
    },
    {
     "data": {
      "image/png": "[encoded data removed]",
      "text/plain": [
       "<Figure size 1000x2000 with 2 Axes>"
      ]
     },
     "metadata": {},
     "output_type": "display_data"
    }
   ],
   "source": [
    "#Correlation analysis\n",
    "correlations = selected_columns_corr.corr()\n",
    "\n",
    "f, ax = plt.subplots(figsize = (10, 20))\n",
    "sns.heatmap(correlations, annot = True)"
   ]
  },
  {
   "cell_type": "code",
   "execution_count": 19,
   "metadata": {
    "tags": []
   },
   "outputs": [
    {
     "name": "stdout",
     "output_type": "stream",
     "text": [
      "(32976, 11)\n",
      "(32457, 11)\n"
     ]
    }
   ],
   "source": [
    "without_performance_data = selected_columns[selected_columns['hurdle_rate_by_due_date_mean'].isnull()].reset_index(drop=True)\n",
    "print(without_performance_data.shape)\n",
    "with_performance_data = selected_columns[selected_columns['hurdle_rate_by_due_date_mean'].notnull()].reset_index(drop=True)\n",
    "print(with_performance_data.shape)"
   ]
  },
  {
   "cell_type": "code",
   "execution_count": 20,
   "metadata": {
    "tags": []
   },
   "outputs": [
    {
     "data": {
      "text/plain": [
       "(9517, 11)"
      ]
     },
     "execution_count": 20,
     "metadata": {},
     "output_type": "execute_result"
    }
   ],
   "source": [
    "with_performance_data[with_performance_data['hurdle_rate_by_end_rollover_date_mean'] > 1.02].shape"
   ]
  },
  {
   "cell_type": "code",
   "execution_count": 21,
   "metadata": {
    "tags": []
   },
   "outputs": [],
   "source": [
    "summaries = with_performance_data.copy()"
   ]
  },
  {
   "cell_type": "code",
   "execution_count": 22,
   "metadata": {
    "tags": []
   },
   "outputs": [],
   "source": [
    "# Features for clustering\n",
    "# features = [\"approx_30_days_trx_val\", \"page_active_days\", \"days_since_last_trx\"]\n",
    "features = [\"approx_30_days_trx_val\", \"page_active_days\", \"days_since_last_trx\", \"weight_recency\", \"weight_consistency\", \"actual_trx_days\"]"
   ]
  },
  {
   "cell_type": "code",
   "execution_count": 23,
   "metadata": {
    "tags": []
   },
   "outputs": [],
   "source": [
    "# # Split performance data into training and testing subsets\n",
    "# train_with_performance_data, test_with_performance_data = train_test_split(with_performance_data, test_size=0.2, random_state=42)"
   ]
  },
  {
   "cell_type": "code",
   "execution_count": 24,
   "metadata": {
    "tags": []
   },
   "outputs": [],
   "source": [
    "# Scale the training data\n",
    "# Initialize StandardScaler\n",
    "scaler = StandardScaler()\n",
    "\n",
    "# Fit and transform scaler on training data\n",
    "scaled_with_performance_data = scaler.fit_transform(with_performance_data[features])"
   ]
  },
  {
   "cell_type": "code",
   "execution_count": 25,
   "metadata": {
    "tags": []
   },
   "outputs": [],
   "source": [
    "with open(\"../models/clustering_scaler_model.pkl\", \"wb\") as f:\n",
    "    pickle.dump(scaler, f)"
   ]
  },
  {
   "cell_type": "code",
   "execution_count": 26,
   "metadata": {
    "tags": []
   },
   "outputs": [],
   "source": [
    "# Apply PCA to the features and choose the number of components to retain\n",
    "pca = PCA(n_components=2)  # You can adjust the number of components\n",
    "\n",
    "# Apply PCA to the scaled training data\n",
    "pca_scaled_with_performance_data = pca.fit_transform(scaled_with_performance_data)"
   ]
  },
  {
   "cell_type": "code",
   "execution_count": 27,
   "metadata": {
    "tags": []
   },
   "outputs": [],
   "source": [
    "with open(\"../models/clustering_pca_model.pkl\", \"wb\") as f:\n",
    "    pickle.dump(pca, f)"
   ]
  },
  {
   "cell_type": "code",
   "execution_count": 55,
   "metadata": {
    "tags": []
   },
   "outputs": [
    {
     "data": {
      "image/png": "[encoded data removed]",
      "text/plain": [
       "<Figure size 640x480 with 1 Axes>"
      ]
     },
     "metadata": {},
     "output_type": "display_data"
    }
   ],
   "source": [
    "# Calculate silhouette scores for different numbers of clusters\n",
    "silhouette_scores = []\n",
    "range_values = range(2, 10)  # Start from 2 clusters as 1 cluster doesn't make sense\n",
    "\n",
    "for n_clusters in range_values:\n",
    "    hierarchical_clustering = AgglomerativeClustering(n_clusters=n_clusters, metric='euclidean', linkage='ward')\n",
    "    hierarchical_clustering.fit(pca_scaled_with_performance_data)\n",
    "    cluster_labels = hierarchical_clustering.labels_\n",
    "    \n",
    "    silhouette_scores.append(silhouette_score(pca_scaled_with_performance_data, cluster_labels))"
   ]
  },
  {
   "cell_type": "code",
   "execution_count": 62,
   "metadata": {
    "tags": []
   },
   "outputs": [
    {
     "data": {
      "image/png": "[encoded data removed]",
      "text/plain": [
       "<Figure size 640x480 with 1 Axes>"
      ]
     },
     "metadata": {},
     "output_type": "display_data"
    }
   ],
   "source": [
    "# Plot the silhouette scores\n",
    "plt.plot(range_values, silhouette_scores, 'bx-')\n",
    "plt.title('Elbow Method for Hierarchical Clustering')\n",
    "plt.xlabel('Number of Clusters')\n",
    "plt.ylabel('Silhouette Score')\n",
    "# plt.ylim(0, 1)\n",
    "plt.show()"
   ]
  },
  {
   "cell_type": "code",
   "execution_count": 98,
   "metadata": {
    "tags": []
   },
   "outputs": [
    {
     "name": "stdout",
     "output_type": "stream",
     "text": [
      "Silhouette Score on Testing Data: 0.70\n"
     ]
    }
   ],
   "source": [
    "# Fit hierarchical clustering to PCA-transformed training data\n",
    "num_clusters = 8  # You can adjust the number of clusters\n",
    "hierarchical = AgglomerativeClustering(n_clusters=num_clusters, metric='euclidean', linkage='ward')\n",
    "train_clusters = hierarchical.fit_predict(pca_scaled_with_performance_data)\n",
    "\n",
    "# # Transform PCA-transformed testing data\n",
    "# scaled_test_with_performance_data = scaler.transform(test_with_performance_data[features])\n",
    "# pca_scaled_test_with_performance_data = pca.transform(scaled_test_with_performance_data)\n",
    "\n",
    "# # Predict cluster labels for testing data using the trained hierarchical model\n",
    "# test_clusters = hierarchical.fit_predict(pca_scaled_test_with_performance_data)\n",
    "\n",
    "# Calculate silhouette score for clustering model on testing data\n",
    "silhouette_avg = silhouette_score(pca_scaled_with_performance_data, train_clusters)\n",
    "print(f\"Silhouette Score on Testing Data: {silhouette_avg:.2f}\")"
   ]
  },
  {
   "cell_type": "code",
   "execution_count": 99,
   "metadata": {
    "tags": []
   },
   "outputs": [
    {
     "name": "stdout",
     "output_type": "stream",
     "text": [
      "Number of unique train clusters: 8\n"
     ]
    }
   ],
   "source": [
    "print(\"Number of unique train clusters:\", len(np.unique(train_clusters)))\n",
    "\n",
    "# print(\"Number of unique test clusters:\", len(np.unique(test_clusters)))"
   ]
  },
  {
   "cell_type": "code",
   "execution_count": 100,
   "metadata": {
    "tags": []
   },
   "outputs": [
    {
     "name": "stdout",
     "output_type": "stream",
     "text": [
      "Cluster 0: 61 data points\n",
      "Cluster 1: 2225 data points\n",
      "Cluster 2: 210 data points\n",
      "Cluster 3: 5916 data points\n",
      "Cluster 4: 10219 data points\n",
      "Cluster 5: 2492 data points\n",
      "Cluster 6: 8132 data points\n",
      "Cluster 7: 3202 data points\n"
     ]
    }
   ],
   "source": [
    "cluster_counts = np.bincount(train_clusters)\n",
    "\n",
    "for cluster_label, count in enumerate(cluster_counts):\n",
    "    print(f\"Cluster {cluster_label}: {count} data points\")"
   ]
  },
  {
   "cell_type": "code",
   "execution_count": 101,
   "metadata": {
    "tags": []
   },
   "outputs": [],
   "source": [
    "# cluster_counts = np.bincount(test_clusters)\n",
    "\n",
    "# for cluster_label, count in enumerate(cluster_counts):\n",
    "#     print(f\"Cluster {cluster_label}: {count} data points\")"
   ]
  },
  {
   "cell_type": "code",
   "execution_count": 102,
   "metadata": {
    "tags": []
   },
   "outputs": [
    {
     "name": "stdout",
     "output_type": "stream",
     "text": [
      "Number of clusters found: 8\n"
     ]
    }
   ],
   "source": [
    "num_clusters_found = hierarchical.n_clusters_\n",
    "print(f\"Number of clusters found: {num_clusters_found}\")"
   ]
  },
  {
   "cell_type": "code",
   "execution_count": 103,
   "metadata": {
    "tags": []
   },
   "outputs": [
    {
     "data": {
      "image/png": "[encoded data removed]",
      "text/plain": [
       "<Figure size 1000x600 with 2 Axes>"
      ]
     },
     "metadata": {},
     "output_type": "display_data"
    }
   ],
   "source": [
    "# Visualize training data clusters\n",
    "plt.figure(figsize=(10, 6))\n",
    "plt.scatter(pca_scaled_with_performance_data[:, 0], pca_scaled_with_performance_data[:, 1], c=train_clusters, cmap='rainbow')\n",
    "plt.title(\"Clusters in Training Data\")\n",
    "plt.xlabel(\"Principal Component 1\")\n",
    "plt.ylabel(\"Principal Component 2\")\n",
    "plt.colorbar(label=\"Cluster\")\n",
    "plt.show()\n",
    "\n",
    "# # Visualize testing data clusters\n",
    "# plt.figure(figsize=(10, 6))\n",
    "# plt.scatter(pca_scaled_test_with_performance_data[:, 0], pca_scaled_test_with_performance_data[:, 1], c=test_clusters, cmap='rainbow')\n",
    "# plt.title(\"Clusters in Testing Data\")\n",
    "# plt.xlabel(\"Principal Component 1\")\n",
    "# plt.ylabel(\"Principal Component 2\")\n",
    "# plt.colorbar(label=\"Cluster\")\n",
    "# plt.show()"
   ]
  },
  {
   "cell_type": "code",
   "execution_count": 104,
   "metadata": {
    "tags": []
   },
   "outputs": [],
   "source": [
    "# Add the \"clusters\" column to both performance and without_performance data\n",
    "with_performance_data[\"clusters\"] = train_clusters\n",
    "\n",
    "# # Scale the without performance data\n",
    "# scaled_without_performance_data = scaler.transform(without_performance_data[features])\n",
    "\n",
    "# # Apply PCA to scaled without performance data\n",
    "# pca_scaled_without_performance_data = pca.transform(scaled_without_performance_data)\n",
    "\n",
    "# # Predict clusters for PCA-transformed without performance data\n",
    "# train_clusters_without_performance = hierarchical.fit_predict(pca_scaled_without_performance_data)\n",
    "\n",
    "# without_performance_data[\"clusters\"] = train_clusters_without_performance"
   ]
  },
  {
   "cell_type": "code",
   "execution_count": 105,
   "metadata": {
    "tags": []
   },
   "outputs": [],
   "source": [
    "with open(\"../models/hierarchical_model_1.pkl\", \"wb\") as f:\n",
    "    pickle.dump(hierarchical, f)"
   ]
  },
  {
   "cell_type": "code",
   "execution_count": 106,
   "metadata": {
    "tags": []
   },
   "outputs": [],
   "source": [
    "# without_performance_data[\"clusters\"].value_counts()"
   ]
  },
  {
   "cell_type": "code",
   "execution_count": 107,
   "metadata": {
    "tags": []
   },
   "outputs": [
    {
     "data": {
      "text/plain": [
       "clusters\n",
       "4    10219\n",
       "6     8132\n",
       "3     5916\n",
       "7     3202\n",
       "5     2492\n",
       "1     2225\n",
       "2      210\n",
       "0       61\n",
       "Name: count, dtype: int64"
      ]
     },
     "execution_count": 107,
     "metadata": {},
     "output_type": "execute_result"
    }
   ],
   "source": [
    "with_performance_data[\"clusters\"].value_counts()"
   ]
  },
  {
   "cell_type": "code",
   "execution_count": 108,
   "metadata": {
    "tags": []
   },
   "outputs": [
    {
     "data": {
      "text/html": [
       "<div>\n",
       "<style scoped>\n",
       "    .dataframe tbody tr th:only-of-type {\n",
       "        vertical-align: middle;\n",
       "    }\n",
       "\n",
       "    .dataframe tbody tr th {\n",
       "        vertical-align: top;\n",
       "    }\n",
       "\n",
       "    .dataframe thead th {\n",
       "        text-align: right;\n",
       "    }\n",
       "</style>\n",
       "<table border=\"1\" class=\"dataframe\">\n",
       "  <thead>\n",
       "    <tr style=\"text-align: right;\">\n",
       "      <th></th>\n",
       "      <th>hurdle_rate_by_due_date_mean</th>\n",
       "      <th>hurdle_rate_by_end_rollover_date_mean</th>\n",
       "      <th>hurdle_rate_by_dpd30_mean</th>\n",
       "    </tr>\n",
       "    <tr>\n",
       "      <th>clusters</th>\n",
       "      <th></th>\n",
       "      <th></th>\n",
       "      <th></th>\n",
       "    </tr>\n",
       "  </thead>\n",
       "  <tbody>\n",
       "    <tr>\n",
       "      <th>0</th>\n",
       "      <td>0.902</td>\n",
       "      <td>1.031</td>\n",
       "      <td>1.033</td>\n",
       "    </tr>\n",
       "    <tr>\n",
       "      <th>1</th>\n",
       "      <td>0.884</td>\n",
       "      <td>1.006</td>\n",
       "      <td>1.031</td>\n",
       "    </tr>\n",
       "    <tr>\n",
       "      <th>2</th>\n",
       "      <td>0.917</td>\n",
       "      <td>1.031</td>\n",
       "      <td>1.032</td>\n",
       "    </tr>\n",
       "    <tr>\n",
       "      <th>3</th>\n",
       "      <td>0.684</td>\n",
       "      <td>0.825</td>\n",
       "      <td>0.915</td>\n",
       "    </tr>\n",
       "    <tr>\n",
       "      <th>4</th>\n",
       "      <td>0.803</td>\n",
       "      <td>0.952</td>\n",
       "      <td>1.026</td>\n",
       "    </tr>\n",
       "    <tr>\n",
       "      <th>5</th>\n",
       "      <td>0.684</td>\n",
       "      <td>0.825</td>\n",
       "      <td>0.923</td>\n",
       "    </tr>\n",
       "    <tr>\n",
       "      <th>6</th>\n",
       "      <td>0.684</td>\n",
       "      <td>0.785</td>\n",
       "      <td>0.882</td>\n",
       "    </tr>\n",
       "    <tr>\n",
       "      <th>7</th>\n",
       "      <td>0.724</td>\n",
       "      <td>0.879</td>\n",
       "      <td>0.962</td>\n",
       "    </tr>\n",
       "  </tbody>\n",
       "</table>\n",
       "</div>"
      ],
      "text/plain": [
       "          hurdle_rate_by_due_date_mean  hurdle_rate_by_end_rollover_date_mean  hurdle_rate_by_dpd30_mean\n",
       "clusters                                                                                                \n",
       "0                                0.902                                  1.031                      1.033\n",
       "1                                0.884                                  1.006                      1.031\n",
       "2                                0.917                                  1.031                      1.032\n",
       "3                                0.684                                  0.825                      0.915\n",
       "4                                0.803                                  0.952                      1.026\n",
       "5                                0.684                                  0.825                      0.923\n",
       "6                                0.684                                  0.785                      0.882\n",
       "7                                0.724                                  0.879                      0.962"
      ]
     },
     "execution_count": 108,
     "metadata": {},
     "output_type": "execute_result"
    }
   ],
   "source": [
    "# Calculate cluster means for the columns to predict\n",
    "cluster_means_model_1 = with_performance_data.groupby(\"clusters\")[[\"hurdle_rate_by_due_date_mean\", \"hurdle_rate_by_end_rollover_date_mean\", \"hurdle_rate_by_dpd30_mean\"]].median()\n",
    "\n",
    "cluster_means_model_1"
   ]
  },
  {
   "cell_type": "code",
   "execution_count": 109,
   "metadata": {
    "tags": []
   },
   "outputs": [],
   "source": [
    "# Identify the cluster with a large count\n",
    "largest_main_cluster_index = np.argmax(np.bincount(train_clusters))\n",
    "\n",
    "# Extract data points from the large cluster\n",
    "largest_main_cluster_data = with_performance_data[train_clusters == largest_main_cluster_index]\n",
    "pca_scaled_largest_main_cluster_data = pca_scaled_with_performance_data[largest_main_cluster_data.index]"
   ]
  },
  {
   "cell_type": "code",
   "execution_count": 110,
   "metadata": {
    "tags": []
   },
   "outputs": [
    {
     "data": {
      "image/png": "[encoded data removed]",
      "text/plain": [
       "<Figure size 640x480 with 1 Axes>"
      ]
     },
     "metadata": {},
     "output_type": "display_data"
    }
   ],
   "source": [
    "# Calculate silhouette scores for different numbers of clusters\n",
    "silhouette_scores = []\n",
    "range_values = range(2, 10)  # Start from 2 clusters as 1 cluster doesn't make sense\n",
    "\n",
    "for n_clusters in range_values:\n",
    "    hierarchical_clustering = AgglomerativeClustering(n_clusters=n_clusters, metric='euclidean', linkage='ward')\n",
    "    hierarchical_clustering.fit(pca_scaled_largest_main_cluster_data)\n",
    "    cluster_labels = hierarchical_clustering.labels_\n",
    "    \n",
    "    silhouette_scores.append(silhouette_score(pca_scaled_largest_main_cluster_data, cluster_labels))\n",
    "\n",
    "# Plot the silhouette scores\n",
    "plt.plot(range_values, silhouette_scores, 'bx-')\n",
    "plt.title('Elbow Method for Hierarchical Clustering')\n",
    "plt.xlabel('Number of Clusters')\n",
    "plt.ylabel('Silhouette Score')\n",
    "plt.show()"
   ]
  },
  {
   "cell_type": "code",
   "execution_count": 111,
   "metadata": {
    "tags": []
   },
   "outputs": [
    {
     "name": "stdout",
     "output_type": "stream",
     "text": [
      "Silhouette Score for Subclusters in Largest Main Cluster: 0.48\n"
     ]
    }
   ],
   "source": [
    "# Perform hierarchical subclustering on the largest main cluster\n",
    "subcluster_num_clusters = 2\n",
    "hierarchical_subcluster = AgglomerativeClustering(n_clusters=subcluster_num_clusters, metric='euclidean', linkage='ward')  # You can adjust the number of subclusters\n",
    "subcluster_labels = hierarchical_subcluster.fit_predict(pca_scaled_largest_main_cluster_data)\n",
    "\n",
    "# Calculate silhouette score for the subclusters\n",
    "silhouette_avg_subclusters = silhouette_score(pca_scaled_largest_main_cluster_data, subcluster_labels)\n",
    "print(f\"Silhouette Score for Subclusters in Largest Main Cluster: {silhouette_avg_subclusters:.2f}\")\n",
    "\n",
    "# # Update subcluster labels to renumber them to fit within the existing range\n",
    "# new_cluster_labels = subcluster_labels.copy()\n",
    "\n",
    "# # Assign subcluster 0 as Cluster 1 and renumber the rest\n",
    "# new_cluster_labels[subcluster_labels == 0] = largest_main_cluster_index  # Assign subcluster 0 as Cluster 1\n",
    "# new_cluster_labels[subcluster_labels == 1] = max(train_clusters) + 1  # Assign subcluster 1 as the next available cluster label\n",
    "# new_cluster_labels[subcluster_labels == 2] = max(train_clusters) + 2  # Assign subcluster 2 as the next available cluster label\n",
    "\n",
    "# # Update main cluster labels with subcluster labels for the largest main cluster\n",
    "# train_clusters[train_clusters == largest_main_cluster_index] = new_cluster_labels"
   ]
  },
  {
   "cell_type": "code",
   "execution_count": 112,
   "metadata": {
    "tags": []
   },
   "outputs": [
    {
     "name": "stdout",
     "output_type": "stream",
     "text": [
      "Cluster 0: 4163 data points\n",
      "Cluster 1: 6056 data points\n"
     ]
    }
   ],
   "source": [
    "cluster_counts = np.bincount(subcluster_labels)\n",
    "\n",
    "for cluster_label, count in enumerate(cluster_counts):\n",
    "    print(f\"Cluster {cluster_label}: {count} data points\")"
   ]
  },
  {
   "cell_type": "code",
   "execution_count": 113,
   "metadata": {
    "tags": []
   },
   "outputs": [
    {
     "name": "stdout",
     "output_type": "stream",
     "text": [
      "Number of clusters found: 2\n"
     ]
    }
   ],
   "source": [
    "num_clusters_found = hierarchical_subcluster.n_clusters_\n",
    "print(f\"Number of clusters found: {num_clusters_found}\")"
   ]
  },
  {
   "cell_type": "code",
   "execution_count": 114,
   "metadata": {
    "tags": []
   },
   "outputs": [
    {
     "data": {
      "text/plain": [
       "array(['5.2', '7.0', '6.0', '4.0', '5.1', '2.0', '8.0', '3.0', '1.0'],\n",
       "      dtype=object)"
      ]
     },
     "execution_count": 114,
     "metadata": {},
     "output_type": "execute_result"
    }
   ],
   "source": [
    "with_performance_data['clusters'] = with_performance_data['clusters'] + 1\n",
    "with_performance_data['clusters_stage2'] = 0\n",
    "with_performance_data.loc[train_clusters == largest_main_cluster_index, 'clusters_stage2'] = subcluster_labels + 1\n",
    "with_performance_data['clusters_combined'] = with_performance_data['clusters'].astype('str') + '.' + with_performance_data['clusters_stage2'].astype('str')\n",
    "with_performance_data['clusters_combined'].unique()"
   ]
  },
  {
   "cell_type": "code",
   "execution_count": 115,
   "metadata": {},
   "outputs": [],
   "source": [
    "# without_performance_data_max = without_performance_data[without_performance_data[\"clusters\"] == train_clusters_without_performance]\n",
    "\n",
    "# # Scale the without performance data\n",
    "# scaled_without_performance_data_max = scaler.transform(without_performance_data_max[features])\n",
    "\n",
    "# # Apply PCA to scaled without performance data\n",
    "# pca_scaled_without_performance_data_max = pca.transform(scaled_without_performance_data_max)\n",
    "\n",
    "# # Predict clusters for PCA-transformed without performance data\n",
    "# without_performance_data_max[\"sub_clusters\"] = hierarchical_subcluster.fit_predict(pca_scaled_without_performance_data_max)"
   ]
  },
  {
   "cell_type": "code",
   "execution_count": 116,
   "metadata": {
    "tags": []
   },
   "outputs": [],
   "source": [
    "with open(\"../models/hierarchical_model_2.pkl\", \"wb\") as f:\n",
    "    pickle.dump(hierarchical_subcluster, f)"
   ]
  },
  {
   "cell_type": "code",
   "execution_count": 117,
   "metadata": {
    "tags": []
   },
   "outputs": [
    {
     "name": "stderr",
     "output_type": "stream",
     "text": [
      "/tmp/ipykernel_6553/450517345.py:1: SettingWithCopyWarning: \n",
      "A value is trying to be set on a copy of a slice from a DataFrame.\n",
      "Try using .loc[row_indexer,col_indexer] = value instead\n",
      "\n",
      "See the caveats in the documentation: https://pandas.pydata.org/pandas-docs/stable/user_guide/indexing.html#returning-a-view-versus-a-copy\n",
      "  largest_main_cluster_data['sub_clusters'] = subcluster_labels\n"
     ]
    },
    {
     "data": {
      "text/html": [
       "<div>\n",
       "<style scoped>\n",
       "    .dataframe tbody tr th:only-of-type {\n",
       "        vertical-align: middle;\n",
       "    }\n",
       "\n",
       "    .dataframe tbody tr th {\n",
       "        vertical-align: top;\n",
       "    }\n",
       "\n",
       "    .dataframe thead th {\n",
       "        text-align: right;\n",
       "    }\n",
       "</style>\n",
       "<table border=\"1\" class=\"dataframe\">\n",
       "  <thead>\n",
       "    <tr style=\"text-align: right;\">\n",
       "      <th></th>\n",
       "      <th>hurdle_rate_by_due_date_mean</th>\n",
       "      <th>hurdle_rate_by_end_rollover_date_mean</th>\n",
       "      <th>hurdle_rate_by_dpd30_mean</th>\n",
       "    </tr>\n",
       "    <tr>\n",
       "      <th>sub_clusters</th>\n",
       "      <th></th>\n",
       "      <th></th>\n",
       "      <th></th>\n",
       "    </tr>\n",
       "  </thead>\n",
       "  <tbody>\n",
       "    <tr>\n",
       "      <th>0</th>\n",
       "      <td>0.825</td>\n",
       "      <td>0.967</td>\n",
       "      <td>1.029</td>\n",
       "    </tr>\n",
       "    <tr>\n",
       "      <th>1</th>\n",
       "      <td>0.776</td>\n",
       "      <td>0.937</td>\n",
       "      <td>1.011</td>\n",
       "    </tr>\n",
       "  </tbody>\n",
       "</table>\n",
       "</div>"
      ],
      "text/plain": [
       "              hurdle_rate_by_due_date_mean  hurdle_rate_by_end_rollover_date_mean  hurdle_rate_by_dpd30_mean\n",
       "sub_clusters                                                                                                \n",
       "0                                    0.825                                  0.967                      1.029\n",
       "1                                    0.776                                  0.937                      1.011"
      ]
     },
     "execution_count": 117,
     "metadata": {},
     "output_type": "execute_result"
    }
   ],
   "source": [
    "largest_main_cluster_data['sub_clusters'] = subcluster_labels\n",
    "\n",
    "# Calculate cluster means for the columns to predict\n",
    "cluster_means_model_2 = largest_main_cluster_data.groupby(\"sub_clusters\")[[\"hurdle_rate_by_due_date_mean\", \"hurdle_rate_by_end_rollover_date_mean\", \"hurdle_rate_by_dpd30_mean\"]].median()\n",
    "\n",
    "cluster_means_model_2"
   ]
  },
  {
   "cell_type": "code",
   "execution_count": 118,
   "metadata": {},
   "outputs": [],
   "source": [
    "# without_performance_data_max['sub_clusters'].value_counts()"
   ]
  },
  {
   "cell_type": "code",
   "execution_count": 119,
   "metadata": {
    "tags": []
   },
   "outputs": [
    {
     "data": {
      "text/html": [
       "<div>\n",
       "<style scoped>\n",
       "    .dataframe tbody tr th:only-of-type {\n",
       "        vertical-align: middle;\n",
       "    }\n",
       "\n",
       "    .dataframe tbody tr th {\n",
       "        vertical-align: top;\n",
       "    }\n",
       "\n",
       "    .dataframe thead th {\n",
       "        text-align: right;\n",
       "    }\n",
       "</style>\n",
       "<table border=\"1\" class=\"dataframe\">\n",
       "  <thead>\n",
       "    <tr style=\"text-align: right;\">\n",
       "      <th></th>\n",
       "      <th>dd</th>\n",
       "      <th>erd</th>\n",
       "      <th>dpd30</th>\n",
       "    </tr>\n",
       "    <tr>\n",
       "      <th>clusters</th>\n",
       "      <th></th>\n",
       "      <th></th>\n",
       "      <th></th>\n",
       "    </tr>\n",
       "  </thead>\n",
       "  <tbody>\n",
       "    <tr>\n",
       "      <th>0</th>\n",
       "      <td>0.902</td>\n",
       "      <td>1.031</td>\n",
       "      <td>1.033</td>\n",
       "    </tr>\n",
       "    <tr>\n",
       "      <th>1</th>\n",
       "      <td>0.884</td>\n",
       "      <td>1.006</td>\n",
       "      <td>1.031</td>\n",
       "    </tr>\n",
       "    <tr>\n",
       "      <th>2</th>\n",
       "      <td>0.917</td>\n",
       "      <td>1.031</td>\n",
       "      <td>1.032</td>\n",
       "    </tr>\n",
       "    <tr>\n",
       "      <th>3</th>\n",
       "      <td>0.684</td>\n",
       "      <td>0.825</td>\n",
       "      <td>0.915</td>\n",
       "    </tr>\n",
       "    <tr>\n",
       "      <th>4</th>\n",
       "      <td>0.803</td>\n",
       "      <td>0.952</td>\n",
       "      <td>1.026</td>\n",
       "    </tr>\n",
       "    <tr>\n",
       "      <th>5</th>\n",
       "      <td>0.684</td>\n",
       "      <td>0.825</td>\n",
       "      <td>0.923</td>\n",
       "    </tr>\n",
       "    <tr>\n",
       "      <th>6</th>\n",
       "      <td>0.684</td>\n",
       "      <td>0.785</td>\n",
       "      <td>0.882</td>\n",
       "    </tr>\n",
       "    <tr>\n",
       "      <th>7</th>\n",
       "      <td>0.724</td>\n",
       "      <td>0.879</td>\n",
       "      <td>0.962</td>\n",
       "    </tr>\n",
       "  </tbody>\n",
       "</table>\n",
       "</div>"
      ],
      "text/plain": [
       "            dd   erd  dpd30\n",
       "clusters                   \n",
       "0        0.902 1.031  1.033\n",
       "1        0.884 1.006  1.031\n",
       "2        0.917 1.031  1.032\n",
       "3        0.684 0.825  0.915\n",
       "4        0.803 0.952  1.026\n",
       "5        0.684 0.825  0.923\n",
       "6        0.684 0.785  0.882\n",
       "7        0.724 0.879  0.962"
      ]
     },
     "execution_count": 119,
     "metadata": {},
     "output_type": "execute_result"
    }
   ],
   "source": [
    "cluster_means_model_1 = cluster_means_model_1.rename(columns={'hurdle_rate_by_due_date_mean':'dd', 'hurdle_rate_by_end_rollover_date_mean':'erd', 'hurdle_rate_by_dpd30_mean':'dpd30'})\n",
    "\n",
    "cluster_means_model_1"
   ]
  },
  {
   "cell_type": "code",
   "execution_count": 184,
   "metadata": {
    "tags": []
   },
   "outputs": [
    {
     "data": {
      "text/html": [
       "<div>\n",
       "<style scoped>\n",
       "    .dataframe tbody tr th:only-of-type {\n",
       "        vertical-align: middle;\n",
       "    }\n",
       "\n",
       "    .dataframe tbody tr th {\n",
       "        vertical-align: top;\n",
       "    }\n",
       "\n",
       "    .dataframe thead th {\n",
       "        text-align: right;\n",
       "    }\n",
       "</style>\n",
       "<table border=\"1\" class=\"dataframe\">\n",
       "  <thead>\n",
       "    <tr style=\"text-align: right;\">\n",
       "      <th></th>\n",
       "      <th>cluster</th>\n",
       "      <th>repayment_milestone</th>\n",
       "      <th>hurdle_rate</th>\n",
       "    </tr>\n",
       "  </thead>\n",
       "  <tbody>\n",
       "    <tr>\n",
       "      <th>0</th>\n",
       "      <td>1.0</td>\n",
       "      <td>dd</td>\n",
       "      <td>0.902</td>\n",
       "    </tr>\n",
       "    <tr>\n",
       "      <th>1</th>\n",
       "      <td>1.0</td>\n",
       "      <td>erd</td>\n",
       "      <td>1.031</td>\n",
       "    </tr>\n",
       "    <tr>\n",
       "      <th>2</th>\n",
       "      <td>1.0</td>\n",
       "      <td>dpd30</td>\n",
       "      <td>1.033</td>\n",
       "    </tr>\n",
       "    <tr>\n",
       "      <th>3</th>\n",
       "      <td>2.0</td>\n",
       "      <td>dd</td>\n",
       "      <td>0.884</td>\n",
       "    </tr>\n",
       "    <tr>\n",
       "      <th>4</th>\n",
       "      <td>2.0</td>\n",
       "      <td>erd</td>\n",
       "      <td>1.006</td>\n",
       "    </tr>\n",
       "    <tr>\n",
       "      <th>5</th>\n",
       "      <td>2.0</td>\n",
       "      <td>dpd30</td>\n",
       "      <td>1.031</td>\n",
       "    </tr>\n",
       "    <tr>\n",
       "      <th>6</th>\n",
       "      <td>3.0</td>\n",
       "      <td>dd</td>\n",
       "      <td>0.917</td>\n",
       "    </tr>\n",
       "    <tr>\n",
       "      <th>7</th>\n",
       "      <td>3.0</td>\n",
       "      <td>erd</td>\n",
       "      <td>1.031</td>\n",
       "    </tr>\n",
       "    <tr>\n",
       "      <th>8</th>\n",
       "      <td>3.0</td>\n",
       "      <td>dpd30</td>\n",
       "      <td>1.032</td>\n",
       "    </tr>\n",
       "    <tr>\n",
       "      <th>9</th>\n",
       "      <td>4.0</td>\n",
       "      <td>dd</td>\n",
       "      <td>0.684</td>\n",
       "    </tr>\n",
       "    <tr>\n",
       "      <th>10</th>\n",
       "      <td>4.0</td>\n",
       "      <td>erd</td>\n",
       "      <td>0.825</td>\n",
       "    </tr>\n",
       "    <tr>\n",
       "      <th>11</th>\n",
       "      <td>4.0</td>\n",
       "      <td>dpd30</td>\n",
       "      <td>0.915</td>\n",
       "    </tr>\n",
       "    <tr>\n",
       "      <th>12</th>\n",
       "      <td>5.0</td>\n",
       "      <td>dd</td>\n",
       "      <td>0.803</td>\n",
       "    </tr>\n",
       "    <tr>\n",
       "      <th>13</th>\n",
       "      <td>5.0</td>\n",
       "      <td>erd</td>\n",
       "      <td>0.952</td>\n",
       "    </tr>\n",
       "    <tr>\n",
       "      <th>14</th>\n",
       "      <td>5.0</td>\n",
       "      <td>dpd30</td>\n",
       "      <td>1.026</td>\n",
       "    </tr>\n",
       "    <tr>\n",
       "      <th>15</th>\n",
       "      <td>6.0</td>\n",
       "      <td>dd</td>\n",
       "      <td>0.684</td>\n",
       "    </tr>\n",
       "    <tr>\n",
       "      <th>16</th>\n",
       "      <td>6.0</td>\n",
       "      <td>erd</td>\n",
       "      <td>0.825</td>\n",
       "    </tr>\n",
       "    <tr>\n",
       "      <th>17</th>\n",
       "      <td>6.0</td>\n",
       "      <td>dpd30</td>\n",
       "      <td>0.923</td>\n",
       "    </tr>\n",
       "    <tr>\n",
       "      <th>18</th>\n",
       "      <td>7.0</td>\n",
       "      <td>dd</td>\n",
       "      <td>0.684</td>\n",
       "    </tr>\n",
       "    <tr>\n",
       "      <th>19</th>\n",
       "      <td>7.0</td>\n",
       "      <td>erd</td>\n",
       "      <td>0.785</td>\n",
       "    </tr>\n",
       "    <tr>\n",
       "      <th>20</th>\n",
       "      <td>7.0</td>\n",
       "      <td>dpd30</td>\n",
       "      <td>0.882</td>\n",
       "    </tr>\n",
       "    <tr>\n",
       "      <th>21</th>\n",
       "      <td>8.0</td>\n",
       "      <td>dd</td>\n",
       "      <td>0.724</td>\n",
       "    </tr>\n",
       "    <tr>\n",
       "      <th>22</th>\n",
       "      <td>8.0</td>\n",
       "      <td>erd</td>\n",
       "      <td>0.879</td>\n",
       "    </tr>\n",
       "    <tr>\n",
       "      <th>23</th>\n",
       "      <td>8.0</td>\n",
       "      <td>dpd30</td>\n",
       "      <td>0.962</td>\n",
       "    </tr>\n",
       "  </tbody>\n",
       "</table>\n",
       "</div>"
      ],
      "text/plain": [
       "   cluster repayment_milestone hurdle_rate\n",
       "0      1.0                  dd       0.902\n",
       "1      1.0                 erd       1.031\n",
       "2      1.0               dpd30       1.033\n",
       "3      2.0                  dd       0.884\n",
       "4      2.0                 erd       1.006\n",
       "5      2.0               dpd30       1.031\n",
       "6      3.0                  dd       0.917\n",
       "7      3.0                 erd       1.031\n",
       "8      3.0               dpd30       1.032\n",
       "9      4.0                  dd       0.684\n",
       "10     4.0                 erd       0.825\n",
       "11     4.0               dpd30       0.915\n",
       "12     5.0                  dd       0.803\n",
       "13     5.0                 erd       0.952\n",
       "14     5.0               dpd30       1.026\n",
       "15     6.0                  dd       0.684\n",
       "16     6.0                 erd       0.825\n",
       "17     6.0               dpd30       0.923\n",
       "18     7.0                  dd       0.684\n",
       "19     7.0                 erd       0.785\n",
       "20     7.0               dpd30       0.882\n",
       "21     8.0                  dd       0.724\n",
       "22     8.0                 erd       0.879\n",
       "23     8.0               dpd30       0.962"
      ]
     },
     "execution_count": 184,
     "metadata": {},
     "output_type": "execute_result"
    }
   ],
   "source": [
    "# Create an empty DataFrame to store the transformed data\n",
    "hurdle_rates_pred_model_1 = pd.DataFrame(columns=[\"cluster\", \"repayment_milestone\", \"hurdle_rate\"])\n",
    "\n",
    "# Iterate through each cluster and its associated data\n",
    "for cluster, repayment_milestone in cluster_means_model_1.iterrows():\n",
    "    cluster = str(cluster + 1.0)  # Adjust the cluster index to start from 1\n",
    "    for repayment_milestone, hurdle_rate in repayment_milestone.items():\n",
    "        hurdle_rates_pred_model_1 = pd.concat([hurdle_rates_pred_model_1,\n",
    "            pd.Series({\"cluster\": cluster, \"repayment_milestone\": repayment_milestone, \"hurdle_rate\": hurdle_rate}).to_frame().T], ignore_index=True\n",
    "        )\n",
    "hurdle_rates_pred_model_1\n",
    "# transformed_df.to_string(index=False)"
   ]
  },
  {
   "cell_type": "code",
   "execution_count": 180,
   "metadata": {
    "tags": []
   },
   "outputs": [
    {
     "data": {
      "text/html": [
       "<div>\n",
       "<style scoped>\n",
       "    .dataframe tbody tr th:only-of-type {\n",
       "        vertical-align: middle;\n",
       "    }\n",
       "\n",
       "    .dataframe tbody tr th {\n",
       "        vertical-align: top;\n",
       "    }\n",
       "\n",
       "    .dataframe thead th {\n",
       "        text-align: right;\n",
       "    }\n",
       "</style>\n",
       "<table border=\"1\" class=\"dataframe\">\n",
       "  <thead>\n",
       "    <tr style=\"text-align: right;\">\n",
       "      <th></th>\n",
       "      <th>dd</th>\n",
       "      <th>erd</th>\n",
       "      <th>dpd30</th>\n",
       "    </tr>\n",
       "    <tr>\n",
       "      <th>sub_clusters</th>\n",
       "      <th></th>\n",
       "      <th></th>\n",
       "      <th></th>\n",
       "    </tr>\n",
       "  </thead>\n",
       "  <tbody>\n",
       "    <tr>\n",
       "      <th>0</th>\n",
       "      <td>0.825</td>\n",
       "      <td>0.967</td>\n",
       "      <td>1.029</td>\n",
       "    </tr>\n",
       "    <tr>\n",
       "      <th>1</th>\n",
       "      <td>0.776</td>\n",
       "      <td>0.937</td>\n",
       "      <td>1.011</td>\n",
       "    </tr>\n",
       "  </tbody>\n",
       "</table>\n",
       "</div>"
      ],
      "text/plain": [
       "                dd   erd  dpd30\n",
       "sub_clusters                   \n",
       "0            0.825 0.967  1.029\n",
       "1            0.776 0.937  1.011"
      ]
     },
     "execution_count": 180,
     "metadata": {},
     "output_type": "execute_result"
    }
   ],
   "source": [
    "cluster_means_model_2 = cluster_means_model_2.rename(columns={'hurdle_rate_by_due_date_mean':'dd', 'hurdle_rate_by_end_rollover_date_mean':'erd', 'hurdle_rate_by_dpd30_mean':'dpd30'})\n",
    "\n",
    "cluster_means_model_2"
   ]
  },
  {
   "cell_type": "code",
   "execution_count": 125,
   "metadata": {
    "tags": []
   },
   "outputs": [
    {
     "data": {
      "text/plain": [
       "4"
      ]
     },
     "execution_count": 125,
     "metadata": {},
     "output_type": "execute_result"
    }
   ],
   "source": [
    "largest_main_cluster_index"
   ]
  },
  {
   "cell_type": "code",
   "execution_count": 187,
   "metadata": {
    "tags": []
   },
   "outputs": [
    {
     "data": {
      "text/html": [
       "<div>\n",
       "<style scoped>\n",
       "    .dataframe tbody tr th:only-of-type {\n",
       "        vertical-align: middle;\n",
       "    }\n",
       "\n",
       "    .dataframe tbody tr th {\n",
       "        vertical-align: top;\n",
       "    }\n",
       "\n",
       "    .dataframe thead th {\n",
       "        text-align: right;\n",
       "    }\n",
       "</style>\n",
       "<table border=\"1\" class=\"dataframe\">\n",
       "  <thead>\n",
       "    <tr style=\"text-align: right;\">\n",
       "      <th></th>\n",
       "      <th>cluster</th>\n",
       "      <th>repayment_milestone</th>\n",
       "      <th>hurdle_rate</th>\n",
       "    </tr>\n",
       "  </thead>\n",
       "  <tbody>\n",
       "    <tr>\n",
       "      <th>0</th>\n",
       "      <td>5.1</td>\n",
       "      <td>dd</td>\n",
       "      <td>0.825</td>\n",
       "    </tr>\n",
       "    <tr>\n",
       "      <th>1</th>\n",
       "      <td>5.1</td>\n",
       "      <td>erd</td>\n",
       "      <td>0.967</td>\n",
       "    </tr>\n",
       "    <tr>\n",
       "      <th>2</th>\n",
       "      <td>5.1</td>\n",
       "      <td>dpd30</td>\n",
       "      <td>1.029</td>\n",
       "    </tr>\n",
       "    <tr>\n",
       "      <th>3</th>\n",
       "      <td>5.2</td>\n",
       "      <td>dd</td>\n",
       "      <td>0.776</td>\n",
       "    </tr>\n",
       "    <tr>\n",
       "      <th>4</th>\n",
       "      <td>5.2</td>\n",
       "      <td>erd</td>\n",
       "      <td>0.937</td>\n",
       "    </tr>\n",
       "    <tr>\n",
       "      <th>5</th>\n",
       "      <td>5.2</td>\n",
       "      <td>dpd30</td>\n",
       "      <td>1.011</td>\n",
       "    </tr>\n",
       "  </tbody>\n",
       "</table>\n",
       "</div>"
      ],
      "text/plain": [
       "  cluster repayment_milestone hurdle_rate\n",
       "0     5.1                  dd       0.825\n",
       "1     5.1                 erd       0.967\n",
       "2     5.1               dpd30       1.029\n",
       "3     5.2                  dd       0.776\n",
       "4     5.2                 erd       0.937\n",
       "5     5.2               dpd30       1.011"
      ]
     },
     "execution_count": 187,
     "metadata": {},
     "output_type": "execute_result"
    }
   ],
   "source": [
    "# Create an empty DataFrame to store the transformed data\n",
    "hurdle_rates_pred_model_2 = pd.DataFrame(columns=[\"cluster\", \"repayment_milestone\", \"hurdle_rate\"])\n",
    "\n",
    "# Iterate through each cluster and its associated data\n",
    "for cluster, repayment_milestone in cluster_means_model_2.iterrows():\n",
    "    if cluster == 0:\n",
    "        cluster = str(largest_main_cluster_index + 1) + '.1'\n",
    "    elif cluster == 1:\n",
    "        cluster = str(largest_main_cluster_index + 1) + '.2'\n",
    "    else:\n",
    "        cluster = cluster + 1  # Adjust the cluster index to start from 1\n",
    "    for repayment_milestone, hurdle_rate in repayment_milestone.items():\n",
    "        hurdle_rates_pred_model_2 = pd.concat([hurdle_rates_pred_model_2,\n",
    "            pd.Series({\"cluster\": cluster, \"repayment_milestone\": repayment_milestone, \"hurdle_rate\": hurdle_rate}).to_frame().T], ignore_index=True                                 \n",
    "        )\n",
    "        \n",
    "hurdle_rates_pred_model_2"
   ]
  },
  {
   "cell_type": "code",
   "execution_count": 188,
   "metadata": {
    "tags": []
   },
   "outputs": [
    {
     "data": {
      "text/html": [
       "<div>\n",
       "<style scoped>\n",
       "    .dataframe tbody tr th:only-of-type {\n",
       "        vertical-align: middle;\n",
       "    }\n",
       "\n",
       "    .dataframe tbody tr th {\n",
       "        vertical-align: top;\n",
       "    }\n",
       "\n",
       "    .dataframe thead th {\n",
       "        text-align: right;\n",
       "    }\n",
       "</style>\n",
       "<table border=\"1\" class=\"dataframe\">\n",
       "  <thead>\n",
       "    <tr style=\"text-align: right;\">\n",
       "      <th></th>\n",
       "      <th>cluster</th>\n",
       "      <th>repayment_milestone</th>\n",
       "      <th>hurdle_rate</th>\n",
       "    </tr>\n",
       "  </thead>\n",
       "  <tbody>\n",
       "    <tr>\n",
       "      <th>0</th>\n",
       "      <td>1.0</td>\n",
       "      <td>dd</td>\n",
       "      <td>0.902</td>\n",
       "    </tr>\n",
       "    <tr>\n",
       "      <th>1</th>\n",
       "      <td>1.0</td>\n",
       "      <td>erd</td>\n",
       "      <td>1.031</td>\n",
       "    </tr>\n",
       "    <tr>\n",
       "      <th>2</th>\n",
       "      <td>1.0</td>\n",
       "      <td>dpd30</td>\n",
       "      <td>1.033</td>\n",
       "    </tr>\n",
       "    <tr>\n",
       "      <th>3</th>\n",
       "      <td>2.0</td>\n",
       "      <td>dd</td>\n",
       "      <td>0.884</td>\n",
       "    </tr>\n",
       "    <tr>\n",
       "      <th>4</th>\n",
       "      <td>2.0</td>\n",
       "      <td>erd</td>\n",
       "      <td>1.006</td>\n",
       "    </tr>\n",
       "    <tr>\n",
       "      <th>5</th>\n",
       "      <td>2.0</td>\n",
       "      <td>dpd30</td>\n",
       "      <td>1.031</td>\n",
       "    </tr>\n",
       "    <tr>\n",
       "      <th>6</th>\n",
       "      <td>3.0</td>\n",
       "      <td>dd</td>\n",
       "      <td>0.917</td>\n",
       "    </tr>\n",
       "    <tr>\n",
       "      <th>7</th>\n",
       "      <td>3.0</td>\n",
       "      <td>erd</td>\n",
       "      <td>1.031</td>\n",
       "    </tr>\n",
       "    <tr>\n",
       "      <th>8</th>\n",
       "      <td>3.0</td>\n",
       "      <td>dpd30</td>\n",
       "      <td>1.032</td>\n",
       "    </tr>\n",
       "    <tr>\n",
       "      <th>9</th>\n",
       "      <td>4.0</td>\n",
       "      <td>dd</td>\n",
       "      <td>0.684</td>\n",
       "    </tr>\n",
       "    <tr>\n",
       "      <th>10</th>\n",
       "      <td>4.0</td>\n",
       "      <td>erd</td>\n",
       "      <td>0.825</td>\n",
       "    </tr>\n",
       "    <tr>\n",
       "      <th>11</th>\n",
       "      <td>4.0</td>\n",
       "      <td>dpd30</td>\n",
       "      <td>0.915</td>\n",
       "    </tr>\n",
       "    <tr>\n",
       "      <th>12</th>\n",
       "      <td>5.0</td>\n",
       "      <td>dd</td>\n",
       "      <td>0.803</td>\n",
       "    </tr>\n",
       "    <tr>\n",
       "      <th>13</th>\n",
       "      <td>5.0</td>\n",
       "      <td>erd</td>\n",
       "      <td>0.952</td>\n",
       "    </tr>\n",
       "    <tr>\n",
       "      <th>14</th>\n",
       "      <td>5.0</td>\n",
       "      <td>dpd30</td>\n",
       "      <td>1.026</td>\n",
       "    </tr>\n",
       "    <tr>\n",
       "      <th>15</th>\n",
       "      <td>6.0</td>\n",
       "      <td>dd</td>\n",
       "      <td>0.684</td>\n",
       "    </tr>\n",
       "    <tr>\n",
       "      <th>16</th>\n",
       "      <td>6.0</td>\n",
       "      <td>erd</td>\n",
       "      <td>0.825</td>\n",
       "    </tr>\n",
       "    <tr>\n",
       "      <th>17</th>\n",
       "      <td>6.0</td>\n",
       "      <td>dpd30</td>\n",
       "      <td>0.923</td>\n",
       "    </tr>\n",
       "    <tr>\n",
       "      <th>18</th>\n",
       "      <td>7.0</td>\n",
       "      <td>dd</td>\n",
       "      <td>0.684</td>\n",
       "    </tr>\n",
       "    <tr>\n",
       "      <th>19</th>\n",
       "      <td>7.0</td>\n",
       "      <td>erd</td>\n",
       "      <td>0.785</td>\n",
       "    </tr>\n",
       "    <tr>\n",
       "      <th>20</th>\n",
       "      <td>7.0</td>\n",
       "      <td>dpd30</td>\n",
       "      <td>0.882</td>\n",
       "    </tr>\n",
       "    <tr>\n",
       "      <th>21</th>\n",
       "      <td>8.0</td>\n",
       "      <td>dd</td>\n",
       "      <td>0.724</td>\n",
       "    </tr>\n",
       "    <tr>\n",
       "      <th>22</th>\n",
       "      <td>8.0</td>\n",
       "      <td>erd</td>\n",
       "      <td>0.879</td>\n",
       "    </tr>\n",
       "    <tr>\n",
       "      <th>23</th>\n",
       "      <td>8.0</td>\n",
       "      <td>dpd30</td>\n",
       "      <td>0.962</td>\n",
       "    </tr>\n",
       "    <tr>\n",
       "      <th>0</th>\n",
       "      <td>5.1</td>\n",
       "      <td>dd</td>\n",
       "      <td>0.825</td>\n",
       "    </tr>\n",
       "    <tr>\n",
       "      <th>1</th>\n",
       "      <td>5.1</td>\n",
       "      <td>erd</td>\n",
       "      <td>0.967</td>\n",
       "    </tr>\n",
       "    <tr>\n",
       "      <th>2</th>\n",
       "      <td>5.1</td>\n",
       "      <td>dpd30</td>\n",
       "      <td>1.029</td>\n",
       "    </tr>\n",
       "    <tr>\n",
       "      <th>3</th>\n",
       "      <td>5.2</td>\n",
       "      <td>dd</td>\n",
       "      <td>0.776</td>\n",
       "    </tr>\n",
       "    <tr>\n",
       "      <th>4</th>\n",
       "      <td>5.2</td>\n",
       "      <td>erd</td>\n",
       "      <td>0.937</td>\n",
       "    </tr>\n",
       "    <tr>\n",
       "      <th>5</th>\n",
       "      <td>5.2</td>\n",
       "      <td>dpd30</td>\n",
       "      <td>1.011</td>\n",
       "    </tr>\n",
       "  </tbody>\n",
       "</table>\n",
       "</div>"
      ],
      "text/plain": [
       "   cluster repayment_milestone hurdle_rate\n",
       "0      1.0                  dd       0.902\n",
       "1      1.0                 erd       1.031\n",
       "2      1.0               dpd30       1.033\n",
       "3      2.0                  dd       0.884\n",
       "4      2.0                 erd       1.006\n",
       "5      2.0               dpd30       1.031\n",
       "6      3.0                  dd       0.917\n",
       "7      3.0                 erd       1.031\n",
       "8      3.0               dpd30       1.032\n",
       "9      4.0                  dd       0.684\n",
       "10     4.0                 erd       0.825\n",
       "11     4.0               dpd30       0.915\n",
       "12     5.0                  dd       0.803\n",
       "13     5.0                 erd       0.952\n",
       "14     5.0               dpd30       1.026\n",
       "15     6.0                  dd       0.684\n",
       "16     6.0                 erd       0.825\n",
       "17     6.0               dpd30       0.923\n",
       "18     7.0                  dd       0.684\n",
       "19     7.0                 erd       0.785\n",
       "20     7.0               dpd30       0.882\n",
       "21     8.0                  dd       0.724\n",
       "22     8.0                 erd       0.879\n",
       "23     8.0               dpd30       0.962\n",
       "0      5.1                  dd       0.825\n",
       "1      5.1                 erd       0.967\n",
       "2      5.1               dpd30       1.029\n",
       "3      5.2                  dd       0.776\n",
       "4      5.2                 erd       0.937\n",
       "5      5.2               dpd30       1.011"
      ]
     },
     "execution_count": 188,
     "metadata": {},
     "output_type": "execute_result"
    }
   ],
   "source": [
    "hurdle_rates_pred = pd.concat([hurdle_rates_pred_model_1, hurdle_rates_pred_model_2])\n",
    "\n",
    "hurdle_rates_pred"
   ]
  },
  {
   "cell_type": "code",
   "execution_count": 189,
   "metadata": {
    "tags": []
   },
   "outputs": [
    {
     "data": {
      "text/html": [
       "<div>\n",
       "<style scoped>\n",
       "    .dataframe tbody tr th:only-of-type {\n",
       "        vertical-align: middle;\n",
       "    }\n",
       "\n",
       "    .dataframe tbody tr th {\n",
       "        vertical-align: top;\n",
       "    }\n",
       "\n",
       "    .dataframe thead th {\n",
       "        text-align: right;\n",
       "    }\n",
       "</style>\n",
       "<table border=\"1\" class=\"dataframe\">\n",
       "  <thead>\n",
       "    <tr style=\"text-align: right;\">\n",
       "      <th></th>\n",
       "      <th>cluster</th>\n",
       "      <th>repayment_milestone</th>\n",
       "      <th>hurdle_rate</th>\n",
       "    </tr>\n",
       "  </thead>\n",
       "  <tbody>\n",
       "    <tr>\n",
       "      <th>1</th>\n",
       "      <td>1.0</td>\n",
       "      <td>erd</td>\n",
       "      <td>1.031</td>\n",
       "    </tr>\n",
       "    <tr>\n",
       "      <th>4</th>\n",
       "      <td>2.0</td>\n",
       "      <td>erd</td>\n",
       "      <td>1.006</td>\n",
       "    </tr>\n",
       "    <tr>\n",
       "      <th>7</th>\n",
       "      <td>3.0</td>\n",
       "      <td>erd</td>\n",
       "      <td>1.031</td>\n",
       "    </tr>\n",
       "    <tr>\n",
       "      <th>10</th>\n",
       "      <td>4.0</td>\n",
       "      <td>erd</td>\n",
       "      <td>0.825</td>\n",
       "    </tr>\n",
       "    <tr>\n",
       "      <th>13</th>\n",
       "      <td>5.0</td>\n",
       "      <td>erd</td>\n",
       "      <td>0.952</td>\n",
       "    </tr>\n",
       "    <tr>\n",
       "      <th>16</th>\n",
       "      <td>6.0</td>\n",
       "      <td>erd</td>\n",
       "      <td>0.825</td>\n",
       "    </tr>\n",
       "    <tr>\n",
       "      <th>19</th>\n",
       "      <td>7.0</td>\n",
       "      <td>erd</td>\n",
       "      <td>0.785</td>\n",
       "    </tr>\n",
       "    <tr>\n",
       "      <th>22</th>\n",
       "      <td>8.0</td>\n",
       "      <td>erd</td>\n",
       "      <td>0.879</td>\n",
       "    </tr>\n",
       "    <tr>\n",
       "      <th>1</th>\n",
       "      <td>5.1</td>\n",
       "      <td>erd</td>\n",
       "      <td>0.967</td>\n",
       "    </tr>\n",
       "    <tr>\n",
       "      <th>4</th>\n",
       "      <td>5.2</td>\n",
       "      <td>erd</td>\n",
       "      <td>0.937</td>\n",
       "    </tr>\n",
       "  </tbody>\n",
       "</table>\n",
       "</div>"
      ],
      "text/plain": [
       "   cluster repayment_milestone hurdle_rate\n",
       "1      1.0                 erd       1.031\n",
       "4      2.0                 erd       1.006\n",
       "7      3.0                 erd       1.031\n",
       "10     4.0                 erd       0.825\n",
       "13     5.0                 erd       0.952\n",
       "16     6.0                 erd       0.825\n",
       "19     7.0                 erd       0.785\n",
       "22     8.0                 erd       0.879\n",
       "1      5.1                 erd       0.967\n",
       "4      5.2                 erd       0.937"
      ]
     },
     "execution_count": 189,
     "metadata": {},
     "output_type": "execute_result"
    }
   ],
   "source": [
    "hurdle_rates_pred[hurdle_rates_pred.repayment_milestone == 'erd']"
   ]
  },
  {
   "cell_type": "code",
   "execution_count": 217,
   "metadata": {
    "tags": []
   },
   "outputs": [
    {
     "data": {
      "text/html": [
       "<div>\n",
       "<style scoped>\n",
       "    .dataframe tbody tr th:only-of-type {\n",
       "        vertical-align: middle;\n",
       "    }\n",
       "\n",
       "    .dataframe tbody tr th {\n",
       "        vertical-align: top;\n",
       "    }\n",
       "\n",
       "    .dataframe thead th {\n",
       "        text-align: right;\n",
       "    }\n",
       "</style>\n",
       "<table border=\"1\" class=\"dataframe\">\n",
       "  <thead>\n",
       "    <tr style=\"text-align: right;\">\n",
       "      <th></th>\n",
       "      <th>cluster</th>\n",
       "      <th>repayment_milestone</th>\n",
       "      <th>hurdle_rate</th>\n",
       "    </tr>\n",
       "  </thead>\n",
       "  <tbody>\n",
       "    <tr>\n",
       "      <th>0</th>\n",
       "      <td>1.0</td>\n",
       "      <td>dd</td>\n",
       "      <td>0.902</td>\n",
       "    </tr>\n",
       "    <tr>\n",
       "      <th>1</th>\n",
       "      <td>1.0</td>\n",
       "      <td>erd</td>\n",
       "      <td>1.031</td>\n",
       "    </tr>\n",
       "    <tr>\n",
       "      <th>2</th>\n",
       "      <td>1.0</td>\n",
       "      <td>dpd30</td>\n",
       "      <td>1.033</td>\n",
       "    </tr>\n",
       "    <tr>\n",
       "      <th>3</th>\n",
       "      <td>2.0</td>\n",
       "      <td>dd</td>\n",
       "      <td>0.884</td>\n",
       "    </tr>\n",
       "    <tr>\n",
       "      <th>4</th>\n",
       "      <td>2.0</td>\n",
       "      <td>erd</td>\n",
       "      <td>1.006</td>\n",
       "    </tr>\n",
       "    <tr>\n",
       "      <th>5</th>\n",
       "      <td>2.0</td>\n",
       "      <td>dpd30</td>\n",
       "      <td>1.031</td>\n",
       "    </tr>\n",
       "    <tr>\n",
       "      <th>6</th>\n",
       "      <td>3.0</td>\n",
       "      <td>dd</td>\n",
       "      <td>0.917</td>\n",
       "    </tr>\n",
       "    <tr>\n",
       "      <th>7</th>\n",
       "      <td>3.0</td>\n",
       "      <td>erd</td>\n",
       "      <td>1.031</td>\n",
       "    </tr>\n",
       "    <tr>\n",
       "      <th>8</th>\n",
       "      <td>3.0</td>\n",
       "      <td>dpd30</td>\n",
       "      <td>1.032</td>\n",
       "    </tr>\n",
       "    <tr>\n",
       "      <th>9</th>\n",
       "      <td>4.0</td>\n",
       "      <td>dd</td>\n",
       "      <td>0.684</td>\n",
       "    </tr>\n",
       "    <tr>\n",
       "      <th>10</th>\n",
       "      <td>4.0</td>\n",
       "      <td>erd</td>\n",
       "      <td>0.825</td>\n",
       "    </tr>\n",
       "    <tr>\n",
       "      <th>11</th>\n",
       "      <td>4.0</td>\n",
       "      <td>dpd30</td>\n",
       "      <td>0.915</td>\n",
       "    </tr>\n",
       "    <tr>\n",
       "      <th>0</th>\n",
       "      <td>5.1</td>\n",
       "      <td>dd</td>\n",
       "      <td>0.825</td>\n",
       "    </tr>\n",
       "    <tr>\n",
       "      <th>1</th>\n",
       "      <td>5.1</td>\n",
       "      <td>erd</td>\n",
       "      <td>0.967</td>\n",
       "    </tr>\n",
       "    <tr>\n",
       "      <th>2</th>\n",
       "      <td>5.1</td>\n",
       "      <td>dpd30</td>\n",
       "      <td>1.029</td>\n",
       "    </tr>\n",
       "    <tr>\n",
       "      <th>4</th>\n",
       "      <td>5.2</td>\n",
       "      <td>erd</td>\n",
       "      <td>0.937</td>\n",
       "    </tr>\n",
       "    <tr>\n",
       "      <th>3</th>\n",
       "      <td>5.2</td>\n",
       "      <td>dd</td>\n",
       "      <td>0.776</td>\n",
       "    </tr>\n",
       "    <tr>\n",
       "      <th>5</th>\n",
       "      <td>5.2</td>\n",
       "      <td>dpd30</td>\n",
       "      <td>1.011</td>\n",
       "    </tr>\n",
       "    <tr>\n",
       "      <th>15</th>\n",
       "      <td>6.0</td>\n",
       "      <td>dd</td>\n",
       "      <td>0.684</td>\n",
       "    </tr>\n",
       "    <tr>\n",
       "      <th>16</th>\n",
       "      <td>6.0</td>\n",
       "      <td>erd</td>\n",
       "      <td>0.825</td>\n",
       "    </tr>\n",
       "    <tr>\n",
       "      <th>17</th>\n",
       "      <td>6.0</td>\n",
       "      <td>dpd30</td>\n",
       "      <td>0.923</td>\n",
       "    </tr>\n",
       "    <tr>\n",
       "      <th>18</th>\n",
       "      <td>7.0</td>\n",
       "      <td>dd</td>\n",
       "      <td>0.684</td>\n",
       "    </tr>\n",
       "    <tr>\n",
       "      <th>19</th>\n",
       "      <td>7.0</td>\n",
       "      <td>erd</td>\n",
       "      <td>0.785</td>\n",
       "    </tr>\n",
       "    <tr>\n",
       "      <th>20</th>\n",
       "      <td>7.0</td>\n",
       "      <td>dpd30</td>\n",
       "      <td>0.882</td>\n",
       "    </tr>\n",
       "    <tr>\n",
       "      <th>21</th>\n",
       "      <td>8.0</td>\n",
       "      <td>dd</td>\n",
       "      <td>0.724</td>\n",
       "    </tr>\n",
       "    <tr>\n",
       "      <th>22</th>\n",
       "      <td>8.0</td>\n",
       "      <td>erd</td>\n",
       "      <td>0.879</td>\n",
       "    </tr>\n",
       "    <tr>\n",
       "      <th>23</th>\n",
       "      <td>8.0</td>\n",
       "      <td>dpd30</td>\n",
       "      <td>0.962</td>\n",
       "    </tr>\n",
       "  </tbody>\n",
       "</table>\n",
       "</div>"
      ],
      "text/plain": [
       "   cluster repayment_milestone hurdle_rate\n",
       "0      1.0                  dd       0.902\n",
       "1      1.0                 erd       1.031\n",
       "2      1.0               dpd30       1.033\n",
       "3      2.0                  dd       0.884\n",
       "4      2.0                 erd       1.006\n",
       "5      2.0               dpd30       1.031\n",
       "6      3.0                  dd       0.917\n",
       "7      3.0                 erd       1.031\n",
       "8      3.0               dpd30       1.032\n",
       "9      4.0                  dd       0.684\n",
       "10     4.0                 erd       0.825\n",
       "11     4.0               dpd30       0.915\n",
       "0      5.1                  dd       0.825\n",
       "1      5.1                 erd       0.967\n",
       "2      5.1               dpd30       1.029\n",
       "4      5.2                 erd       0.937\n",
       "3      5.2                  dd       0.776\n",
       "5      5.2               dpd30       1.011\n",
       "15     6.0                  dd       0.684\n",
       "16     6.0                 erd       0.825\n",
       "17     6.0               dpd30       0.923\n",
       "18     7.0                  dd       0.684\n",
       "19     7.0                 erd       0.785\n",
       "20     7.0               dpd30       0.882\n",
       "21     8.0                  dd       0.724\n",
       "22     8.0                 erd       0.879\n",
       "23     8.0               dpd30       0.962"
      ]
     },
     "execution_count": 217,
     "metadata": {},
     "output_type": "execute_result"
    }
   ],
   "source": [
    "hurdle_rates_pred = hurdle_rates_pred[~(hurdle_rates_pred['cluster'] == str(largest_main_cluster_index + 1) + '.0')]\n",
    "\n",
    "hurdle_rates_pred"
   ]
  },
  {
   "cell_type": "code",
   "execution_count": 218,
   "metadata": {
    "tags": []
   },
   "outputs": [
    {
     "data": {
      "text/html": [
       "<div>\n",
       "<style scoped>\n",
       "    .dataframe tbody tr th:only-of-type {\n",
       "        vertical-align: middle;\n",
       "    }\n",
       "\n",
       "    .dataframe tbody tr th {\n",
       "        vertical-align: top;\n",
       "    }\n",
       "\n",
       "    .dataframe thead th {\n",
       "        text-align: right;\n",
       "    }\n",
       "</style>\n",
       "<table border=\"1\" class=\"dataframe\">\n",
       "  <thead>\n",
       "    <tr style=\"text-align: right;\">\n",
       "      <th></th>\n",
       "      <th>cluster</th>\n",
       "      <th>repayment_milestone</th>\n",
       "      <th>hurdle_rate</th>\n",
       "    </tr>\n",
       "  </thead>\n",
       "  <tbody>\n",
       "    <tr>\n",
       "      <th>0</th>\n",
       "      <td>1.0</td>\n",
       "      <td>dd</td>\n",
       "      <td>0.902</td>\n",
       "    </tr>\n",
       "    <tr>\n",
       "      <th>1</th>\n",
       "      <td>1.0</td>\n",
       "      <td>erd</td>\n",
       "      <td>1.031</td>\n",
       "    </tr>\n",
       "    <tr>\n",
       "      <th>2</th>\n",
       "      <td>1.0</td>\n",
       "      <td>dpd30</td>\n",
       "      <td>1.033</td>\n",
       "    </tr>\n",
       "    <tr>\n",
       "      <th>3</th>\n",
       "      <td>2.0</td>\n",
       "      <td>dd</td>\n",
       "      <td>0.884</td>\n",
       "    </tr>\n",
       "    <tr>\n",
       "      <th>4</th>\n",
       "      <td>2.0</td>\n",
       "      <td>erd</td>\n",
       "      <td>1.006</td>\n",
       "    </tr>\n",
       "    <tr>\n",
       "      <th>5</th>\n",
       "      <td>2.0</td>\n",
       "      <td>dpd30</td>\n",
       "      <td>1.031</td>\n",
       "    </tr>\n",
       "    <tr>\n",
       "      <th>6</th>\n",
       "      <td>3.0</td>\n",
       "      <td>dd</td>\n",
       "      <td>0.917</td>\n",
       "    </tr>\n",
       "    <tr>\n",
       "      <th>7</th>\n",
       "      <td>3.0</td>\n",
       "      <td>erd</td>\n",
       "      <td>1.031</td>\n",
       "    </tr>\n",
       "    <tr>\n",
       "      <th>8</th>\n",
       "      <td>3.0</td>\n",
       "      <td>dpd30</td>\n",
       "      <td>1.032</td>\n",
       "    </tr>\n",
       "    <tr>\n",
       "      <th>9</th>\n",
       "      <td>4.0</td>\n",
       "      <td>dd</td>\n",
       "      <td>0.684</td>\n",
       "    </tr>\n",
       "    <tr>\n",
       "      <th>10</th>\n",
       "      <td>4.0</td>\n",
       "      <td>erd</td>\n",
       "      <td>0.825</td>\n",
       "    </tr>\n",
       "    <tr>\n",
       "      <th>11</th>\n",
       "      <td>4.0</td>\n",
       "      <td>dpd30</td>\n",
       "      <td>0.915</td>\n",
       "    </tr>\n",
       "    <tr>\n",
       "      <th>2</th>\n",
       "      <td>5.1</td>\n",
       "      <td>dpd30</td>\n",
       "      <td>1.029</td>\n",
       "    </tr>\n",
       "    <tr>\n",
       "      <th>1</th>\n",
       "      <td>5.1</td>\n",
       "      <td>erd</td>\n",
       "      <td>0.967</td>\n",
       "    </tr>\n",
       "    <tr>\n",
       "      <th>0</th>\n",
       "      <td>5.1</td>\n",
       "      <td>dd</td>\n",
       "      <td>0.825</td>\n",
       "    </tr>\n",
       "    <tr>\n",
       "      <th>4</th>\n",
       "      <td>5.2</td>\n",
       "      <td>erd</td>\n",
       "      <td>0.937</td>\n",
       "    </tr>\n",
       "    <tr>\n",
       "      <th>3</th>\n",
       "      <td>5.2</td>\n",
       "      <td>dd</td>\n",
       "      <td>0.776</td>\n",
       "    </tr>\n",
       "    <tr>\n",
       "      <th>5</th>\n",
       "      <td>5.2</td>\n",
       "      <td>dpd30</td>\n",
       "      <td>1.011</td>\n",
       "    </tr>\n",
       "    <tr>\n",
       "      <th>15</th>\n",
       "      <td>6.0</td>\n",
       "      <td>dd</td>\n",
       "      <td>0.684</td>\n",
       "    </tr>\n",
       "    <tr>\n",
       "      <th>16</th>\n",
       "      <td>6.0</td>\n",
       "      <td>erd</td>\n",
       "      <td>0.825</td>\n",
       "    </tr>\n",
       "    <tr>\n",
       "      <th>17</th>\n",
       "      <td>6.0</td>\n",
       "      <td>dpd30</td>\n",
       "      <td>0.923</td>\n",
       "    </tr>\n",
       "    <tr>\n",
       "      <th>18</th>\n",
       "      <td>7.0</td>\n",
       "      <td>dd</td>\n",
       "      <td>0.684</td>\n",
       "    </tr>\n",
       "    <tr>\n",
       "      <th>19</th>\n",
       "      <td>7.0</td>\n",
       "      <td>erd</td>\n",
       "      <td>0.785</td>\n",
       "    </tr>\n",
       "    <tr>\n",
       "      <th>20</th>\n",
       "      <td>7.0</td>\n",
       "      <td>dpd30</td>\n",
       "      <td>0.882</td>\n",
       "    </tr>\n",
       "    <tr>\n",
       "      <th>21</th>\n",
       "      <td>8.0</td>\n",
       "      <td>dd</td>\n",
       "      <td>0.724</td>\n",
       "    </tr>\n",
       "    <tr>\n",
       "      <th>22</th>\n",
       "      <td>8.0</td>\n",
       "      <td>erd</td>\n",
       "      <td>0.879</td>\n",
       "    </tr>\n",
       "    <tr>\n",
       "      <th>23</th>\n",
       "      <td>8.0</td>\n",
       "      <td>dpd30</td>\n",
       "      <td>0.962</td>\n",
       "    </tr>\n",
       "  </tbody>\n",
       "</table>\n",
       "</div>"
      ],
      "text/plain": [
       "   cluster repayment_milestone hurdle_rate\n",
       "0      1.0                  dd       0.902\n",
       "1      1.0                 erd       1.031\n",
       "2      1.0               dpd30       1.033\n",
       "3      2.0                  dd       0.884\n",
       "4      2.0                 erd       1.006\n",
       "5      2.0               dpd30       1.031\n",
       "6      3.0                  dd       0.917\n",
       "7      3.0                 erd       1.031\n",
       "8      3.0               dpd30       1.032\n",
       "9      4.0                  dd       0.684\n",
       "10     4.0                 erd       0.825\n",
       "11     4.0               dpd30       0.915\n",
       "2      5.1               dpd30       1.029\n",
       "1      5.1                 erd       0.967\n",
       "0      5.1                  dd       0.825\n",
       "4      5.2                 erd       0.937\n",
       "3      5.2                  dd       0.776\n",
       "5      5.2               dpd30       1.011\n",
       "15     6.0                  dd       0.684\n",
       "16     6.0                 erd       0.825\n",
       "17     6.0               dpd30       0.923\n",
       "18     7.0                  dd       0.684\n",
       "19     7.0                 erd       0.785\n",
       "20     7.0               dpd30       0.882\n",
       "21     8.0                  dd       0.724\n",
       "22     8.0                 erd       0.879\n",
       "23     8.0               dpd30       0.962"
      ]
     },
     "execution_count": 218,
     "metadata": {},
     "output_type": "execute_result"
    }
   ],
   "source": [
    "hurdle_rates_pred = hurdle_rates_pred.sort_values(by='cluster', ascending=True)\n",
    "\n",
    "# hurdle_rates_pred['cluster'] = hurdle_rates_pred['cluster'].round(1)\n",
    "\n",
    "hurdle_rates_pred"
   ]
  },
  {
   "cell_type": "code",
   "execution_count": 219,
   "metadata": {
    "tags": []
   },
   "outputs": [],
   "source": [
    "hurdle_rates_pred.to_parquet('../models/hurdle_rates_pred_no_target.parquet')"
   ]
  },
  {
   "cell_type": "code",
   "execution_count": 220,
   "metadata": {},
   "outputs": [],
   "source": [
    "# # Fill missing values using predicted cluster means\n",
    "# # Predict the cluster labels for rows without performance data\n",
    "# predicted_clusters = without_performance_data[\"clusters\"]\n",
    "# imputed_values = cluster_means.loc[predicted_clusters]\n",
    "# without_performance_data[[\"hurdle_rate_by_due_date_mean\", \"hurdle_rate_by_end_rollover_date_mean\", \"hurdle_rate_by_dpd30_mean\"]] = imputed_values.values"
   ]
  },
  {
   "cell_type": "code",
   "execution_count": 221,
   "metadata": {},
   "outputs": [],
   "source": [
    "# without_performance_data"
   ]
  },
  {
   "cell_type": "code",
   "execution_count": 222,
   "metadata": {},
   "outputs": [],
   "source": [
    "# without_performance_data['clusters'].value_counts()"
   ]
  },
  {
   "cell_type": "code",
   "execution_count": 223,
   "metadata": {
    "tags": []
   },
   "outputs": [
    {
     "data": {
      "text/plain": [
       "clusters\n",
       "5    10219\n",
       "7     8132\n",
       "4     5916\n",
       "8     3202\n",
       "6     2492\n",
       "2     2225\n",
       "3      210\n",
       "1       61\n",
       "Name: count, dtype: int64"
      ]
     },
     "execution_count": 223,
     "metadata": {},
     "output_type": "execute_result"
    }
   ],
   "source": [
    "with_performance_data['clusters'].value_counts()"
   ]
  },
  {
   "cell_type": "code",
   "execution_count": 224,
   "metadata": {
    "tags": []
   },
   "outputs": [
    {
     "data": {
      "text/plain": [
       "clusters_combined\n",
       "7.0    8132\n",
       "5.2    6056\n",
       "4.0    5916\n",
       "5.1    4163\n",
       "8.0    3202\n",
       "6.0    2492\n",
       "2.0    2225\n",
       "3.0     210\n",
       "1.0      61\n",
       "Name: count, dtype: int64"
      ]
     },
     "execution_count": 224,
     "metadata": {},
     "output_type": "execute_result"
    }
   ],
   "source": [
    "with_performance_data['clusters_combined'].value_counts()"
   ]
  },
  {
   "cell_type": "code",
   "execution_count": 225,
   "metadata": {},
   "outputs": [],
   "source": [
    "# # Visualize clusters in without_performance_data\n",
    "# plt.figure(figsize=(10, 6))\n",
    "# plt.scatter(pca_scaled_without_performance_data[:, 0], pca_scaled_without_performance_data[:, 1], c=without_performance_data[\"clusters\"], cmap='rainbow')\n",
    "# plt.title(\"Clusters in Data without Performance\")\n",
    "# plt.xlabel(\"Principal Component 1\")\n",
    "# plt.ylabel(\"Principal Component 2\")\n",
    "# plt.colorbar(label=\"Cluster\")\n",
    "# plt.show()"
   ]
  },
  {
   "cell_type": "code",
   "execution_count": 226,
   "metadata": {},
   "outputs": [],
   "source": [
    "# # Combine PCA-transformed data from both subsets\n",
    "# all_pca_data = np.vstack((pca_scaled_train_with_performance_data, pca_scaled_test_with_performance_data, pca_scaled_without_performance_data))\n",
    "\n",
    "# # Combine cluster labels from both subsets\n",
    "# all_clusters = np.concatenate((train_clusters, test_clusters, without_performance_data[\"clusters\"]))\n",
    "\n",
    "# # Visualize clusters in the whole dataset\n",
    "# plt.figure(figsize=(10, 6))\n",
    "# plt.scatter(all_pca_data[:, 0], all_pca_data[:, 1], c=all_clusters, cmap='rainbow')\n",
    "# plt.title(\"Clusters in Whole Dataset\")\n",
    "# plt.xlabel(\"Principal Component 1\")\n",
    "# plt.ylabel(\"Principal Component 2\")\n",
    "# plt.colorbar(label=\"Cluster\")\n",
    "# plt.show()"
   ]
  },
  {
   "cell_type": "code",
   "execution_count": 227,
   "metadata": {},
   "outputs": [],
   "source": [
    "# # Concatenate known and imputed data\n",
    "# imputed_df = pd.concat([train_with_performance_data, without_performance_data])\n",
    "\n",
    "# imputed_df.shape"
   ]
  },
  {
   "cell_type": "code",
   "execution_count": 228,
   "metadata": {},
   "outputs": [],
   "source": [
    "# imputed_df['clusters'].value_counts()"
   ]
  },
  {
   "cell_type": "code",
   "execution_count": 229,
   "metadata": {},
   "outputs": [],
   "source": [
    "# imputed_df.head(3)"
   ]
  },
  {
   "cell_type": "code",
   "execution_count": 230,
   "metadata": {},
   "outputs": [],
   "source": [
    "# imputed_df.info()"
   ]
  },
  {
   "cell_type": "raw",
   "metadata": {},
   "source": []
  },
  {
   "cell_type": "code",
   "execution_count": 231,
   "metadata": {},
   "outputs": [],
   "source": [
    "# with open(\"../models/kmeans_model.pkl\", \"wb\") as f:\n",
    "#     pickle.dump(kmeans, f)"
   ]
  },
  {
   "cell_type": "code",
   "execution_count": 232,
   "metadata": {},
   "outputs": [],
   "source": [
    "# with open(\"../models/scaler_model.pkl\", \"wb\") as f:\n",
    "#     pickle.dump(scaler, f)"
   ]
  },
  {
   "cell_type": "code",
   "execution_count": 233,
   "metadata": {},
   "outputs": [],
   "source": [
    "# # Create a sample dataframe\n",
    "# data = {'cluster': [1, 1, 1, 2, 2, 2, 3, 3, 3, 4, 4, 4, 5, 5, 5], 'repayment_milestone': ['dd', 'erd', 'dpd30', 'dd', 'erd', 'dpd30', 'dd', 'erd', 'dpd30', 'dd', 'erd', 'dpd30', 'dd', 'erd', 'dpd30'], 'hurdle_rate': [round(c1_ratio_by_dd, 3), round(c1_ratio_by_erd, 3), round(c1_ratio_by_dpd30, 3), round(c2_ratio_by_dd, 3), round(c2_ratio_by_erd, 3), round(c2_ratio_by_dpd30, 3), round(c3_ratio_by_dd, 3), round(c3_ratio_by_erd, 3), round(c3_ratio_by_dpd30, 3), round(c4_ratio_by_dd, 3), round(c4_ratio_by_erd, 3), round(c4_ratio_by_dpd30, 3), round(c5_ratio_by_dd, 3), round(c5_ratio_by_erd, 3), round(c5_ratio_by_dpd30, 3)]}\n",
    "# hurdle_rates_pred = pd.DataFrame(data)"
   ]
  },
  {
   "cell_type": "code",
   "execution_count": 234,
   "metadata": {},
   "outputs": [],
   "source": [
    "# hurdle_rates_pred"
   ]
  },
  {
   "cell_type": "code",
   "execution_count": 235,
   "metadata": {},
   "outputs": [],
   "source": [
    "# hurdle_rates_pred.to_parquet('../models/hurdle_rates_pred.parquet')"
   ]
  },
  {
   "cell_type": "code",
   "execution_count": 236,
   "metadata": {},
   "outputs": [],
   "source": [
    "# df = pd.read_parquet('../models/hurdle_rates_pred.parquet')\n",
    "\n",
    "# df"
   ]
  },
  {
   "cell_type": "code",
   "execution_count": null,
   "metadata": {},
   "outputs": [],
   "source": []
  },
  {
   "cell_type": "code",
   "execution_count": null,
   "metadata": {},
   "outputs": [],
   "source": []
  },
  {
   "cell_type": "code",
   "execution_count": null,
   "metadata": {},
   "outputs": [],
   "source": []
  },
  {
   "cell_type": "code",
   "execution_count": null,
   "metadata": {},
   "outputs": [],
   "source": []
  },
  {
   "cell_type": "markdown",
   "metadata": {
    "tags": []
   },
   "source": [
    "### Classifier"
   ]
  },
  {
   "cell_type": "code",
   "execution_count": 237,
   "metadata": {
    "tags": []
   },
   "outputs": [
    {
     "data": {
      "text/plain": [
       "[0, 1, 2, 3, 4, 5, 6, 7, 8]"
      ]
     },
     "execution_count": 237,
     "metadata": {},
     "output_type": "execute_result"
    }
   ],
   "source": [
    "label_encoder = LabelEncoder()\n",
    "with_performance_data['target'] = label_encoder.fit_transform(with_performance_data['clusters_combined'])\n",
    "sorted(with_performance_data['target'].unique())"
   ]
  },
  {
   "cell_type": "code",
   "execution_count": 238,
   "metadata": {
    "tags": []
   },
   "outputs": [
    {
     "data": {
      "text/plain": [
       "['1.0', '2.0', '3.0', '4.0', '5.1', '5.2', '6.0', '7.0', '8.0']"
      ]
     },
     "execution_count": 238,
     "metadata": {},
     "output_type": "execute_result"
    }
   ],
   "source": [
    "sorted(with_performance_data['clusters_combined'].unique())"
   ]
  },
  {
   "cell_type": "code",
   "execution_count": 240,
   "metadata": {
    "tags": []
   },
   "outputs": [
    {
     "data": {
      "text/html": [
       "<div>\n",
       "<style scoped>\n",
       "    .dataframe tbody tr th:only-of-type {\n",
       "        vertical-align: middle;\n",
       "    }\n",
       "\n",
       "    .dataframe tbody tr th {\n",
       "        vertical-align: top;\n",
       "    }\n",
       "\n",
       "    .dataframe thead th {\n",
       "        text-align: right;\n",
       "    }\n",
       "</style>\n",
       "<table border=\"1\" class=\"dataframe\">\n",
       "  <thead>\n",
       "    <tr style=\"text-align: right;\">\n",
       "      <th></th>\n",
       "      <th>cluster</th>\n",
       "      <th>repayment_milestone</th>\n",
       "      <th>hurdle_rate</th>\n",
       "      <th>target</th>\n",
       "    </tr>\n",
       "  </thead>\n",
       "  <tbody>\n",
       "    <tr>\n",
       "      <th>0</th>\n",
       "      <td>1.0</td>\n",
       "      <td>dd</td>\n",
       "      <td>0.902</td>\n",
       "      <td>0</td>\n",
       "    </tr>\n",
       "    <tr>\n",
       "      <th>1</th>\n",
       "      <td>1.0</td>\n",
       "      <td>erd</td>\n",
       "      <td>1.031</td>\n",
       "      <td>0</td>\n",
       "    </tr>\n",
       "    <tr>\n",
       "      <th>2</th>\n",
       "      <td>1.0</td>\n",
       "      <td>dpd30</td>\n",
       "      <td>1.033</td>\n",
       "      <td>0</td>\n",
       "    </tr>\n",
       "    <tr>\n",
       "      <th>3</th>\n",
       "      <td>2.0</td>\n",
       "      <td>dd</td>\n",
       "      <td>0.884</td>\n",
       "      <td>1</td>\n",
       "    </tr>\n",
       "    <tr>\n",
       "      <th>4</th>\n",
       "      <td>2.0</td>\n",
       "      <td>erd</td>\n",
       "      <td>1.006</td>\n",
       "      <td>1</td>\n",
       "    </tr>\n",
       "    <tr>\n",
       "      <th>5</th>\n",
       "      <td>2.0</td>\n",
       "      <td>dpd30</td>\n",
       "      <td>1.031</td>\n",
       "      <td>1</td>\n",
       "    </tr>\n",
       "    <tr>\n",
       "      <th>6</th>\n",
       "      <td>3.0</td>\n",
       "      <td>dd</td>\n",
       "      <td>0.917</td>\n",
       "      <td>2</td>\n",
       "    </tr>\n",
       "    <tr>\n",
       "      <th>7</th>\n",
       "      <td>3.0</td>\n",
       "      <td>erd</td>\n",
       "      <td>1.031</td>\n",
       "      <td>2</td>\n",
       "    </tr>\n",
       "    <tr>\n",
       "      <th>8</th>\n",
       "      <td>3.0</td>\n",
       "      <td>dpd30</td>\n",
       "      <td>1.032</td>\n",
       "      <td>2</td>\n",
       "    </tr>\n",
       "    <tr>\n",
       "      <th>9</th>\n",
       "      <td>4.0</td>\n",
       "      <td>dd</td>\n",
       "      <td>0.684</td>\n",
       "      <td>3</td>\n",
       "    </tr>\n",
       "    <tr>\n",
       "      <th>10</th>\n",
       "      <td>4.0</td>\n",
       "      <td>erd</td>\n",
       "      <td>0.825</td>\n",
       "      <td>3</td>\n",
       "    </tr>\n",
       "    <tr>\n",
       "      <th>11</th>\n",
       "      <td>4.0</td>\n",
       "      <td>dpd30</td>\n",
       "      <td>0.915</td>\n",
       "      <td>3</td>\n",
       "    </tr>\n",
       "    <tr>\n",
       "      <th>2</th>\n",
       "      <td>5.1</td>\n",
       "      <td>dpd30</td>\n",
       "      <td>1.029</td>\n",
       "      <td>4</td>\n",
       "    </tr>\n",
       "    <tr>\n",
       "      <th>1</th>\n",
       "      <td>5.1</td>\n",
       "      <td>erd</td>\n",
       "      <td>0.967</td>\n",
       "      <td>4</td>\n",
       "    </tr>\n",
       "    <tr>\n",
       "      <th>0</th>\n",
       "      <td>5.1</td>\n",
       "      <td>dd</td>\n",
       "      <td>0.825</td>\n",
       "      <td>4</td>\n",
       "    </tr>\n",
       "    <tr>\n",
       "      <th>4</th>\n",
       "      <td>5.2</td>\n",
       "      <td>erd</td>\n",
       "      <td>0.937</td>\n",
       "      <td>5</td>\n",
       "    </tr>\n",
       "    <tr>\n",
       "      <th>3</th>\n",
       "      <td>5.2</td>\n",
       "      <td>dd</td>\n",
       "      <td>0.776</td>\n",
       "      <td>5</td>\n",
       "    </tr>\n",
       "    <tr>\n",
       "      <th>5</th>\n",
       "      <td>5.2</td>\n",
       "      <td>dpd30</td>\n",
       "      <td>1.011</td>\n",
       "      <td>5</td>\n",
       "    </tr>\n",
       "    <tr>\n",
       "      <th>15</th>\n",
       "      <td>6.0</td>\n",
       "      <td>dd</td>\n",
       "      <td>0.684</td>\n",
       "      <td>6</td>\n",
       "    </tr>\n",
       "    <tr>\n",
       "      <th>16</th>\n",
       "      <td>6.0</td>\n",
       "      <td>erd</td>\n",
       "      <td>0.825</td>\n",
       "      <td>6</td>\n",
       "    </tr>\n",
       "    <tr>\n",
       "      <th>17</th>\n",
       "      <td>6.0</td>\n",
       "      <td>dpd30</td>\n",
       "      <td>0.923</td>\n",
       "      <td>6</td>\n",
       "    </tr>\n",
       "    <tr>\n",
       "      <th>18</th>\n",
       "      <td>7.0</td>\n",
       "      <td>dd</td>\n",
       "      <td>0.684</td>\n",
       "      <td>7</td>\n",
       "    </tr>\n",
       "    <tr>\n",
       "      <th>19</th>\n",
       "      <td>7.0</td>\n",
       "      <td>erd</td>\n",
       "      <td>0.785</td>\n",
       "      <td>7</td>\n",
       "    </tr>\n",
       "    <tr>\n",
       "      <th>20</th>\n",
       "      <td>7.0</td>\n",
       "      <td>dpd30</td>\n",
       "      <td>0.882</td>\n",
       "      <td>7</td>\n",
       "    </tr>\n",
       "    <tr>\n",
       "      <th>21</th>\n",
       "      <td>8.0</td>\n",
       "      <td>dd</td>\n",
       "      <td>0.724</td>\n",
       "      <td>8</td>\n",
       "    </tr>\n",
       "    <tr>\n",
       "      <th>22</th>\n",
       "      <td>8.0</td>\n",
       "      <td>erd</td>\n",
       "      <td>0.879</td>\n",
       "      <td>8</td>\n",
       "    </tr>\n",
       "    <tr>\n",
       "      <th>23</th>\n",
       "      <td>8.0</td>\n",
       "      <td>dpd30</td>\n",
       "      <td>0.962</td>\n",
       "      <td>8</td>\n",
       "    </tr>\n",
       "  </tbody>\n",
       "</table>\n",
       "</div>"
      ],
      "text/plain": [
       "   cluster repayment_milestone hurdle_rate  target\n",
       "0      1.0                  dd       0.902       0\n",
       "1      1.0                 erd       1.031       0\n",
       "2      1.0               dpd30       1.033       0\n",
       "3      2.0                  dd       0.884       1\n",
       "4      2.0                 erd       1.006       1\n",
       "5      2.0               dpd30       1.031       1\n",
       "6      3.0                  dd       0.917       2\n",
       "7      3.0                 erd       1.031       2\n",
       "8      3.0               dpd30       1.032       2\n",
       "9      4.0                  dd       0.684       3\n",
       "10     4.0                 erd       0.825       3\n",
       "11     4.0               dpd30       0.915       3\n",
       "2      5.1               dpd30       1.029       4\n",
       "1      5.1                 erd       0.967       4\n",
       "0      5.1                  dd       0.825       4\n",
       "4      5.2                 erd       0.937       5\n",
       "3      5.2                  dd       0.776       5\n",
       "5      5.2               dpd30       1.011       5\n",
       "15     6.0                  dd       0.684       6\n",
       "16     6.0                 erd       0.825       6\n",
       "17     6.0               dpd30       0.923       6\n",
       "18     7.0                  dd       0.684       7\n",
       "19     7.0                 erd       0.785       7\n",
       "20     7.0               dpd30       0.882       7\n",
       "21     8.0                  dd       0.724       8\n",
       "22     8.0                 erd       0.879       8\n",
       "23     8.0               dpd30       0.962       8"
      ]
     },
     "execution_count": 240,
     "metadata": {},
     "output_type": "execute_result"
    }
   ],
   "source": [
    "hurdle_rates_pred['target'] = label_encoder.transform(hurdle_rates_pred['cluster'])\n",
    "hurdle_rates_pred"
   ]
  },
  {
   "cell_type": "code",
   "execution_count": 252,
   "metadata": {
    "tags": []
   },
   "outputs": [],
   "source": [
    "hurdle_rates_pred.to_parquet('../models/hurdle_rates_pred.parquet')"
   ]
  },
  {
   "cell_type": "code",
   "execution_count": 242,
   "metadata": {
    "tags": []
   },
   "outputs": [],
   "source": [
    "X = with_performance_data[features]\n",
    "y = with_performance_data['target']"
   ]
  },
  {
   "cell_type": "code",
   "execution_count": 243,
   "metadata": {
    "tags": []
   },
   "outputs": [
    {
     "name": "stdout",
     "output_type": "stream",
     "text": [
      "(22719, 6)\n",
      "(9738, 6)\n"
     ]
    }
   ],
   "source": [
    "X_train, X_test, y_train, y_test = train_test_split(X, y, shuffle=True, test_size=0.3)\n",
    "print(X_train.shape)\n",
    "print(X_test.shape)"
   ]
  },
  {
   "cell_type": "code",
   "execution_count": 244,
   "metadata": {
    "tags": []
   },
   "outputs": [],
   "source": [
    "clf_scaler = StandardScaler()\n",
    "X_train_scale = clf_scaler.fit_transform(X_train)\n",
    "X_test_scale = clf_scaler.transform(X_test)"
   ]
  },
  {
   "cell_type": "code",
   "execution_count": 251,
   "metadata": {
    "tags": []
   },
   "outputs": [],
   "source": [
    "with open(\"../models/clf_scaler_model.pkl\", \"wb\") as f:\n",
    "    pickle.dump(clf_scaler, f)"
   ]
  },
  {
   "cell_type": "code",
   "execution_count": 245,
   "metadata": {
    "tags": []
   },
   "outputs": [
    {
     "data": {
      "text/html": [
       "<style>#sk-container-id-2 {color: black;}#sk-container-id-2 pre{padding: 0;}#sk-container-id-2 div.sk-toggleable {background-color: white;}#sk-container-id-2 label.sk-toggleable__label {cursor: pointer;display: block;width: 100%;margin-bottom: 0;padding: 0.3em;box-sizing: border-box;text-align: center;}#sk-container-id-2 label.sk-toggleable__label-arrow:before {content: \"▸\";float: left;margin-right: 0.25em;color: #696969;}#sk-container-id-2 label.sk-toggleable__label-arrow:hover:before {color: black;}#sk-container-id-2 div.sk-estimator:hover label.sk-toggleable__label-arrow:before {color: black;}#sk-container-id-2 div.sk-toggleable__content {max-height: 0;max-width: 0;overflow: hidden;text-align: left;background-color: #f0f8ff;}#sk-container-id-2 div.sk-toggleable__content pre {margin: 0.2em;color: black;border-radius: 0.25em;background-color: #f0f8ff;}#sk-container-id-2 input.sk-toggleable__control:checked~div.sk-toggleable__content {max-height: 200px;max-width: 100%;overflow: auto;}#sk-container-id-2 input.sk-toggleable__control:checked~label.sk-toggleable__label-arrow:before {content: \"▾\";}#sk-container-id-2 div.sk-estimator input.sk-toggleable__control:checked~label.sk-toggleable__label {background-color: #d4ebff;}#sk-container-id-2 div.sk-label input.sk-toggleable__control:checked~label.sk-toggleable__label {background-color: #d4ebff;}#sk-container-id-2 input.sk-hidden--visually {border: 0;clip: rect(1px 1px 1px 1px);clip: rect(1px, 1px, 1px, 1px);height: 1px;margin: -1px;overflow: hidden;padding: 0;position: absolute;width: 1px;}#sk-container-id-2 div.sk-estimator {font-family: monospace;background-color: #f0f8ff;border: 1px dotted black;border-radius: 0.25em;box-sizing: border-box;margin-bottom: 0.5em;}#sk-container-id-2 div.sk-estimator:hover {background-color: #d4ebff;}#sk-container-id-2 div.sk-parallel-item::after {content: \"\";width: 100%;border-bottom: 1px solid gray;flex-grow: 1;}#sk-container-id-2 div.sk-label:hover label.sk-toggleable__label {background-color: #d4ebff;}#sk-container-id-2 div.sk-serial::before {content: \"\";position: absolute;border-left: 1px solid gray;box-sizing: border-box;top: 0;bottom: 0;left: 50%;z-index: 0;}#sk-container-id-2 div.sk-serial {display: flex;flex-direction: column;align-items: center;background-color: white;padding-right: 0.2em;padding-left: 0.2em;position: relative;}#sk-container-id-2 div.sk-item {position: relative;z-index: 1;}#sk-container-id-2 div.sk-parallel {display: flex;align-items: stretch;justify-content: center;background-color: white;position: relative;}#sk-container-id-2 div.sk-item::before, #sk-container-id-2 div.sk-parallel-item::before {content: \"\";position: absolute;border-left: 1px solid gray;box-sizing: border-box;top: 0;bottom: 0;left: 50%;z-index: -1;}#sk-container-id-2 div.sk-parallel-item {display: flex;flex-direction: column;z-index: 1;position: relative;background-color: white;}#sk-container-id-2 div.sk-parallel-item:first-child::after {align-self: flex-end;width: 50%;}#sk-container-id-2 div.sk-parallel-item:last-child::after {align-self: flex-start;width: 50%;}#sk-container-id-2 div.sk-parallel-item:only-child::after {width: 0;}#sk-container-id-2 div.sk-dashed-wrapped {border: 1px dashed gray;margin: 0 0.4em 0.5em 0.4em;box-sizing: border-box;padding-bottom: 0.4em;background-color: white;}#sk-container-id-2 div.sk-label label {font-family: monospace;font-weight: bold;display: inline-block;line-height: 1.2em;}#sk-container-id-2 div.sk-label-container {text-align: center;}#sk-container-id-2 div.sk-container {/* jupyter's `normalize.less` sets `[hidden] { display: none; }` but bootstrap.min.css set `[hidden] { display: none !important; }` so we also need the `!important` here to be able to override the default hidden behavior on the sphinx rendered scikit-learn.org. See: https://github.com/scikit-learn/scikit-learn/issues/21755 */display: inline-block !important;position: relative;}#sk-container-id-2 div.sk-text-repr-fallback {display: none;}</style><div id=\"sk-container-id-2\" class=\"sk-top-container\"><div class=\"sk-text-repr-fallback\"><pre>RandomForestClassifier()</pre><b>In a Jupyter environment, please rerun this cell to show the HTML representation or trust the notebook. <br />On GitHub, the HTML representation is unable to render, please try loading this page with nbviewer.org.</b></div><div class=\"sk-container\" hidden><div class=\"sk-item\"><div class=\"sk-estimator sk-toggleable\"><input class=\"sk-toggleable__control sk-hidden--visually\" id=\"sk-estimator-id-2\" type=\"checkbox\" checked><label for=\"sk-estimator-id-2\" class=\"sk-toggleable__label sk-toggleable__label-arrow\">RandomForestClassifier</label><div class=\"sk-toggleable__content\"><pre>RandomForestClassifier()</pre></div></div></div></div></div>"
      ],
      "text/plain": [
       "RandomForestClassifier()"
      ]
     },
     "execution_count": 245,
     "metadata": {},
     "output_type": "execute_result"
    }
   ],
   "source": [
    "clf = RandomForestClassifier()\n",
    "clf.fit(X_train_scale, y_train)"
   ]
  },
  {
   "cell_type": "code",
   "execution_count": 249,
   "metadata": {
    "tags": []
   },
   "outputs": [],
   "source": [
    "with open(\"../models/decision_tree_model.pkl\", \"wb\") as f:\n",
    "    pickle.dump(clf, f)"
   ]
  },
  {
   "cell_type": "code",
   "execution_count": 246,
   "metadata": {
    "tags": []
   },
   "outputs": [],
   "source": [
    "y_pred = clf.predict(X_test_scale)\n",
    "y_pred_probs = clf.predict(X_test_scale)"
   ]
  },
  {
   "cell_type": "code",
   "execution_count": 247,
   "metadata": {
    "tags": []
   },
   "outputs": [
    {
     "data": {
      "text/plain": [
       "<Axes: >"
      ]
     },
     "execution_count": 247,
     "metadata": {},
     "output_type": "execute_result"
    },
    {
     "data": {
      "image/png": "[encoded data removed]",
      "text/plain": [
       "<Figure size 640x480 with 2 Axes>"
      ]
     },
     "metadata": {},
     "output_type": "display_data"
    }
   ],
   "source": [
    "cm = confusion_matrix(y_test, y_pred)\n",
    "sns.heatmap(cm, annot=True, fmt='.0f')"
   ]
  },
  {
   "cell_type": "code",
   "execution_count": 248,
   "metadata": {
    "tags": []
   },
   "outputs": [
    {
     "name": "stdout",
     "output_type": "stream",
     "text": [
      "              precision    recall  f1-score   support\n",
      "\n",
      "           0       1.00      1.00      1.00        14\n",
      "           1       1.00      0.99      0.99       623\n",
      "           2       0.94      1.00      0.97        64\n",
      "           3       0.99      0.99      0.99      1795\n",
      "           4       1.00      1.00      1.00      1237\n",
      "           5       1.00      1.00      1.00      1822\n",
      "           6       0.99      0.99      0.99       769\n",
      "           7       1.00      1.00      1.00      2414\n",
      "           8       1.00      0.99      0.99      1000\n",
      "\n",
      "    accuracy                           1.00      9738\n",
      "   macro avg       0.99      1.00      0.99      9738\n",
      "weighted avg       1.00      1.00      1.00      9738\n",
      "\n"
     ]
    }
   ],
   "source": [
    "print(classification_report(y_test, y_pred))"
   ]
  },
  {
   "cell_type": "code",
   "execution_count": 167,
   "metadata": {
    "tags": []
   },
   "outputs": [],
   "source": [
    "# # trans = TSNE(n_components=2, metric='euclidean', random_state=42)\n",
    "# # trans = PCA(n_components=2, random_state=42)\n",
    "# trans = UMAP(n_components=2, n_neighbors=1000, random_state=42, metric='cosine').fit(X_train_scale)\n",
    "\n",
    "# fig, ax = plt.subplots(figsize=(12,8))\n",
    "# ax.scatter(trans.embedding_[:, 0], trans.embedding_[:, 1], s=5, c=y_train, cmap='Spectral')\n",
    "# ax.set_title('Embedding of the training set', fontsize=24)\n",
    "\n",
    "# X_test_trans = trans.transform(X_test_scale)\n",
    "\n",
    "# fig, ax = plt.subplots(figsize=(12,8))\n",
    "# ax.scatter(X_test_trans[:, 0], X_test_trans[:, 1], s=5, c=y_pred, cmap='Spectral')\n",
    "# ax.set_title('Embedding of the testing set', fontsize=24)"
   ]
  },
  {
   "cell_type": "code",
   "execution_count": null,
   "metadata": {},
   "outputs": [],
   "source": []
  }
 ],
 "metadata": {
  "colab": {
   "collapsed_sections": [],
   "name": "Loan Matrix Simulation.ipynb",
   "provenance": []
  },
  "kernelspec": {
   "display_name": "Python 3 (ipykernel)",
   "language": "python",
   "name": "python3"
  },
  "language_info": {
   "codemirror_mode": {
    "name": "ipython",
    "version": 3
   },
   "file_extension": ".py",
   "mimetype": "text/x-python",
   "name": "python",
   "nbconvert_exporter": "python",
   "pygments_lexer": "ipython3",
   "version": "3.9.18"
  }
 },
 "nbformat": 4,
 "nbformat_minor": 4
}
