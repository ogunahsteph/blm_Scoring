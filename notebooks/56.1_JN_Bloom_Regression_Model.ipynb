{
 "cells": [
  {
   "cell_type": "markdown",
   "metadata": {
    "id": "xFRBeoYlkqv_"
   },
   "source": [
    "# **Impact Assessment**"
   ]
  },
  {
   "cell_type": "markdown",
   "metadata": {
    "id": "UHLT79pzm9Xc"
   },
   "source": [
    "### Import processing and prepping libraries"
   ]
  },
  {
   "cell_type": "code",
   "execution_count": 1,
   "metadata": {
    "colab": {
     "base_uri": "https://localhost:8080/"
    },
    "id": "nejd_Ow6nMPi",
    "outputId": "096923bb-8683-4075-a92c-bbdb870e53f3",
    "tags": []
   },
   "outputs": [],
   "source": [
    "#import data processing libraries\n",
    "import pandas as pd\n",
    "import numpy as np\n",
    "import psycopg2\n",
    "import pymysql\n",
    "import datetime as dt\n",
    "from datetime import timedelta\n",
    "import os\n",
    "import math as math\n",
    "from scipy import stats\n",
    "\n",
    "#import visualization libraries\n",
    "import seaborn as sns\n",
    "import matplotlib.pyplot as plt\n",
    "import matplotlib.ticker as ticker\n",
    "%matplotlib inline\n",
    "\n",
    "from sklearn.cluster import KMeans, AgglomerativeClustering\n",
    "from sklearn.linear_model import LinearRegression\n",
    "from sklearn.impute import SimpleImputer\n",
    "from sklearn.tree import DecisionTreeRegressor\n",
    "from sklearn.preprocessing import StandardScaler, normalize, LabelEncoder\n",
    "from sklearn.model_selection import train_test_split\n",
    "from sklearn.decomposition import PCA\n",
    "from sklearn.metrics import silhouette_score, classification_report, confusion_matrix, mean_squared_error, r2_score, mean_absolute_error\n",
    "from sklearn.ensemble import RandomForestClassifier, RandomForestRegressor\n",
    "from sklearn.manifold import TSNE\n",
    "import xgboost as xgb\n",
    "from sklearn.svm import SVR\n",
    "\n",
    "import joblib\n",
    "import pyarrow as pa\n",
    "import pickle\n",
    "from umap import UMAP"
   ]
  },
  {
   "cell_type": "code",
   "execution_count": 2,
   "metadata": {
    "id": "dv4Cu_BonQtd",
    "tags": []
   },
   "outputs": [],
   "source": [
    "pd.set_option('display.max_rows', 500)\n",
    "pd.set_option('display.max_columns', 500)\n",
    "pd.set_option('display.width', 1000)\n",
    "\n",
    "pd.set_option('display.float_format', lambda x: '%.3f' % x)"
   ]
  },
  {
   "cell_type": "markdown",
   "metadata": {
    "id": "irf34ag8VPBx"
   },
   "source": [
    "### Load the Data"
   ]
  },
  {
   "cell_type": "code",
   "execution_count": 3,
   "metadata": {
    "tags": []
   },
   "outputs": [],
   "source": [
    "# repayments = pd.read_csv(\"repayments_by_different_milestones.csv\")\n",
    "# repayments.to_parquet('repayments_by_different_milestones_2.parquet', index=False)"
   ]
  },
  {
   "cell_type": "code",
   "execution_count": 4,
   "metadata": {
    "tags": []
   },
   "outputs": [
    {
     "data": {
      "text/html": [
       "<div>\n",
       "<style scoped>\n",
       "    .dataframe tbody tr th:only-of-type {\n",
       "        vertical-align: middle;\n",
       "    }\n",
       "\n",
       "    .dataframe tbody tr th {\n",
       "        vertical-align: top;\n",
       "    }\n",
       "\n",
       "    .dataframe thead th {\n",
       "        text-align: right;\n",
       "    }\n",
       "</style>\n",
       "<table border=\"1\" class=\"dataframe\">\n",
       "  <thead>\n",
       "    <tr style=\"text-align: right;\">\n",
       "      <th></th>\n",
       "      <th>loan_surrogate_id</th>\n",
       "      <th>loan_mifos_id</th>\n",
       "      <th>store_number</th>\n",
       "      <th>principal_disbursed</th>\n",
       "      <th>term_frequency</th>\n",
       "      <th>repayment_amount_by_due_date</th>\n",
       "      <th>repayment_amount_by_rllvr_date</th>\n",
       "      <th>repayment_amount_by_dpd30</th>\n",
       "    </tr>\n",
       "  </thead>\n",
       "  <tbody>\n",
       "    <tr>\n",
       "      <th>0</th>\n",
       "      <td>5475396</td>\n",
       "      <td>315040</td>\n",
       "      <td>7032770</td>\n",
       "      <td>19500.000</td>\n",
       "      <td>7</td>\n",
       "      <td>NaN</td>\n",
       "      <td>20711.650</td>\n",
       "      <td>20711.650</td>\n",
       "    </tr>\n",
       "    <tr>\n",
       "      <th>1</th>\n",
       "      <td>5475513</td>\n",
       "      <td>60991</td>\n",
       "      <td>7850981</td>\n",
       "      <td>55000.000</td>\n",
       "      <td>7</td>\n",
       "      <td>NaN</td>\n",
       "      <td>NaN</td>\n",
       "      <td>NaN</td>\n",
       "    </tr>\n",
       "    <tr>\n",
       "      <th>2</th>\n",
       "      <td>5471575</td>\n",
       "      <td>62008</td>\n",
       "      <td>7258160</td>\n",
       "      <td>10000.000</td>\n",
       "      <td>7</td>\n",
       "      <td>NaN</td>\n",
       "      <td>10410.000</td>\n",
       "      <td>10410.000</td>\n",
       "    </tr>\n",
       "  </tbody>\n",
       "</table>\n",
       "</div>"
      ],
      "text/plain": [
       "   loan_surrogate_id  loan_mifos_id store_number  principal_disbursed  term_frequency  repayment_amount_by_due_date  repayment_amount_by_rllvr_date  repayment_amount_by_dpd30\n",
       "0            5475396         315040      7032770            19500.000               7                           NaN                       20711.650                  20711.650\n",
       "1            5475513          60991      7850981            55000.000               7                           NaN                             NaN                        NaN\n",
       "2            5471575          62008      7258160            10000.000               7                           NaN                       10410.000                  10410.000"
      ]
     },
     "execution_count": 4,
     "metadata": {},
     "output_type": "execute_result"
    }
   ],
   "source": [
    "repayments = pd.read_parquet('repayments_by_different_milestones_2.parquet')\n",
    "\n",
    "repayments['store_number'] = repayments['store_number'].astype(str)\n",
    "\n",
    "repayments.head(3)"
   ]
  },
  {
   "cell_type": "code",
   "execution_count": 5,
   "metadata": {
    "tags": []
   },
   "outputs": [],
   "source": [
    "repayments = repayments[(repayments['term_frequency'] == 7) | (repayments['term_frequency'] == 21)]"
   ]
  },
  {
   "cell_type": "code",
   "execution_count": 6,
   "metadata": {
    "tags": []
   },
   "outputs": [
    {
     "name": "stdout",
     "output_type": "stream",
     "text": [
      "<class 'pandas.core.frame.DataFrame'>\n",
      "Index: 260922 entries, 0 to 286376\n",
      "Data columns (total 8 columns):\n",
      " #   Column                          Non-Null Count   Dtype  \n",
      "---  ------                          --------------   -----  \n",
      " 0   loan_surrogate_id               260922 non-null  int64  \n",
      " 1   loan_mifos_id                   260922 non-null  int64  \n",
      " 2   store_number                    260922 non-null  object \n",
      " 3   principal_disbursed             260922 non-null  float64\n",
      " 4   term_frequency                  260922 non-null  int64  \n",
      " 5   repayment_amount_by_due_date    212051 non-null  float64\n",
      " 6   repayment_amount_by_rllvr_date  234608 non-null  float64\n",
      " 7   repayment_amount_by_dpd30       244299 non-null  float64\n",
      "dtypes: float64(4), int64(3), object(1)\n",
      "memory usage: 17.9+ MB\n"
     ]
    }
   ],
   "source": [
    "repayments.info()"
   ]
  },
  {
   "cell_type": "code",
   "execution_count": 7,
   "metadata": {
    "tags": []
   },
   "outputs": [],
   "source": [
    "repayments['repayment_amount_by_due_date'] = repayments['repayment_amount_by_due_date'].fillna(0)\n",
    "repayments['repayment_amount_by_rllvr_date'] = repayments['repayment_amount_by_rllvr_date'].fillna(0)\n",
    "repayments['repayment_amount_by_dpd30'] = repayments['repayment_amount_by_dpd30'].fillna(0)"
   ]
  },
  {
   "cell_type": "code",
   "execution_count": 8,
   "metadata": {
    "tags": []
   },
   "outputs": [
    {
     "name": "stdout",
     "output_type": "stream",
     "text": [
      "<class 'pandas.core.frame.DataFrame'>\n",
      "Index: 260922 entries, 0 to 286376\n",
      "Data columns (total 8 columns):\n",
      " #   Column                          Non-Null Count   Dtype  \n",
      "---  ------                          --------------   -----  \n",
      " 0   loan_surrogate_id               260922 non-null  int64  \n",
      " 1   loan_mifos_id                   260922 non-null  int64  \n",
      " 2   store_number                    260922 non-null  object \n",
      " 3   principal_disbursed             260922 non-null  float64\n",
      " 4   term_frequency                  260922 non-null  int64  \n",
      " 5   repayment_amount_by_due_date    260922 non-null  float64\n",
      " 6   repayment_amount_by_rllvr_date  260922 non-null  float64\n",
      " 7   repayment_amount_by_dpd30       260922 non-null  float64\n",
      "dtypes: float64(4), int64(3), object(1)\n",
      "memory usage: 17.9+ MB\n"
     ]
    }
   ],
   "source": [
    "repayments.info()"
   ]
  },
  {
   "cell_type": "code",
   "execution_count": 9,
   "metadata": {
    "tags": []
   },
   "outputs": [
    {
     "data": {
      "text/html": [
       "<div>\n",
       "<style scoped>\n",
       "    .dataframe tbody tr th:only-of-type {\n",
       "        vertical-align: middle;\n",
       "    }\n",
       "\n",
       "    .dataframe tbody tr th {\n",
       "        vertical-align: top;\n",
       "    }\n",
       "\n",
       "    .dataframe thead th {\n",
       "        text-align: right;\n",
       "    }\n",
       "</style>\n",
       "<table border=\"1\" class=\"dataframe\">\n",
       "  <thead>\n",
       "    <tr style=\"text-align: right;\">\n",
       "      <th></th>\n",
       "      <th>loan_surrogate_id</th>\n",
       "      <th>loan_mifos_id</th>\n",
       "      <th>store_number</th>\n",
       "      <th>principal_disbursed</th>\n",
       "      <th>term_frequency</th>\n",
       "      <th>repayment_amount_by_due_date</th>\n",
       "      <th>repayment_amount_by_rllvr_date</th>\n",
       "      <th>repayment_amount_by_dpd30</th>\n",
       "      <th>repayment_rate_by_due_date</th>\n",
       "      <th>repayment_rate_by_rllvr_date</th>\n",
       "      <th>repayment_rate_by_dpd30</th>\n",
       "    </tr>\n",
       "  </thead>\n",
       "  <tbody>\n",
       "    <tr>\n",
       "      <th>0</th>\n",
       "      <td>5475396</td>\n",
       "      <td>315040</td>\n",
       "      <td>7032770</td>\n",
       "      <td>19500.000</td>\n",
       "      <td>7</td>\n",
       "      <td>0.000</td>\n",
       "      <td>20711.650</td>\n",
       "      <td>20711.650</td>\n",
       "      <td>0.000</td>\n",
       "      <td>1.062</td>\n",
       "      <td>1.062</td>\n",
       "    </tr>\n",
       "    <tr>\n",
       "      <th>1</th>\n",
       "      <td>5475513</td>\n",
       "      <td>60991</td>\n",
       "      <td>7850981</td>\n",
       "      <td>55000.000</td>\n",
       "      <td>7</td>\n",
       "      <td>0.000</td>\n",
       "      <td>0.000</td>\n",
       "      <td>0.000</td>\n",
       "      <td>0.000</td>\n",
       "      <td>0.000</td>\n",
       "      <td>0.000</td>\n",
       "    </tr>\n",
       "    <tr>\n",
       "      <th>2</th>\n",
       "      <td>5471575</td>\n",
       "      <td>62008</td>\n",
       "      <td>7258160</td>\n",
       "      <td>10000.000</td>\n",
       "      <td>7</td>\n",
       "      <td>0.000</td>\n",
       "      <td>10410.000</td>\n",
       "      <td>10410.000</td>\n",
       "      <td>0.000</td>\n",
       "      <td>1.041</td>\n",
       "      <td>1.041</td>\n",
       "    </tr>\n",
       "  </tbody>\n",
       "</table>\n",
       "</div>"
      ],
      "text/plain": [
       "   loan_surrogate_id  loan_mifos_id store_number  principal_disbursed  term_frequency  repayment_amount_by_due_date  repayment_amount_by_rllvr_date  repayment_amount_by_dpd30  repayment_rate_by_due_date  repayment_rate_by_rllvr_date  repayment_rate_by_dpd30\n",
       "0            5475396         315040      7032770            19500.000               7                         0.000                       20711.650                  20711.650                       0.000                         1.062                    1.062\n",
       "1            5475513          60991      7850981            55000.000               7                         0.000                           0.000                      0.000                       0.000                         0.000                    0.000\n",
       "2            5471575          62008      7258160            10000.000               7                         0.000                       10410.000                  10410.000                       0.000                         1.041                    1.041"
      ]
     },
     "execution_count": 9,
     "metadata": {},
     "output_type": "execute_result"
    }
   ],
   "source": [
    "repayments['repayment_rate_by_due_date'] = round(repayments['repayment_amount_by_due_date'] / repayments['principal_disbursed'], 4)\n",
    "repayments['repayment_rate_by_rllvr_date'] = round(repayments['repayment_amount_by_rllvr_date'] / repayments['principal_disbursed'], 4)\n",
    "repayments['repayment_rate_by_dpd30'] = round(repayments['repayment_amount_by_dpd30'] / repayments['principal_disbursed'], 4)\n",
    "\n",
    "repayments.head(3)"
   ]
  },
  {
   "cell_type": "code",
   "execution_count": 10,
   "metadata": {
    "tags": []
   },
   "outputs": [
    {
     "data": {
      "text/html": [
       "<div>\n",
       "<style scoped>\n",
       "    .dataframe tbody tr th:only-of-type {\n",
       "        vertical-align: middle;\n",
       "    }\n",
       "\n",
       "    .dataframe tbody tr th {\n",
       "        vertical-align: top;\n",
       "    }\n",
       "\n",
       "    .dataframe thead th {\n",
       "        text-align: right;\n",
       "    }\n",
       "</style>\n",
       "<table border=\"1\" class=\"dataframe\">\n",
       "  <thead>\n",
       "    <tr style=\"text-align: right;\">\n",
       "      <th></th>\n",
       "      <th>store_number</th>\n",
       "      <th>hurdle_rate_by_due_date_mean</th>\n",
       "      <th>hurdle_rate_by_end_rollover_date_mean</th>\n",
       "      <th>hurdle_rate_by_dpd30_mean</th>\n",
       "    </tr>\n",
       "  </thead>\n",
       "  <tbody>\n",
       "    <tr>\n",
       "      <th>0</th>\n",
       "      <td>105295</td>\n",
       "      <td>1.087</td>\n",
       "      <td>1.087</td>\n",
       "      <td>1.087</td>\n",
       "    </tr>\n",
       "    <tr>\n",
       "      <th>1</th>\n",
       "      <td>105570</td>\n",
       "      <td>0.000</td>\n",
       "      <td>0.000</td>\n",
       "      <td>0.000</td>\n",
       "    </tr>\n",
       "    <tr>\n",
       "      <th>2</th>\n",
       "      <td>105652</td>\n",
       "      <td>0.842</td>\n",
       "      <td>0.842</td>\n",
       "      <td>0.969</td>\n",
       "    </tr>\n",
       "  </tbody>\n",
       "</table>\n",
       "</div>"
      ],
      "text/plain": [
       "  store_number  hurdle_rate_by_due_date_mean  hurdle_rate_by_end_rollover_date_mean  hurdle_rate_by_dpd30_mean\n",
       "0       105295                         1.087                                  1.087                      1.087\n",
       "1       105570                         0.000                                  0.000                      0.000\n",
       "2       105652                         0.842                                  0.842                      0.969"
      ]
     },
     "execution_count": 10,
     "metadata": {},
     "output_type": "execute_result"
    }
   ],
   "source": [
    "hurdle_rate_by_due_date = repayments.groupby(['store_number'], as_index=False)['repayment_rate_by_due_date'].mean()\n",
    "hurdle_rate_by_due_date = hurdle_rate_by_due_date.rename(columns={'repayment_rate_by_due_date':'hurdle_rate_by_due_date_mean'})\n",
    "\n",
    "hurdle_rate_by_rllvr_date = repayments.groupby(['store_number'], as_index=False)['repayment_rate_by_rllvr_date'].mean()\n",
    "hurdle_rate_by_rllvr_date = hurdle_rate_by_rllvr_date.rename(columns={'repayment_rate_by_rllvr_date':'hurdle_rate_by_end_rollover_date_mean'})\n",
    "\n",
    "hurdle_rate_by_dpd30 = repayments.groupby(['store_number'], as_index=False)['repayment_rate_by_dpd30'].mean()\n",
    "hurdle_rate_by_dpd30 = hurdle_rate_by_dpd30.rename(columns={'repayment_rate_by_dpd30':'hurdle_rate_by_dpd30_mean'})\n",
    "\n",
    "hurdle_rates_df = pd.merge(hurdle_rate_by_due_date, hurdle_rate_by_rllvr_date, on='store_number', how='outer')\n",
    "hurdle_rates_df = pd.merge(hurdle_rates_df, hurdle_rate_by_dpd30, on='store_number', how='outer')\n",
    "\n",
    "hurdle_rates_df = hurdle_rates_df.fillna(0)\n",
    "\n",
    "hurdle_rates_df.head(3)"
   ]
  },
  {
   "cell_type": "code",
   "execution_count": 11,
   "metadata": {
    "tags": []
   },
   "outputs": [],
   "source": [
    "# current_refresh = pd.read_excel(\"Limits_refresh_summary_20230817_multiple_products.xlsx\")\n",
    "# current_refresh.drop(columns=['Unnamed: 0'], inplace=True)\n",
    "# current_refresh.to_parquet(\"Limits_refresh_summary_20230817_multiple_products.parquet\", index=False)"
   ]
  },
  {
   "cell_type": "code",
   "execution_count": 12,
   "metadata": {
    "tags": []
   },
   "outputs": [
    {
     "data": {
      "text/html": [
       "<div>\n",
       "<style scoped>\n",
       "    .dataframe tbody tr th:only-of-type {\n",
       "        vertical-align: middle;\n",
       "    }\n",
       "\n",
       "    .dataframe tbody tr th {\n",
       "        vertical-align: top;\n",
       "    }\n",
       "\n",
       "    .dataframe thead th {\n",
       "        text-align: right;\n",
       "    }\n",
       "</style>\n",
       "<table border=\"1\" class=\"dataframe\">\n",
       "  <thead>\n",
       "    <tr style=\"text-align: right;\">\n",
       "      <th></th>\n",
       "      <th>mobile_number</th>\n",
       "      <th>store_number</th>\n",
       "      <th>approx_30_days_trx_val</th>\n",
       "      <th>most_recent_trx_date_past_30_days</th>\n",
       "      <th>last_trx_date</th>\n",
       "      <th>expected_trx_days</th>\n",
       "      <th>actual_trx_days</th>\n",
       "      <th>page_active_days</th>\n",
       "      <th>inference_col</th>\n",
       "      <th>days_since_last_trx</th>\n",
       "      <th>transacted_last_5_days</th>\n",
       "      <th>weight_till_recency</th>\n",
       "      <th>national_id</th>\n",
       "      <th>idm_recommendation</th>\n",
       "      <th>idm_limit</th>\n",
       "      <th>is_iprs_validated</th>\n",
       "      <th>is_location_mapped</th>\n",
       "      <th>client_mobile_number</th>\n",
       "      <th>loan_count</th>\n",
       "      <th>loan_status</th>\n",
       "      <th>term_frequency</th>\n",
       "      <th>principal_disbursed</th>\n",
       "      <th>principal_repaid</th>\n",
       "      <th>disbursed_on_date</th>\n",
       "      <th>expected_matured_on_date</th>\n",
       "      <th>closed_on_date</th>\n",
       "      <th>due_date_fixed</th>\n",
       "      <th>days_past_due</th>\n",
       "      <th>bloom_version</th>\n",
       "      <th>loan_repayment_status</th>\n",
       "      <th>src_crdt_score</th>\n",
       "      <th>max_principal_amount</th>\n",
       "      <th>max_loan_disbursement_date</th>\n",
       "      <th>count_good_loans</th>\n",
       "      <th>good_loans_repayment_ratio</th>\n",
       "      <th>num_days_since_last_disbursement</th>\n",
       "      <th>weight_dpd</th>\n",
       "      <th>adjusted_loan_count</th>\n",
       "      <th>repayments_by_dd_vs_principal_mean</th>\n",
       "      <th>due_date_rm_ge_rm_1d</th>\n",
       "      <th>due_date_rm_ge_rm_add_back</th>\n",
       "      <th>repayments_by_erd_vs_principal_mean</th>\n",
       "      <th>rllvr_date_rm_ge_rm_add_back</th>\n",
       "      <th>21_day_graduation_flag</th>\n",
       "      <th>max_global_limit</th>\n",
       "      <th>previous_max_global_limit</th>\n",
       "      <th>max_limit_diff</th>\n",
       "      <th>limit_factor_21</th>\n",
       "      <th>limit_factor_7</th>\n",
       "      <th>limit_factor_1</th>\n",
       "      <th>idm_factor_21</th>\n",
       "      <th>idm_factor_7</th>\n",
       "      <th>idm_factor_1</th>\n",
       "      <th>trading_consistency_bands</th>\n",
       "      <th>loan_count_bands</th>\n",
       "      <th>new_limit_factor_21</th>\n",
       "      <th>new_limit_factor_7</th>\n",
       "      <th>new_limit_factor_1</th>\n",
       "      <th>weight_good_loans_repayment_ratio</th>\n",
       "      <th>weight_consistency</th>\n",
       "      <th>weight_recency</th>\n",
       "      <th>risk_rules_factor</th>\n",
       "      <th>ultimate_factor_21</th>\n",
       "      <th>ultimate_factor_7</th>\n",
       "      <th>ultimate_factor_1</th>\n",
       "      <th>limit_21_day</th>\n",
       "      <th>limit_7_day</th>\n",
       "      <th>limit_1_day</th>\n",
       "      <th>adjusted_21_limit</th>\n",
       "      <th>adjusted_7_limit</th>\n",
       "      <th>adjusted_1_limit</th>\n",
       "      <th>final_21_limit</th>\n",
       "      <th>final_7_limit</th>\n",
       "      <th>final_1_limit</th>\n",
       "      <th>blacklist_flag</th>\n",
       "      <th>total_final_21_limit</th>\n",
       "      <th>previous_21_limit</th>\n",
       "      <th>previous_7_limit</th>\n",
       "      <th>previous_1_limit</th>\n",
       "      <th>opt_in_date</th>\n",
       "      <th>model_version</th>\n",
       "      <th>created_at</th>\n",
       "    </tr>\n",
       "  </thead>\n",
       "  <tbody>\n",
       "    <tr>\n",
       "      <th>0</th>\n",
       "      <td>254723778344</td>\n",
       "      <td>7606765</td>\n",
       "      <td>373123.950</td>\n",
       "      <td>2023-08-15</td>\n",
       "      <td>2023-09-13</td>\n",
       "      <td>30</td>\n",
       "      <td>30</td>\n",
       "      <td>1.000</td>\n",
       "      <td>relax_rules</td>\n",
       "      <td>0.000</td>\n",
       "      <td>Yes</td>\n",
       "      <td>1.000</td>\n",
       "      <td>23908954</td>\n",
       "      <td>Approve</td>\n",
       "      <td>NaN</td>\n",
       "      <td>True</td>\n",
       "      <td>True</td>\n",
       "      <td>254723778344</td>\n",
       "      <td>1</td>\n",
       "      <td>600.000</td>\n",
       "      <td>7.000</td>\n",
       "      <td>30000.000</td>\n",
       "      <td>30000.000</td>\n",
       "      <td>2023-09-04</td>\n",
       "      <td>2023-09-11</td>\n",
       "      <td>2023-09-11</td>\n",
       "      <td>2023-09-11</td>\n",
       "      <td>0.000</td>\n",
       "      <td>2.000</td>\n",
       "      <td>closed_on_time</td>\n",
       "      <td>458.000</td>\n",
       "      <td>30000.000</td>\n",
       "      <td>2023-09-04</td>\n",
       "      <td>1.000</td>\n",
       "      <td>1.000</td>\n",
       "      <td>9.000</td>\n",
       "      <td>1</td>\n",
       "      <td>1</td>\n",
       "      <td>1.031</td>\n",
       "      <td>1</td>\n",
       "      <td>1</td>\n",
       "      <td>NaN</td>\n",
       "      <td>1</td>\n",
       "      <td>pass</td>\n",
       "      <td>93300</td>\n",
       "      <td>30000</td>\n",
       "      <td>63300</td>\n",
       "      <td>0.500</td>\n",
       "      <td>0.170</td>\n",
       "      <td>0.170</td>\n",
       "      <td>1.000</td>\n",
       "      <td>1.000</td>\n",
       "      <td>1.000</td>\n",
       "      <td>Band 7</td>\n",
       "      <td>Band 2</td>\n",
       "      <td>0.250</td>\n",
       "      <td>0.150</td>\n",
       "      <td>0.150</td>\n",
       "      <td>1.000</td>\n",
       "      <td>1.000</td>\n",
       "      <td>1</td>\n",
       "      <td>1.000</td>\n",
       "      <td>0.250</td>\n",
       "      <td>0.150</td>\n",
       "      <td>0.150</td>\n",
       "      <td>93280.988</td>\n",
       "      <td>55968.592</td>\n",
       "      <td>55968.592</td>\n",
       "      <td>93280.988</td>\n",
       "      <td>55968.592</td>\n",
       "      <td>55968.592</td>\n",
       "      <td>93300</td>\n",
       "      <td>45000</td>\n",
       "      <td>0</td>\n",
       "      <td>0</td>\n",
       "      <td>0</td>\n",
       "      <td>0</td>\n",
       "      <td>30000</td>\n",
       "      <td>0</td>\n",
       "      <td>2022-07-07</td>\n",
       "      <td>2023-014[2023-09-01, 2023-09-14]</td>\n",
       "      <td>2023-09-14 10:03:35</td>\n",
       "    </tr>\n",
       "    <tr>\n",
       "      <th>1</th>\n",
       "      <td>254723635919</td>\n",
       "      <td>7051927</td>\n",
       "      <td>51450.000</td>\n",
       "      <td>2023-08-16</td>\n",
       "      <td>2023-09-13</td>\n",
       "      <td>29</td>\n",
       "      <td>28</td>\n",
       "      <td>0.970</td>\n",
       "      <td>relax_rules</td>\n",
       "      <td>0.000</td>\n",
       "      <td>Yes</td>\n",
       "      <td>1.000</td>\n",
       "      <td>23607603</td>\n",
       "      <td>Approve</td>\n",
       "      <td>0.000</td>\n",
       "      <td>True</td>\n",
       "      <td>True</td>\n",
       "      <td>254723635919</td>\n",
       "      <td>3</td>\n",
       "      <td>300.000</td>\n",
       "      <td>7.000</td>\n",
       "      <td>6000.000</td>\n",
       "      <td>3812.800</td>\n",
       "      <td>2023-09-08</td>\n",
       "      <td>2023-09-15</td>\n",
       "      <td>NaT</td>\n",
       "      <td>2023-09-15</td>\n",
       "      <td>-2.000</td>\n",
       "      <td>2.000</td>\n",
       "      <td>current_active</td>\n",
       "      <td>458.000</td>\n",
       "      <td>6000.000</td>\n",
       "      <td>2023-09-08</td>\n",
       "      <td>3.000</td>\n",
       "      <td>1.000</td>\n",
       "      <td>5.000</td>\n",
       "      <td>1</td>\n",
       "      <td>3</td>\n",
       "      <td>1.031</td>\n",
       "      <td>1</td>\n",
       "      <td>1</td>\n",
       "      <td>NaN</td>\n",
       "      <td>1</td>\n",
       "      <td>pass</td>\n",
       "      <td>15500</td>\n",
       "      <td>6200</td>\n",
       "      <td>9300</td>\n",
       "      <td>0.500</td>\n",
       "      <td>0.170</td>\n",
       "      <td>0.170</td>\n",
       "      <td>1.000</td>\n",
       "      <td>1.000</td>\n",
       "      <td>1.000</td>\n",
       "      <td>Band 7</td>\n",
       "      <td>Band 3</td>\n",
       "      <td>0.300</td>\n",
       "      <td>0.175</td>\n",
       "      <td>0.175</td>\n",
       "      <td>1.000</td>\n",
       "      <td>1.000</td>\n",
       "      <td>1</td>\n",
       "      <td>1.000</td>\n",
       "      <td>0.300</td>\n",
       "      <td>0.175</td>\n",
       "      <td>0.150</td>\n",
       "      <td>15435.000</td>\n",
       "      <td>9003.750</td>\n",
       "      <td>7717.500</td>\n",
       "      <td>15435.000</td>\n",
       "      <td>9003.750</td>\n",
       "      <td>7717.500</td>\n",
       "      <td>15500</td>\n",
       "      <td>7800</td>\n",
       "      <td>0</td>\n",
       "      <td>0</td>\n",
       "      <td>0</td>\n",
       "      <td>0</td>\n",
       "      <td>6200</td>\n",
       "      <td>0</td>\n",
       "      <td>2022-08-25</td>\n",
       "      <td>2023-014[2023-09-01, 2023-09-14]</td>\n",
       "      <td>2023-09-14 10:03:35</td>\n",
       "    </tr>\n",
       "  </tbody>\n",
       "</table>\n",
       "</div>"
      ],
      "text/plain": [
       "  mobile_number store_number  approx_30_days_trx_val most_recent_trx_date_past_30_days last_trx_date  expected_trx_days  actual_trx_days  page_active_days inference_col  days_since_last_trx transacted_last_5_days  weight_till_recency national_id idm_recommendation  idm_limit is_iprs_validated is_location_mapped client_mobile_number  loan_count  loan_status  term_frequency  principal_disbursed  principal_repaid disbursed_on_date expected_matured_on_date closed_on_date due_date_fixed  days_past_due  bloom_version loan_repayment_status  src_crdt_score  max_principal_amount max_loan_disbursement_date  count_good_loans  good_loans_repayment_ratio  num_days_since_last_disbursement  weight_dpd  adjusted_loan_count  repayments_by_dd_vs_principal_mean  due_date_rm_ge_rm_1d  due_date_rm_ge_rm_add_back  repayments_by_erd_vs_principal_mean  rllvr_date_rm_ge_rm_add_back 21_day_graduation_flag  max_global_limit  previous_max_global_limit  max_limit_diff  limit_factor_21  limit_factor_7  \\\n",
       "0  254723778344      7606765              373123.950                        2023-08-15    2023-09-13                 30               30             1.000   relax_rules                0.000                    Yes                1.000    23908954            Approve        NaN              True               True         254723778344           1      600.000           7.000            30000.000         30000.000        2023-09-04               2023-09-11     2023-09-11     2023-09-11          0.000          2.000        closed_on_time         458.000             30000.000                 2023-09-04             1.000                       1.000                             9.000           1                    1                               1.031                     1                           1                                  NaN                             1                   pass             93300                      30000           63300            0.500           0.170   \n",
       "1  254723635919      7051927               51450.000                        2023-08-16    2023-09-13                 29               28             0.970   relax_rules                0.000                    Yes                1.000    23607603            Approve      0.000              True               True         254723635919           3      300.000           7.000             6000.000          3812.800        2023-09-08               2023-09-15            NaT     2023-09-15         -2.000          2.000        current_active         458.000              6000.000                 2023-09-08             3.000                       1.000                             5.000           1                    3                               1.031                     1                           1                                  NaN                             1                   pass             15500                       6200            9300            0.500           0.170   \n",
       "\n",
       "   limit_factor_1  idm_factor_21  idm_factor_7  idm_factor_1 trading_consistency_bands loan_count_bands  new_limit_factor_21  new_limit_factor_7  new_limit_factor_1  weight_good_loans_repayment_ratio  weight_consistency  weight_recency  risk_rules_factor  ultimate_factor_21  ultimate_factor_7  ultimate_factor_1  limit_21_day  limit_7_day  limit_1_day  adjusted_21_limit  adjusted_7_limit  adjusted_1_limit  final_21_limit  final_7_limit  final_1_limit  blacklist_flag  total_final_21_limit  previous_21_limit  previous_7_limit  previous_1_limit opt_in_date                     model_version          created_at  \n",
       "0           0.170          1.000         1.000         1.000                    Band 7           Band 2                0.250               0.150               0.150                              1.000               1.000               1              1.000               0.250              0.150              0.150     93280.988    55968.592    55968.592          93280.988         55968.592         55968.592           93300          45000              0               0                     0                  0             30000                 0  2022-07-07  2023-014[2023-09-01, 2023-09-14] 2023-09-14 10:03:35  \n",
       "1           0.170          1.000         1.000         1.000                    Band 7           Band 3                0.300               0.175               0.175                              1.000               1.000               1              1.000               0.300              0.175              0.150     15435.000     9003.750     7717.500          15435.000          9003.750          7717.500           15500           7800              0               0                     0                  0              6200                 0  2022-08-25  2023-014[2023-09-01, 2023-09-14] 2023-09-14 10:03:35  "
      ]
     },
     "execution_count": 12,
     "metadata": {},
     "output_type": "execute_result"
    }
   ],
   "source": [
    "current_refresh = pd.read_parquet(\"Limits_refresh_summary_20230914_multiple_products.parquet\")\n",
    "\n",
    "del current_refresh['hurdle_rate_by_due_date_mean']\n",
    "del current_refresh['hurdle_rate_by_end_rollover_date_mean']\n",
    "del current_refresh['hurdle_rate_by_dpd30_mean']\n",
    "\n",
    "current_refresh['store_number'] = current_refresh['store_number'].astype(str)\n",
    "\n",
    "current_refresh.head(2)"
   ]
  },
  {
   "cell_type": "code",
   "execution_count": 13,
   "metadata": {
    "tags": []
   },
   "outputs": [
    {
     "data": {
      "text/html": [
       "<div>\n",
       "<style scoped>\n",
       "    .dataframe tbody tr th:only-of-type {\n",
       "        vertical-align: middle;\n",
       "    }\n",
       "\n",
       "    .dataframe tbody tr th {\n",
       "        vertical-align: top;\n",
       "    }\n",
       "\n",
       "    .dataframe thead th {\n",
       "        text-align: right;\n",
       "    }\n",
       "</style>\n",
       "<table border=\"1\" class=\"dataframe\">\n",
       "  <thead>\n",
       "    <tr style=\"text-align: right;\">\n",
       "      <th></th>\n",
       "      <th>mobile_number</th>\n",
       "      <th>store_number</th>\n",
       "      <th>approx_30_days_trx_val</th>\n",
       "      <th>most_recent_trx_date_past_30_days</th>\n",
       "      <th>last_trx_date</th>\n",
       "      <th>expected_trx_days</th>\n",
       "      <th>actual_trx_days</th>\n",
       "      <th>page_active_days</th>\n",
       "      <th>inference_col</th>\n",
       "      <th>days_since_last_trx</th>\n",
       "      <th>transacted_last_5_days</th>\n",
       "      <th>weight_till_recency</th>\n",
       "      <th>national_id</th>\n",
       "      <th>idm_recommendation</th>\n",
       "      <th>idm_limit</th>\n",
       "      <th>is_iprs_validated</th>\n",
       "      <th>is_location_mapped</th>\n",
       "      <th>client_mobile_number</th>\n",
       "      <th>loan_count</th>\n",
       "      <th>loan_status</th>\n",
       "      <th>term_frequency</th>\n",
       "      <th>principal_disbursed</th>\n",
       "      <th>principal_repaid</th>\n",
       "      <th>disbursed_on_date</th>\n",
       "      <th>expected_matured_on_date</th>\n",
       "      <th>closed_on_date</th>\n",
       "      <th>due_date_fixed</th>\n",
       "      <th>days_past_due</th>\n",
       "      <th>bloom_version</th>\n",
       "      <th>loan_repayment_status</th>\n",
       "      <th>src_crdt_score</th>\n",
       "      <th>max_principal_amount</th>\n",
       "      <th>max_loan_disbursement_date</th>\n",
       "      <th>count_good_loans</th>\n",
       "      <th>good_loans_repayment_ratio</th>\n",
       "      <th>num_days_since_last_disbursement</th>\n",
       "      <th>weight_dpd</th>\n",
       "      <th>adjusted_loan_count</th>\n",
       "      <th>repayments_by_dd_vs_principal_mean</th>\n",
       "      <th>due_date_rm_ge_rm_1d</th>\n",
       "      <th>due_date_rm_ge_rm_add_back</th>\n",
       "      <th>repayments_by_erd_vs_principal_mean</th>\n",
       "      <th>rllvr_date_rm_ge_rm_add_back</th>\n",
       "      <th>21_day_graduation_flag</th>\n",
       "      <th>max_global_limit</th>\n",
       "      <th>previous_max_global_limit</th>\n",
       "      <th>max_limit_diff</th>\n",
       "      <th>limit_factor_21</th>\n",
       "      <th>limit_factor_7</th>\n",
       "      <th>limit_factor_1</th>\n",
       "      <th>idm_factor_21</th>\n",
       "      <th>idm_factor_7</th>\n",
       "      <th>idm_factor_1</th>\n",
       "      <th>trading_consistency_bands</th>\n",
       "      <th>loan_count_bands</th>\n",
       "      <th>new_limit_factor_21</th>\n",
       "      <th>new_limit_factor_7</th>\n",
       "      <th>new_limit_factor_1</th>\n",
       "      <th>weight_good_loans_repayment_ratio</th>\n",
       "      <th>weight_consistency</th>\n",
       "      <th>weight_recency</th>\n",
       "      <th>risk_rules_factor</th>\n",
       "      <th>ultimate_factor_21</th>\n",
       "      <th>ultimate_factor_7</th>\n",
       "      <th>ultimate_factor_1</th>\n",
       "      <th>limit_21_day</th>\n",
       "      <th>limit_7_day</th>\n",
       "      <th>limit_1_day</th>\n",
       "      <th>adjusted_21_limit</th>\n",
       "      <th>adjusted_7_limit</th>\n",
       "      <th>adjusted_1_limit</th>\n",
       "      <th>final_21_limit</th>\n",
       "      <th>final_7_limit</th>\n",
       "      <th>final_1_limit</th>\n",
       "      <th>blacklist_flag</th>\n",
       "      <th>total_final_21_limit</th>\n",
       "      <th>previous_21_limit</th>\n",
       "      <th>previous_7_limit</th>\n",
       "      <th>previous_1_limit</th>\n",
       "      <th>opt_in_date</th>\n",
       "      <th>model_version</th>\n",
       "      <th>created_at</th>\n",
       "      <th>hurdle_rate_by_due_date_mean</th>\n",
       "      <th>hurdle_rate_by_end_rollover_date_mean</th>\n",
       "      <th>hurdle_rate_by_dpd30_mean</th>\n",
       "    </tr>\n",
       "  </thead>\n",
       "  <tbody>\n",
       "    <tr>\n",
       "      <th>0</th>\n",
       "      <td>254723778344</td>\n",
       "      <td>7606765</td>\n",
       "      <td>373123.950</td>\n",
       "      <td>2023-08-15</td>\n",
       "      <td>2023-09-13</td>\n",
       "      <td>30</td>\n",
       "      <td>30</td>\n",
       "      <td>1.000</td>\n",
       "      <td>relax_rules</td>\n",
       "      <td>0.000</td>\n",
       "      <td>Yes</td>\n",
       "      <td>1.000</td>\n",
       "      <td>23908954</td>\n",
       "      <td>Approve</td>\n",
       "      <td>NaN</td>\n",
       "      <td>True</td>\n",
       "      <td>True</td>\n",
       "      <td>254723778344</td>\n",
       "      <td>1</td>\n",
       "      <td>600.000</td>\n",
       "      <td>7.000</td>\n",
       "      <td>30000.000</td>\n",
       "      <td>30000.000</td>\n",
       "      <td>2023-09-04</td>\n",
       "      <td>2023-09-11</td>\n",
       "      <td>2023-09-11</td>\n",
       "      <td>2023-09-11</td>\n",
       "      <td>0.000</td>\n",
       "      <td>2.000</td>\n",
       "      <td>closed_on_time</td>\n",
       "      <td>458.000</td>\n",
       "      <td>30000.000</td>\n",
       "      <td>2023-09-04</td>\n",
       "      <td>1.000</td>\n",
       "      <td>1.000</td>\n",
       "      <td>9.000</td>\n",
       "      <td>1</td>\n",
       "      <td>1</td>\n",
       "      <td>1.031</td>\n",
       "      <td>1</td>\n",
       "      <td>1</td>\n",
       "      <td>NaN</td>\n",
       "      <td>1</td>\n",
       "      <td>pass</td>\n",
       "      <td>93300</td>\n",
       "      <td>30000</td>\n",
       "      <td>63300</td>\n",
       "      <td>0.500</td>\n",
       "      <td>0.170</td>\n",
       "      <td>0.170</td>\n",
       "      <td>1.000</td>\n",
       "      <td>1.000</td>\n",
       "      <td>1.000</td>\n",
       "      <td>Band 7</td>\n",
       "      <td>Band 2</td>\n",
       "      <td>0.250</td>\n",
       "      <td>0.150</td>\n",
       "      <td>0.150</td>\n",
       "      <td>1.000</td>\n",
       "      <td>1.000</td>\n",
       "      <td>1</td>\n",
       "      <td>1.000</td>\n",
       "      <td>0.250</td>\n",
       "      <td>0.150</td>\n",
       "      <td>0.150</td>\n",
       "      <td>93280.988</td>\n",
       "      <td>55968.592</td>\n",
       "      <td>55968.592</td>\n",
       "      <td>93280.988</td>\n",
       "      <td>55968.592</td>\n",
       "      <td>55968.592</td>\n",
       "      <td>93300</td>\n",
       "      <td>45000</td>\n",
       "      <td>0</td>\n",
       "      <td>0</td>\n",
       "      <td>0</td>\n",
       "      <td>0</td>\n",
       "      <td>30000</td>\n",
       "      <td>0</td>\n",
       "      <td>2022-07-07</td>\n",
       "      <td>2023-014[2023-09-01, 2023-09-14]</td>\n",
       "      <td>2023-09-14 10:03:35</td>\n",
       "      <td>NaN</td>\n",
       "      <td>NaN</td>\n",
       "      <td>NaN</td>\n",
       "    </tr>\n",
       "    <tr>\n",
       "      <th>1</th>\n",
       "      <td>254723635919</td>\n",
       "      <td>7051927</td>\n",
       "      <td>51450.000</td>\n",
       "      <td>2023-08-16</td>\n",
       "      <td>2023-09-13</td>\n",
       "      <td>29</td>\n",
       "      <td>28</td>\n",
       "      <td>0.970</td>\n",
       "      <td>relax_rules</td>\n",
       "      <td>0.000</td>\n",
       "      <td>Yes</td>\n",
       "      <td>1.000</td>\n",
       "      <td>23607603</td>\n",
       "      <td>Approve</td>\n",
       "      <td>0.000</td>\n",
       "      <td>True</td>\n",
       "      <td>True</td>\n",
       "      <td>254723635919</td>\n",
       "      <td>3</td>\n",
       "      <td>300.000</td>\n",
       "      <td>7.000</td>\n",
       "      <td>6000.000</td>\n",
       "      <td>3812.800</td>\n",
       "      <td>2023-09-08</td>\n",
       "      <td>2023-09-15</td>\n",
       "      <td>NaT</td>\n",
       "      <td>2023-09-15</td>\n",
       "      <td>-2.000</td>\n",
       "      <td>2.000</td>\n",
       "      <td>current_active</td>\n",
       "      <td>458.000</td>\n",
       "      <td>6000.000</td>\n",
       "      <td>2023-09-08</td>\n",
       "      <td>3.000</td>\n",
       "      <td>1.000</td>\n",
       "      <td>5.000</td>\n",
       "      <td>1</td>\n",
       "      <td>3</td>\n",
       "      <td>1.031</td>\n",
       "      <td>1</td>\n",
       "      <td>1</td>\n",
       "      <td>NaN</td>\n",
       "      <td>1</td>\n",
       "      <td>pass</td>\n",
       "      <td>15500</td>\n",
       "      <td>6200</td>\n",
       "      <td>9300</td>\n",
       "      <td>0.500</td>\n",
       "      <td>0.170</td>\n",
       "      <td>0.170</td>\n",
       "      <td>1.000</td>\n",
       "      <td>1.000</td>\n",
       "      <td>1.000</td>\n",
       "      <td>Band 7</td>\n",
       "      <td>Band 3</td>\n",
       "      <td>0.300</td>\n",
       "      <td>0.175</td>\n",
       "      <td>0.175</td>\n",
       "      <td>1.000</td>\n",
       "      <td>1.000</td>\n",
       "      <td>1</td>\n",
       "      <td>1.000</td>\n",
       "      <td>0.300</td>\n",
       "      <td>0.175</td>\n",
       "      <td>0.150</td>\n",
       "      <td>15435.000</td>\n",
       "      <td>9003.750</td>\n",
       "      <td>7717.500</td>\n",
       "      <td>15435.000</td>\n",
       "      <td>9003.750</td>\n",
       "      <td>7717.500</td>\n",
       "      <td>15500</td>\n",
       "      <td>7800</td>\n",
       "      <td>0</td>\n",
       "      <td>0</td>\n",
       "      <td>0</td>\n",
       "      <td>0</td>\n",
       "      <td>6200</td>\n",
       "      <td>0</td>\n",
       "      <td>2022-08-25</td>\n",
       "      <td>2023-014[2023-09-01, 2023-09-14]</td>\n",
       "      <td>2023-09-14 10:03:35</td>\n",
       "      <td>1.031</td>\n",
       "      <td>1.031</td>\n",
       "      <td>1.031</td>\n",
       "    </tr>\n",
       "  </tbody>\n",
       "</table>\n",
       "</div>"
      ],
      "text/plain": [
       "  mobile_number store_number  approx_30_days_trx_val most_recent_trx_date_past_30_days last_trx_date  expected_trx_days  actual_trx_days  page_active_days inference_col  days_since_last_trx transacted_last_5_days  weight_till_recency national_id idm_recommendation  idm_limit is_iprs_validated is_location_mapped client_mobile_number  loan_count  loan_status  term_frequency  principal_disbursed  principal_repaid disbursed_on_date expected_matured_on_date closed_on_date due_date_fixed  days_past_due  bloom_version loan_repayment_status  src_crdt_score  max_principal_amount max_loan_disbursement_date  count_good_loans  good_loans_repayment_ratio  num_days_since_last_disbursement  weight_dpd  adjusted_loan_count  repayments_by_dd_vs_principal_mean  due_date_rm_ge_rm_1d  due_date_rm_ge_rm_add_back  repayments_by_erd_vs_principal_mean  rllvr_date_rm_ge_rm_add_back 21_day_graduation_flag  max_global_limit  previous_max_global_limit  max_limit_diff  limit_factor_21  limit_factor_7  \\\n",
       "0  254723778344      7606765              373123.950                        2023-08-15    2023-09-13                 30               30             1.000   relax_rules                0.000                    Yes                1.000    23908954            Approve        NaN              True               True         254723778344           1      600.000           7.000            30000.000         30000.000        2023-09-04               2023-09-11     2023-09-11     2023-09-11          0.000          2.000        closed_on_time         458.000             30000.000                 2023-09-04             1.000                       1.000                             9.000           1                    1                               1.031                     1                           1                                  NaN                             1                   pass             93300                      30000           63300            0.500           0.170   \n",
       "1  254723635919      7051927               51450.000                        2023-08-16    2023-09-13                 29               28             0.970   relax_rules                0.000                    Yes                1.000    23607603            Approve      0.000              True               True         254723635919           3      300.000           7.000             6000.000          3812.800        2023-09-08               2023-09-15            NaT     2023-09-15         -2.000          2.000        current_active         458.000              6000.000                 2023-09-08             3.000                       1.000                             5.000           1                    3                               1.031                     1                           1                                  NaN                             1                   pass             15500                       6200            9300            0.500           0.170   \n",
       "\n",
       "   limit_factor_1  idm_factor_21  idm_factor_7  idm_factor_1 trading_consistency_bands loan_count_bands  new_limit_factor_21  new_limit_factor_7  new_limit_factor_1  weight_good_loans_repayment_ratio  weight_consistency  weight_recency  risk_rules_factor  ultimate_factor_21  ultimate_factor_7  ultimate_factor_1  limit_21_day  limit_7_day  limit_1_day  adjusted_21_limit  adjusted_7_limit  adjusted_1_limit  final_21_limit  final_7_limit  final_1_limit  blacklist_flag  total_final_21_limit  previous_21_limit  previous_7_limit  previous_1_limit opt_in_date                     model_version          created_at  hurdle_rate_by_due_date_mean  hurdle_rate_by_end_rollover_date_mean  hurdle_rate_by_dpd30_mean  \n",
       "0           0.170          1.000         1.000         1.000                    Band 7           Band 2                0.250               0.150               0.150                              1.000               1.000               1              1.000               0.250              0.150              0.150     93280.988    55968.592    55968.592          93280.988         55968.592         55968.592           93300          45000              0               0                     0                  0             30000                 0  2022-07-07  2023-014[2023-09-01, 2023-09-14] 2023-09-14 10:03:35                           NaN                                    NaN                        NaN  \n",
       "1           0.170          1.000         1.000         1.000                    Band 7           Band 3                0.300               0.175               0.175                              1.000               1.000               1              1.000               0.300              0.175              0.150     15435.000     9003.750     7717.500          15435.000          9003.750          7717.500           15500           7800              0               0                     0                  0              6200                 0  2022-08-25  2023-014[2023-09-01, 2023-09-14] 2023-09-14 10:03:35                         1.031                                  1.031                      1.031  "
      ]
     },
     "execution_count": 13,
     "metadata": {},
     "output_type": "execute_result"
    }
   ],
   "source": [
    "current_refresh = pd.merge(current_refresh, hurdle_rates_df, on='store_number', how='left')\n",
    "\n",
    "current_refresh.head(2)"
   ]
  },
  {
   "cell_type": "code",
   "execution_count": 14,
   "metadata": {
    "tags": []
   },
   "outputs": [],
   "source": [
    "##############################\n",
    "current_refresh['days_since_last_trx'] = current_refresh['days_since_last_trx'].fillna(31)"
   ]
  },
  {
   "cell_type": "code",
   "execution_count": 15,
   "metadata": {
    "tags": []
   },
   "outputs": [
    {
     "data": {
      "text/plain": [
       "final_21_limit    224807200\n",
       "final_7_limit     189116700\n",
       "final_1_limit             0\n",
       "dtype: int64"
      ]
     },
     "execution_count": 15,
     "metadata": {},
     "output_type": "execute_result"
    }
   ],
   "source": [
    "current_refresh[['final_21_limit', 'final_7_limit', 'final_1_limit']].sum()"
   ]
  },
  {
   "cell_type": "code",
   "execution_count": 16,
   "metadata": {
    "tags": []
   },
   "outputs": [
    {
     "data": {
      "text/html": [
       "<div>\n",
       "<style scoped>\n",
       "    .dataframe tbody tr th:only-of-type {\n",
       "        vertical-align: middle;\n",
       "    }\n",
       "\n",
       "    .dataframe tbody tr th {\n",
       "        vertical-align: top;\n",
       "    }\n",
       "\n",
       "    .dataframe thead th {\n",
       "        text-align: right;\n",
       "    }\n",
       "</style>\n",
       "<table border=\"1\" class=\"dataframe\">\n",
       "  <thead>\n",
       "    <tr style=\"text-align: right;\">\n",
       "      <th></th>\n",
       "      <th>store_number</th>\n",
       "      <th>approx_30_days_trx_val</th>\n",
       "      <th>expected_trx_days</th>\n",
       "      <th>actual_trx_days</th>\n",
       "      <th>page_active_days</th>\n",
       "      <th>days_since_last_trx</th>\n",
       "      <th>weight_consistency</th>\n",
       "      <th>weight_recency</th>\n",
       "      <th>hurdle_rate_by_dpd30_mean</th>\n",
       "    </tr>\n",
       "  </thead>\n",
       "  <tbody>\n",
       "    <tr>\n",
       "      <th>0</th>\n",
       "      <td>7606765</td>\n",
       "      <td>373123.950</td>\n",
       "      <td>30</td>\n",
       "      <td>30</td>\n",
       "      <td>1.000</td>\n",
       "      <td>0.000</td>\n",
       "      <td>1.000</td>\n",
       "      <td>1</td>\n",
       "      <td>NaN</td>\n",
       "    </tr>\n",
       "    <tr>\n",
       "      <th>1</th>\n",
       "      <td>7051927</td>\n",
       "      <td>51450.000</td>\n",
       "      <td>29</td>\n",
       "      <td>28</td>\n",
       "      <td>0.970</td>\n",
       "      <td>0.000</td>\n",
       "      <td>1.000</td>\n",
       "      <td>1</td>\n",
       "      <td>1.031</td>\n",
       "    </tr>\n",
       "  </tbody>\n",
       "</table>\n",
       "</div>"
      ],
      "text/plain": [
       "  store_number  approx_30_days_trx_val  expected_trx_days  actual_trx_days  page_active_days  days_since_last_trx  weight_consistency  weight_recency  hurdle_rate_by_dpd30_mean\n",
       "0      7606765              373123.950                 30               30             1.000                0.000               1.000               1                        NaN\n",
       "1      7051927               51450.000                 29               28             0.970                0.000               1.000               1                      1.031"
      ]
     },
     "execution_count": 16,
     "metadata": {},
     "output_type": "execute_result"
    }
   ],
   "source": [
    "# selected_columns = current_refresh[[\"store_number\", \"approx_30_days_trx_val\", \"expected_trx_days\", \"actual_trx_days\", \"page_active_days\", \"days_since_last_trx\", \"weight_consistency\", \"weight_recency\", \"hurdle_rate_by_due_date_mean\", \"hurdle_rate_by_end_rollover_date_mean\", \"hurdle_rate_by_dpd30_mean\"]]\n",
    "selected_columns = current_refresh[[\"store_number\", \"approx_30_days_trx_val\", \"expected_trx_days\", \"actual_trx_days\", \"page_active_days\", \"days_since_last_trx\", \"weight_consistency\", \"weight_recency\", \"hurdle_rate_by_dpd30_mean\"]]\n",
    "\n",
    "selected_columns.head(2)"
   ]
  },
  {
   "cell_type": "code",
   "execution_count": 17,
   "metadata": {},
   "outputs": [
    {
     "data": {
      "text/plain": [
       "(66244, 9)"
      ]
     },
     "execution_count": 17,
     "metadata": {},
     "output_type": "execute_result"
    }
   ],
   "source": [
    "selected_columns.shape"
   ]
  },
  {
   "cell_type": "code",
   "execution_count": 18,
   "metadata": {
    "tags": []
   },
   "outputs": [
    {
     "name": "stdout",
     "output_type": "stream",
     "text": [
      "(34162, 9)\n",
      "(32082, 9)\n"
     ]
    }
   ],
   "source": [
    "without_performance_data = selected_columns[selected_columns['hurdle_rate_by_dpd30_mean'].isnull()].reset_index(drop=True)\n",
    "print(without_performance_data.shape)\n",
    "with_performance_data = selected_columns[selected_columns['hurdle_rate_by_dpd30_mean'].notnull()].reset_index(drop=True)\n",
    "print(with_performance_data.shape)"
   ]
  },
  {
   "cell_type": "code",
   "execution_count": 19,
   "metadata": {
    "tags": []
   },
   "outputs": [
    {
     "data": {
      "text/plain": [
       "(11717, 9)"
      ]
     },
     "execution_count": 19,
     "metadata": {},
     "output_type": "execute_result"
    }
   ],
   "source": [
    "with_performance_data[with_performance_data['hurdle_rate_by_dpd30_mean'] >= 1.03].shape"
   ]
  },
  {
   "cell_type": "code",
   "execution_count": 20,
   "metadata": {},
   "outputs": [
    {
     "data": {
      "text/plain": [
       "36.481516114955426"
      ]
     },
     "execution_count": 20,
     "metadata": {},
     "output_type": "execute_result"
    }
   ],
   "source": [
    "(11704/32082) * 100"
   ]
  },
  {
   "cell_type": "code",
   "execution_count": 21,
   "metadata": {
    "tags": []
   },
   "outputs": [],
   "source": [
    "summaries = with_performance_data.copy()"
   ]
  },
  {
   "cell_type": "code",
   "execution_count": 22,
   "metadata": {},
   "outputs": [],
   "source": [
    "# Assuming 'X' contains your independent variables (excluding the unique identifier) and 'y' contains the target variable\n",
    "X_with_performance_data = with_performance_data.drop(['hurdle_rate_by_dpd30_mean', 'store_number'], axis=1)\n",
    "y_with_performance_data = with_performance_data['hurdle_rate_by_dpd30_mean']"
   ]
  },
  {
   "cell_type": "code",
   "execution_count": 23,
   "metadata": {},
   "outputs": [],
   "source": [
    "# Split the dataset into a training set and a test set (adjust the test_size as needed)\n",
    "X_train_with_performance_data, X_test_with_performance_data, y_train_with_performance_data, y_test_with_performance_data = train_test_split(X_with_performance_data, y_with_performance_data, test_size=0.2, random_state=42)"
   ]
  },
  {
   "cell_type": "code",
   "execution_count": 35,
   "metadata": {},
   "outputs": [
    {
     "data": {
      "text/plain": [
       "Index(['approx_30_days_trx_val', 'expected_trx_days', 'actual_trx_days', 'page_active_days', 'days_since_last_trx', 'weight_consistency', 'weight_recency'], dtype='object')"
      ]
     },
     "execution_count": 35,
     "metadata": {},
     "output_type": "execute_result"
    }
   ],
   "source": [
    "X_train_with_performance_data.columns"
   ]
  },
  {
   "cell_type": "code",
   "execution_count": 24,
   "metadata": {},
   "outputs": [],
   "source": [
    "# Create a StandardScaler to scale the features\n",
    "scaler = StandardScaler()\n",
    "\n",
    "# Fit the scaler on the training data and transform both the training and test data\n",
    "X_train_scaled_with_performance_data = scaler.fit_transform(X_train_with_performance_data)\n",
    "X_test_scaled_with_performance_data = scaler.transform(X_test_with_performance_data)"
   ]
  },
  {
   "cell_type": "code",
   "execution_count": 25,
   "metadata": {},
   "outputs": [],
   "source": [
    "with open(\"scaler_model.pkl\", \"wb\") as f:\n",
    "    pickle.dump(scaler, f)"
   ]
  },
  {
   "cell_type": "code",
   "execution_count": 26,
   "metadata": {},
   "outputs": [
    {
     "data": {
      "text/html": [
       "<style>#sk-container-id-1 {color: black;}#sk-container-id-1 pre{padding: 0;}#sk-container-id-1 div.sk-toggleable {background-color: white;}#sk-container-id-1 label.sk-toggleable__label {cursor: pointer;display: block;width: 100%;margin-bottom: 0;padding: 0.3em;box-sizing: border-box;text-align: center;}#sk-container-id-1 label.sk-toggleable__label-arrow:before {content: \"▸\";float: left;margin-right: 0.25em;color: #696969;}#sk-container-id-1 label.sk-toggleable__label-arrow:hover:before {color: black;}#sk-container-id-1 div.sk-estimator:hover label.sk-toggleable__label-arrow:before {color: black;}#sk-container-id-1 div.sk-toggleable__content {max-height: 0;max-width: 0;overflow: hidden;text-align: left;background-color: #f0f8ff;}#sk-container-id-1 div.sk-toggleable__content pre {margin: 0.2em;color: black;border-radius: 0.25em;background-color: #f0f8ff;}#sk-container-id-1 input.sk-toggleable__control:checked~div.sk-toggleable__content {max-height: 200px;max-width: 100%;overflow: auto;}#sk-container-id-1 input.sk-toggleable__control:checked~label.sk-toggleable__label-arrow:before {content: \"▾\";}#sk-container-id-1 div.sk-estimator input.sk-toggleable__control:checked~label.sk-toggleable__label {background-color: #d4ebff;}#sk-container-id-1 div.sk-label input.sk-toggleable__control:checked~label.sk-toggleable__label {background-color: #d4ebff;}#sk-container-id-1 input.sk-hidden--visually {border: 0;clip: rect(1px 1px 1px 1px);clip: rect(1px, 1px, 1px, 1px);height: 1px;margin: -1px;overflow: hidden;padding: 0;position: absolute;width: 1px;}#sk-container-id-1 div.sk-estimator {font-family: monospace;background-color: #f0f8ff;border: 1px dotted black;border-radius: 0.25em;box-sizing: border-box;margin-bottom: 0.5em;}#sk-container-id-1 div.sk-estimator:hover {background-color: #d4ebff;}#sk-container-id-1 div.sk-parallel-item::after {content: \"\";width: 100%;border-bottom: 1px solid gray;flex-grow: 1;}#sk-container-id-1 div.sk-label:hover label.sk-toggleable__label {background-color: #d4ebff;}#sk-container-id-1 div.sk-serial::before {content: \"\";position: absolute;border-left: 1px solid gray;box-sizing: border-box;top: 0;bottom: 0;left: 50%;z-index: 0;}#sk-container-id-1 div.sk-serial {display: flex;flex-direction: column;align-items: center;background-color: white;padding-right: 0.2em;padding-left: 0.2em;position: relative;}#sk-container-id-1 div.sk-item {position: relative;z-index: 1;}#sk-container-id-1 div.sk-parallel {display: flex;align-items: stretch;justify-content: center;background-color: white;position: relative;}#sk-container-id-1 div.sk-item::before, #sk-container-id-1 div.sk-parallel-item::before {content: \"\";position: absolute;border-left: 1px solid gray;box-sizing: border-box;top: 0;bottom: 0;left: 50%;z-index: -1;}#sk-container-id-1 div.sk-parallel-item {display: flex;flex-direction: column;z-index: 1;position: relative;background-color: white;}#sk-container-id-1 div.sk-parallel-item:first-child::after {align-self: flex-end;width: 50%;}#sk-container-id-1 div.sk-parallel-item:last-child::after {align-self: flex-start;width: 50%;}#sk-container-id-1 div.sk-parallel-item:only-child::after {width: 0;}#sk-container-id-1 div.sk-dashed-wrapped {border: 1px dashed gray;margin: 0 0.4em 0.5em 0.4em;box-sizing: border-box;padding-bottom: 0.4em;background-color: white;}#sk-container-id-1 div.sk-label label {font-family: monospace;font-weight: bold;display: inline-block;line-height: 1.2em;}#sk-container-id-1 div.sk-label-container {text-align: center;}#sk-container-id-1 div.sk-container {/* jupyter's `normalize.less` sets `[hidden] { display: none; }` but bootstrap.min.css set `[hidden] { display: none !important; }` so we also need the `!important` here to be able to override the default hidden behavior on the sphinx rendered scikit-learn.org. See: https://github.com/scikit-learn/scikit-learn/issues/21755 */display: inline-block !important;position: relative;}#sk-container-id-1 div.sk-text-repr-fallback {display: none;}</style><div id=\"sk-container-id-1\" class=\"sk-top-container\"><div class=\"sk-text-repr-fallback\"><pre>XGBRegressor(base_score=None, booster=None, callbacks=None,\n",
       "             colsample_bylevel=None, colsample_bynode=None,\n",
       "             colsample_bytree=None, device=None, early_stopping_rounds=None,\n",
       "             enable_categorical=False, eval_metric=None, feature_types=None,\n",
       "             gamma=None, grow_policy=None, importance_type=None,\n",
       "             interaction_constraints=None, learning_rate=0.1, max_bin=None,\n",
       "             max_cat_threshold=None, max_cat_to_onehot=None,\n",
       "             max_delta_step=None, max_depth=7, max_leaves=None,\n",
       "             min_child_weight=None, missing=nan, monotone_constraints=None,\n",
       "             multi_strategy=None, n_estimators=500, n_jobs=None,\n",
       "             num_parallel_tree=None, random_state=42, ...)</pre><b>In a Jupyter environment, please rerun this cell to show the HTML representation or trust the notebook. <br />On GitHub, the HTML representation is unable to render, please try loading this page with nbviewer.org.</b></div><div class=\"sk-container\" hidden><div class=\"sk-item\"><div class=\"sk-estimator sk-toggleable\"><input class=\"sk-toggleable__control sk-hidden--visually\" id=\"sk-estimator-id-1\" type=\"checkbox\" checked><label for=\"sk-estimator-id-1\" class=\"sk-toggleable__label sk-toggleable__label-arrow\">XGBRegressor</label><div class=\"sk-toggleable__content\"><pre>XGBRegressor(base_score=None, booster=None, callbacks=None,\n",
       "             colsample_bylevel=None, colsample_bynode=None,\n",
       "             colsample_bytree=None, device=None, early_stopping_rounds=None,\n",
       "             enable_categorical=False, eval_metric=None, feature_types=None,\n",
       "             gamma=None, grow_policy=None, importance_type=None,\n",
       "             interaction_constraints=None, learning_rate=0.1, max_bin=None,\n",
       "             max_cat_threshold=None, max_cat_to_onehot=None,\n",
       "             max_delta_step=None, max_depth=7, max_leaves=None,\n",
       "             min_child_weight=None, missing=nan, monotone_constraints=None,\n",
       "             multi_strategy=None, n_estimators=500, n_jobs=None,\n",
       "             num_parallel_tree=None, random_state=42, ...)</pre></div></div></div></div></div>"
      ],
      "text/plain": [
       "XGBRegressor(base_score=None, booster=None, callbacks=None,\n",
       "             colsample_bylevel=None, colsample_bynode=None,\n",
       "             colsample_bytree=None, device=None, early_stopping_rounds=None,\n",
       "             enable_categorical=False, eval_metric=None, feature_types=None,\n",
       "             gamma=None, grow_policy=None, importance_type=None,\n",
       "             interaction_constraints=None, learning_rate=0.1, max_bin=None,\n",
       "             max_cat_threshold=None, max_cat_to_onehot=None,\n",
       "             max_delta_step=None, max_depth=7, max_leaves=None,\n",
       "             min_child_weight=None, missing=nan, monotone_constraints=None,\n",
       "             multi_strategy=None, n_estimators=500, n_jobs=None,\n",
       "             num_parallel_tree=None, random_state=42, ...)"
      ]
     },
     "execution_count": 26,
     "metadata": {},
     "output_type": "execute_result"
    }
   ],
   "source": [
    "# Create a Linear Regression model\n",
    "# model = LinearRegression()\n",
    "\n",
    "# Create a Random Forest Regression model\n",
    "# model = RandomForestRegressor(n_estimators=500, max_depth=3, random_state=42)\n",
    "\n",
    "# # Create an XGBoost Regressor model\n",
    "model = xgb.XGBRegressor(\n",
    "    n_estimators=500,          # Number of boosting rounds (trees)\n",
    "    learning_rate=0.1,         # Step size shrinkage to prevent overfitting\n",
    "    max_depth=7,               # Maximum depth of individual trees\n",
    "    random_state=42\n",
    ")\n",
    "\n",
    "# Create an SVR model\n",
    "# model = SVR(kernel='rbf', C=20)\n",
    "\n",
    "# Fit the model on the training data\n",
    "model.fit(X_train_scaled_with_performance_data, y_train_with_performance_data)"
   ]
  },
  {
   "cell_type": "code",
   "execution_count": 27,
   "metadata": {},
   "outputs": [],
   "source": [
    "with open(\"regression_model.pkl\", \"wb\") as f:\n",
    "    pickle.dump(model, f)"
   ]
  },
  {
   "cell_type": "code",
   "execution_count": 28,
   "metadata": {},
   "outputs": [],
   "source": [
    "# Make predictions on the test data\n",
    "y_pred_with_performance_data = model.predict(X_test_scaled_with_performance_data)"
   ]
  },
  {
   "cell_type": "code",
   "execution_count": 29,
   "metadata": {},
   "outputs": [
    {
     "name": "stdout",
     "output_type": "stream",
     "text": [
      "Mean Squared Error: 0.13400684282255024\n",
      "R-squared: -0.036550564638229366\n",
      "Adjusted R-squared: -0.037682699753296856\n",
      "Mean Absolute Error: 0.28005485749764575\n"
     ]
    }
   ],
   "source": [
    "# Evaluate the model\n",
    "mse = mean_squared_error(y_test_with_performance_data, y_pred_with_performance_data)\n",
    "r2 = r2_score(y_test_with_performance_data, y_pred_with_performance_data)\n",
    "mae = mean_absolute_error(y_test_with_performance_data, y_pred_with_performance_data)\n",
    "\n",
    "# Calculate Adjusted R-squared\n",
    "n = X_test_scaled_with_performance_data.shape[0]  # Number of samples\n",
    "p = X_test_scaled_with_performance_data.shape[1]  # Number of predictors (features)\n",
    "adjusted_r2 = 1 - (1 - r2) * (n - 1) / (n - p - 1)\n",
    "\n",
    "# Print the evaluation metrics\n",
    "print(\"Mean Squared Error:\", mse)\n",
    "print(\"R-squared:\", r2)\n",
    "print(\"Adjusted R-squared:\", adjusted_r2)\n",
    "print(\"Mean Absolute Error:\", mae)"
   ]
  },
  {
   "cell_type": "code",
   "execution_count": 30,
   "metadata": {},
   "outputs": [],
   "source": [
    "# Assuming 'X' contains your independent variables (excluding the unique identifier) for 'without_performance_data'\n",
    "X_without_performance_data = without_performance_data.drop(['hurdle_rate_by_dpd30_mean', 'store_number'], axis=1)\n",
    "\n",
    "# Scale the features using the same scaler used for the 'with_performance_data' dataset\n",
    "X_scaled_without_performance_data = scaler.transform(X_without_performance_data)\n",
    "\n",
    "# Make predictions on the 'without_performance_data' dataset\n",
    "y_pred_without_performance_data = model.predict(X_scaled_without_performance_data)\n",
    "\n",
    "# Add the predictions to the 'without_performance_data' DataFrame\n",
    "without_performance_data['hurdle_rate_by_dpd30_mean'] = y_pred_without_performance_data"
   ]
  },
  {
   "cell_type": "code",
   "execution_count": 31,
   "metadata": {},
   "outputs": [
    {
     "data": {
      "text/html": [
       "<div>\n",
       "<style scoped>\n",
       "    .dataframe tbody tr th:only-of-type {\n",
       "        vertical-align: middle;\n",
       "    }\n",
       "\n",
       "    .dataframe tbody tr th {\n",
       "        vertical-align: top;\n",
       "    }\n",
       "\n",
       "    .dataframe thead th {\n",
       "        text-align: right;\n",
       "    }\n",
       "</style>\n",
       "<table border=\"1\" class=\"dataframe\">\n",
       "  <thead>\n",
       "    <tr style=\"text-align: right;\">\n",
       "      <th></th>\n",
       "      <th>store_number</th>\n",
       "      <th>approx_30_days_trx_val</th>\n",
       "      <th>expected_trx_days</th>\n",
       "      <th>actual_trx_days</th>\n",
       "      <th>page_active_days</th>\n",
       "      <th>days_since_last_trx</th>\n",
       "      <th>weight_consistency</th>\n",
       "      <th>weight_recency</th>\n",
       "      <th>hurdle_rate_by_dpd30_mean</th>\n",
       "    </tr>\n",
       "  </thead>\n",
       "  <tbody>\n",
       "    <tr>\n",
       "      <th>0</th>\n",
       "      <td>7606765</td>\n",
       "      <td>373123.950</td>\n",
       "      <td>30</td>\n",
       "      <td>30</td>\n",
       "      <td>1.000</td>\n",
       "      <td>0.000</td>\n",
       "      <td>1.000</td>\n",
       "      <td>1</td>\n",
       "      <td>0.941</td>\n",
       "    </tr>\n",
       "    <tr>\n",
       "      <th>1</th>\n",
       "      <td>7095897</td>\n",
       "      <td>309150.000</td>\n",
       "      <td>30</td>\n",
       "      <td>30</td>\n",
       "      <td>1.000</td>\n",
       "      <td>0.000</td>\n",
       "      <td>1.000</td>\n",
       "      <td>1</td>\n",
       "      <td>0.947</td>\n",
       "    </tr>\n",
       "    <tr>\n",
       "      <th>2</th>\n",
       "      <td>7143211</td>\n",
       "      <td>0.000</td>\n",
       "      <td>1</td>\n",
       "      <td>1</td>\n",
       "      <td>1.000</td>\n",
       "      <td>15.000</td>\n",
       "      <td>1.000</td>\n",
       "      <td>0</td>\n",
       "      <td>0.767</td>\n",
       "    </tr>\n",
       "    <tr>\n",
       "      <th>3</th>\n",
       "      <td>7904971</td>\n",
       "      <td>192403.950</td>\n",
       "      <td>30</td>\n",
       "      <td>30</td>\n",
       "      <td>1.000</td>\n",
       "      <td>0.000</td>\n",
       "      <td>1.000</td>\n",
       "      <td>1</td>\n",
       "      <td>0.856</td>\n",
       "    </tr>\n",
       "    <tr>\n",
       "      <th>4</th>\n",
       "      <td>670522</td>\n",
       "      <td>0.000</td>\n",
       "      <td>27</td>\n",
       "      <td>16</td>\n",
       "      <td>0.590</td>\n",
       "      <td>2.000</td>\n",
       "      <td>0.000</td>\n",
       "      <td>1</td>\n",
       "      <td>0.832</td>\n",
       "    </tr>\n",
       "  </tbody>\n",
       "</table>\n",
       "</div>"
      ],
      "text/plain": [
       "  store_number  approx_30_days_trx_val  expected_trx_days  actual_trx_days  page_active_days  days_since_last_trx  weight_consistency  weight_recency  hurdle_rate_by_dpd30_mean\n",
       "0      7606765              373123.950                 30               30             1.000                0.000               1.000               1                      0.941\n",
       "1      7095897              309150.000                 30               30             1.000                0.000               1.000               1                      0.947\n",
       "2      7143211                   0.000                  1                1             1.000               15.000               1.000               0                      0.767\n",
       "3      7904971              192403.950                 30               30             1.000                0.000               1.000               1                      0.856\n",
       "4       670522                   0.000                 27               16             0.590                2.000               0.000               1                      0.832"
      ]
     },
     "execution_count": 31,
     "metadata": {},
     "output_type": "execute_result"
    }
   ],
   "source": [
    "without_performance_data.head()"
   ]
  },
  {
   "cell_type": "code",
   "execution_count": 32,
   "metadata": {},
   "outputs": [
    {
     "data": {
      "text/plain": [
       "(34162, 9)"
      ]
     },
     "execution_count": 32,
     "metadata": {},
     "output_type": "execute_result"
    }
   ],
   "source": [
    "without_performance_data.shape"
   ]
  },
  {
   "cell_type": "code",
   "execution_count": 33,
   "metadata": {},
   "outputs": [
    {
     "data": {
      "text/plain": [
       "count   34162.000\n",
       "mean        0.859\n",
       "std         0.109\n",
       "min        -0.050\n",
       "25%         0.823\n",
       "50%         0.877\n",
       "75%         0.920\n",
       "max         1.393\n",
       "Name: hurdle_rate_by_dpd30_mean, dtype: float64"
      ]
     },
     "execution_count": 33,
     "metadata": {},
     "output_type": "execute_result"
    }
   ],
   "source": [
    "without_performance_data['hurdle_rate_by_dpd30_mean'].describe()"
   ]
  },
  {
   "cell_type": "code",
   "execution_count": 34,
   "metadata": {},
   "outputs": [
    {
     "data": {
      "text/plain": [
       "(653, 9)"
      ]
     },
     "execution_count": 34,
     "metadata": {},
     "output_type": "execute_result"
    }
   ],
   "source": [
    "without_performance_data[without_performance_data['hurdle_rate_by_dpd30_mean'] >= 1.03].shape"
   ]
  },
  {
   "cell_type": "code",
   "execution_count": null,
   "metadata": {},
   "outputs": [],
   "source": []
  },
  {
   "cell_type": "code",
   "execution_count": null,
   "metadata": {},
   "outputs": [],
   "source": []
  }
 ],
 "metadata": {
  "colab": {
   "collapsed_sections": [],
   "name": "Loan Matrix Simulation.ipynb",
   "provenance": []
  },
  "kernelspec": {
   "display_name": "Python 3 (ipykernel)",
   "language": "python",
   "name": "python3"
  },
  "language_info": {
   "codemirror_mode": {
    "name": "ipython",
    "version": 3
   },
   "file_extension": ".py",
   "mimetype": "text/x-python",
   "name": "python",
   "nbconvert_exporter": "python",
   "pygments_lexer": "ipython3",
   "version": "3.9.12"
  }
 },
 "nbformat": 4,
 "nbformat_minor": 4
}
