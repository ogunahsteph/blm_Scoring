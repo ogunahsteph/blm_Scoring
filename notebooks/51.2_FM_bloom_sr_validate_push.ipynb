{
 "cells": [
  {
   "cell_type": "code",
   "execution_count": 1,
   "metadata": {},
   "outputs": [],
   "source": [
    "# Import modules\n",
    "import sys"
   ]
  },
  {
   "cell_type": "code",
   "execution_count": 2,
   "metadata": {},
   "outputs": [],
   "source": [
    "# Import custom modules\n",
    "sys.path.append('../')\n",
    "\n",
    "from src.models.upload_data import *"
   ]
  },
  {
   "cell_type": "code",
   "execution_count": 3,
   "metadata": {},
   "outputs": [],
   "source": [
    "# Set notebook attributes\n",
    "pd.set_option('display.max_colwidth', 500)\n",
    "pd.set_option('display.max_columns', None)\n",
    "pd.set_option('display.max_rows', 300)\n",
    "pd.set_option('display.float_format', lambda x: '%.2f' % x)"
   ]
  },
  {
   "cell_type": "code",
   "execution_count": 4,
   "metadata": {},
   "outputs": [],
   "source": [
    "# Set magic attributes\n",
    "%matplotlib inline\n",
    "%load_ext autoreload\n",
    "%autoreload 2"
   ]
  },
  {
   "cell_type": "code",
   "execution_count": 5,
   "metadata": {},
   "outputs": [],
   "source": [
    "# Configuration\n",
    "args = argparse.ArgumentParser()\n",
    "args.add_argument(\"--config\", default=\"../params.yaml\")\n",
    "parsed_args = vars(args.parse_args(\"\"))\n",
    "config_path = parsed_args['config']"
   ]
  },
  {
   "cell_type": "markdown",
   "metadata": {},
   "source": [
    "### SR Pull Latest Limits"
   ]
  },
  {
   "cell_type": "code",
   "execution_count": 6,
   "metadata": {},
   "outputs": [
    {
     "name": "stdout",
     "output_type": "stream",
     "text": [
      "Currently pulling sr_validate_push data set ...\n",
      "Connection successful\n"
     ]
    },
    {
     "data": {
      "text/html": [
       "<div>\n",
       "<style scoped>\n",
       "    .dataframe tbody tr th:only-of-type {\n",
       "        vertical-align: middle;\n",
       "    }\n",
       "\n",
       "    .dataframe tbody tr th {\n",
       "        vertical-align: top;\n",
       "    }\n",
       "\n",
       "    .dataframe thead th {\n",
       "        text-align: right;\n",
       "    }\n",
       "</style>\n",
       "<table border=\"1\" class=\"dataframe\">\n",
       "  <thead>\n",
       "    <tr style=\"text-align: right;\">\n",
       "      <th></th>\n",
       "      <th>latest_model_version</th>\n",
       "      <th>num_of_customers_who_have_been_scored</th>\n",
       "      <th>gross_limit_allocation_for_21_day</th>\n",
       "      <th>gross_limit_allocation_for_7_day</th>\n",
       "      <th>gross_limit_allocation_for_1_day</th>\n",
       "    </tr>\n",
       "  </thead>\n",
       "  <tbody>\n",
       "    <tr>\n",
       "      <th>0</th>\n",
       "      <td>2022-004[2022-05-14, 2022-10-21]</td>\n",
       "      <td>138800</td>\n",
       "      <td>250708000.00</td>\n",
       "      <td>510974800.00</td>\n",
       "      <td>513400600.00</td>\n",
       "    </tr>\n",
       "  </tbody>\n",
       "</table>\n",
       "</div>"
      ],
      "text/plain": [
       "               latest_model_version  num_of_customers_who_have_been_scored  \\\n",
       "0  2022-004[2022-05-14, 2022-10-21]                                 138800   \n",
       "\n",
       "   gross_limit_allocation_for_21_day  gross_limit_allocation_for_7_day  \\\n",
       "0                       250708000.00                      510974800.00   \n",
       "\n",
       "   gross_limit_allocation_for_1_day  \n",
       "0                      513400600.00  "
      ]
     },
     "metadata": {},
     "output_type": "display_data"
    },
    {
     "name": "stdout",
     "output_type": "stream",
     "text": [
      "CPU times: total: 46.9 ms\n",
      "Wall time: 24 s\n"
     ]
    }
   ],
   "source": [
    "%%time\n",
    "# Data ingestion, cleaning/wrangling\n",
    "df_sr_pull_latest_limits = pull_data(config_path, validate_push().format('sr', 'BLOOMLIVE.scoring_results'), 'DWH', 'sr_validate_push', True)"
   ]
  },
  {
   "cell_type": "code",
   "execution_count": 7,
   "metadata": {},
   "outputs": [
    {
     "name": "stdout",
     "output_type": "stream",
     "text": [
      "<class 'pandas.core.frame.DataFrame'>\n",
      "RangeIndex: 1 entries, 0 to 0\n",
      "Data columns (total 5 columns):\n",
      " #   Column                                 Non-Null Count  Dtype  \n",
      "---  ------                                 --------------  -----  \n",
      " 0   latest_model_version                   1 non-null      object \n",
      " 1   num_of_customers_who_have_been_scored  1 non-null      int64  \n",
      " 2   gross_limit_allocation_for_21_day      1 non-null      float64\n",
      " 3   gross_limit_allocation_for_7_day       1 non-null      float64\n",
      " 4   gross_limit_allocation_for_1_day       1 non-null      float64\n",
      "dtypes: float64(3), int64(1), object(1)\n",
      "memory usage: 168.0+ bytes\n"
     ]
    }
   ],
   "source": [
    "# Final dataset schema\n",
    "df_sr_pull_latest_limits.info()"
   ]
  },
  {
   "cell_type": "code",
   "execution_count": null,
   "metadata": {},
   "outputs": [],
   "source": []
  }
 ],
 "metadata": {
  "kernelspec": {
   "display_name": "Python 3 (ipykernel)",
   "language": "python",
   "name": "python3"
  },
  "language_info": {
   "codemirror_mode": {
    "name": "ipython",
    "version": 3
   },
   "file_extension": ".py",
   "mimetype": "text/x-python",
   "name": "python",
   "nbconvert_exporter": "python",
   "pygments_lexer": "ipython3",
   "version": "3.8.13"
  }
 },
 "nbformat": 4,
 "nbformat_minor": 4
}
