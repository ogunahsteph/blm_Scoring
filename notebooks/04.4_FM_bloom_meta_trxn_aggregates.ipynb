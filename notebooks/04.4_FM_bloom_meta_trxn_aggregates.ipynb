{
 "cells": [
  {
   "cell_type": "code",
   "execution_count": 1,
   "metadata": {},
   "outputs": [],
   "source": [
    "# Import modules\n",
    "import sys"
   ]
  },
  {
   "cell_type": "code",
   "execution_count": 2,
   "metadata": {},
   "outputs": [],
   "source": [
    "# Import custom modules\n",
    "sys.path.append('../')\n",
    "\n",
    "from src.models.upload_data import *"
   ]
  },
  {
   "cell_type": "code",
   "execution_count": 3,
   "metadata": {},
   "outputs": [],
   "source": [
    "# Set notebook attributes\n",
    "pd.set_option('display.max_colwidth', 500)\n",
    "pd.set_option('display.max_columns', None)\n",
    "pd.set_option('display.max_rows', 300)\n",
    "pd.set_option('display.float_format', lambda x: '%.2f' % x)"
   ]
  },
  {
   "cell_type": "code",
   "execution_count": 4,
   "metadata": {},
   "outputs": [],
   "source": [
    "# Set magic attributes\n",
    "%matplotlib inline\n",
    "%load_ext autoreload\n",
    "%autoreload 2"
   ]
  },
  {
   "cell_type": "code",
   "execution_count": 5,
   "metadata": {},
   "outputs": [],
   "source": [
    "# Configuration\n",
    "args = argparse.ArgumentParser()\n",
    "args.add_argument(\"--config\", default=\"../params.yaml\")\n",
    "parsed_args = vars(args.parse_args(\"\"))\n",
    "config_path = parsed_args['config']"
   ]
  },
  {
   "cell_type": "markdown",
   "metadata": {},
   "source": [
    "### Till Activity Transaction"
   ]
  },
  {
   "cell_type": "code",
   "execution_count": 6,
   "metadata": {},
   "outputs": [
    {
     "name": "stdout",
     "output_type": "stream",
     "text": [
      "Currently loading metabase_trxn data set ...\n"
     ]
    },
    {
     "data": {
      "text/html": [
       "<div>\n",
       "<style scoped>\n",
       "    .dataframe tbody tr th:only-of-type {\n",
       "        vertical-align: middle;\n",
       "    }\n",
       "\n",
       "    .dataframe tbody tr th {\n",
       "        vertical-align: top;\n",
       "    }\n",
       "\n",
       "    .dataframe thead th {\n",
       "        text-align: right;\n",
       "    }\n",
       "</style>\n",
       "<table border=\"1\" class=\"dataframe\">\n",
       "  <thead>\n",
       "    <tr style=\"text-align: right;\">\n",
       "      <th></th>\n",
       "      <th>store_number</th>\n",
       "      <th>most_recent_trx_date_past_30_days</th>\n",
       "      <th>last_trx_date</th>\n",
       "      <th>actual_trx_days</th>\n",
       "    </tr>\n",
       "  </thead>\n",
       "  <tbody>\n",
       "    <tr>\n",
       "      <th>41164</th>\n",
       "      <td>7333380</td>\n",
       "      <td>2022-11-01</td>\n",
       "      <td>2022-11-04</td>\n",
       "      <td>2</td>\n",
       "    </tr>\n",
       "    <tr>\n",
       "      <th>95506</th>\n",
       "      <td>897271</td>\n",
       "      <td>2022-10-26</td>\n",
       "      <td>2022-11-24</td>\n",
       "      <td>29</td>\n",
       "    </tr>\n",
       "  </tbody>\n",
       "</table>\n",
       "</div>"
      ],
      "text/plain": [
       "      store_number most_recent_trx_date_past_30_days last_trx_date  \\\n",
       "41164      7333380                        2022-11-01    2022-11-04   \n",
       "95506       897271                        2022-10-26    2022-11-24   \n",
       "\n",
       "       actual_trx_days  \n",
       "41164                2  \n",
       "95506               29  "
      ]
     },
     "metadata": {},
     "output_type": "display_data"
    },
    {
     "name": "stdout",
     "output_type": "stream",
     "text": [
      "---------------------------------------------------------------------------------------------------------------------------------------\n",
      "CPU times: total: 125 ms\n",
      "Wall time: 445 ms\n"
     ]
    }
   ],
   "source": [
    "%%time\n",
    "# Data ingestion, cleaning/wrangling\n",
    "df_meta_trxn_raw = pull_data(config_path, metabase_sql(), 'DWH', 'metabase_trxn', False, 'raw')"
   ]
  },
  {
   "cell_type": "code",
   "execution_count": 7,
   "metadata": {},
   "outputs": [
    {
     "name": "stdout",
     "output_type": "stream",
     "text": [
      "\n",
      "Currently cleaning metabase_trxn data set ...\n"
     ]
    },
    {
     "data": {
      "text/html": [
       "<div>\n",
       "<style scoped>\n",
       "    .dataframe tbody tr th:only-of-type {\n",
       "        vertical-align: middle;\n",
       "    }\n",
       "\n",
       "    .dataframe tbody tr th {\n",
       "        vertical-align: top;\n",
       "    }\n",
       "\n",
       "    .dataframe thead th {\n",
       "        text-align: right;\n",
       "    }\n",
       "</style>\n",
       "<table border=\"1\" class=\"dataframe\">\n",
       "  <thead>\n",
       "    <tr style=\"text-align: right;\">\n",
       "      <th></th>\n",
       "      <th>store_number</th>\n",
       "      <th>most_recent_trx_date_past_30_days</th>\n",
       "      <th>last_trx_date</th>\n",
       "      <th>actual_trx_days</th>\n",
       "    </tr>\n",
       "  </thead>\n",
       "  <tbody>\n",
       "    <tr>\n",
       "      <th>62185</th>\n",
       "      <td>7578059</td>\n",
       "      <td>2022-10-26</td>\n",
       "      <td>2022-11-24</td>\n",
       "      <td>29</td>\n",
       "    </tr>\n",
       "    <tr>\n",
       "      <th>1779</th>\n",
       "      <td>196777</td>\n",
       "      <td>2022-10-26</td>\n",
       "      <td>2022-11-22</td>\n",
       "      <td>11</td>\n",
       "    </tr>\n",
       "  </tbody>\n",
       "</table>\n",
       "</div>"
      ],
      "text/plain": [
       "      store_number most_recent_trx_date_past_30_days last_trx_date  \\\n",
       "62185      7578059                        2022-10-26    2022-11-24   \n",
       "1779        196777                        2022-10-26    2022-11-22   \n",
       "\n",
       "       actual_trx_days  \n",
       "62185               29  \n",
       "1779                11  "
      ]
     },
     "metadata": {},
     "output_type": "display_data"
    },
    {
     "name": "stdout",
     "output_type": "stream",
     "text": [
      "---------------------------------------------------------------------------------------------------------------------------------------\n",
      "CPU times: total: 1.69 s\n",
      "Wall time: 4.63 s\n"
     ]
    }
   ],
   "source": [
    "%%time\n",
    "# Data ingestion, cleaning/wrangling\n",
    "df_meta_trxn_clean = clean_dataset(config_path, 'metabase_trxn')"
   ]
  },
  {
   "cell_type": "code",
   "execution_count": 8,
   "metadata": {},
   "outputs": [
    {
     "data": {
      "text/html": [
       "<div>\n",
       "<style scoped>\n",
       "    .dataframe tbody tr th:only-of-type {\n",
       "        vertical-align: middle;\n",
       "    }\n",
       "\n",
       "    .dataframe tbody tr th {\n",
       "        vertical-align: top;\n",
       "    }\n",
       "\n",
       "    .dataframe thead th {\n",
       "        text-align: right;\n",
       "    }\n",
       "</style>\n",
       "<table border=\"1\" class=\"dataframe\">\n",
       "  <thead>\n",
       "    <tr style=\"text-align: right;\">\n",
       "      <th></th>\n",
       "      <th>store_number</th>\n",
       "      <th>most_recent_trx_date_past_30_days</th>\n",
       "      <th>last_trx_date</th>\n",
       "      <th>actual_trx_days</th>\n",
       "      <th>approx_30_days_trx_val</th>\n",
       "    </tr>\n",
       "  </thead>\n",
       "  <tbody>\n",
       "    <tr>\n",
       "      <th>49300</th>\n",
       "      <td>7426900</td>\n",
       "      <td>2022-10-26</td>\n",
       "      <td>2022-11-24</td>\n",
       "      <td>29</td>\n",
       "      <td>22691.96</td>\n",
       "    </tr>\n",
       "    <tr>\n",
       "      <th>90789</th>\n",
       "      <td>7969709</td>\n",
       "      <td>2022-10-26</td>\n",
       "      <td>2022-11-24</td>\n",
       "      <td>26</td>\n",
       "      <td>33200.59</td>\n",
       "    </tr>\n",
       "  </tbody>\n",
       "</table>\n",
       "</div>"
      ],
      "text/plain": [
       "      store_number most_recent_trx_date_past_30_days last_trx_date  \\\n",
       "49300      7426900                        2022-10-26    2022-11-24   \n",
       "90789      7969709                        2022-10-26    2022-11-24   \n",
       "\n",
       "       actual_trx_days  approx_30_days_trx_val  \n",
       "49300               29                22691.96  \n",
       "90789               26                33200.59  "
      ]
     },
     "metadata": {},
     "output_type": "display_data"
    },
    {
     "name": "stdout",
     "output_type": "stream",
     "text": [
      "CPU times: total: 312 ms\n",
      "Wall time: 891 ms\n"
     ]
    }
   ],
   "source": [
    "%%time\n",
    "# Data aggregation\n",
    "df_meta_trxn_aggregate = meta_agg_summaries(config_path)"
   ]
  },
  {
   "cell_type": "code",
   "execution_count": 9,
   "metadata": {},
   "outputs": [
    {
     "name": "stdout",
     "output_type": "stream",
     "text": [
      "\n",
      "Expected transaction days feature sample:\n",
      "  store_number last_trx_date most_recent_trx_date_past_30_days  \\\n",
      "6       105714    2022-11-24                        2022-10-26   \n",
      "\n",
      "   expected_trx_days  \n",
      "6              30.00  \n",
      "---------------------------------------------------------------------------------------------------------------------------------------\n",
      "\n",
      "Consistency feature sample:\n",
      "  store_number  expected_trx_days  actual_trx_days  page_active_days\n",
      "6       105714                 30               29              0.97\n",
      "---------------------------------------------------------------------------------------------------------------------------------------\n",
      "\n",
      "Number of days since last transaction feature sample:\n",
      "  store_number  days_since_last_trx last_trx_date\n",
      "6       105714                 0.00    2022-11-24\n",
      "---------------------------------------------------------------------------------------------------------------------------------------\n"
     ]
    },
    {
     "data": {
      "text/html": [
       "<div>\n",
       "<style scoped>\n",
       "    .dataframe tbody tr th:only-of-type {\n",
       "        vertical-align: middle;\n",
       "    }\n",
       "\n",
       "    .dataframe tbody tr th {\n",
       "        vertical-align: top;\n",
       "    }\n",
       "\n",
       "    .dataframe thead th {\n",
       "        text-align: right;\n",
       "    }\n",
       "</style>\n",
       "<table border=\"1\" class=\"dataframe\">\n",
       "  <thead>\n",
       "    <tr style=\"text-align: right;\">\n",
       "      <th></th>\n",
       "      <th>store_number</th>\n",
       "      <th>most_recent_trx_date_past_30_days</th>\n",
       "      <th>last_trx_date</th>\n",
       "      <th>actual_trx_days</th>\n",
       "      <th>approx_30_days_trx_val</th>\n",
       "      <th>expected_trx_days</th>\n",
       "      <th>page_active_days</th>\n",
       "      <th>inference_col</th>\n",
       "      <th>days_since_last_trx</th>\n",
       "      <th>transacted_last_5_days</th>\n",
       "      <th>weight_till_recency</th>\n",
       "    </tr>\n",
       "  </thead>\n",
       "  <tbody>\n",
       "    <tr>\n",
       "      <th>2116</th>\n",
       "      <td>210823</td>\n",
       "      <td>2022-10-26</td>\n",
       "      <td>2022-11-24</td>\n",
       "      <td>29</td>\n",
       "      <td>96502.51</td>\n",
       "      <td>30</td>\n",
       "      <td>0.97</td>\n",
       "      <td>No_rules_relaxed</td>\n",
       "      <td>0.00</td>\n",
       "      <td>Yes</td>\n",
       "      <td>1.00</td>\n",
       "    </tr>\n",
       "    <tr>\n",
       "      <th>35858</th>\n",
       "      <td>7263692</td>\n",
       "      <td>2022-10-26</td>\n",
       "      <td>2022-11-16</td>\n",
       "      <td>19</td>\n",
       "      <td>100702.81</td>\n",
       "      <td>22</td>\n",
       "      <td>0.86</td>\n",
       "      <td>No_rules_relaxed</td>\n",
       "      <td>8.00</td>\n",
       "      <td>No</td>\n",
       "      <td>0.00</td>\n",
       "    </tr>\n",
       "  </tbody>\n",
       "</table>\n",
       "</div>"
      ],
      "text/plain": [
       "      store_number most_recent_trx_date_past_30_days last_trx_date  \\\n",
       "2116        210823                        2022-10-26    2022-11-24   \n",
       "35858      7263692                        2022-10-26    2022-11-16   \n",
       "\n",
       "       actual_trx_days  approx_30_days_trx_val  expected_trx_days  \\\n",
       "2116                29                96502.51                 30   \n",
       "35858               19               100702.81                 22   \n",
       "\n",
       "       page_active_days     inference_col  days_since_last_trx  \\\n",
       "2116               0.97  No_rules_relaxed                 0.00   \n",
       "35858              0.86  No_rules_relaxed                 8.00   \n",
       "\n",
       "      transacted_last_5_days  weight_till_recency  \n",
       "2116                     Yes                 1.00  \n",
       "35858                     No                 0.00  "
      ]
     },
     "metadata": {},
     "output_type": "display_data"
    },
    {
     "name": "stdout",
     "output_type": "stream",
     "text": [
      "---------------------------------------------------------------------------------------------------------------------------------------\n",
      "CPU times: total: 750 ms\n",
      "Wall time: 2.14 s\n"
     ]
    }
   ],
   "source": [
    "%%time\n",
    "# Feature engineering\n",
    "df_meta_trxn_features = meta_feature_engineering(config_path, extract_end_date)"
   ]
  },
  {
   "cell_type": "code",
   "execution_count": 10,
   "metadata": {},
   "outputs": [
    {
     "name": "stdout",
     "output_type": "stream",
     "text": [
      "<class 'pandas.core.frame.DataFrame'>\n",
      "Int64Index: 115150 entries, 0 to 115149\n",
      "Data columns (total 11 columns):\n",
      " #   Column                             Non-Null Count   Dtype         \n",
      "---  ------                             --------------   -----         \n",
      " 0   store_number                       115150 non-null  object        \n",
      " 1   most_recent_trx_date_past_30_days  99685 non-null   datetime64[ns]\n",
      " 2   last_trx_date                      99685 non-null   datetime64[ns]\n",
      " 3   actual_trx_days                    115150 non-null  int32         \n",
      " 4   approx_30_days_trx_val             115150 non-null  float64       \n",
      " 5   expected_trx_days                  115150 non-null  int32         \n",
      " 6   page_active_days                   115150 non-null  float64       \n",
      " 7   inference_col                      115150 non-null  object        \n",
      " 8   days_since_last_trx                99685 non-null   float64       \n",
      " 9   transacted_last_5_days             115150 non-null  object        \n",
      " 10  weight_till_recency                115150 non-null  float64       \n",
      "dtypes: datetime64[ns](2), float64(4), int32(2), object(3)\n",
      "memory usage: 9.7+ MB\n"
     ]
    }
   ],
   "source": [
    "# Final dataset schema\n",
    "df_meta_trxn_features.info()"
   ]
  },
  {
   "cell_type": "code",
   "execution_count": null,
   "metadata": {},
   "outputs": [],
   "source": []
  }
 ],
 "metadata": {
  "kernelspec": {
   "display_name": "Python 3 (ipykernel)",
   "language": "python",
   "name": "python3"
  },
  "language_info": {
   "codemirror_mode": {
    "name": "ipython",
    "version": 3
   },
   "file_extension": ".py",
   "mimetype": "text/x-python",
   "name": "python",
   "nbconvert_exporter": "python",
   "pygments_lexer": "ipython3",
   "version": "3.10.11"
  }
 },
 "nbformat": 4,
 "nbformat_minor": 4
}
