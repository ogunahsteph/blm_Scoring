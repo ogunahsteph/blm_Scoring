{
 "cells": [
  {
   "cell_type": "code",
   "execution_count": 1,
   "metadata": {},
   "outputs": [],
   "source": [
    "# Import modules\n",
    "import sys"
   ]
  },
  {
   "cell_type": "code",
   "execution_count": 2,
   "metadata": {},
   "outputs": [],
   "source": [
    "# Import custom modules\n",
    "sys.path.append('../')\n",
    "\n",
    "from src.models.upload_data import *"
   ]
  },
  {
   "cell_type": "code",
   "execution_count": 3,
   "metadata": {},
   "outputs": [],
   "source": [
    "# Set notebook attributes\n",
    "pd.set_option('display.max_colwidth', 500)\n",
    "pd.set_option('display.max_columns', None)\n",
    "pd.set_option('display.max_rows', 300)\n",
    "pd.set_option('display.float_format', lambda x: '%.2f' % x)"
   ]
  },
  {
   "cell_type": "code",
   "execution_count": 4,
   "metadata": {},
   "outputs": [],
   "source": [
    "# Set magic attributes\n",
    "%matplotlib inline\n",
    "%load_ext autoreload\n",
    "%autoreload 2"
   ]
  },
  {
   "cell_type": "code",
   "execution_count": 5,
   "metadata": {},
   "outputs": [],
   "source": [
    "# Configuration\n",
    "args = argparse.ArgumentParser()\n",
    "args.add_argument(\"--config\", default=\"../params.yaml\")\n",
    "parsed_args = vars(args.parse_args(\"\"))\n",
    "config_path = parsed_args['config']"
   ]
  },
  {
   "cell_type": "markdown",
   "metadata": {},
   "source": [
    "### Till Activity"
   ]
  },
  {
   "cell_type": "code",
   "execution_count": 6,
   "metadata": {},
   "outputs": [
    {
     "name": "stdout",
     "output_type": "stream",
     "text": [
      "Currently loading metabase data set ...\n"
     ]
    },
    {
     "data": {
      "text/html": [
       "<div>\n",
       "<style scoped>\n",
       "    .dataframe tbody tr th:only-of-type {\n",
       "        vertical-align: middle;\n",
       "    }\n",
       "\n",
       "    .dataframe tbody tr th {\n",
       "        vertical-align: top;\n",
       "    }\n",
       "\n",
       "    .dataframe thead th {\n",
       "        text-align: right;\n",
       "    }\n",
       "</style>\n",
       "<table border=\"1\" class=\"dataframe\">\n",
       "  <thead>\n",
       "    <tr style=\"text-align: right;\">\n",
       "      <th></th>\n",
       "      <th>account_no</th>\n",
       "      <th>amount</th>\n",
       "      <th>balance_after</th>\n",
       "      <th>client_name</th>\n",
       "      <th>comments</th>\n",
       "      <th>created_at</th>\n",
       "      <th>db_transaction_id</th>\n",
       "      <th>phone</th>\n",
       "      <th>status</th>\n",
       "      <th>store_number</th>\n",
       "      <th>transaction_id</th>\n",
       "      <th>transaction_time</th>\n",
       "      <th>type</th>\n",
       "      <th>updated_at</th>\n",
       "    </tr>\n",
       "  </thead>\n",
       "  <tbody>\n",
       "    <tr>\n",
       "      <th>230405</th>\n",
       "      <td>None</td>\n",
       "      <td>195.00</td>\n",
       "      <td>1497.38</td>\n",
       "      <td>KENNETH JAIRO OTWOMBE</td>\n",
       "      <td>None</td>\n",
       "      <td>2022-08-23 11:18:55</td>\n",
       "      <td>18645980</td>\n",
       "      <td>+254728753117</td>\n",
       "      <td>0</td>\n",
       "      <td>727417</td>\n",
       "      <td>QHN0NWGS1A</td>\n",
       "      <td>2022-08-23 14:18:55</td>\n",
       "      <td>c2b</td>\n",
       "      <td>2022-08-23 11:18:57</td>\n",
       "    </tr>\n",
       "    <tr>\n",
       "      <th>269100</th>\n",
       "      <td>None</td>\n",
       "      <td>120.00</td>\n",
       "      <td>821.85</td>\n",
       "      <td>LEAH NJERI OKANGA</td>\n",
       "      <td>None</td>\n",
       "      <td>2022-08-23 16:37:30</td>\n",
       "      <td>18691210</td>\n",
       "      <td>+254716717052</td>\n",
       "      <td>0</td>\n",
       "      <td>7591884</td>\n",
       "      <td>QHN8OMMT2O</td>\n",
       "      <td>2022-08-23 19:37:30</td>\n",
       "      <td>c2b</td>\n",
       "      <td>2022-08-23 16:37:35</td>\n",
       "    </tr>\n",
       "  </tbody>\n",
       "</table>\n",
       "</div>"
      ],
      "text/plain": [
       "       account_no  amount  balance_after            client_name comments  \\\n",
       "230405       None  195.00        1497.38  KENNETH JAIRO OTWOMBE     None   \n",
       "269100       None  120.00         821.85      LEAH NJERI OKANGA     None   \n",
       "\n",
       "                created_at  db_transaction_id          phone  status  \\\n",
       "230405 2022-08-23 11:18:55           18645980  +254728753117       0   \n",
       "269100 2022-08-23 16:37:30           18691210  +254716717052       0   \n",
       "\n",
       "       store_number transaction_id    transaction_time type  \\\n",
       "230405       727417     QHN0NWGS1A 2022-08-23 14:18:55  c2b   \n",
       "269100      7591884     QHN8OMMT2O 2022-08-23 19:37:30  c2b   \n",
       "\n",
       "                updated_at  \n",
       "230405 2022-08-23 11:18:57  \n",
       "269100 2022-08-23 16:37:35  "
      ]
     },
     "metadata": {},
     "output_type": "display_data"
    },
    {
     "name": "stdout",
     "output_type": "stream",
     "text": [
      "---------------------------------------------------------------------------------------------------------------------------------------\n",
      "CPU times: total: 875 ms\n",
      "Wall time: 1.35 s\n"
     ]
    }
   ],
   "source": [
    "%%time\n",
    "# Data ingestion, cleaning/wrangling\n",
    "df_meta_raw = pull_data(config_path, metabase_sql(), 'DWH', 'metabase', False, 'raw')"
   ]
  },
  {
   "cell_type": "code",
   "execution_count": 7,
   "metadata": {},
   "outputs": [
    {
     "name": "stdout",
     "output_type": "stream",
     "text": [
      "\n",
      "Currently cleaning metabase data set ...\n",
      "Analysis start date 2022-08-16 00:00:00\n",
      "Analysis latest date 2022-08-24 00:00:00\n"
     ]
    },
    {
     "data": {
      "text/html": [
       "<div>\n",
       "<style scoped>\n",
       "    .dataframe tbody tr th:only-of-type {\n",
       "        vertical-align: middle;\n",
       "    }\n",
       "\n",
       "    .dataframe tbody tr th {\n",
       "        vertical-align: top;\n",
       "    }\n",
       "\n",
       "    .dataframe thead th {\n",
       "        text-align: right;\n",
       "    }\n",
       "</style>\n",
       "<table border=\"1\" class=\"dataframe\">\n",
       "  <thead>\n",
       "    <tr style=\"text-align: right;\">\n",
       "      <th></th>\n",
       "      <th>store_number</th>\n",
       "      <th>phone</th>\n",
       "      <th>transaction_id</th>\n",
       "      <th>transaction_time</th>\n",
       "    </tr>\n",
       "  </thead>\n",
       "  <tbody>\n",
       "    <tr>\n",
       "      <th>76055</th>\n",
       "      <td>7970995</td>\n",
       "      <td>+254703930166</td>\n",
       "      <td>QHJ0GJKCGW</td>\n",
       "      <td>2022-08-19</td>\n",
       "    </tr>\n",
       "    <tr>\n",
       "      <th>111808</th>\n",
       "      <td>760958</td>\n",
       "      <td>+254708766812</td>\n",
       "      <td>QHJ8HD0GVQ</td>\n",
       "      <td>2022-08-19</td>\n",
       "    </tr>\n",
       "  </tbody>\n",
       "</table>\n",
       "</div>"
      ],
      "text/plain": [
       "       store_number          phone transaction_id transaction_time\n",
       "76055       7970995  +254703930166     QHJ0GJKCGW       2022-08-19\n",
       "111808       760958  +254708766812     QHJ8HD0GVQ       2022-08-19"
      ]
     },
     "metadata": {},
     "output_type": "display_data"
    },
    {
     "name": "stdout",
     "output_type": "stream",
     "text": [
      "---------------------------------------------------------------------------------------------------------------------------------------\n",
      "CPU times: total: 4.38 s\n",
      "Wall time: 8.17 s\n"
     ]
    }
   ],
   "source": [
    "%%time\n",
    "# Data ingestion, cleaning/wrangling\n",
    "df_meta_clean = clean_dataset(config_path, 'metabase')"
   ]
  },
  {
   "cell_type": "code",
   "execution_count": 8,
   "metadata": {},
   "outputs": [
    {
     "data": {
      "text/html": [
       "<div>\n",
       "<style scoped>\n",
       "    .dataframe tbody tr th:only-of-type {\n",
       "        vertical-align: middle;\n",
       "    }\n",
       "\n",
       "    .dataframe tbody tr th {\n",
       "        vertical-align: top;\n",
       "    }\n",
       "\n",
       "    .dataframe thead th {\n",
       "        text-align: right;\n",
       "    }\n",
       "</style>\n",
       "<table border=\"1\" class=\"dataframe\">\n",
       "  <thead>\n",
       "    <tr style=\"text-align: right;\">\n",
       "      <th></th>\n",
       "      <th>store_number</th>\n",
       "      <th>most_recent_trx_date_past_30_days</th>\n",
       "      <th>last_trx_date</th>\n",
       "      <th>actual_trx_days</th>\n",
       "      <th>approx_30_days_trx_val</th>\n",
       "    </tr>\n",
       "  </thead>\n",
       "  <tbody>\n",
       "    <tr>\n",
       "      <th>73856</th>\n",
       "      <td>7750776</td>\n",
       "      <td>2022-10-26</td>\n",
       "      <td>2022-11-24</td>\n",
       "      <td>28</td>\n",
       "      <td>7771.26</td>\n",
       "    </tr>\n",
       "    <tr>\n",
       "      <th>80455</th>\n",
       "      <td>7840152</td>\n",
       "      <td>2022-11-09</td>\n",
       "      <td>2022-11-09</td>\n",
       "      <td>1</td>\n",
       "      <td>50.00</td>\n",
       "    </tr>\n",
       "  </tbody>\n",
       "</table>\n",
       "</div>"
      ],
      "text/plain": [
       "      store_number most_recent_trx_date_past_30_days last_trx_date  \\\n",
       "73856      7750776                        2022-10-26    2022-11-24   \n",
       "80455      7840152                        2022-11-09    2022-11-09   \n",
       "\n",
       "       actual_trx_days  approx_30_days_trx_val  \n",
       "73856               28                 7771.26  \n",
       "80455                1                   50.00  "
      ]
     },
     "metadata": {},
     "output_type": "display_data"
    },
    {
     "name": "stdout",
     "output_type": "stream",
     "text": [
      "CPU times: total: 328 ms\n",
      "Wall time: 914 ms\n"
     ]
    }
   ],
   "source": [
    "%%time\n",
    "# Data aggregation\n",
    "df_meta_aggregate = meta_agg_summaries(config_path)"
   ]
  },
  {
   "cell_type": "code",
   "execution_count": 9,
   "metadata": {},
   "outputs": [
    {
     "name": "stdout",
     "output_type": "stream",
     "text": [
      "\n",
      "Expected transaction days feature sample:\n",
      "  store_number last_trx_date most_recent_trx_date_past_30_days  \\\n",
      "6       105714    2022-11-24                        2022-10-26   \n",
      "\n",
      "   expected_trx_days  \n",
      "6              30.00  \n",
      "---------------------------------------------------------------------------------------------------------------------------------------\n",
      "\n",
      "Consistency feature sample:\n",
      "  store_number  expected_trx_days  actual_trx_days  page_active_days\n",
      "6       105714                 30               29              0.97\n",
      "---------------------------------------------------------------------------------------------------------------------------------------\n",
      "\n",
      "Number of days since last transaction feature sample:\n",
      "  store_number  days_since_last_trx last_trx_date\n",
      "6       105714                 0.00    2022-11-24\n",
      "---------------------------------------------------------------------------------------------------------------------------------------\n"
     ]
    },
    {
     "data": {
      "text/html": [
       "<div>\n",
       "<style scoped>\n",
       "    .dataframe tbody tr th:only-of-type {\n",
       "        vertical-align: middle;\n",
       "    }\n",
       "\n",
       "    .dataframe tbody tr th {\n",
       "        vertical-align: top;\n",
       "    }\n",
       "\n",
       "    .dataframe thead th {\n",
       "        text-align: right;\n",
       "    }\n",
       "</style>\n",
       "<table border=\"1\" class=\"dataframe\">\n",
       "  <thead>\n",
       "    <tr style=\"text-align: right;\">\n",
       "      <th></th>\n",
       "      <th>store_number</th>\n",
       "      <th>most_recent_trx_date_past_30_days</th>\n",
       "      <th>last_trx_date</th>\n",
       "      <th>actual_trx_days</th>\n",
       "      <th>approx_30_days_trx_val</th>\n",
       "      <th>expected_trx_days</th>\n",
       "      <th>page_active_days</th>\n",
       "      <th>inference_col</th>\n",
       "      <th>days_since_last_trx</th>\n",
       "      <th>transacted_last_5_days</th>\n",
       "      <th>weight_till_recency</th>\n",
       "    </tr>\n",
       "  </thead>\n",
       "  <tbody>\n",
       "    <tr>\n",
       "      <th>105233</th>\n",
       "      <td>7234236</td>\n",
       "      <td>NaT</td>\n",
       "      <td>NaT</td>\n",
       "      <td>0</td>\n",
       "      <td>116.67</td>\n",
       "      <td>0</td>\n",
       "      <td>0.00</td>\n",
       "      <td>No_rules_relaxed</td>\n",
       "      <td>NaN</td>\n",
       "      <td>0</td>\n",
       "      <td>0.00</td>\n",
       "    </tr>\n",
       "    <tr>\n",
       "      <th>33865</th>\n",
       "      <td>7237972</td>\n",
       "      <td>2022-10-26</td>\n",
       "      <td>2022-11-24</td>\n",
       "      <td>26</td>\n",
       "      <td>10147.55</td>\n",
       "      <td>30</td>\n",
       "      <td>0.87</td>\n",
       "      <td>No_rules_relaxed</td>\n",
       "      <td>0.00</td>\n",
       "      <td>Yes</td>\n",
       "      <td>1.00</td>\n",
       "    </tr>\n",
       "  </tbody>\n",
       "</table>\n",
       "</div>"
      ],
      "text/plain": [
       "       store_number most_recent_trx_date_past_30_days last_trx_date  \\\n",
       "105233      7234236                               NaT           NaT   \n",
       "33865       7237972                        2022-10-26    2022-11-24   \n",
       "\n",
       "        actual_trx_days  approx_30_days_trx_val  expected_trx_days  \\\n",
       "105233                0                  116.67                  0   \n",
       "33865                26                10147.55                 30   \n",
       "\n",
       "        page_active_days     inference_col  days_since_last_trx  \\\n",
       "105233              0.00  No_rules_relaxed                  NaN   \n",
       "33865               0.87  No_rules_relaxed                 0.00   \n",
       "\n",
       "       transacted_last_5_days  weight_till_recency  \n",
       "105233                      0                 0.00  \n",
       "33865                     Yes                 1.00  "
      ]
     },
     "metadata": {},
     "output_type": "display_data"
    },
    {
     "name": "stdout",
     "output_type": "stream",
     "text": [
      "---------------------------------------------------------------------------------------------------------------------------------------\n",
      "CPU times: total: 797 ms\n",
      "Wall time: 2.14 s\n"
     ]
    }
   ],
   "source": [
    "%%time\n",
    "# Feature engineering\n",
    "df_meta_features = meta_feature_engineering(config_path, extract_end_date)"
   ]
  },
  {
   "cell_type": "code",
   "execution_count": 10,
   "metadata": {},
   "outputs": [
    {
     "name": "stdout",
     "output_type": "stream",
     "text": [
      "<class 'pandas.core.frame.DataFrame'>\n",
      "Int64Index: 115150 entries, 0 to 115149\n",
      "Data columns (total 11 columns):\n",
      " #   Column                             Non-Null Count   Dtype         \n",
      "---  ------                             --------------   -----         \n",
      " 0   store_number                       115150 non-null  object        \n",
      " 1   most_recent_trx_date_past_30_days  99685 non-null   datetime64[ns]\n",
      " 2   last_trx_date                      99685 non-null   datetime64[ns]\n",
      " 3   actual_trx_days                    115150 non-null  int32         \n",
      " 4   approx_30_days_trx_val             115150 non-null  float64       \n",
      " 5   expected_trx_days                  115150 non-null  int32         \n",
      " 6   page_active_days                   115150 non-null  float64       \n",
      " 7   inference_col                      115150 non-null  object        \n",
      " 8   days_since_last_trx                99685 non-null   float64       \n",
      " 9   transacted_last_5_days             115150 non-null  object        \n",
      " 10  weight_till_recency                115150 non-null  float64       \n",
      "dtypes: datetime64[ns](2), float64(4), int32(2), object(3)\n",
      "memory usage: 9.7+ MB\n"
     ]
    }
   ],
   "source": [
    "# Final dataset schema\n",
    "df_meta_features.info()"
   ]
  },
  {
   "cell_type": "code",
   "execution_count": null,
   "metadata": {},
   "outputs": [],
   "source": []
  }
 ],
 "metadata": {
  "kernelspec": {
   "display_name": "Python 3 (ipykernel)",
   "language": "python",
   "name": "python3"
  },
  "language_info": {
   "codemirror_mode": {
    "name": "ipython",
    "version": 3
   },
   "file_extension": ".py",
   "mimetype": "text/x-python",
   "name": "python",
   "nbconvert_exporter": "python",
   "pygments_lexer": "ipython3",
   "version": "3.8.13"
  }
 },
 "nbformat": 4,
 "nbformat_minor": 4
}
