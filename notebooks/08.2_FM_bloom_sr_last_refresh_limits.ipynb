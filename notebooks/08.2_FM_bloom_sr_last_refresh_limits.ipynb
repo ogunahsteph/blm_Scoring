{
 "cells": [
  {
   "cell_type": "code",
   "execution_count": 1,
   "metadata": {},
   "outputs": [],
   "source": [
    "# Import modules\n",
    "import sys"
   ]
  },
  {
   "cell_type": "code",
   "execution_count": 2,
   "metadata": {},
   "outputs": [],
   "source": [
    "# Import custom modules\n",
    "sys.path.append('../')\n",
    "\n",
    "from src.models.upload_data import *"
   ]
  },
  {
   "cell_type": "code",
   "execution_count": 3,
   "metadata": {},
   "outputs": [],
   "source": [
    "# Set notebook attributes\n",
    "pd.set_option('display.max_colwidth', 500)\n",
    "pd.set_option('display.max_columns', None)\n",
    "pd.set_option('display.max_rows', 300)\n",
    "pd.set_option('display.float_format', lambda x: '%.2f' % x)"
   ]
  },
  {
   "cell_type": "code",
   "execution_count": 4,
   "metadata": {},
   "outputs": [],
   "source": [
    "# Set magic attributes\n",
    "%matplotlib inline\n",
    "%load_ext autoreload\n",
    "%autoreload 2"
   ]
  },
  {
   "cell_type": "code",
   "execution_count": 5,
   "metadata": {},
   "outputs": [],
   "source": [
    "# Configuration\n",
    "args = argparse.ArgumentParser()\n",
    "args.add_argument(\"--config\", default=\"../params.yaml\")\n",
    "parsed_args = vars(args.parse_args(\"\"))\n",
    "config_path = parsed_args['config']"
   ]
  },
  {
   "cell_type": "markdown",
   "metadata": {},
   "source": [
    "### Scoring Results Latest Refresh Limits"
   ]
  },
  {
   "cell_type": "code",
   "execution_count": 6,
   "metadata": {},
   "outputs": [
    {
     "name": "stdout",
     "output_type": "stream",
     "text": [
      "Currently pulling sr_latest_refresh_limits data set ...\n",
      "Connection successful\n",
      "Time taken is 7 seconds ...\n"
     ]
    },
    {
     "data": {
      "text/html": [
       "<div>\n",
       "<style scoped>\n",
       "    .dataframe tbody tr th:only-of-type {\n",
       "        vertical-align: middle;\n",
       "    }\n",
       "\n",
       "    .dataframe tbody tr th {\n",
       "        vertical-align: top;\n",
       "    }\n",
       "\n",
       "    .dataframe thead th {\n",
       "        text-align: right;\n",
       "    }\n",
       "</style>\n",
       "<table border=\"1\" class=\"dataframe\">\n",
       "  <thead>\n",
       "    <tr style=\"text-align: right;\">\n",
       "      <th></th>\n",
       "      <th>store_number</th>\n",
       "      <th>previous_21_limit</th>\n",
       "      <th>previous_7_limit</th>\n",
       "      <th>previous_1_limit</th>\n",
       "      <th>model_630_21_limit</th>\n",
       "      <th>model_630_7_limit</th>\n",
       "      <th>model_630_1_limit</th>\n",
       "      <th>previous_3m_model_version</th>\n",
       "      <th>previous_3m_21_limit</th>\n",
       "      <th>previous_3m_7_limit</th>\n",
       "      <th>previous_3m_1_limit</th>\n",
       "    </tr>\n",
       "  </thead>\n",
       "  <tbody>\n",
       "    <tr>\n",
       "      <th>174655</th>\n",
       "      <td>4002023</td>\n",
       "      <td>0.00</td>\n",
       "      <td>0.00</td>\n",
       "      <td>0.00</td>\n",
       "      <td>NaN</td>\n",
       "      <td>NaN</td>\n",
       "      <td>NaN</td>\n",
       "      <td>2023-010[2023-03-30, 2023-04-05]</td>\n",
       "      <td>0.00</td>\n",
       "      <td>0.00</td>\n",
       "      <td>0.00</td>\n",
       "    </tr>\n",
       "    <tr>\n",
       "      <th>52519</th>\n",
       "      <td>7404900</td>\n",
       "      <td>0.00</td>\n",
       "      <td>0.00</td>\n",
       "      <td>0.00</td>\n",
       "      <td>NaN</td>\n",
       "      <td>NaN</td>\n",
       "      <td>NaN</td>\n",
       "      <td>2023-010[2023-03-30, 2023-04-05]</td>\n",
       "      <td>0.00</td>\n",
       "      <td>0.00</td>\n",
       "      <td>0.00</td>\n",
       "    </tr>\n",
       "  </tbody>\n",
       "</table>\n",
       "</div>"
      ],
      "text/plain": [
       "       store_number  previous_21_limit  previous_7_limit  previous_1_limit   \n",
       "174655      4002023               0.00              0.00              0.00  \\\n",
       "52519       7404900               0.00              0.00              0.00   \n",
       "\n",
       "        model_630_21_limit  model_630_7_limit  model_630_1_limit   \n",
       "174655                 NaN                NaN                NaN  \\\n",
       "52519                  NaN                NaN                NaN   \n",
       "\n",
       "               previous_3m_model_version  previous_3m_21_limit   \n",
       "174655  2023-010[2023-03-30, 2023-04-05]                  0.00  \\\n",
       "52519   2023-010[2023-03-30, 2023-04-05]                  0.00   \n",
       "\n",
       "        previous_3m_7_limit  previous_3m_1_limit  \n",
       "174655                 0.00                 0.00  \n",
       "52519                  0.00                 0.00  "
      ]
     },
     "metadata": {},
     "output_type": "display_data"
    },
    {
     "name": "stdout",
     "output_type": "stream",
     "text": [
      "---------------------------------------------------------------------------------------------------------------------------------------\n",
      "CPU times: user 2.5 s, sys: 237 ms, total: 2.74 s\n",
      "Wall time: 7.92 s\n"
     ]
    }
   ],
   "source": [
    "%%time\n",
    "# Data ingestion, cleaning/wrangling\n",
    "df_sr_latest_refresh_limits_raw = pull_data(config_path, sr_latest_refresh_limits_sql(), 'DWH', 'sr_latest_refresh_limits', True, 'raw')"
   ]
  },
  {
   "cell_type": "code",
   "execution_count": 7,
   "metadata": {},
   "outputs": [
    {
     "name": "stdout",
     "output_type": "stream",
     "text": [
      "\n",
      "Currently cleaning sr_latest_refresh_limits data set ...\n"
     ]
    },
    {
     "data": {
      "text/html": [
       "<div>\n",
       "<style scoped>\n",
       "    .dataframe tbody tr th:only-of-type {\n",
       "        vertical-align: middle;\n",
       "    }\n",
       "\n",
       "    .dataframe tbody tr th {\n",
       "        vertical-align: top;\n",
       "    }\n",
       "\n",
       "    .dataframe thead th {\n",
       "        text-align: right;\n",
       "    }\n",
       "</style>\n",
       "<table border=\"1\" class=\"dataframe\">\n",
       "  <thead>\n",
       "    <tr style=\"text-align: right;\">\n",
       "      <th></th>\n",
       "      <th>store_number</th>\n",
       "      <th>previous_21_limit</th>\n",
       "      <th>previous_7_limit</th>\n",
       "      <th>previous_1_limit</th>\n",
       "      <th>model_630_21_limit</th>\n",
       "      <th>model_630_7_limit</th>\n",
       "      <th>model_630_1_limit</th>\n",
       "      <th>previous_3m_21_limit</th>\n",
       "      <th>previous_3m_7_limit</th>\n",
       "      <th>previous_3m_1_limit</th>\n",
       "    </tr>\n",
       "  </thead>\n",
       "  <tbody>\n",
       "    <tr>\n",
       "      <th>121441</th>\n",
       "      <td>6111448</td>\n",
       "      <td>0.00</td>\n",
       "      <td>0.00</td>\n",
       "      <td>0.00</td>\n",
       "      <td>0.00</td>\n",
       "      <td>0.00</td>\n",
       "      <td>0.00</td>\n",
       "      <td>0.00</td>\n",
       "      <td>0.00</td>\n",
       "      <td>0.00</td>\n",
       "    </tr>\n",
       "    <tr>\n",
       "      <th>103459</th>\n",
       "      <td>534827</td>\n",
       "      <td>0.00</td>\n",
       "      <td>0.00</td>\n",
       "      <td>0.00</td>\n",
       "      <td>0.00</td>\n",
       "      <td>37500.00</td>\n",
       "      <td>37500.00</td>\n",
       "      <td>0.00</td>\n",
       "      <td>0.00</td>\n",
       "      <td>0.00</td>\n",
       "    </tr>\n",
       "  </tbody>\n",
       "</table>\n",
       "</div>"
      ],
      "text/plain": [
       "       store_number  previous_21_limit  previous_7_limit  previous_1_limit   \n",
       "121441      6111448               0.00              0.00              0.00  \\\n",
       "103459       534827               0.00              0.00              0.00   \n",
       "\n",
       "        model_630_21_limit  model_630_7_limit  model_630_1_limit   \n",
       "121441                0.00               0.00               0.00  \\\n",
       "103459                0.00           37500.00           37500.00   \n",
       "\n",
       "        previous_3m_21_limit  previous_3m_7_limit  previous_3m_1_limit  \n",
       "121441                  0.00                 0.00                 0.00  \n",
       "103459                  0.00                 0.00                 0.00  "
      ]
     },
     "metadata": {},
     "output_type": "display_data"
    },
    {
     "name": "stdout",
     "output_type": "stream",
     "text": [
      "---------------------------------------------------------------------------------------------------------------------------------------\n",
      "CPU times: user 524 ms, sys: 124 ms, total: 648 ms\n",
      "Wall time: 541 ms\n"
     ]
    }
   ],
   "source": [
    "%%time\n",
    "# Data ingestion, cleaning/wrangling\n",
    "df_sr_latest_refresh_limits_clean = clean_dataset(config_path, 'sr_latest_refresh_limits')"
   ]
  },
  {
   "cell_type": "code",
   "execution_count": 8,
   "metadata": {},
   "outputs": [
    {
     "name": "stdout",
     "output_type": "stream",
     "text": [
      "<class 'pandas.core.frame.DataFrame'>\n",
      "Index: 194401 entries, 0 to 194406\n",
      "Data columns (total 10 columns):\n",
      " #   Column                Non-Null Count   Dtype  \n",
      "---  ------                --------------   -----  \n",
      " 0   store_number          194401 non-null  object \n",
      " 1   previous_21_limit     194401 non-null  float64\n",
      " 2   previous_7_limit      194401 non-null  float64\n",
      " 3   previous_1_limit      194401 non-null  float64\n",
      " 4   model_630_21_limit    194401 non-null  float64\n",
      " 5   model_630_7_limit     194401 non-null  float64\n",
      " 6   model_630_1_limit     194401 non-null  float64\n",
      " 7   previous_3m_21_limit  194401 non-null  float64\n",
      " 8   previous_3m_7_limit   194401 non-null  float64\n",
      " 9   previous_3m_1_limit   194401 non-null  float64\n",
      "dtypes: float64(9), object(1)\n",
      "memory usage: 16.3+ MB\n"
     ]
    }
   ],
   "source": [
    "# Final dataset schema\n",
    "df_sr_latest_refresh_limits_clean.info()"
   ]
  },
  {
   "cell_type": "code",
   "execution_count": null,
   "metadata": {},
   "outputs": [],
   "source": []
  }
 ],
 "metadata": {
  "kernelspec": {
   "display_name": "Python 3 (bloom)",
   "language": "python",
   "name": "python3_bloom"
  },
  "language_info": {
   "codemirror_mode": {
    "name": "ipython",
    "version": 3
   },
   "file_extension": ".py",
   "mimetype": "text/x-python",
   "name": "python",
   "nbconvert_exporter": "python",
   "pygments_lexer": "ipython3",
   "version": "3.9.16"
  }
 },
 "nbformat": 4,
 "nbformat_minor": 4
}
