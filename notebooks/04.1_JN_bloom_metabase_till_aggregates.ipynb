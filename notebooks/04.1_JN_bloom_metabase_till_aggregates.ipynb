{
 "cells": [
  {
   "cell_type": "code",
   "execution_count": 1,
   "metadata": {},
   "outputs": [],
   "source": [
    "#import data processing libraries\n",
    "\n",
    "import os\n",
    "import pandas as pd\n",
    "import numpy as np\n",
    "import math as math\n",
    "import datetime as dt\n",
    "from scipy.stats import mode\n",
    "import psycopg2"
   ]
  },
  {
   "cell_type": "code",
   "execution_count": 2,
   "metadata": {},
   "outputs": [],
   "source": [
    "#import visualization libraries\n",
    "import seaborn as sns\n",
    "import matplotlib.pyplot as plt\n",
    "import matplotlib.ticker as ticker\n",
    "%matplotlib inline"
   ]
  },
  {
   "cell_type": "code",
   "execution_count": 3,
   "metadata": {},
   "outputs": [],
   "source": [
    "pd.set_option('display.max_colwidth', 500)\n",
    "pd.set_option('display.max_columns', None)\n",
    "pd.set_option('display.max_rows', 300)\n",
    "\n",
    "#suppress scientific notation to 2 decimal places\n",
    "\n",
    "pd.set_option('display.float_format', lambda x: '%.2f' % x)"
   ]
  },
  {
   "cell_type": "code",
   "execution_count": 4,
   "metadata": {},
   "outputs": [],
   "source": [
    "#path to data dump\n",
    "\n",
    "path = \"C:\\\\Project_summaries\\\\Bloom\\\\Metabase_dumps\\\\\""
   ]
  },
  {
   "cell_type": "code",
   "execution_count": 5,
   "metadata": {},
   "outputs": [
    {
     "data": {
      "text/plain": [
       "['july 1.csv',\n",
       " 'july 10.csv',\n",
       " 'july 11.csv',\n",
       " 'july 12.csv',\n",
       " 'july 13.csv',\n",
       " 'july 14.csv',\n",
       " 'july 15.csv',\n",
       " 'july 16.csv',\n",
       " 'july 17.csv',\n",
       " 'july 18.csv',\n",
       " 'july 19.csv',\n",
       " 'july 2.csv',\n",
       " 'july 20.csv',\n",
       " 'july 21.csv',\n",
       " 'july 22.csv',\n",
       " 'july 23.csv',\n",
       " 'july 24.csv',\n",
       " 'july 3.csv',\n",
       " 'july 4.csv',\n",
       " 'july 5.csv',\n",
       " 'july 6.csv',\n",
       " 'july 7.csv',\n",
       " 'july 8.csv',\n",
       " 'july 9.csv',\n",
       " 'june 23.csv',\n",
       " 'june 24.csv',\n",
       " 'june 25.csv',\n",
       " 'june 26.csv',\n",
       " 'june 27.csv',\n",
       " 'june 28.csv',\n",
       " 'june 29.csv',\n",
       " 'june 30.csv']"
      ]
     },
     "execution_count": 5,
     "metadata": {},
     "output_type": "execute_result"
    }
   ],
   "source": [
    "files = os.listdir(path)\n",
    "\n",
    "files_csv = [f for f in files if f[-3:] == 'csv']\n",
    "files_csv"
   ]
  },
  {
   "cell_type": "code",
   "execution_count": 6,
   "metadata": {},
   "outputs": [],
   "source": [
    "headers_list = [\"Account No\", \"Amount\", \"Balance After\", \n",
    "                \"Client Name\", \"Comments\", \"Created At\",\n",
    "                \"ID\", \"Phone\", \"Status\", \"Store Number\",\n",
    "                \"Transaction ID\", \"Transaction Time\",\n",
    "                \"Type\", \"Updated At\"]\n",
    "\n",
    "\n",
    "#load the data from path to pandas df\n",
    "\n",
    "list_of_dataframes = []\n",
    "for filename in files_csv:\n",
    "    list_of_dataframes.append(pd.read_csv(path+filename, names=headers_list, header=0, skiprows = 1,\\\n",
    "                                          on_bad_lines='skip', encoding='utf-8', engine='python'))\n",
    "\n",
    "df = pd.concat(list_of_dataframes)\n",
    "\n",
    "#replace whitespaces on column headers with \n",
    "df.columns = df.columns.str.replace(' ','_')\n",
    "\n",
    "#rename Pandas columns to lower case\n",
    "df.columns= df.columns.str.lower()"
   ]
  },
  {
   "cell_type": "code",
   "execution_count": 7,
   "metadata": {},
   "outputs": [],
   "source": [
    "#rename column to make it clearer\n",
    "df.rename(columns = {\"id\": \"db_transaction_id\"}, inplace = True)\n",
    "\n",
    "#trim data to only have target colums\n",
    "target_columns = [\"store_number\",\"phone\",\"transaction_id\",\"amount\",\"transaction_time\"]\n",
    "\n",
    "df = df[target_columns]"
   ]
  },
  {
   "cell_type": "code",
   "execution_count": 8,
   "metadata": {},
   "outputs": [],
   "source": [
    "#convert date columns\n",
    "datetime_cols = [\"transaction_time\"]\n",
    "\n",
    "df[datetime_cols] = df[datetime_cols].apply(pd.to_datetime, errors='coerce')\n",
    "\n",
    "\n",
    "#convert specific int/float columns to string type\n",
    "int_to_string_cols = [\"store_number\"]\n",
    "\n",
    "df[int_to_string_cols] = df[int_to_string_cols].astype(str)"
   ]
  },
  {
   "cell_type": "code",
   "execution_count": 9,
   "metadata": {},
   "outputs": [],
   "source": [
    "#drop any duplicate transactions\n",
    "df = df.loc[~df[\"transaction_id\"].duplicated()]\n",
    "\n",
    "\n",
    "#drop any rows with national id being blank\n",
    "df = df.loc[df[\"store_number\"].notnull()]"
   ]
  },
  {
   "cell_type": "code",
   "execution_count": 10,
   "metadata": {},
   "outputs": [],
   "source": [
    "# strip transaction time column to only include Y-m-d ==> this converts datetime column to string\n",
    "df[\"transaction_time\"] = df[\"transaction_time\"].apply(lambda x: x.strftime(\"%Y-%m-%d\")) \n",
    "\n",
    "\n",
    "# convert transaction time column to datetime\n",
    "datetime_cols = [\"transaction_time\"]\n",
    "df[datetime_cols] = df[datetime_cols].apply(pd.to_datetime, errors='coerce')"
   ]
  },
  {
   "cell_type": "code",
   "execution_count": 11,
   "metadata": {},
   "outputs": [],
   "source": [
    "#trim df to only contain past 30 days trx\n",
    "\n",
    "df = df[df[\"transaction_time\"] > dt.datetime.now() - pd.to_timedelta(\"30day\")]"
   ]
  },
  {
   "cell_type": "code",
   "execution_count": 12,
   "metadata": {},
   "outputs": [
    {
     "data": {
      "text/html": [
       "<div>\n",
       "<style scoped>\n",
       "    .dataframe tbody tr th:only-of-type {\n",
       "        vertical-align: middle;\n",
       "    }\n",
       "\n",
       "    .dataframe tbody tr th {\n",
       "        vertical-align: top;\n",
       "    }\n",
       "\n",
       "    .dataframe thead th {\n",
       "        text-align: right;\n",
       "    }\n",
       "</style>\n",
       "<table border=\"1\" class=\"dataframe\">\n",
       "  <thead>\n",
       "    <tr style=\"text-align: right;\">\n",
       "      <th></th>\n",
       "      <th>store_number</th>\n",
       "      <th>phone</th>\n",
       "      <th>transaction_id</th>\n",
       "      <th>amount</th>\n",
       "      <th>transaction_time</th>\n",
       "    </tr>\n",
       "  </thead>\n",
       "  <tbody>\n",
       "    <tr>\n",
       "      <th>0</th>\n",
       "      <td>7903417</td>\n",
       "      <td>2.54717E+11</td>\n",
       "      <td>QG16NBMSH0</td>\n",
       "      <td>150.00</td>\n",
       "      <td>2022-07-01</td>\n",
       "    </tr>\n",
       "    <tr>\n",
       "      <th>1</th>\n",
       "      <td>7169099</td>\n",
       "      <td>2.54711E+11</td>\n",
       "      <td>QG14NBMUQC</td>\n",
       "      <td>80.00</td>\n",
       "      <td>2022-07-01</td>\n",
       "    </tr>\n",
       "    <tr>\n",
       "      <th>2</th>\n",
       "      <td>680565</td>\n",
       "      <td>2.54718E+11</td>\n",
       "      <td>QG19NBMUQH</td>\n",
       "      <td>110.00</td>\n",
       "      <td>2022-07-01</td>\n",
       "    </tr>\n",
       "  </tbody>\n",
       "</table>\n",
       "</div>"
      ],
      "text/plain": [
       "  store_number        phone transaction_id  amount transaction_time\n",
       "0      7903417  2.54717E+11     QG16NBMSH0  150.00       2022-07-01\n",
       "1      7169099  2.54711E+11     QG14NBMUQC   80.00       2022-07-01\n",
       "2       680565  2.54718E+11     QG19NBMUQH  110.00       2022-07-01"
      ]
     },
     "execution_count": 12,
     "metadata": {},
     "output_type": "execute_result"
    }
   ],
   "source": [
    "df.head(3)"
   ]
  },
  {
   "cell_type": "code",
   "execution_count": 13,
   "metadata": {},
   "outputs": [
    {
     "data": {
      "text/plain": [
       "80289"
      ]
     },
     "execution_count": 13,
     "metadata": {},
     "output_type": "execute_result"
    }
   ],
   "source": [
    "df['store_number'].nunique()"
   ]
  },
  {
   "cell_type": "code",
   "execution_count": 14,
   "metadata": {},
   "outputs": [
    {
     "data": {
      "text/plain": [
       "(17430284, 5)"
      ]
     },
     "execution_count": 14,
     "metadata": {},
     "output_type": "execute_result"
    }
   ],
   "source": [
    "df.shape"
   ]
  },
  {
   "cell_type": "markdown",
   "metadata": {},
   "source": [
    "---\n",
    "#### Generate aggregate summaries"
   ]
  },
  {
   "cell_type": "code",
   "execution_count": 15,
   "metadata": {},
   "outputs": [],
   "source": [
    "agg_summary = df.groupby(\"store_number\").agg({\n",
    "    \"amount\":\"sum\",\n",
    "    \"transaction_time\":\"min\"\n",
    "}).reset_index()\n",
    "\n",
    "agg_summary.rename(\n",
    "    columns={\n",
    "        \"amount\": \"approx_30_days_trx_val\",\n",
    "        \"transaction_time\": \"most_recent_trx_date_past_30_days\",\n",
    "    }, inplace=True)"
   ]
  },
  {
   "cell_type": "code",
   "execution_count": 16,
   "metadata": {},
   "outputs": [],
   "source": [
    "#aggregate for latest trx date\n",
    "\n",
    "agg_summary = pd.merge(agg_summary, (df.groupby(\"store_number\")[\"transaction_time\"].max().rename(\"last_trx_date\").reset_index()), on=\"store_number\")"
   ]
  },
  {
   "cell_type": "code",
   "execution_count": 17,
   "metadata": {
    "scrolled": true
   },
   "outputs": [],
   "source": [
    "#calculate expected trx days\n",
    "\n",
    "agg_summary[\"expected_trx_days\"] = ((agg_summary[\"last_trx_date\"]-agg_summary[\"most_recent_trx_date_past_30_days\"]).dt.days)+1"
   ]
  },
  {
   "cell_type": "code",
   "execution_count": 18,
   "metadata": {},
   "outputs": [],
   "source": [
    "#get unique trx days\n",
    "#calculate consistency\n",
    "\n",
    "agg_summary[\"page_active_days\"] = round(agg_summary[\"actual_trx_days\"]/agg_summary[\"expected_trx_days\"], 2)\n",
    "agg_summary = pd.merge(agg_summary, (df.groupby(\"store_number\")[\"transaction_time\"].nunique().rename(\"actual_trx_days\").reset_index()), on=\"store_number\")"
   ]
  },
  {
   "cell_type": "code",
   "execution_count": 19,
   "metadata": {},
   "outputs": [],
   "source": [
    "#calculate consistency\n",
    "\n",
    "agg_summary[\"page_active_days\"] = round(agg_summary[\"actual_trx_days\"]/agg_summary[\"expected_trx_days\"], 2)"
   ]
  },
  {
   "cell_type": "code",
   "execution_count": null,
   "metadata": {},
   "outputs": [],
   "source": []
  },
  {
   "cell_type": "code",
   "execution_count": 20,
   "metadata": {},
   "outputs": [],
   "source": [
    "#load df with store number inferences\n",
    "#merge df to add inference column\n",
    "\n",
    "agg_summary = agg_summary.merge(inference_df, how=\"left\", on=\"store_number\")\n",
    "inference_df_path = \"C:\\\\Project_summaries\\\\Bloom\\\\Bloom all_loans\\\\20220721\\\\Analysis_summaries\\\\\"\n",
    "inference_df = pd.read_excel(inference_df_path+\"Bloom_clients_inference_summary_20220721.xlsx\")\n",
    "inference_df.drop(columns=\"Unnamed: 0\", inplace=True)\n",
    "inference_df[\"store_number\"] = inference_df[\"store_number\"].astype(\"str\")"
   ]
  },
  {
   "cell_type": "code",
   "execution_count": 21,
   "metadata": {},
   "outputs": [],
   "source": [
    "#merge df to add inference column\n",
    "\n",
    "agg_summary = agg_summary.merge(inference_df, how=\"left\", on=\"store_number\")"
   ]
  },
  {
   "cell_type": "code",
   "execution_count": 22,
   "metadata": {},
   "outputs": [],
   "source": [
    "#fill rest of missing values with zeros\n",
    "\n",
    "cols_fillna = [\"inference_col\"]\n",
    "# replace 'NaN' with zero in these columns\n",
    "for col in cols_fillna:\n",
    "    agg_summary[col].fillna(\"No_rules_relaxed\",inplace=True)"
   ]
  },
  {
   "cell_type": "code",
   "execution_count": 23,
   "metadata": {},
   "outputs": [],
   "source": [
    "#get num days since last trx\n",
    "\n",
    "#today = dt.datetime(2022,2,26)\n",
    "#today = pd.Timestamp(today)\n",
    "today = (pd.Timestamp.today()).strftime('%Y-%m-%d')\n",
    "today = pd.Timestamp(today)\n",
    "\n",
    "#not counting the end date because the scoring refresh might be triggered early in the morning or before working day is over\n",
    "agg_summary[\"days_since_last_trx\"] = (today - agg_summary[\"last_trx_date\"]).dt.days"
   ]
  },
  {
   "cell_type": "code",
   "execution_count": 24,
   "metadata": {},
   "outputs": [],
   "source": [
    "def recency_check(df):\n",
    "    \"\"\"\n",
    "    Function to assess whether store number has recently been trading up to a certain allowed threshold i.e. 5 days for\\\n",
    "    those that don't qualify for limit stabilization and upto 7 days for those that qualify\n",
    "    \n",
    "    Inputs:   \n",
    "    1) The inference column indicating whether rules are to be relaxed OR not,\n",
    "    2) Recency tracking column i.e. num of days since store number last had a transaction\n",
    "    3) Recency thresholds\n",
    "    \n",
    "    Outputs:\n",
    "    A column denoting a boolean yes OR no wrt to whether a customer met the required recency threshold\n",
    "    \"\"\"   \n",
    "    inference_col = df[\"inference_col\"]\n",
    "    inference_col_target = \"relax_rules\"\n",
    "    recency_col = df[\"days_since_last_trx\"]\n",
    "    no_rules_relaxed_recency_threshold = 5\n",
    "    rules_relaxed_recency_threshold = 7\n",
    "    \n",
    "    #choice responses\n",
    "    transaction_boolean_accepted = \"Yes\"\n",
    "    transaction_boolean_rejected = \"No\"\n",
    "    \n",
    "    \n",
    "    conditions = [\n",
    "        recency_col.le(no_rules_relaxed_recency_threshold),\n",
    "        inference_col.str.match(inference_col_target) & recency_col.le(rules_relaxed_recency_threshold),\n",
    "        recency_col.gt(no_rules_relaxed_recency_threshold),  \n",
    "    ]\n",
    "    \n",
    "    choices = [\n",
    "        transaction_boolean_accepted,\n",
    "        transaction_boolean_accepted,\n",
    "        transaction_boolean_rejected,\n",
    "    ]\n",
    "    \n",
    "    new_col = np.select(conditions, choices)\n",
    "    \n",
    "    return new_col\n",
    "\n",
    "#apply the function to the df to create 21 day adjusted product limit allocation\n",
    "agg_summary[\"transacted_last_5_days\"] = recency_check(agg_summary)"
   ]
  },
  {
   "cell_type": "code",
   "execution_count": 25,
   "metadata": {},
   "outputs": [],
   "source": [
    "def weight_till_recency(df):\n",
    "    \"\"\"\n",
    "    Function to assess the weight to be assigned based on till recency for customers who qualify for limit stabilization\n",
    "    \n",
    "    Inputs:   \n",
    "    1) The inference column indicating whether rules are to be relaxed OR not,\n",
    "    2) Recency tracking column i.e. num of days since store number last had a transaction\n",
    "    \n",
    "    Outputs:\n",
    "    A column assigning the assigned weight for till recency\n",
    "    \"\"\"       \n",
    "    recency = df[\"days_since_last_trx\"]\n",
    "    inference_col = df[\"inference_col\"]\n",
    "    inference_col_target = \"relax_rules\"\n",
    "    \n",
    "    conditions = [\n",
    "        recency.le(5),\n",
    "        inference_col.str.match(inference_col_target) & recency.le(5),\n",
    "        inference_col.str.match(inference_col_target) & recency.gt(5) & recency.le(6),\n",
    "        inference_col.str.match(inference_col_target) & recency.gt(6) & recency.le(7),\n",
    "        recency.gt(7),\n",
    "    ]\n",
    "    \n",
    "    choices = [\n",
    "        1,\n",
    "        1,\n",
    "        0.9,\n",
    "        0.7,\n",
    "        0 \n",
    "    ]\n",
    "    \n",
    "    weight_till_recency_col = np.select(conditions, choices)\n",
    "    \n",
    "    return weight_till_recency_col\n",
    "\n",
    "#apply function\n",
    "agg_summary[\"weight_till_recency\"] = weight_till_recency(agg_summary)"
   ]
  },
  {
   "cell_type": "code",
   "execution_count": 26,
   "metadata": {},
   "outputs": [
    {
     "name": "stdout",
     "output_type": "stream",
     "text": [
      "<class 'pandas.core.frame.DataFrame'>\n",
      "Int64Index: 80289 entries, 0 to 80288\n",
      "Data columns (total 11 columns):\n",
      " #   Column                             Non-Null Count  Dtype         \n",
      "---  ------                             --------------  -----         \n",
      " 0   store_number                       80289 non-null  object        \n",
      " 1   approx_30_days_trx_val             80289 non-null  float64       \n",
      " 2   most_recent_trx_date_past_30_days  80289 non-null  datetime64[ns]\n",
      " 3   last_trx_date                      80289 non-null  datetime64[ns]\n",
      " 4   expected_trx_days                  80289 non-null  int64         \n",
      " 5   actual_trx_days                    80289 non-null  int64         \n",
      " 6   page_active_days                   80289 non-null  float64       \n",
      " 7   inference_col                      80289 non-null  object        \n",
      " 8   days_since_last_trx                80289 non-null  int64         \n",
      " 9   transacted_last_5_days             80289 non-null  object        \n",
      " 10  weight_till_recency                80289 non-null  float64       \n",
      "dtypes: datetime64[ns](2), float64(3), int64(3), object(3)\n",
      "memory usage: 7.4+ MB\n"
     ]
    }
   ],
   "source": [
    "agg_summary.info()"
   ]
  },
  {
   "cell_type": "markdown",
   "metadata": {},
   "source": [
    "---\n",
    "#### Load customer details & map store number to national id"
   ]
  },
  {
   "cell_type": "code",
   "execution_count": 27,
   "metadata": {},
   "outputs": [],
   "source": [
    "customers_path = \"C:\\\\Project_summaries\\\\Bloom\\\\Bloom all_loans\\\\20220721\\Till_data_summaries\\\\\""
   ]
  },
  {
   "cell_type": "code",
   "execution_count": 28,
   "metadata": {},
   "outputs": [],
   "source": [
    "agg_summary.to_excel(\"C:\\\\Project_summaries\\\\Bloom\\\\Bloom all_loans\\\\20220721\\Till_data_summaries\\\\agg_summary.xlsx\")"
   ]
  },
  {
   "cell_type": "code",
   "execution_count": 29,
   "metadata": {},
   "outputs": [],
   "source": [
    "host = '157.245.248.249'\n",
    "port = int(5432)\n",
    "dbname = 'ubuntu'\n",
    "user = 'jacklinengenia'\n",
    "password = 'x3MX&8#!'\n",
    "\n",
    "\n",
    "def get_query_results_postgres():\n",
    "    with psycopg2.connect(host = host,\n",
    "                          port = port,\n",
    "                          database = dbname,\n",
    "                          user = user,\n",
    "                          password = password) as conn:\n",
    "        sql = \"select * from bloomlive.client_summary_view csv2 where is_iprs_validated is true\"\n",
    "        df = pd.read_sql(sql, conn)\n",
    "        \n",
    "    return df\n",
    "\n",
    "    conn.close()"
   ]
  },
  {
   "cell_type": "code",
   "execution_count": 30,
   "metadata": {},
   "outputs": [
    {
     "data": {
      "text/html": [
       "<div>\n",
       "<style scoped>\n",
       "    .dataframe tbody tr th:only-of-type {\n",
       "        vertical-align: middle;\n",
       "    }\n",
       "\n",
       "    .dataframe tbody tr th {\n",
       "        vertical-align: top;\n",
       "    }\n",
       "\n",
       "    .dataframe thead th {\n",
       "        text-align: right;\n",
       "    }\n",
       "</style>\n",
       "<table border=\"1\" class=\"dataframe\">\n",
       "  <thead>\n",
       "    <tr style=\"text-align: right;\">\n",
       "      <th></th>\n",
       "      <th>bloom_version</th>\n",
       "      <th>surrogate_id</th>\n",
       "      <th>mifos_id</th>\n",
       "      <th>mobile_number</th>\n",
       "      <th>store_number</th>\n",
       "      <th>national_id</th>\n",
       "      <th>first_name</th>\n",
       "      <th>middle_name</th>\n",
       "      <th>last_name</th>\n",
       "      <th>iprs_first_name</th>\n",
       "      <th>iprs_other_name</th>\n",
       "      <th>iprs_surname</th>\n",
       "      <th>date_of_birth</th>\n",
       "      <th>gender</th>\n",
       "      <th>status</th>\n",
       "      <th>submitted_on_date</th>\n",
       "      <th>client_type</th>\n",
       "      <th>company_name</th>\n",
       "      <th>provided_first_name</th>\n",
       "      <th>iprs_name_matched</th>\n",
       "      <th>is_iprs_checked</th>\n",
       "      <th>is_iprs_validated</th>\n",
       "    </tr>\n",
       "  </thead>\n",
       "  <tbody>\n",
       "    <tr>\n",
       "      <th>0</th>\n",
       "      <td>2.00</td>\n",
       "      <td>173856</td>\n",
       "      <td>91945</td>\n",
       "      <td>254714958267</td>\n",
       "      <td>7783183</td>\n",
       "      <td>25721072</td>\n",
       "      <td>Edigar</td>\n",
       "      <td>Litunda</td>\n",
       "      <td>Segero</td>\n",
       "      <td>Edigar</td>\n",
       "      <td>Litunda</td>\n",
       "      <td>Segero</td>\n",
       "      <td>2022-04-28</td>\n",
       "      <td>None</td>\n",
       "      <td>Active</td>\n",
       "      <td>2022-04-28</td>\n",
       "      <td>None</td>\n",
       "      <td>EDIGAR LITUNDA</td>\n",
       "      <td>None</td>\n",
       "      <td>True</td>\n",
       "      <td>True</td>\n",
       "      <td>True</td>\n",
       "    </tr>\n",
       "    <tr>\n",
       "      <th>1</th>\n",
       "      <td>2.00</td>\n",
       "      <td>174245</td>\n",
       "      <td>92337</td>\n",
       "      <td>254727059406</td>\n",
       "      <td>7357462</td>\n",
       "      <td>28167918</td>\n",
       "      <td>Sylvia</td>\n",
       "      <td>Mumbi</td>\n",
       "      <td>Ngunga</td>\n",
       "      <td>Sylvia</td>\n",
       "      <td>Mumbi</td>\n",
       "      <td>Ngunga</td>\n",
       "      <td>2022-04-29</td>\n",
       "      <td>None</td>\n",
       "      <td>Active</td>\n",
       "      <td>2022-04-29</td>\n",
       "      <td>None</td>\n",
       "      <td>SYLVIA     MUMBI</td>\n",
       "      <td>None</td>\n",
       "      <td>True</td>\n",
       "      <td>True</td>\n",
       "      <td>True</td>\n",
       "    </tr>\n",
       "    <tr>\n",
       "      <th>2</th>\n",
       "      <td>2.00</td>\n",
       "      <td>174098</td>\n",
       "      <td>92190</td>\n",
       "      <td>254705801996</td>\n",
       "      <td>7119000</td>\n",
       "      <td>33503541</td>\n",
       "      <td>Simon</td>\n",
       "      <td>Kamau</td>\n",
       "      <td>Waruiru</td>\n",
       "      <td>Simon</td>\n",
       "      <td>Kamau</td>\n",
       "      <td>Waruiru</td>\n",
       "      <td>2022-04-29</td>\n",
       "      <td>None</td>\n",
       "      <td>Active</td>\n",
       "      <td>2022-04-29</td>\n",
       "      <td>None</td>\n",
       "      <td>SIMON KAMAU    4</td>\n",
       "      <td>None</td>\n",
       "      <td>True</td>\n",
       "      <td>True</td>\n",
       "      <td>True</td>\n",
       "    </tr>\n",
       "  </tbody>\n",
       "</table>\n",
       "</div>"
      ],
      "text/plain": [
       "   bloom_version  surrogate_id  mifos_id mobile_number store_number  \\\n",
       "0           2.00        173856     91945  254714958267      7783183   \n",
       "1           2.00        174245     92337  254727059406      7357462   \n",
       "2           2.00        174098     92190  254705801996      7119000   \n",
       "\n",
       "  national_id first_name middle_name last_name iprs_first_name  \\\n",
       "0    25721072     Edigar     Litunda    Segero          Edigar   \n",
       "1    28167918     Sylvia       Mumbi    Ngunga          Sylvia   \n",
       "2    33503541      Simon       Kamau   Waruiru           Simon   \n",
       "\n",
       "  iprs_other_name iprs_surname date_of_birth gender  status submitted_on_date  \\\n",
       "0         Litunda       Segero    2022-04-28   None  Active        2022-04-28   \n",
       "1           Mumbi       Ngunga    2022-04-29   None  Active        2022-04-29   \n",
       "2           Kamau      Waruiru    2022-04-29   None  Active        2022-04-29   \n",
       "\n",
       "  client_type      company_name provided_first_name  iprs_name_matched  \\\n",
       "0        None    EDIGAR LITUNDA                None               True   \n",
       "1        None  SYLVIA     MUMBI                None               True   \n",
       "2        None  SIMON KAMAU    4                None               True   \n",
       "\n",
       "   is_iprs_checked  is_iprs_validated  \n",
       "0             True               True  \n",
       "1             True               True  \n",
       "2             True               True  "
      ]
     },
     "execution_count": 30,
     "metadata": {},
     "output_type": "execute_result"
    }
   ],
   "source": [
    "# loading data from scoring results table\n",
    "customer_details = get_query_results_postgres()\n",
    "\n",
    "customer_details.head(3)"
   ]
  },
  {
   "cell_type": "code",
   "execution_count": 31,
   "metadata": {},
   "outputs": [
    {
     "data": {
      "text/plain": [
       "2"
      ]
     },
     "execution_count": 31,
     "metadata": {},
     "output_type": "execute_result"
    }
   ],
   "source": [
    "customer_details['bloom_version'].nunique()"
   ]
  },
  {
   "cell_type": "code",
   "execution_count": 32,
   "metadata": {},
   "outputs": [
    {
     "data": {
      "text/plain": [
       "(130914, 22)"
      ]
     },
     "execution_count": 32,
     "metadata": {},
     "output_type": "execute_result"
    }
   ],
   "source": [
    "customer_details.shape"
   ]
  },
  {
   "cell_type": "code",
   "execution_count": 33,
   "metadata": {},
   "outputs": [
    {
     "data": {
      "text/plain": [
       "(95046, 22)"
      ]
     },
     "execution_count": 33,
     "metadata": {},
     "output_type": "execute_result"
    }
   ],
   "source": [
    "customer_details = customer_details.drop_duplicates(subset=['store_number'], keep='last')\n",
    "\n",
    "customer_details.shape"
   ]
  },
  {
   "cell_type": "code",
   "execution_count": 34,
   "metadata": {},
   "outputs": [
    {
     "data": {
      "text/plain": [
       "95045"
      ]
     },
     "execution_count": 34,
     "metadata": {},
     "output_type": "execute_result"
    }
   ],
   "source": [
    "customer_details['store_number'].nunique()"
   ]
  },
  {
   "cell_type": "code",
   "execution_count": 35,
   "metadata": {},
   "outputs": [],
   "source": [
    "#load customer_details with store number & national id mapping\n",
    "\n",
    "#customer_details = pd.read_csv(customers_path+\"iprs_report_2021-10-14.csv\")\n",
    "\n",
    "#replace whitespaces on column headers with \n",
    "customer_details.columns = customer_details.columns.str.replace(' ','_')\n",
    "\n",
    "#rename Pandas columns to lower case\n",
    "customer_details.columns = customer_details.columns.str.lower()\n",
    "\n",
    "#rename column to make it clearer\n",
    "#customer_details.rename(columns = {\"customeridnumber\": \"national_id\", \"accountnumber\":\"store_number\"}, inplace = True)\n",
    "\n",
    "#trim customer_details to only have target columns\n",
    "customer_target_columns = [\"store_number\", \"national_id\", 'mobile_number']\n",
    "\n",
    "customer_details = customer_details[customer_target_columns]"
   ]
  },
  {
   "cell_type": "code",
   "execution_count": 36,
   "metadata": {},
   "outputs": [],
   "source": [
    "#convert specific int/float columns to string type\n",
    "int_to_string_cols_2 = [\"store_number\", \"national_id\", \"mobile_number\"]\n",
    "\n",
    "customer_details[int_to_string_cols_2] = customer_details[int_to_string_cols_2].astype(str)"
   ]
  },
  {
   "cell_type": "code",
   "execution_count": 37,
   "metadata": {},
   "outputs": [
    {
     "name": "stdout",
     "output_type": "stream",
     "text": [
      "<class 'pandas.core.frame.DataFrame'>\n",
      "Int64Index: 95046 entries, 0 to 130913\n",
      "Data columns (total 3 columns):\n",
      " #   Column         Non-Null Count  Dtype \n",
      "---  ------         --------------  ----- \n",
      " 0   store_number   95046 non-null  object\n",
      " 1   national_id    95046 non-null  object\n",
      " 2   mobile_number  95046 non-null  object\n",
      "dtypes: object(3)\n",
      "memory usage: 2.9+ MB\n"
     ]
    }
   ],
   "source": [
    "customer_details.info()"
   ]
  },
  {
   "cell_type": "code",
   "execution_count": 38,
   "metadata": {},
   "outputs": [],
   "source": [
    "#merge dfs to map store numbers to national ids\n",
    "\n",
    "agg_summary = agg_summary.merge(customer_details, how=\"left\", on=\"store_number\")"
   ]
  },
  {
   "cell_type": "code",
   "execution_count": 39,
   "metadata": {},
   "outputs": [],
   "source": [
    "#rearrange column order\n",
    "\n",
    "agg_summary_cols = agg_summary.columns.to_list()\n",
    "\n",
    "agg_summary_cols = agg_summary_cols[-1:] + agg_summary_cols[:-1]\n",
    "\n",
    "agg_summary = agg_summary[agg_summary_cols]"
   ]
  },
  {
   "cell_type": "code",
   "execution_count": 40,
   "metadata": {},
   "outputs": [
    {
     "data": {
      "text/html": [
       "<div>\n",
       "<style scoped>\n",
       "    .dataframe tbody tr th:only-of-type {\n",
       "        vertical-align: middle;\n",
       "    }\n",
       "\n",
       "    .dataframe tbody tr th {\n",
       "        vertical-align: top;\n",
       "    }\n",
       "\n",
       "    .dataframe thead th {\n",
       "        text-align: right;\n",
       "    }\n",
       "</style>\n",
       "<table border=\"1\" class=\"dataframe\">\n",
       "  <thead>\n",
       "    <tr style=\"text-align: right;\">\n",
       "      <th></th>\n",
       "      <th>mobile_number</th>\n",
       "      <th>store_number</th>\n",
       "      <th>approx_30_days_trx_val</th>\n",
       "      <th>most_recent_trx_date_past_30_days</th>\n",
       "      <th>last_trx_date</th>\n",
       "      <th>expected_trx_days</th>\n",
       "      <th>actual_trx_days</th>\n",
       "      <th>page_active_days</th>\n",
       "      <th>inference_col</th>\n",
       "      <th>days_since_last_trx</th>\n",
       "      <th>transacted_last_5_days</th>\n",
       "      <th>weight_till_recency</th>\n",
       "      <th>national_id</th>\n",
       "    </tr>\n",
       "  </thead>\n",
       "  <tbody>\n",
       "    <tr>\n",
       "      <th>0</th>\n",
       "      <td>254711519875</td>\n",
       "      <td>101212</td>\n",
       "      <td>12530.00</td>\n",
       "      <td>2022-07-04</td>\n",
       "      <td>2022-07-21</td>\n",
       "      <td>18</td>\n",
       "      <td>6</td>\n",
       "      <td>0.33</td>\n",
       "      <td>No_rules_relaxed</td>\n",
       "      <td>4</td>\n",
       "      <td>Yes</td>\n",
       "      <td>1.00</td>\n",
       "      <td>8026792</td>\n",
       "    </tr>\n",
       "    <tr>\n",
       "      <th>1</th>\n",
       "      <td>254716180492</td>\n",
       "      <td>105295</td>\n",
       "      <td>543428.75</td>\n",
       "      <td>2022-06-26</td>\n",
       "      <td>2022-07-24</td>\n",
       "      <td>29</td>\n",
       "      <td>28</td>\n",
       "      <td>0.97</td>\n",
       "      <td>relax_rules</td>\n",
       "      <td>1</td>\n",
       "      <td>Yes</td>\n",
       "      <td>1.00</td>\n",
       "      <td>27881033</td>\n",
       "    </tr>\n",
       "    <tr>\n",
       "      <th>2</th>\n",
       "      <td>254701582431</td>\n",
       "      <td>105581</td>\n",
       "      <td>3603.00</td>\n",
       "      <td>2022-07-05</td>\n",
       "      <td>2022-07-22</td>\n",
       "      <td>18</td>\n",
       "      <td>4</td>\n",
       "      <td>0.22</td>\n",
       "      <td>No_rules_relaxed</td>\n",
       "      <td>3</td>\n",
       "      <td>Yes</td>\n",
       "      <td>1.00</td>\n",
       "      <td>32339396</td>\n",
       "    </tr>\n",
       "  </tbody>\n",
       "</table>\n",
       "</div>"
      ],
      "text/plain": [
       "  mobile_number store_number  approx_30_days_trx_val  \\\n",
       "0  254711519875       101212                12530.00   \n",
       "1  254716180492       105295               543428.75   \n",
       "2  254701582431       105581                 3603.00   \n",
       "\n",
       "  most_recent_trx_date_past_30_days last_trx_date  expected_trx_days  \\\n",
       "0                        2022-07-04    2022-07-21                 18   \n",
       "1                        2022-06-26    2022-07-24                 29   \n",
       "2                        2022-07-05    2022-07-22                 18   \n",
       "\n",
       "   actual_trx_days  page_active_days     inference_col  days_since_last_trx  \\\n",
       "0                6              0.33  No_rules_relaxed                    4   \n",
       "1               28              0.97       relax_rules                    1   \n",
       "2                4              0.22  No_rules_relaxed                    3   \n",
       "\n",
       "  transacted_last_5_days  weight_till_recency national_id  \n",
       "0                    Yes                 1.00     8026792  \n",
       "1                    Yes                 1.00    27881033  \n",
       "2                    Yes                 1.00    32339396  "
      ]
     },
     "execution_count": 40,
     "metadata": {},
     "output_type": "execute_result"
    }
   ],
   "source": [
    "agg_summary.head(3)"
   ]
  },
  {
   "cell_type": "code",
   "execution_count": 41,
   "metadata": {},
   "outputs": [
    {
     "data": {
      "text/plain": [
       "(80289, 13)"
      ]
     },
     "execution_count": 41,
     "metadata": {},
     "output_type": "execute_result"
    }
   ],
   "source": [
    "agg_summary.shape"
   ]
  },
  {
   "cell_type": "code",
   "execution_count": 42,
   "metadata": {},
   "outputs": [
    {
     "data": {
      "text/plain": [
       "80289"
      ]
     },
     "execution_count": 42,
     "metadata": {},
     "output_type": "execute_result"
    }
   ],
   "source": [
    "agg_summary['store_number'].nunique()"
   ]
  },
  {
   "cell_type": "code",
   "execution_count": 43,
   "metadata": {},
   "outputs": [],
   "source": [
    "#save_df\n",
    "\n",
    "agg_summary.to_excel(customers_path+\"Bloom_scoring_trx_data_20220721.xlsx\")"
   ]
  },
  {
   "cell_type": "code",
   "execution_count": null,
   "metadata": {},
   "outputs": [],
   "source": []
  }
 ],
 "metadata": {
  "kernelspec": {
   "display_name": "Python 3 (ipykernel)",
   "language": "python",
   "name": "python3"
  },
  "language_info": {
   "codemirror_mode": {
    "name": "ipython",
    "version": 3
   },
   "file_extension": ".py",
   "mimetype": "text/x-python",
   "name": "python",
   "nbconvert_exporter": "python",
   "pygments_lexer": "ipython3",
   "version": "3.8.13"
  }
 },
 "nbformat": 4,
 "nbformat_minor": 4
}
