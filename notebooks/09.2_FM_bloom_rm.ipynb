{
 "cells": [
  {
   "cell_type": "code",
   "execution_count": 1,
   "metadata": {},
   "outputs": [],
   "source": [
    "# Import modules\n",
    "import sys"
   ]
  },
  {
   "cell_type": "code",
   "execution_count": 2,
   "metadata": {},
   "outputs": [],
   "source": [
    "# Import custom modules\n",
    "sys.path.append('../')\n",
    "\n",
    "from src.models.upload_data import *"
   ]
  },
  {
   "cell_type": "code",
   "execution_count": 3,
   "metadata": {},
   "outputs": [],
   "source": [
    "# Set notebook attributes\n",
    "pd.set_option('display.max_colwidth', 500)\n",
    "pd.set_option('display.max_columns', None)\n",
    "pd.set_option('display.max_rows', 300)\n",
    "pd.set_option('display.float_format', lambda x: '%.2f' % x)"
   ]
  },
  {
   "cell_type": "code",
   "execution_count": 4,
   "metadata": {},
   "outputs": [],
   "source": [
    "# Set magic attributes\n",
    "%matplotlib inline\n",
    "%load_ext autoreload\n",
    "%autoreload 2"
   ]
  },
  {
   "cell_type": "code",
   "execution_count": 5,
   "metadata": {},
   "outputs": [],
   "source": [
    "# Configuration\n",
    "args = argparse.ArgumentParser()\n",
    "args.add_argument(\"--config\", default=\"../params.yaml\")\n",
    "parsed_args = vars(args.parse_args(\"\"))\n",
    "config_path = parsed_args['config']"
   ]
  },
  {
   "cell_type": "markdown",
   "metadata": {},
   "source": [
    "### Repayment Milestones"
   ]
  },
  {
   "cell_type": "code",
   "execution_count": 6,
   "metadata": {},
   "outputs": [
    {
     "name": "stdout",
     "output_type": "stream",
     "text": [
      "Currently loading rmv data set ...\n"
     ]
    },
    {
     "data": {
      "text/html": [
       "<div>\n",
       "<style scoped>\n",
       "    .dataframe tbody tr th:only-of-type {\n",
       "        vertical-align: middle;\n",
       "    }\n",
       "\n",
       "    .dataframe tbody tr th {\n",
       "        vertical-align: top;\n",
       "    }\n",
       "\n",
       "    .dataframe thead th {\n",
       "        text-align: right;\n",
       "    }\n",
       "</style>\n",
       "<table border=\"1\" class=\"dataframe\">\n",
       "  <thead>\n",
       "    <tr style=\"text-align: right;\">\n",
       "      <th></th>\n",
       "      <th>loan_mifos_id</th>\n",
       "      <th>repayment_amount_by_due_date</th>\n",
       "      <th>repayment_amount_by_rllvr_date</th>\n",
       "      <th>repayment_amount_by_dpd90</th>\n",
       "    </tr>\n",
       "  </thead>\n",
       "  <tbody>\n",
       "    <tr>\n",
       "      <th>165119</th>\n",
       "      <td>36619</td>\n",
       "      <td>4104.00</td>\n",
       "      <td>4104.00</td>\n",
       "      <td>4104.00</td>\n",
       "    </tr>\n",
       "    <tr>\n",
       "      <th>236862</th>\n",
       "      <td>12234</td>\n",
       "      <td>51632.50</td>\n",
       "      <td>51632.50</td>\n",
       "      <td>51632.50</td>\n",
       "    </tr>\n",
       "  </tbody>\n",
       "</table>\n",
       "</div>"
      ],
      "text/plain": [
       "        loan_mifos_id  repayment_amount_by_due_date  \\\n",
       "165119          36619                       4104.00   \n",
       "236862          12234                      51632.50   \n",
       "\n",
       "        repayment_amount_by_rllvr_date  repayment_amount_by_dpd90  \n",
       "165119                         4104.00                    4104.00  \n",
       "236862                        51632.50                   51632.50  "
      ]
     },
     "metadata": {},
     "output_type": "display_data"
    },
    {
     "name": "stdout",
     "output_type": "stream",
     "text": [
      "---------------------------------------------------------------------------------------------------------------------------------------\n",
      "CPU times: total: 172 ms\n",
      "Wall time: 374 ms\n"
     ]
    }
   ],
   "source": [
    "%%time\n",
    "# Data ingestion, cleaning/wrangling\n",
    "df_rmv_raw = pull_data(config_path, rmv_sql(), 'DWH', 'rmv', False, 'raw')"
   ]
  },
  {
   "cell_type": "code",
   "execution_count": 7,
   "metadata": {},
   "outputs": [
    {
     "name": "stdout",
     "output_type": "stream",
     "text": [
      "\n",
      "Currently cleaning rmv data set ...\n"
     ]
    },
    {
     "data": {
      "text/html": [
       "<div>\n",
       "<style scoped>\n",
       "    .dataframe tbody tr th:only-of-type {\n",
       "        vertical-align: middle;\n",
       "    }\n",
       "\n",
       "    .dataframe tbody tr th {\n",
       "        vertical-align: top;\n",
       "    }\n",
       "\n",
       "    .dataframe thead th {\n",
       "        text-align: right;\n",
       "    }\n",
       "</style>\n",
       "<table border=\"1\" class=\"dataframe\">\n",
       "  <thead>\n",
       "    <tr style=\"text-align: right;\">\n",
       "      <th></th>\n",
       "      <th>loan_mifos_id</th>\n",
       "      <th>repayment_amount_by_due_date</th>\n",
       "      <th>repayment_amount_by_rllvr_date</th>\n",
       "      <th>repayment_amount_by_dpd90</th>\n",
       "    </tr>\n",
       "  </thead>\n",
       "  <tbody>\n",
       "    <tr>\n",
       "      <th>163648</th>\n",
       "      <td>239219</td>\n",
       "      <td>3506.08</td>\n",
       "      <td>3506.08</td>\n",
       "      <td>3506.08</td>\n",
       "    </tr>\n",
       "    <tr>\n",
       "      <th>154013</th>\n",
       "      <td>110311</td>\n",
       "      <td>1436.40</td>\n",
       "      <td>1436.40</td>\n",
       "      <td>1436.40</td>\n",
       "    </tr>\n",
       "  </tbody>\n",
       "</table>\n",
       "</div>"
      ],
      "text/plain": [
       "       loan_mifos_id  repayment_amount_by_due_date  \\\n",
       "163648        239219                       3506.08   \n",
       "154013        110311                       1436.40   \n",
       "\n",
       "        repayment_amount_by_rllvr_date  repayment_amount_by_dpd90  \n",
       "163648                         3506.08                    3506.08  \n",
       "154013                         1436.40                    1436.40  "
      ]
     },
     "metadata": {},
     "output_type": "display_data"
    },
    {
     "name": "stdout",
     "output_type": "stream",
     "text": [
      "---------------------------------------------------------------------------------------------------------------------------------------\n",
      "CPU times: total: 453 ms\n",
      "Wall time: 852 ms\n"
     ]
    }
   ],
   "source": [
    "%%time\n",
    "# Data ingestion, cleaning/wrangling\n",
    "df_rmv_clean = clean_dataset(config_path, 'rmv')"
   ]
  },
  {
   "cell_type": "code",
   "execution_count": 8,
   "metadata": {},
   "outputs": [
    {
     "name": "stdout",
     "output_type": "stream",
     "text": [
      "<class 'pandas.core.frame.DataFrame'>\n",
      "RangeIndex: 239794 entries, 0 to 239793\n",
      "Data columns (total 4 columns):\n",
      " #   Column                          Non-Null Count   Dtype  \n",
      "---  ------                          --------------   -----  \n",
      " 0   loan_mifos_id                   239794 non-null  object \n",
      " 1   repayment_amount_by_due_date    187866 non-null  float64\n",
      " 2   repayment_amount_by_rllvr_date  208683 non-null  float64\n",
      " 3   repayment_amount_by_dpd90       226247 non-null  float64\n",
      "dtypes: float64(3), object(1)\n",
      "memory usage: 7.3+ MB\n"
     ]
    }
   ],
   "source": [
    "# Final dataset schema\n",
    "df_rmv_clean.info()"
   ]
  },
  {
   "cell_type": "code",
   "execution_count": null,
   "metadata": {},
   "outputs": [],
   "source": []
  }
 ],
 "metadata": {
  "kernelspec": {
   "display_name": "Python 3 (ipykernel)",
   "language": "python",
   "name": "python3"
  },
  "language_info": {
   "codemirror_mode": {
    "name": "ipython",
    "version": 3
   },
   "file_extension": ".py",
   "mimetype": "text/x-python",
   "name": "python",
   "nbconvert_exporter": "python",
   "pygments_lexer": "ipython3",
   "version": "3.8.13"
  }
 },
 "nbformat": 4,
 "nbformat_minor": 4
}
