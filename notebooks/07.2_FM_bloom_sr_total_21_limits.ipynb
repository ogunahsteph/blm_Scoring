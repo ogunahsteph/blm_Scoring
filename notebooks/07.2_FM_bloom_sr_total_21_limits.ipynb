{
 "cells": [
  {
   "cell_type": "code",
   "execution_count": 1,
   "metadata": {},
   "outputs": [],
   "source": [
    "# Import modules\n",
    "import sys"
   ]
  },
  {
   "cell_type": "code",
   "execution_count": 2,
   "metadata": {},
   "outputs": [],
   "source": [
    "# Import custom modules\n",
    "sys.path.append('../')\n",
    "\n",
    "from src.models.upload_data import *"
   ]
  },
  {
   "cell_type": "code",
   "execution_count": 3,
   "metadata": {},
   "outputs": [],
   "source": [
    "# Set notebook attributes\n",
    "pd.set_option('display.max_colwidth', 500)\n",
    "pd.set_option('display.max_columns', None)\n",
    "pd.set_option('display.max_rows', 300)\n",
    "pd.set_option('display.float_format', lambda x: '%.2f' % x)"
   ]
  },
  {
   "cell_type": "code",
   "execution_count": 4,
   "metadata": {},
   "outputs": [],
   "source": [
    "# Set magic attributes\n",
    "%matplotlib inline\n",
    "%load_ext autoreload\n",
    "%autoreload 2"
   ]
  },
  {
   "cell_type": "code",
   "execution_count": 5,
   "metadata": {},
   "outputs": [],
   "source": [
    "# Configuration\n",
    "args = argparse.ArgumentParser()\n",
    "args.add_argument(\"--config\", default=\"../params.yaml\")\n",
    "parsed_args = vars(args.parse_args(\"\"))\n",
    "config_path = parsed_args['config']"
   ]
  },
  {
   "cell_type": "markdown",
   "metadata": {},
   "source": [
    "### Scoring Results 21 Limits"
   ]
  },
  {
   "cell_type": "code",
   "execution_count": 6,
   "metadata": {},
   "outputs": [
    {
     "name": "stdout",
     "output_type": "stream",
     "text": [
      "Currently loading sr_21_limits data set ...\n",
      "Time taken is 0 seconds ...\n"
     ]
    },
    {
     "data": {
      "text/html": [
       "<div>\n",
       "<style scoped>\n",
       "    .dataframe tbody tr th:only-of-type {\n",
       "        vertical-align: middle;\n",
       "    }\n",
       "\n",
       "    .dataframe tbody tr th {\n",
       "        vertical-align: top;\n",
       "    }\n",
       "\n",
       "    .dataframe thead th {\n",
       "        text-align: right;\n",
       "    }\n",
       "</style>\n",
       "<table border=\"1\" class=\"dataframe\">\n",
       "  <thead>\n",
       "    <tr style=\"text-align: right;\">\n",
       "      <th></th>\n",
       "      <th>store_number</th>\n",
       "      <th>total_final_21_limit</th>\n",
       "      <th>total_final_7_limit</th>\n",
       "      <th>total_final_1_limit</th>\n",
       "      <th>final_21_limit_non_zero</th>\n",
       "      <th>final_7_limit_non_zero</th>\n",
       "      <th>final_1_limit_non_zero</th>\n",
       "    </tr>\n",
       "  </thead>\n",
       "  <tbody>\n",
       "    <tr>\n",
       "      <th>165765</th>\n",
       "      <td>7133054</td>\n",
       "      <td>0.00</td>\n",
       "      <td>0.00</td>\n",
       "      <td>0.00</td>\n",
       "      <td>NaN</td>\n",
       "      <td>NaN</td>\n",
       "      <td>NaN</td>\n",
       "    </tr>\n",
       "    <tr>\n",
       "      <th>14332</th>\n",
       "      <td>841771</td>\n",
       "      <td>0.00</td>\n",
       "      <td>0.00</td>\n",
       "      <td>0.00</td>\n",
       "      <td>NaN</td>\n",
       "      <td>NaN</td>\n",
       "      <td>NaN</td>\n",
       "    </tr>\n",
       "  </tbody>\n",
       "</table>\n",
       "</div>"
      ],
      "text/plain": [
       "       store_number  total_final_21_limit  total_final_7_limit   \n",
       "165765      7133054                  0.00                 0.00  \\\n",
       "14332        841771                  0.00                 0.00   \n",
       "\n",
       "        total_final_1_limit  final_21_limit_non_zero  final_7_limit_non_zero   \n",
       "165765                 0.00                      NaN                     NaN  \\\n",
       "14332                  0.00                      NaN                     NaN   \n",
       "\n",
       "        final_1_limit_non_zero  \n",
       "165765                     NaN  \n",
       "14332                      NaN  "
      ]
     },
     "metadata": {},
     "output_type": "display_data"
    },
    {
     "name": "stdout",
     "output_type": "stream",
     "text": [
      "---------------------------------------------------------------------------------------------------------------------------------------\n",
      "CPU times: user 181 ms, sys: 83.1 ms, total: 264 ms\n",
      "Wall time: 222 ms\n"
     ]
    }
   ],
   "source": [
    "%%time\n",
    "# Data ingestion, cleaning/wrangling\n",
    "df_sr_21_limits_raw = pull_data(config_path, sr_21_limits_sql(), 'DWH', 'sr_21_limits', False, 'raw')"
   ]
  },
  {
   "cell_type": "code",
   "execution_count": 7,
   "metadata": {},
   "outputs": [
    {
     "name": "stdout",
     "output_type": "stream",
     "text": [
      "\n",
      "Currently cleaning sr_21_limits data set ...\n"
     ]
    },
    {
     "data": {
      "text/html": [
       "<div>\n",
       "<style scoped>\n",
       "    .dataframe tbody tr th:only-of-type {\n",
       "        vertical-align: middle;\n",
       "    }\n",
       "\n",
       "    .dataframe tbody tr th {\n",
       "        vertical-align: top;\n",
       "    }\n",
       "\n",
       "    .dataframe thead th {\n",
       "        text-align: right;\n",
       "    }\n",
       "</style>\n",
       "<table border=\"1\" class=\"dataframe\">\n",
       "  <thead>\n",
       "    <tr style=\"text-align: right;\">\n",
       "      <th></th>\n",
       "      <th>store_number</th>\n",
       "      <th>total_final_21_limit</th>\n",
       "      <th>total_final_1_limit</th>\n",
       "      <th>total_final_7_limit</th>\n",
       "      <th>final_21_limit_non_zero</th>\n",
       "      <th>final_7_limit_non_zero</th>\n",
       "      <th>final_1_limit_non_zero</th>\n",
       "    </tr>\n",
       "  </thead>\n",
       "  <tbody>\n",
       "    <tr>\n",
       "      <th>122372</th>\n",
       "      <td>588316</td>\n",
       "      <td>0.00</td>\n",
       "      <td>400.00</td>\n",
       "      <td>0.00</td>\n",
       "      <td>0.00</td>\n",
       "      <td>0.00</td>\n",
       "      <td>0.00</td>\n",
       "    </tr>\n",
       "    <tr>\n",
       "      <th>93205</th>\n",
       "      <td>7252017</td>\n",
       "      <td>0.00</td>\n",
       "      <td>94200.00</td>\n",
       "      <td>93300.00</td>\n",
       "      <td>0.00</td>\n",
       "      <td>0.00</td>\n",
       "      <td>0.00</td>\n",
       "    </tr>\n",
       "  </tbody>\n",
       "</table>\n",
       "</div>"
      ],
      "text/plain": [
       "       store_number  total_final_21_limit  total_final_1_limit   \n",
       "122372       588316                  0.00               400.00  \\\n",
       "93205       7252017                  0.00             94200.00   \n",
       "\n",
       "        total_final_7_limit  final_21_limit_non_zero  final_7_limit_non_zero   \n",
       "122372                 0.00                     0.00                    0.00  \\\n",
       "93205              93300.00                     0.00                    0.00   \n",
       "\n",
       "        final_1_limit_non_zero  \n",
       "122372                    0.00  \n",
       "93205                     0.00  "
      ]
     },
     "metadata": {},
     "output_type": "display_data"
    },
    {
     "name": "stdout",
     "output_type": "stream",
     "text": [
      "---------------------------------------------------------------------------------------------------------------------------------------\n",
      "CPU times: user 550 ms, sys: 75.9 ms, total: 626 ms\n",
      "Wall time: 599 ms\n"
     ]
    }
   ],
   "source": [
    "%%time\n",
    "# Data ingestion, cleaning/wrangling\n",
    "df_sr_21_limits_clean = clean_dataset(config_path, 'sr_21_limits')"
   ]
  },
  {
   "cell_type": "code",
   "execution_count": 8,
   "metadata": {},
   "outputs": [
    {
     "name": "stdout",
     "output_type": "stream",
     "text": [
      "<class 'pandas.core.frame.DataFrame'>\n",
      "Index: 194552 entries, 0 to 194557\n",
      "Data columns (total 7 columns):\n",
      " #   Column                   Non-Null Count   Dtype  \n",
      "---  ------                   --------------   -----  \n",
      " 0   store_number             194552 non-null  object \n",
      " 1   total_final_21_limit     194552 non-null  float64\n",
      " 2   total_final_1_limit      194552 non-null  float64\n",
      " 3   total_final_7_limit      194552 non-null  float64\n",
      " 4   final_21_limit_non_zero  194552 non-null  float64\n",
      " 5   final_7_limit_non_zero   194552 non-null  float64\n",
      " 6   final_1_limit_non_zero   194552 non-null  float64\n",
      "dtypes: float64(6), object(1)\n",
      "memory usage: 11.9+ MB\n"
     ]
    }
   ],
   "source": [
    "# Final dataset schema\n",
    "df_sr_21_limits_clean.info()"
   ]
  }
 ],
 "metadata": {
  "kernelspec": {
   "display_name": "Python 3 (bloom)",
   "language": "python",
   "name": "python3_bloom"
  },
  "language_info": {
   "codemirror_mode": {
    "name": "ipython",
    "version": 3
   },
   "file_extension": ".py",
   "mimetype": "text/x-python",
   "name": "python",
   "nbconvert_exporter": "python",
   "pygments_lexer": "ipython3",
   "version": "3.9.16"
  }
 },
 "nbformat": 4,
 "nbformat_minor": 4
}
